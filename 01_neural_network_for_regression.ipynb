{
  "nbformat": 4,
  "nbformat_minor": 0,
  "metadata": {
    "colab": {
      "provenance": [],
      "toc_visible": true,
      "authorship_tag": "ABX9TyMn38j4mr24gMePzXeHcIpR",
      "include_colab_link": true
    },
    "kernelspec": {
      "name": "python3",
      "display_name": "Python 3"
    },
    "language_info": {
      "name": "python"
    }
  },
  "cells": [
    {
      "cell_type": "markdown",
      "metadata": {
        "id": "view-in-github",
        "colab_type": "text"
      },
      "source": [
        "<a href=\"https://colab.research.google.com/github/subhaganesh/deep_learning_repo/blob/main/01_neural_network_for_regression.ipynb\" target=\"_parent\"><img src=\"https://colab.research.google.com/assets/colab-badge.svg\" alt=\"Open In Colab\"/></a>"
      ]
    },
    {
      "cell_type": "markdown",
      "source": [
        "# 01. Neural Network Regression with TensorFlow"
      ],
      "metadata": {
        "id": "kAHqg0GOYNrz"
      }
    },
    {
      "cell_type": "markdown",
      "source": [
        "There are many definitions for a regression problem but in our case, we're going to simplify it to be: predicting a number.\n",
        "\n",
        "For example, you might want to:\n",
        "\n",
        "* Predict the selling price of houses given\n",
        "information about them (such as number of rooms, size, number of bathrooms).\n",
        "\n",
        "* Predict the coordinates of a bounding box of an item in an image.\n",
        "\n",
        "* Predict the cost of medical insurance for an individual given their demographics (age, sex, gender, race)."
      ],
      "metadata": {
        "id": "YGO0qEzCXqTx"
      }
    },
    {
      "cell_type": "markdown",
      "source": [
        "# What we're going to cover"
      ],
      "metadata": {
        "id": "cTph177KYNCp"
      }
    },
    {
      "cell_type": "markdown",
      "source": [
        "Specifically, we're going to go through doing the following with TensorFlow:\n",
        "\n",
        "* Architecture of a regression model\n",
        "\n",
        "* Input shapes and output shapes\n",
        "\n",
        "  * X: features/data (inputs)\n",
        "\n",
        "  * y: labels (outputs)\n",
        "\n",
        "* Creating custom data to view and fit\n",
        "\n",
        "* Steps in modelling\n",
        "\n",
        "  * Creating a model\n",
        "\n",
        "  * Compiling a model\n",
        "\n",
        "     * Defining a loss function\n",
        "\n",
        "     * Setting up an optimizer\n",
        "\n",
        "     * Creating evaluation metrics\n",
        "\n",
        "  * Fitting a model (getting it to find patterns in our data)\n",
        "\n",
        "* Evaluating a model\n",
        "\n",
        "   * Visualizng the model (\"visualize, visualize, visualize\")\n",
        "\n",
        "   * Looking at training curves\n",
        "\n",
        "   * Compare predictions to ground truth (using our evaluation metrics)\n",
        "\n",
        "* Saving a model (so we can use it later)\n",
        "\n",
        "* Loading a model\n"
      ],
      "metadata": {
        "id": "w6IEs2u9Xr0Q"
      }
    },
    {
      "cell_type": "markdown",
      "source": [
        "# Typical architecture of a regresison neural network"
      ],
      "metadata": {
        "id": "2ye74rDbXsAG"
      }
    },
    {
      "cell_type": "markdown",
      "source": [
        "The word typical is on purpose.\n",
        "\n",
        "Why?\n",
        "\n",
        "Because there are many different ways (actually, there's almost an infinite number of ways) to write neural networks.\n",
        "\n",
        "But the following is a generic setup for ingesting a collection of numbers, finding patterns in them and then outputting some kind of target number.\n",
        "\n",
        "Yes, the previous sentence is vague but we'll see this in action shortly."
      ],
      "metadata": {
        "id": "x2UhasDyXsDi"
      }
    },
    {
      "cell_type": "markdown",
      "source": [
        "---"
      ],
      "metadata": {
        "id": "jCoGPpdXUxgJ"
      }
    },
    {
      "cell_type": "markdown",
      "source": [
        "Hyperparameter : Typical value\n",
        "\n",
        "* Input layer shape :Same shape as number of features (e.g. 3 for # bedrooms, # bathrooms, # car spaces in housing price prediction)\n",
        "\n",
        "* Hidden layer(s) : Problem specific, minimum = 1, maximum = unlimited\n",
        "\n",
        "* Neurons per hidden layer : Problem specific, generally 10 to 100\n",
        "\n",
        "* Output layer shape : Same shape as desired prediction shape (e.g. 1 for house price)\n",
        "\n",
        "* Hidden activation : Usually ReLU (rectified linear unit)\n",
        "\n",
        "* Output activation : None, ReLU, logistic/tanh\n",
        "\n",
        "* Loss function : MSE (mean square error) or MAE (mean absolute error)/Huber (combination of MAE/MSE) if outliers\n",
        "\n",
        "* Optimizer : SGD (stochastic gradient descent), Adam\n"
      ],
      "metadata": {
        "id": "MPoeV_SaXsKA"
      }
    },
    {
      "cell_type": "markdown",
      "source": [
        "---\n",
        "---"
      ],
      "metadata": {
        "id": "B-UFjHVpfje8"
      }
    },
    {
      "cell_type": "markdown",
      "source": [
        "🔑 Note: A hyperparameter in machine learning is something a data analyst or developer can set themselves, where as a parameter usually describes something a model learns on its own (a value not explicitly set by an analyst)."
      ],
      "metadata": {
        "id": "4JFLN_OQVJj8"
      }
    },
    {
      "cell_type": "markdown",
      "source": [
        "---\n",
        "---"
      ],
      "metadata": {
        "id": "GixN6ktLfpxf"
      }
    },
    {
      "cell_type": "code",
      "source": [
        "import tensorflow as tf\n",
        "print(tf.__version__) # check the version (should be 2.x+)\n",
        "\n",
        "import datetime\n",
        "print(f\"Notebook last run (end-to-end): {datetime.datetime.now()}\")"
      ],
      "metadata": {
        "colab": {
          "base_uri": "https://localhost:8080/"
        },
        "id": "kd2d8ZTFXsMY",
        "outputId": "51e88d5c-dd66-4ca2-850e-519ce07dbac2"
      },
      "execution_count": null,
      "outputs": [
        {
          "output_type": "stream",
          "name": "stdout",
          "text": [
            "2.13.0\n",
            "Notebook last run (end-to-end): 2023-10-01 13:34:56.916622\n"
          ]
        }
      ]
    },
    {
      "cell_type": "markdown",
      "source": [
        "# Creating data to view and fit\n",
        "\n",
        "Since we're working on a regression problem (predicting a number) let's create some linear data (a straight line) to model."
      ],
      "metadata": {
        "id": "nN5jjtejVkjV"
      }
    },
    {
      "cell_type": "code",
      "source": [
        "import numpy as np\n",
        "import matplotlib.pyplot as plt\n",
        "\n",
        "# Create features\n",
        "X = np.array([-7.0, -4.0, -1.0, 2.0, 5.0, 8.0, 11.0, 14.0])\n",
        "\n",
        "# Create labels\n",
        "y = np.array([3.0, 6.0, 9.0, 12.0, 15.0, 18.0, 21.0, 24.0])\n",
        "\n",
        "# Visualize it\n",
        "plt.scatter(X, y);\n"
      ],
      "metadata": {
        "colab": {
          "base_uri": "https://localhost:8080/",
          "height": 435
        },
        "id": "rYuqWZY7XsPE",
        "outputId": "f9b308dc-7a71-48b2-cdde-669ebf3b33ed"
      },
      "execution_count": null,
      "outputs": [
        {
          "output_type": "display_data",
          "data": {
            "text/plain": [
              "<Figure size 640x480 with 1 Axes>"
            ],
            "image/png": "[encoded data removed]"
          },
          "metadata": {}
        }
      ]
    },
    {
      "cell_type": "markdown",
      "source": [
        "Before we do any modelling, can you calculate the pattern between X and y?\n",
        "\n",
        "For example, say I asked you, based on this data what the y value would be if X was 17.0?\n",
        "\n",
        "Or how about if X was -10.0?\n",
        "\n",
        "This kind of pattern discovery is the essence of what we'll be building neural networks to do for us."
      ],
      "metadata": {
        "id": "iEEWcUuNV8gI"
      }
    },
    {
      "cell_type": "markdown",
      "source": [
        "# Regression input shapes and output shapes\n",
        "\n",
        "One of the most important concepts when working with neural networks are the input and output shapes.\n",
        "\n",
        "The **input shape** is the shape of your data that goes into the model.\n",
        "\n",
        "The **output shape** is the shape of your data you want to come out of your model.\n",
        "\n",
        "These will differ depending on the problem you're working on.\n",
        "\n",
        "Neural networks accept  input numbers and output numbers. These numbers are typically represented as tensors (or arrays).\n",
        "\n",
        "Before, we created data using NumPy arrays, but we could do the same with tensors."
      ],
      "metadata": {
        "id": "zAzQuFZHWC1p"
      }
    },
    {
      "cell_type": "code",
      "source": [
        "# Example input and output shapes of a regression model\n",
        "house_info = tf.constant([\"bedroom\", \"bathroom\", \"garage\"])\n",
        "house_price = tf.constant([939700])\n",
        "house_info, house_price"
      ],
      "metadata": {
        "colab": {
          "base_uri": "https://localhost:8080/"
        },
        "id": "912jaibWXsR5",
        "outputId": "55e0d7fc-40b3-4970-c918-8a198788df30"
      },
      "execution_count": null,
      "outputs": [
        {
          "output_type": "execute_result",
          "data": {
            "text/plain": [
              "(<tf.Tensor: shape=(3,), dtype=string, numpy=array([b'bedroom', b'bathroom', b'garage'], dtype=object)>,\n",
              " <tf.Tensor: shape=(1,), dtype=int32, numpy=array([939700], dtype=int32)>)"
            ]
          },
          "metadata": {},
          "execution_count": 170
        }
      ]
    },
    {
      "cell_type": "code",
      "source": [
        "house_info.shape , house_price.shape"
      ],
      "metadata": {
        "colab": {
          "base_uri": "https://localhost:8080/"
        },
        "id": "O6kNc137XsUR",
        "outputId": "f1007eb5-2524-422a-cfc9-0792b3f6623b"
      },
      "execution_count": null,
      "outputs": [
        {
          "output_type": "execute_result",
          "data": {
            "text/plain": [
              "(TensorShape([3]), TensorShape([1]))"
            ]
          },
          "metadata": {},
          "execution_count": 171
        }
      ]
    },
    {
      "cell_type": "code",
      "source": [
        "import numpy as np\n",
        "import matplotlib.pyplot as plt\n",
        "\n",
        "# Create features (using tensors)\n",
        "X = tf.constant([-7.0, -4.0, -1.0, 2.0, 5.0, 8.0, 11.0, 14.0])\n",
        "\n",
        "# Create labels (using tensors)\n",
        "y = tf.constant([3.0, 6.0, 9.0, 12.0, 15.0, 18.0, 21.0, 24.0])\n",
        "\n",
        "# Visualize it\n",
        "plt.scatter(X, y);"
      ],
      "metadata": {
        "colab": {
          "base_uri": "https://localhost:8080/",
          "height": 435
        },
        "id": "JYD5NUzTXsXJ",
        "outputId": "df4a8d7e-c8bc-4fc5-8c95-77d3b4336ff9"
      },
      "execution_count": null,
      "outputs": [
        {
          "output_type": "display_data",
          "data": {
            "text/plain": [
              "<Figure size 640x480 with 1 Axes>"
            ],
            "image/png": "[encoded data removed]"
          },
          "metadata": {}
        }
      ]
    },
    {
      "cell_type": "markdown",
      "source": [
        "Our goal here will be to use X to predict y.\n",
        "\n",
        "So our input will be X and our output will be y.\n",
        "\n",
        "Knowing this, what do you think our input and output shapes will be?\n",
        "\n",
        "Let's take a look."
      ],
      "metadata": {
        "id": "EXI9nLw7XsaT"
      }
    },
    {
      "cell_type": "code",
      "source": [
        "# Take a single example of X\n",
        "input_shape = X[0].shape\n",
        "\n",
        "# Take a single example of y\n",
        "output_shape = y[0].shape\n",
        "\n",
        "input_shape, output_shape # these are both scalars (no shape)"
      ],
      "metadata": {
        "colab": {
          "base_uri": "https://localhost:8080/"
        },
        "id": "ZZ-HOg_IXi5J",
        "outputId": "55a75f9d-c1df-445c-c1d1-f15ccf4591c8"
      },
      "execution_count": null,
      "outputs": [
        {
          "output_type": "execute_result",
          "data": {
            "text/plain": [
              "(TensorShape([]), TensorShape([]))"
            ]
          },
          "metadata": {},
          "execution_count": 173
        }
      ]
    },
    {
      "cell_type": "markdown",
      "source": [
        "Huh?\n",
        "\n",
        "From this it seems our inputs and outputs have no shape?\n",
        "\n",
        "How could that be?\n",
        "\n",
        "It's because no matter what kind of data we pass to our model, it's always going to take as input and return as output some kind of tensor.\n",
        "\n",
        "But in our case because of our dataset (only 2 small lists of numbers), we're looking at a special kind of tensor, more specifically a rank 0 tensor or a scalar."
      ],
      "metadata": {
        "id": "WsIZGpftXi8g"
      }
    },
    {
      "cell_type": "code",
      "source": [
        "# Let's take a look at the single examples invidually\n",
        "X[0], y[0]"
      ],
      "metadata": {
        "colab": {
          "base_uri": "https://localhost:8080/"
        },
        "id": "cL-KIHApXi_e",
        "outputId": "baa51f18-7430-4e4a-ef3e-312a035e1b77"
      },
      "execution_count": null,
      "outputs": [
        {
          "output_type": "execute_result",
          "data": {
            "text/plain": [
              "(<tf.Tensor: shape=(), dtype=float32, numpy=-7.0>,\n",
              " <tf.Tensor: shape=(), dtype=float32, numpy=3.0>)"
            ]
          },
          "metadata": {},
          "execution_count": 174
        }
      ]
    },
    {
      "cell_type": "markdown",
      "source": [
        "In our case, we're trying to build a model to predict the pattern between X[0] equalling -7.0 and y[0] equalling 3.0.\n",
        "\n",
        "So now we get our answer, we're trying to use 1 X value to predict 1 y value.\n",
        "\n",
        "You might be thinking, \"this seems pretty complicated for just predicting a straight line...\".\n",
        "\n",
        "And you'd be right.\n",
        "\n",
        "But the concepts we're covering here, the concepts of input and output shapes to a model are fundamental.\n",
        "\n",
        "In fact, they're probably two of the things you'll spend the most time on when you work with neural networks: making sure your input and outputs are in the correct shape."
      ],
      "metadata": {
        "id": "CPB8sulZXjB7"
      }
    },
    {
      "cell_type": "markdown",
      "source": [
        "If it doesn't make sense now, we'll see plenty more examples later on (soon you'll notice the input and output shapes can be almost anything you can imagine).\n",
        "\n",
        "example of input and output shapes for a housing price prediction problem If you were working on building a machine learning algorithm for predicting housing prices, your inputs may be number of bedrooms, number of bathrooms and number of garages, giving you an input shape of 3 (3 different features). And since you're trying to predict the price of the house, your output shape would be 1."
      ],
      "metadata": {
        "id": "-pgJfjKzXjEo"
      }
    },
    {
      "cell_type": "markdown",
      "source": [
        "# Steps in modelling with TensorFlow\n",
        "\n",
        "Now we know what data we have as well as the input and output shapes, let's see how we'd build a neural network to model it.\n",
        "\n",
        "In TensorFlow, there are typically 3 fundamental steps to creating and training a model.\n",
        "\n",
        "1.  Creating a model - piece together the layers of a neural network yourself (using the Functional or Sequential API) or import a previously built model (known as transfer learning).\n",
        "\n",
        "2. Compiling a model - defining how a models performance should be measured (loss/metrics) as well as defining how it should improve (optimizer).\n",
        "\n",
        "3. Fitting a model - letting the model try to find patterns in the data (how does X get to y).\n",
        "\n",
        "Let's see these in action using the Keras Sequential API to build a model for our regression data. And then we'll step through each.\n",
        "\n",
        "  * Note: If you're using TensorFlow 2.7.0+, the fit() function no longer upscales input data to go from (batch_size, ) to (batch_size, 1). To fix this, you'll need to expand the dimension of input data using tf.expand_dims(input_data, axis=-1).\n",
        "\n",
        "   In our case, this means instead of using model.fit(X, y, epochs=5), use model.fit(tf.expand_dims(X, axis=-1), y, epochs=5).\n"
      ],
      "metadata": {
        "id": "PaoK8SW-XjGw"
      }
    },
    {
      "cell_type": "code",
      "source": [
        "# Set random seed\n",
        "tf.random.set_seed(42)\n",
        "\n",
        "# Create a model using the Sequential API\n",
        "model = tf.keras.Sequential([\n",
        "  tf.keras.layers.Dense(1)\n",
        "])\n",
        "\n",
        "# Compile the model\n",
        "model.compile(loss=tf.keras.losses.mae, # mae is short for mean absolute error\n",
        "              optimizer=tf.keras.optimizers.SGD(), # SGD is short for stochastic gradient descent\n",
        "              metrics=[\"mae\"])\n",
        "\n",
        "# Fit the model\n",
        "# model.fit(X, y, epochs=5) # this will break with TensorFlow 2.7.0+\n",
        "model.fit(tf.expand_dims(X, axis=-1), y, epochs=5)\n"
      ],
      "metadata": {
        "colab": {
          "base_uri": "https://localhost:8080/"
        },
        "id": "uGvGZDfyXjJf",
        "outputId": "d978bead-a595-443e-aeab-4811462b099a"
      },
      "execution_count": null,
      "outputs": [
        {
          "output_type": "stream",
          "name": "stdout",
          "text": [
            "Epoch 1/5\n",
            "1/1 [==============================] - 0s 463ms/step - loss: 15.7452 - mae: 15.7452\n",
            "Epoch 2/5\n",
            "1/1 [==============================] - 0s 11ms/step - loss: 15.4640 - mae: 15.4640\n",
            "Epoch 3/5\n",
            "1/1 [==============================] - 0s 10ms/step - loss: 15.1827 - mae: 15.1827\n",
            "Epoch 4/5\n",
            "1/1 [==============================] - 0s 11ms/step - loss: 14.9231 - mae: 14.9231\n",
            "Epoch 5/5\n",
            "1/1 [==============================] - 0s 9ms/step - loss: 14.7906 - mae: 14.7906\n"
          ]
        },
        {
          "output_type": "execute_result",
          "data": {
            "text/plain": [
              "<keras.src.callbacks.History at 0x7ac7607b20e0>"
            ]
          },
          "metadata": {},
          "execution_count": 175
        }
      ]
    },
    {
      "cell_type": "code",
      "source": [
        "# Check out X and y\n",
        "X, y"
      ],
      "metadata": {
        "colab": {
          "base_uri": "https://localhost:8080/"
        },
        "id": "YZdhu8-nXjMS",
        "outputId": "6f861f84-feda-4d30-b6b1-1a9f147997ca"
      },
      "execution_count": null,
      "outputs": [
        {
          "output_type": "execute_result",
          "data": {
            "text/plain": [
              "(<tf.Tensor: shape=(8,), dtype=float32, numpy=array([-7., -4., -1.,  2.,  5.,  8., 11., 14.], dtype=float32)>,\n",
              " <tf.Tensor: shape=(8,), dtype=float32, numpy=array([ 3.,  6.,  9., 12., 15., 18., 21., 24.], dtype=float32)>)"
            ]
          },
          "metadata": {},
          "execution_count": 176
        }
      ]
    },
    {
      "cell_type": "code",
      "source": [
        "# Make a prediction with the model\n",
        "model.predict([17.0])"
      ],
      "metadata": {
        "colab": {
          "base_uri": "https://localhost:8080/"
        },
        "id": "CQvzu4_iXjPg",
        "outputId": "5095d462-ee93-47b0-c6bb-093aedaaf583"
      },
      "execution_count": null,
      "outputs": [
        {
          "output_type": "stream",
          "name": "stdout",
          "text": [
            "1/1 [==============================] - 0s 108ms/step\n"
          ]
        },
        {
          "output_type": "execute_result",
          "data": {
            "text/plain": [
              "array([[-5.7887816]], dtype=float32)"
            ]
          },
          "metadata": {},
          "execution_count": 177
        }
      ]
    },
    {
      "cell_type": "markdown",
      "source": [
        "It doesn't go very well... it should've output something close to 27.0.   \n",
        "\n",
        "why close to 27.0 because the x and y have intervals of 2 between them ,it's  a kind of pattern so for 17.0 we can except 27.0"
      ],
      "metadata": {
        "id": "uZqZrvW3XjSD"
      }
    },
    {
      "cell_type": "markdown",
      "source": [
        "---\n",
        "---"
      ],
      "metadata": {
        "id": "30nTHCBofOcC"
      }
    },
    {
      "cell_type": "markdown",
      "source": [
        "  * `🤔` Question: What's Keras? I thought we were working with TensorFlow but every time we write TensorFlow code, keras comes after tf (e.g. tf.keras.layers.Dense())?\n",
        "\n",
        "Before TensorFlow 2.0+, Keras was an API designed to be able to build deep learning models with ease. Since TensorFlow 2.0+, its functionality has been tightly integrated within the TensorFlow library."
      ],
      "metadata": {
        "id": "XNtss_7dXjUE"
      }
    },
    {
      "cell_type": "markdown",
      "source": [
        "---\n",
        "---"
      ],
      "metadata": {
        "id": "csU9iD5ufZxI"
      }
    },
    {
      "cell_type": "markdown",
      "source": [
        "# Improving a model\n",
        "\n",
        "How do you think you'd improve upon our current model?\n",
        "\n",
        "If you guessed by tweaking some of the things we did above, you'd be correct.\n",
        "\n",
        "To improve our model, we alter almost every part of the 3 steps we went through before.\n",
        "\n",
        "* Creating a model - here you might want to add more layers, increase the number of hidden units (also called neurons) within each layer, change the activation functions of each layer.\n",
        "\n",
        "* Compiling a model - you might want to choose optimization function or perhaps change the learning rate of the optimization function.\n",
        "\n",
        "* Fitting a model - perhaps you could fit a model for more epochs (leave it training for longer) or on more data (give the model more examples to learn from).\n",
        "\n",
        "\n",
        " There are many different ways to potentially improve a neural network. Some of the most common include: increasing the number of layers (making the network deeper), increasing the number of hidden units (making the network wider) and changing the learning rate. Because these values are all human-changeable, they're referred to as hyperparameters and the practice of trying to find the best hyperparameters is referred to as hyperparameter tuning."
      ],
      "metadata": {
        "id": "72TFqNxiXjWs"
      }
    },
    {
      "cell_type": "code",
      "source": [
        "# Set random seed\n",
        "tf.random.set_seed(42)\n",
        "\n",
        "# Create a model (same as above)\n",
        "model = tf.keras.Sequential([\n",
        "  tf.keras.layers.Dense(1)\n",
        "])\n",
        "\n",
        "# Compile model (same as above)\n",
        "model.compile(loss=tf.keras.losses.mae,\n",
        "              optimizer=tf.keras.optimizers.SGD(),\n",
        "              metrics=[\"mae\"])\n",
        "\n",
        "# Fit model (this time we'll train for longer)\n",
        "model.fit(tf.expand_dims(X, axis=-1), y, epochs=100) # train for 100 epochs not 10"
      ],
      "metadata": {
        "colab": {
          "base_uri": "https://localhost:8080/"
        },
        "id": "Oc4rVyNvXjcR",
        "outputId": "9ef5f2db-8948-48ec-f825-4d50e3a45046"
      },
      "execution_count": null,
      "outputs": [
        {
          "output_type": "stream",
          "name": "stdout",
          "text": [
            "Epoch 1/100\n",
            "1/1 [==============================] - 0s 457ms/step - loss: 12.7163 - mae: 12.7163\n",
            "Epoch 2/100\n",
            "1/1 [==============================] - 0s 13ms/step - loss: 12.5838 - mae: 12.5838\n",
            "Epoch 3/100\n",
            "1/1 [==============================] - 0s 15ms/step - loss: 12.4513 - mae: 12.4513\n",
            "Epoch 4/100\n",
            "1/1 [==============================] - 0s 11ms/step - loss: 12.3188 - mae: 12.3188\n",
            "Epoch 5/100\n",
            "1/1 [==============================] - 0s 10ms/step - loss: 12.1863 - mae: 12.1863\n",
            "Epoch 6/100\n",
            "1/1 [==============================] - 0s 13ms/step - loss: 12.0538 - mae: 12.0538\n",
            "Epoch 7/100\n",
            "1/1 [==============================] - 0s 9ms/step - loss: 11.9213 - mae: 11.9213\n",
            "Epoch 8/100\n",
            "1/1 [==============================] - 0s 9ms/step - loss: 11.7888 - mae: 11.7888\n",
            "Epoch 9/100\n",
            "1/1 [==============================] - 0s 10ms/step - loss: 11.6563 - mae: 11.6563\n",
            "Epoch 10/100\n",
            "1/1 [==============================] - 0s 10ms/step - loss: 11.5238 - mae: 11.5238\n",
            "Epoch 11/100\n",
            "1/1 [==============================] - 0s 11ms/step - loss: 11.3913 - mae: 11.3913\n",
            "Epoch 12/100\n",
            "1/1 [==============================] - 0s 13ms/step - loss: 11.2588 - mae: 11.2588\n",
            "Epoch 13/100\n",
            "1/1 [==============================] - 0s 12ms/step - loss: 11.1263 - mae: 11.1263\n",
            "Epoch 14/100\n",
            "1/1 [==============================] - 0s 8ms/step - loss: 10.9938 - mae: 10.9938\n",
            "Epoch 15/100\n",
            "1/1 [==============================] - 0s 8ms/step - loss: 10.8613 - mae: 10.8613\n",
            "Epoch 16/100\n",
            "1/1 [==============================] - 0s 9ms/step - loss: 10.7288 - mae: 10.7288\n",
            "Epoch 17/100\n",
            "1/1 [==============================] - 0s 9ms/step - loss: 10.5963 - mae: 10.5963\n",
            "Epoch 18/100\n",
            "1/1 [==============================] - 0s 12ms/step - loss: 10.4638 - mae: 10.4638\n",
            "Epoch 19/100\n",
            "1/1 [==============================] - 0s 9ms/step - loss: 10.3313 - mae: 10.3313\n",
            "Epoch 20/100\n",
            "1/1 [==============================] - 0s 9ms/step - loss: 10.1988 - mae: 10.1988\n",
            "Epoch 21/100\n",
            "1/1 [==============================] - 0s 11ms/step - loss: 10.0663 - mae: 10.0663\n",
            "Epoch 22/100\n",
            "1/1 [==============================] - 0s 9ms/step - loss: 9.9338 - mae: 9.9338\n",
            "Epoch 23/100\n",
            "1/1 [==============================] - 0s 10ms/step - loss: 9.8013 - mae: 9.8013\n",
            "Epoch 24/100\n",
            "1/1 [==============================] - 0s 11ms/step - loss: 9.6688 - mae: 9.6688\n",
            "Epoch 25/100\n",
            "1/1 [==============================] - 0s 9ms/step - loss: 9.5363 - mae: 9.5363\n",
            "Epoch 26/100\n",
            "1/1 [==============================] - 0s 9ms/step - loss: 9.4038 - mae: 9.4038\n",
            "Epoch 27/100\n",
            "1/1 [==============================] - 0s 10ms/step - loss: 9.2713 - mae: 9.2713\n",
            "Epoch 28/100\n",
            "1/1 [==============================] - 0s 9ms/step - loss: 9.1388 - mae: 9.1388\n",
            "Epoch 29/100\n",
            "1/1 [==============================] - 0s 9ms/step - loss: 9.0063 - mae: 9.0063\n",
            "Epoch 30/100\n",
            "1/1 [==============================] - 0s 15ms/step - loss: 8.8738 - mae: 8.8738\n",
            "Epoch 31/100\n",
            "1/1 [==============================] - 0s 11ms/step - loss: 8.7413 - mae: 8.7413\n",
            "Epoch 32/100\n",
            "1/1 [==============================] - 0s 9ms/step - loss: 8.6088 - mae: 8.6088\n",
            "Epoch 33/100\n",
            "1/1 [==============================] - 0s 11ms/step - loss: 8.4763 - mae: 8.4763\n",
            "Epoch 34/100\n",
            "1/1 [==============================] - 0s 9ms/step - loss: 8.3438 - mae: 8.3438\n",
            "Epoch 35/100\n",
            "1/1 [==============================] - 0s 9ms/step - loss: 8.2113 - mae: 8.2113\n",
            "Epoch 36/100\n",
            "1/1 [==============================] - 0s 10ms/step - loss: 8.0788 - mae: 8.0788\n",
            "Epoch 37/100\n",
            "1/1 [==============================] - 0s 10ms/step - loss: 7.9463 - mae: 7.9463\n",
            "Epoch 38/100\n",
            "1/1 [==============================] - 0s 10ms/step - loss: 7.8138 - mae: 7.8138\n",
            "Epoch 39/100\n",
            "1/1 [==============================] - 0s 8ms/step - loss: 7.6813 - mae: 7.6813\n",
            "Epoch 40/100\n",
            "1/1 [==============================] - 0s 8ms/step - loss: 7.5488 - mae: 7.5488\n",
            "Epoch 41/100\n",
            "1/1 [==============================] - 0s 11ms/step - loss: 7.4163 - mae: 7.4163\n",
            "Epoch 42/100\n",
            "1/1 [==============================] - 0s 13ms/step - loss: 7.2838 - mae: 7.2838\n",
            "Epoch 43/100\n",
            "1/1 [==============================] - 0s 11ms/step - loss: 7.1850 - mae: 7.1850\n",
            "Epoch 44/100\n",
            "1/1 [==============================] - 0s 12ms/step - loss: 7.1794 - mae: 7.1794\n",
            "Epoch 45/100\n",
            "1/1 [==============================] - 0s 10ms/step - loss: 7.1738 - mae: 7.1738\n",
            "Epoch 46/100\n",
            "1/1 [==============================] - 0s 15ms/step - loss: 7.1681 - mae: 7.1681\n",
            "Epoch 47/100\n",
            "1/1 [==============================] - 0s 9ms/step - loss: 7.1625 - mae: 7.1625\n",
            "Epoch 48/100\n",
            "1/1 [==============================] - 0s 9ms/step - loss: 7.1569 - mae: 7.1569\n",
            "Epoch 49/100\n",
            "1/1 [==============================] - 0s 8ms/step - loss: 7.1513 - mae: 7.1513\n",
            "Epoch 50/100\n",
            "1/1 [==============================] - 0s 9ms/step - loss: 7.1456 - mae: 7.1456\n",
            "Epoch 51/100\n",
            "1/1 [==============================] - 0s 9ms/step - loss: 7.1400 - mae: 7.1400\n",
            "Epoch 52/100\n",
            "1/1 [==============================] - 0s 14ms/step - loss: 7.1344 - mae: 7.1344\n",
            "Epoch 53/100\n",
            "1/1 [==============================] - 0s 11ms/step - loss: 7.1287 - mae: 7.1287\n",
            "Epoch 54/100\n",
            "1/1 [==============================] - 0s 10ms/step - loss: 7.1231 - mae: 7.1231\n",
            "Epoch 55/100\n",
            "1/1 [==============================] - 0s 10ms/step - loss: 7.1175 - mae: 7.1175\n",
            "Epoch 56/100\n",
            "1/1 [==============================] - 0s 9ms/step - loss: 7.1119 - mae: 7.1119\n",
            "Epoch 57/100\n",
            "1/1 [==============================] - 0s 9ms/step - loss: 7.1063 - mae: 7.1063\n",
            "Epoch 58/100\n",
            "1/1 [==============================] - 0s 8ms/step - loss: 7.1006 - mae: 7.1006\n",
            "Epoch 59/100\n",
            "1/1 [==============================] - 0s 9ms/step - loss: 7.0950 - mae: 7.0950\n",
            "Epoch 60/100\n",
            "1/1 [==============================] - 0s 9ms/step - loss: 7.0894 - mae: 7.0894\n",
            "Epoch 61/100\n",
            "1/1 [==============================] - 0s 9ms/step - loss: 7.0837 - mae: 7.0837\n",
            "Epoch 62/100\n",
            "1/1 [==============================] - 0s 7ms/step - loss: 7.0781 - mae: 7.0781\n",
            "Epoch 63/100\n",
            "1/1 [==============================] - 0s 8ms/step - loss: 7.0725 - mae: 7.0725\n",
            "Epoch 64/100\n",
            "1/1 [==============================] - 0s 8ms/step - loss: 7.0669 - mae: 7.0669\n",
            "Epoch 65/100\n",
            "1/1 [==============================] - 0s 11ms/step - loss: 7.0613 - mae: 7.0613\n",
            "Epoch 66/100\n",
            "1/1 [==============================] - 0s 10ms/step - loss: 7.0556 - mae: 7.0556\n",
            "Epoch 67/100\n",
            "1/1 [==============================] - 0s 11ms/step - loss: 7.0500 - mae: 7.0500\n",
            "Epoch 68/100\n",
            "1/1 [==============================] - 0s 12ms/step - loss: 7.0444 - mae: 7.0444\n",
            "Epoch 69/100\n",
            "1/1 [==============================] - 0s 11ms/step - loss: 7.0388 - mae: 7.0388\n",
            "Epoch 70/100\n",
            "1/1 [==============================] - 0s 12ms/step - loss: 7.0331 - mae: 7.0331\n",
            "Epoch 71/100\n",
            "1/1 [==============================] - 0s 11ms/step - loss: 7.0275 - mae: 7.0275\n",
            "Epoch 72/100\n",
            "1/1 [==============================] - 0s 13ms/step - loss: 7.0219 - mae: 7.0219\n",
            "Epoch 73/100\n",
            "1/1 [==============================] - 0s 12ms/step - loss: 7.0163 - mae: 7.0163\n",
            "Epoch 74/100\n",
            "1/1 [==============================] - 0s 11ms/step - loss: 7.0106 - mae: 7.0106\n",
            "Epoch 75/100\n",
            "1/1 [==============================] - 0s 11ms/step - loss: 7.0050 - mae: 7.0050\n",
            "Epoch 76/100\n",
            "1/1 [==============================] - 0s 10ms/step - loss: 6.9994 - mae: 6.9994\n",
            "Epoch 77/100\n",
            "1/1 [==============================] - 0s 12ms/step - loss: 6.9938 - mae: 6.9938\n",
            "Epoch 78/100\n",
            "1/1 [==============================] - 0s 11ms/step - loss: 6.9881 - mae: 6.9881\n",
            "Epoch 79/100\n",
            "1/1 [==============================] - 0s 11ms/step - loss: 6.9825 - mae: 6.9825\n",
            "Epoch 80/100\n",
            "1/1 [==============================] - 0s 10ms/step - loss: 6.9769 - mae: 6.9769\n",
            "Epoch 81/100\n",
            "1/1 [==============================] - 0s 13ms/step - loss: 6.9713 - mae: 6.9713\n",
            "Epoch 82/100\n",
            "1/1 [==============================] - 0s 9ms/step - loss: 6.9656 - mae: 6.9656\n",
            "Epoch 83/100\n",
            "1/1 [==============================] - 0s 13ms/step - loss: 6.9600 - mae: 6.9600\n",
            "Epoch 84/100\n",
            "1/1 [==============================] - 0s 15ms/step - loss: 6.9544 - mae: 6.9544\n",
            "Epoch 85/100\n",
            "1/1 [==============================] - 0s 11ms/step - loss: 6.9488 - mae: 6.9488\n",
            "Epoch 86/100\n",
            "1/1 [==============================] - 0s 11ms/step - loss: 6.9431 - mae: 6.9431\n",
            "Epoch 87/100\n",
            "1/1 [==============================] - 0s 10ms/step - loss: 6.9375 - mae: 6.9375\n",
            "Epoch 88/100\n",
            "1/1 [==============================] - 0s 10ms/step - loss: 6.9319 - mae: 6.9319\n",
            "Epoch 89/100\n",
            "1/1 [==============================] - 0s 10ms/step - loss: 6.9263 - mae: 6.9263\n",
            "Epoch 90/100\n",
            "1/1 [==============================] - 0s 13ms/step - loss: 6.9206 - mae: 6.9206\n",
            "Epoch 91/100\n",
            "1/1 [==============================] - 0s 11ms/step - loss: 6.9150 - mae: 6.9150\n",
            "Epoch 92/100\n",
            "1/1 [==============================] - 0s 10ms/step - loss: 6.9094 - mae: 6.9094\n",
            "Epoch 93/100\n",
            "1/1 [==============================] - 0s 13ms/step - loss: 6.9038 - mae: 6.9038\n",
            "Epoch 94/100\n",
            "1/1 [==============================] - 0s 11ms/step - loss: 6.8981 - mae: 6.8981\n",
            "Epoch 95/100\n",
            "1/1 [==============================] - 0s 8ms/step - loss: 6.8925 - mae: 6.8925\n",
            "Epoch 96/100\n",
            "1/1 [==============================] - 0s 9ms/step - loss: 6.8869 - mae: 6.8869\n",
            "Epoch 97/100\n",
            "1/1 [==============================] - 0s 15ms/step - loss: 6.8813 - mae: 6.8813\n",
            "Epoch 98/100\n",
            "1/1 [==============================] - 0s 10ms/step - loss: 6.8756 - mae: 6.8756\n",
            "Epoch 99/100\n",
            "1/1 [==============================] - 0s 8ms/step - loss: 6.8700 - mae: 6.8700\n",
            "Epoch 100/100\n",
            "1/1 [==============================] - 0s 9ms/step - loss: 6.8644 - mae: 6.8644\n"
          ]
        },
        {
          "output_type": "execute_result",
          "data": {
            "text/plain": [
              "<keras.src.callbacks.History at 0x7ac762f10970>"
            ]
          },
          "metadata": {},
          "execution_count": 178
        }
      ]
    },
    {
      "cell_type": "markdown",
      "source": [
        "You might've noticed the loss value decrease from before (and keep decreasing as the number of epochs gets higher).\n",
        "\n",
        "What do you think this means for when we make a prediction with our model?\n",
        "\n",
        "How about we try predict on 17.0 again?"
      ],
      "metadata": {
        "id": "wUe3Z67uXjfl"
      }
    },
    {
      "cell_type": "code",
      "source": [
        "# Remind ourselves of what X and y are\n",
        "X, y"
      ],
      "metadata": {
        "colab": {
          "base_uri": "https://localhost:8080/"
        },
        "id": "Xr2N1bUmXjib",
        "outputId": "9dd4a842-cc48-42b3-f82f-817490fc671a"
      },
      "execution_count": null,
      "outputs": [
        {
          "output_type": "execute_result",
          "data": {
            "text/plain": [
              "(<tf.Tensor: shape=(8,), dtype=float32, numpy=array([-7., -4., -1.,  2.,  5.,  8., 11., 14.], dtype=float32)>,\n",
              " <tf.Tensor: shape=(8,), dtype=float32, numpy=array([ 3.,  6.,  9., 12., 15., 18., 21., 24.], dtype=float32)>)"
            ]
          },
          "metadata": {},
          "execution_count": 179
        }
      ]
    },
    {
      "cell_type": "code",
      "source": [
        "# Try and predict what y would be if X was 17.0\n",
        "model.predict([17.0])        # the right answer is 27.0 (y = X + 10)"
      ],
      "metadata": {
        "colab": {
          "base_uri": "https://localhost:8080/"
        },
        "id": "kk87BU5LXjlK",
        "outputId": "ef8dd498-54c7-4094-849c-d9a164d1d438"
      },
      "execution_count": null,
      "outputs": [
        {
          "output_type": "stream",
          "name": "stdout",
          "text": [
            "1/1 [==============================] - 0s 68ms/step\n"
          ]
        },
        {
          "output_type": "execute_result",
          "data": {
            "text/plain": [
              "array([[29.65177]], dtype=float32)"
            ]
          },
          "metadata": {},
          "execution_count": 180
        }
      ]
    },
    {
      "cell_type": "markdown",
      "source": [
        "Much better!\n",
        "\n",
        "We got closer this time. But we could still be better.\n",
        "\n",
        "Now we've trained a model, how could we evaluate it?"
      ],
      "metadata": {
        "id": "jhdJp51wXjn9"
      }
    },
    {
      "cell_type": "markdown",
      "source": [
        "# Evaluating a model\n",
        "A typical workflow you'll go through when building neural networks is:\n",
        "\n",
        "   * Build a model -> evaluate it -> build (tweak) a model -> evaulate it -> build (tweak) a model -> evaluate it...\n",
        "\n",
        "The tweaking comes from maybe not building a model from scratch but adjusting an existing one.\n",
        "\n",
        "**Visualize, visualize, visualize**\n",
        "\n",
        "When it comes to evaluation, you'll want to remember the words: \"visualize, visualize, visualize.\"\n",
        "\n",
        "This is because you're probably better looking at something (doing) than you are thinking about something.\n",
        "\n",
        "It's a good idea to visualize:\n",
        "\n",
        "* The data - what data are you working with? What does it look like?\n",
        "\n",
        "* The model itself - what does the architecture look like? What are the different shapes?\n",
        "\n",
        "* The training of a model - how does a model perform while it learns?\n",
        "\n",
        "* The predictions of a model - how do the predictions of a model line up against the ground truth (the original labels)?\n",
        "\n",
        "Let's start by visualizing the model.\n",
        "\n",
        "But first, we'll create a little bit of a bigger dataset and a new model we can use (it'll be the same as before, but the more practice the better).\n",
        "\n",
        "Let's start by visualizing the model.\n",
        "\n",
        "But first, we'll create a little bit of a bigger dataset and a new model we can use (it'll be the same as before, but the more practice the better).\n",
        "\n",
        "\n"
      ],
      "metadata": {
        "id": "q-QOCcbQXjqe"
      }
    },
    {
      "cell_type": "code",
      "source": [
        "# Make a bigger dataset\n",
        "X = np.arange(-100, 100, 4)\n",
        "X"
      ],
      "metadata": {
        "colab": {
          "base_uri": "https://localhost:8080/"
        },
        "id": "SZ9Nkf3OjUP_",
        "outputId": "0605066f-590b-4fce-eb92-139ba68baaa8"
      },
      "execution_count": null,
      "outputs": [
        {
          "output_type": "execute_result",
          "data": {
            "text/plain": [
              "array([-100,  -96,  -92,  -88,  -84,  -80,  -76,  -72,  -68,  -64,  -60,\n",
              "        -56,  -52,  -48,  -44,  -40,  -36,  -32,  -28,  -24,  -20,  -16,\n",
              "        -12,   -8,   -4,    0,    4,    8,   12,   16,   20,   24,   28,\n",
              "         32,   36,   40,   44,   48,   52,   56,   60,   64,   68,   72,\n",
              "         76,   80,   84,   88,   92,   96])"
            ]
          },
          "metadata": {},
          "execution_count": 181
        }
      ]
    },
    {
      "cell_type": "code",
      "source": [
        "# Make labels for the dataset (adhering to the same pattern as before)\n",
        "Y = np.arange(-90, 110, 4)\n",
        "Y\n"
      ],
      "metadata": {
        "colab": {
          "base_uri": "https://localhost:8080/"
        },
        "id": "1E-g-DFXXjtQ",
        "outputId": "0294cb03-da03-4fef-91fa-a53513c1b37d"
      },
      "execution_count": null,
      "outputs": [
        {
          "output_type": "execute_result",
          "data": {
            "text/plain": [
              "array([-90, -86, -82, -78, -74, -70, -66, -62, -58, -54, -50, -46, -42,\n",
              "       -38, -34, -30, -26, -22, -18, -14, -10,  -6,  -2,   2,   6,  10,\n",
              "        14,  18,  22,  26,  30,  34,  38,  42,  46,  50,  54,  58,  62,\n",
              "        66,  70,  74,  78,  82,  86,  90,  94,  98, 102, 106])"
            ]
          },
          "metadata": {},
          "execution_count": 182
        }
      ]
    },
    {
      "cell_type": "markdown",
      "source": [
        "Since **y = X + 10**, we could make the labels like so:"
      ],
      "metadata": {
        "id": "eRzjTa9eXjwT"
      }
    },
    {
      "cell_type": "code",
      "source": [
        "# Same result as above\n",
        "Y= X + 10\n",
        "Y"
      ],
      "metadata": {
        "colab": {
          "base_uri": "https://localhost:8080/"
        },
        "id": "41_NGJr-XjzP",
        "outputId": "9118b616-d588-4983-8622-4c42b1e5bd4d"
      },
      "execution_count": null,
      "outputs": [
        {
          "output_type": "execute_result",
          "data": {
            "text/plain": [
              "array([-90, -86, -82, -78, -74, -70, -66, -62, -58, -54, -50, -46, -42,\n",
              "       -38, -34, -30, -26, -22, -18, -14, -10,  -6,  -2,   2,   6,  10,\n",
              "        14,  18,  22,  26,  30,  34,  38,  42,  46,  50,  54,  58,  62,\n",
              "        66,  70,  74,  78,  82,  86,  90,  94,  98, 102, 106])"
            ]
          },
          "metadata": {},
          "execution_count": 183
        }
      ]
    },
    {
      "cell_type": "markdown",
      "source": [
        "# Split data into training/test set"
      ],
      "metadata": {
        "id": "5UoCLxNiXj2J"
      }
    },
    {
      "cell_type": "markdown",
      "source": [
        "One of the other most common and important steps in a machine learning project is creating a training and test set (and when required, a validation set).\n",
        "\n",
        "Each set serves a specific purpose:\n",
        "\n",
        "* Training set - the model learns from this data, which is typically 70-80% of the total data available (like the course materials you study during the semester).\n",
        "\n",
        "* Validation set - the model gets tuned on this data, which is typically 10-15% of the total data available (like the practice exam you take before the final exam).\n",
        "\n",
        "* Test set - the model gets evaluated on this data to test what it has learned, it's typically 10-15% of the total data available (like the final exam you take at the end of the semester).\n",
        "\n",
        "For now, we'll just use a training and test set, this means we'll have a dataset for our model to learn on as well as be evaluated on.\n",
        "\n",
        "We can create them by splitting our X and y arrays.\n",
        "  * 🔑 Note: When dealing with real-world data, this step is typically done right at the start of a project (the test set should always be kept separate from all other data). We want our model to learn on training data and then evaluate it on test data to get an indication of how well it generalizes to unseen examples."
      ],
      "metadata": {
        "id": "1jOu7Kx_Xj45"
      }
    },
    {
      "cell_type": "code",
      "source": [
        "# Check how many samples we have\n",
        "len(X)"
      ],
      "metadata": {
        "colab": {
          "base_uri": "https://localhost:8080/"
        },
        "id": "TwODM_rkXj8E",
        "outputId": "0d4a6320-b0f9-4f02-a78f-fd1ea1e12a94"
      },
      "execution_count": null,
      "outputs": [
        {
          "output_type": "execute_result",
          "data": {
            "text/plain": [
              "50"
            ]
          },
          "metadata": {},
          "execution_count": 184
        }
      ]
    },
    {
      "cell_type": "code",
      "source": [
        "# Split data into train and test sets\n",
        "X_train = X[:40] # first 40 examples (80% of data)\n",
        "Y_train = Y[:40]\n",
        "\n",
        "X_test = X[40:] # last 10 examples (20% of data)\n",
        "Y_test = Y[40:]\n",
        "\n",
        "len(X_train), len(X_test),len(Y_train), len(Y_test)"
      ],
      "metadata": {
        "colab": {
          "base_uri": "https://localhost:8080/"
        },
        "id": "5SPuTtPxXj-r",
        "outputId": "e511973b-e124-4831-e8e8-d4f8aa991f61"
      },
      "execution_count": null,
      "outputs": [
        {
          "output_type": "execute_result",
          "data": {
            "text/plain": [
              "(40, 10, 40, 10)"
            ]
          },
          "metadata": {},
          "execution_count": 185
        }
      ]
    },
    {
      "cell_type": "markdown",
      "source": [
        "# Visualizing the data\n",
        "\n",
        "Now we've got our training and test data, it's a good idea to visualize it.\n",
        "\n",
        "Let's plot it with some nice colours to differentiate what's what."
      ],
      "metadata": {
        "id": "lbp8KyhbXkBL"
      }
    },
    {
      "cell_type": "code",
      "source": [
        "plt.figure(figsize=(10, 7))\n",
        "# Plot training data in blue\n",
        "plt.scatter(X_train, Y_train, c='b', label='Training data')\n",
        "# Plot test data in green\n",
        "plt.scatter(X_test, Y_test, c='g', label='Testing data')\n",
        "# Show the legend\n",
        "plt.legend();"
      ],
      "metadata": {
        "colab": {
          "base_uri": "https://localhost:8080/",
          "height": 599
        },
        "id": "xsYIfuhTXkDu",
        "outputId": "1c0f306a-529b-430e-e0a4-0104fa1a7887"
      },
      "execution_count": null,
      "outputs": [
        {
          "output_type": "display_data",
          "data": {
            "text/plain": [
              "<Figure size 1000x700 with 1 Axes>"
            ],
            "image/png": "[encoded data removed]"
          },
          "metadata": {}
        }
      ]
    },
    {
      "cell_type": "markdown",
      "source": [
        "Beautiful! Any time you can visualize your data, your model, your anything, it's a good idea.\n",
        "\n",
        "With this graph in mind, what we'll be trying to do is build a model which learns the pattern in the blue dots (X_train) to draw the green dots (X_test).\n",
        "\n",
        "Time to build a model. We'll make the exact same one from before (the one we trained for longer)."
      ],
      "metadata": {
        "id": "Vm8YNFxaXkGq"
      }
    },
    {
      "cell_type": "code",
      "source": [
        "# Set random seed\n",
        "tf.random.set_seed(42)\n",
        "\n",
        "# Create a model (same as above)\n",
        "model = tf.keras.Sequential([\n",
        "  tf.keras.layers.Dense(1)\n",
        "])\n",
        "\n",
        "# Compile model (same as above)\n",
        "model.compile(loss=tf.keras.losses.mae,\n",
        "              optimizer=tf.keras.optimizers.SGD(),\n",
        "              metrics=[\"mae\"])\n",
        "\n",
        "# Fit model (same as above)\n",
        "#model.fit(X_train, y_train, epochs=100) # commented out on purpose (not fitting it just"
      ],
      "metadata": {
        "id": "xzdwr3w-XkML"
      },
      "execution_count": null,
      "outputs": []
    },
    {
      "cell_type": "markdown",
      "source": [
        "Visualizing the model\n",
        "\n",
        "After you've built a model, you might want to take a look at it (especially if you haven't built many before).\n",
        "\n",
        "You can take a look at the layers and shapes of your model by calling summary() on it.\n",
        "\n",
        "---\n",
        "---\n",
        "  * 🔑 Note: Visualizing a model is particularly helpful when you run into input and output shape mismatches.\n",
        "---\n",
        "---"
      ],
      "metadata": {
        "id": "kFQZNhWBXkPc"
      }
    },
    {
      "cell_type": "code",
      "source": [
        "# Doesn't work (model not fit/built)\n",
        "model.summary()"
      ],
      "metadata": {
        "colab": {
          "base_uri": "https://localhost:8080/",
          "height": 331
        },
        "id": "sdA8bxErXkSN",
        "outputId": "c6dbce2f-b64e-4646-9c24-7b5f2f7b0ad1"
      },
      "execution_count": null,
      "outputs": [
        {
          "output_type": "error",
          "ename": "ValueError",
          "evalue": "ignored",
          "traceback": [
            "\u001b[0;31m---------------------------------------------------------------------------\u001b[0m",
            "\u001b[0;31mValueError\u001b[0m                                Traceback (most recent call last)",
            "\u001b[0;32m<ipython-input-188-7d09d31d4e66>\u001b[0m in \u001b[0;36m<cell line: 2>\u001b[0;34m()\u001b[0m\n\u001b[1;32m      1\u001b[0m \u001b[0;31m# Doesn't work (model not fit/built)\u001b[0m\u001b[0;34m\u001b[0m\u001b[0;34m\u001b[0m\u001b[0m\n\u001b[0;32m----> 2\u001b[0;31m \u001b[0mmodel\u001b[0m\u001b[0;34m.\u001b[0m\u001b[0msummary\u001b[0m\u001b[0;34m(\u001b[0m\u001b[0;34m)\u001b[0m\u001b[0;34m\u001b[0m\u001b[0;34m\u001b[0m\u001b[0m\n\u001b[0m",
            "\u001b[0;32m/usr/local/lib/python3.10/dist-packages/keras/src/engine/training.py\u001b[0m in \u001b[0;36msummary\u001b[0;34m(self, line_length, positions, print_fn, expand_nested, show_trainable, layer_range)\u001b[0m\n\u001b[1;32m   3401\u001b[0m         \"\"\"\n\u001b[1;32m   3402\u001b[0m         \u001b[0;32mif\u001b[0m \u001b[0;32mnot\u001b[0m \u001b[0mself\u001b[0m\u001b[0;34m.\u001b[0m\u001b[0mbuilt\u001b[0m\u001b[0;34m:\u001b[0m\u001b[0;34m\u001b[0m\u001b[0;34m\u001b[0m\u001b[0m\n\u001b[0;32m-> 3403\u001b[0;31m             raise ValueError(\n\u001b[0m\u001b[1;32m   3404\u001b[0m                 \u001b[0;34m\"This model has not yet been built. \"\u001b[0m\u001b[0;34m\u001b[0m\u001b[0;34m\u001b[0m\u001b[0m\n\u001b[1;32m   3405\u001b[0m                 \u001b[0;34m\"Build the model first by calling `build()` or by calling \"\u001b[0m\u001b[0;34m\u001b[0m\u001b[0;34m\u001b[0m\u001b[0m\n",
            "\u001b[0;31mValueError\u001b[0m: This model has not yet been built. Build the model first by calling `build()` or by calling the model on a batch of data."
          ]
        }
      ]
    },
    {
      "cell_type": "markdown",
      "source": [
        "Ahh, the cell above errors because we haven't fit or built our model.\n",
        "\n",
        "We also haven't told it what input shape it should be expecting.\n",
        "\n",
        "Remember above, how we discussed the input shape was just one number?\n",
        "\n",
        "We can let our model know the input shape of our data using the input_shape parameter to the first layer ***(usually if input_shape isn't defined, Keras tries to figure it out automatically)***."
      ],
      "metadata": {
        "id": "fHBIqQWkXkVT"
      }
    },
    {
      "cell_type": "code",
      "source": [
        "# Set random seed\n",
        "tf.random.set_seed(42)\n",
        "\n",
        "# Create a model (same as above)\n",
        "model = tf.keras.Sequential([\n",
        "  tf.keras.layers.Dense(1, input_shape=[1]) # define the input_shape to our model\n",
        "])\n",
        "\n",
        "# Compile model (same as above)\n",
        "model.compile(loss=tf.keras.losses.mae,\n",
        "              optimizer=tf.keras.optimizers.SGD(),\n",
        "              metrics=[\"mae\"])\n",
        "\n"
      ],
      "metadata": {
        "id": "JYr22Vt4XkX9"
      },
      "execution_count": null,
      "outputs": []
    },
    {
      "cell_type": "code",
      "source": [
        "\n",
        "# This will work after specifying the input shape\n",
        "model.summary()"
      ],
      "metadata": {
        "colab": {
          "base_uri": "https://localhost:8080/"
        },
        "id": "eEzEwXRMXkbB",
        "outputId": "380ba511-6a29-4f3a-c0df-2ab418d8e0b2"
      },
      "execution_count": null,
      "outputs": [
        {
          "output_type": "stream",
          "name": "stdout",
          "text": [
            "Model: \"sequential_24\"\n",
            "_________________________________________________________________\n",
            " Layer (type)                Output Shape              Param #   \n",
            "=================================================================\n",
            " dense_34 (Dense)            (None, 1)                 2         \n",
            "                                                                 \n",
            "=================================================================\n",
            "Total params: 2 (8.00 Byte)\n",
            "Trainable params: 2 (8.00 Byte)\n",
            "Non-trainable params: 0 (0.00 Byte)\n",
            "_________________________________________________________________\n"
          ]
        }
      ]
    },
    {
      "cell_type": "markdown",
      "source": [
        "Calling summary() on our model shows us the layers it contains, the output shape and the number of parameters.\n",
        "\n",
        "* Total params - total number of parameters in the model.\n",
        "* Trainable parameters - these are the parameters (patterns) the model can update as it trains.\n",
        "* Non-trainable parameters - these parameters aren't updated during training (this is typical when you bring in the already learned patterns from other models during transfer learning).\n",
        "\n",
        "For now, all you need to think about these parameters is that their learnable patterns in the data.\n",
        "\n",
        "Let's fit our model to the training data.\n"
      ],
      "metadata": {
        "id": "7LqiB78TXkhI"
      }
    },
    {
      "cell_type": "code",
      "source": [
        "# Fit the model to the training data\n",
        "model.fit(X_train, Y_train, epochs=100, verbose=0) # verbose controls how much gets output"
      ],
      "metadata": {
        "colab": {
          "base_uri": "https://localhost:8080/"
        },
        "id": "xF7bQ9RnXkj3",
        "outputId": "ac210986-828b-43bc-fd70-8e05806ccde1"
      },
      "execution_count": null,
      "outputs": [
        {
          "output_type": "execute_result",
          "data": {
            "text/plain": [
              "<keras.src.callbacks.History at 0x7ac762e62140>"
            ]
          },
          "metadata": {},
          "execution_count": 192
        }
      ]
    },
    {
      "cell_type": "code",
      "source": [
        "# Check the model summary\n",
        "model.summary()"
      ],
      "metadata": {
        "colab": {
          "base_uri": "https://localhost:8080/"
        },
        "id": "vtBlIqg5pv3t",
        "outputId": "104e1d71-c53b-4b57-9f89-e02a431b2a56"
      },
      "execution_count": null,
      "outputs": [
        {
          "output_type": "stream",
          "name": "stdout",
          "text": [
            "Model: \"sequential_24\"\n",
            "_________________________________________________________________\n",
            " Layer (type)                Output Shape              Param #   \n",
            "=================================================================\n",
            " dense_34 (Dense)            (None, 1)                 2         \n",
            "                                                                 \n",
            "=================================================================\n",
            "Total params: 2 (8.00 Byte)\n",
            "Trainable params: 2 (8.00 Byte)\n",
            "Non-trainable params: 0 (0.00 Byte)\n",
            "_________________________________________________________________\n"
          ]
        }
      ]
    },
    {
      "cell_type": "markdown",
      "source": [
        "Alongside summary, you can also view a 2D plot of the model using plot_model()."
      ],
      "metadata": {
        "id": "LBk2ek1C90YG"
      }
    },
    {
      "cell_type": "code",
      "source": [
        "from tensorflow.keras.utils import plot_model\n",
        "\n",
        "plot_model(model, show_shapes=True)"
      ],
      "metadata": {
        "id": "c_BRlAfdpv8a",
        "colab": {
          "base_uri": "https://localhost:8080/",
          "height": 201
        },
        "outputId": "c1bb07ee-7911-4fd6-8dcf-c9e2f0dc366d"
      },
      "execution_count": null,
      "outputs": [
        {
          "output_type": "execute_result",
          "data": {
            "image/png": "[encoded data removed]",
            "text/plain": [
              "<IPython.core.display.Image object>"
            ]
          },
          "metadata": {},
          "execution_count": 194
        }
      ]
    },
    {
      "cell_type": "markdown",
      "source": [
        "In our case, the model we used only has an input and an output but visualizing more complicated models can be very helpful for debugging."
      ],
      "metadata": {
        "id": "ctt7K1-mpv__"
      }
    },
    {
      "cell_type": "markdown",
      "source": [
        "# **Visualizing the predictions**"
      ],
      "metadata": {
        "id": "98gWlcOdpwC3"
      }
    },
    {
      "cell_type": "markdown",
      "source": [
        "Now we've got a trained model, let's visualize some predictions.\n",
        "\n",
        "To visualize predictions, it's always a good idea to plot them against the ground truth labels.\n",
        "\n",
        "Often you'll see this in the form of y_test vs. y_pred (ground truth vs. predictions).\n",
        "\n",
        "First, we'll make some predictions on the test data (X_test), remember the model has never seen the test data."
      ],
      "metadata": {
        "id": "CUcs_aMBpwF5"
      }
    },
    {
      "cell_type": "code",
      "source": [
        "# Make predictions\n",
        "y_pred = model.predict(X_test)"
      ],
      "metadata": {
        "id": "zvfBS6ospwI7",
        "colab": {
          "base_uri": "https://localhost:8080/"
        },
        "outputId": "457316c5-d2d4-4c2b-8171-e4b980c3bcef"
      },
      "execution_count": null,
      "outputs": [
        {
          "output_type": "stream",
          "name": "stdout",
          "text": [
            "1/1 [==============================] - 0s 52ms/step\n"
          ]
        }
      ]
    },
    {
      "cell_type": "code",
      "source": [
        "# View the predictions\n",
        "y_pred"
      ],
      "metadata": {
        "id": "gzEOottLpwLv",
        "colab": {
          "base_uri": "https://localhost:8080/"
        },
        "outputId": "85253c33-e92d-4bb1-f627-c7a4711c62a8"
      },
      "execution_count": null,
      "outputs": [
        {
          "output_type": "execute_result",
          "data": {
            "text/plain": [
              "array([[56.51523 ],\n",
              "       [60.19599 ],\n",
              "       [63.876755],\n",
              "       [67.55752 ],\n",
              "       [71.23829 ],\n",
              "       [74.91905 ],\n",
              "       [78.599815],\n",
              "       [82.28059 ],\n",
              "       [85.96135 ],\n",
              "       [89.64211 ]], dtype=float32)"
            ]
          },
          "metadata": {},
          "execution_count": 196
        }
      ]
    },
    {
      "cell_type": "code",
      "source": [
        "Y_test"
      ],
      "metadata": {
        "colab": {
          "base_uri": "https://localhost:8080/"
        },
        "id": "E0FQFiBgGmVS",
        "outputId": "d2b7270d-0da2-4912-8116-84efdbdfa0f5"
      },
      "execution_count": null,
      "outputs": [
        {
          "output_type": "execute_result",
          "data": {
            "text/plain": [
              "array([ 70,  74,  78,  82,  86,  90,  94,  98, 102, 106])"
            ]
          },
          "metadata": {},
          "execution_count": 197
        }
      ]
    },
    {
      "cell_type": "markdown",
      "source": [
        "Okay, we get a list of numbers but how do these compare to the ground truth labels?\n",
        "\n",
        "Let's build a plotting function to find out.\n",
        "\n",
        "🔑 Note: If you think you're going to be visualizing something a lot, it's a good idea to functionize it so you can use it later.\n",
        "\n"
      ],
      "metadata": {
        "id": "Qm1W5YfwpwOp"
      }
    },
    {
      "cell_type": "code",
      "source": [
        "def plot_predictions(train_data=X_train,\n",
        "                     train_labels=Y_train,\n",
        "                     test_data=X_test,\n",
        "                     test_labels=Y_test,\n",
        "                     predictions=y_pred):\n",
        "  \"\"\"\n",
        "  Plots training data, test data and compares predictions.\n",
        "  \"\"\"\n",
        "  plt.figure(figsize=(10, 7))\n",
        "  # Plot training data in blue\n",
        "  plt.scatter(train_data, train_labels, c=\"b\", label=\"Training data\")\n",
        "  # Plot test data in green\n",
        "  plt.scatter(test_data, test_labels, c=\"g\", label=\"Testing data\")\n",
        "  # Plot the predictions in red (predictions were made on the test data)\n",
        "  plt.scatter(test_data, predictions, c=\"r\", label=\"Predictions\")\n",
        "  # Show the legend\n",
        "  plt.legend();"
      ],
      "metadata": {
        "id": "AKFkAXZX_XxH"
      },
      "execution_count": null,
      "outputs": []
    },
    {
      "cell_type": "code",
      "source": [
        "plot_predictions(train_data=X_train,\n",
        "                 train_labels=Y_train,\n",
        "                 test_data=X_test,\n",
        "                 test_labels=Y_test,\n",
        "                 predictions=y_pred)"
      ],
      "metadata": {
        "colab": {
          "base_uri": "https://localhost:8080/",
          "height": 599
        },
        "id": "qf5kYjfF_X5W",
        "outputId": "619fe583-b8d6-4d3e-db25-84e6b5c20674"
      },
      "execution_count": null,
      "outputs": [
        {
          "output_type": "display_data",
          "data": {
            "text/plain": [
              "<Figure size 1000x700 with 1 Axes>"
            ],
            "image/png": "[encoded data removed]"
          },
          "metadata": {}
        }
      ]
    },
    {
      "cell_type": "markdown",
      "source": [
        "# **Evaluating predictions**"
      ],
      "metadata": {
        "id": "_j92DOV-_YKu"
      }
    },
    {
      "cell_type": "markdown",
      "source": [
        "Alongisde visualizations, evaulation metrics are your alternative best option for evaluating your model.\n",
        "\n",
        "Depending on the problem you're working on, different models have different evaluation metrics.\n",
        "\n",
        "Two of the main metrics used for regression problems are:\n",
        "\n",
        "* Mean absolute error (MAE) - the mean difference between each of the predictions.\n",
        "\n",
        "* Mean squared error (MSE) - the squared mean difference between of the predictions (use if larger errors are more detrimental than smaller errors).\n",
        "\n",
        "**The lower each of these values, the better.**\n",
        "\n",
        "You can also use model.evaluate() which will return the loss of the model as well as any metrics setup during the compile step."
      ],
      "metadata": {
        "id": "erbPs9yY_YQn"
      }
    },
    {
      "cell_type": "code",
      "source": [
        "# Evaluate the model on the test set\n",
        "model.evaluate(X_test, Y_test)"
      ],
      "metadata": {
        "colab": {
          "base_uri": "https://localhost:8080/"
        },
        "id": "RI9I0sXa_YUk",
        "outputId": "c6196d17-b2a5-40a1-88fd-e5ed1714a6d4"
      },
      "execution_count": null,
      "outputs": [
        {
          "output_type": "stream",
          "name": "stdout",
          "text": [
            "1/1 [==============================] - 0s 109ms/step - loss: 14.9213 - mae: 14.9213\n"
          ]
        },
        {
          "output_type": "execute_result",
          "data": {
            "text/plain": [
              "[14.921330451965332, 14.921330451965332]"
            ]
          },
          "metadata": {},
          "execution_count": 200
        }
      ]
    },
    {
      "cell_type": "markdown",
      "source": [
        "In our case, since we used MAE for the loss function as well as MAE for the metrics, model.evaulate() returns them both.\n",
        "\n",
        "TensorFlow also has built in functions for MSE and MAE.\n",
        "\n",
        "For many evaluation functions, the premise is the same: compare predictions to the ground truth labels."
      ],
      "metadata": {
        "id": "CBlAmv7J_YY4"
      }
    },
    {
      "cell_type": "code",
      "source": [
        "# Assuming y_true and y_pred are your true labels and predictions respectively\n",
        "mae = tf.keras.losses.mean_absolute_error(y_true=Y_test, y_pred=y_pred)\n",
        "print(mae)\n",
        "\n",
        "# Compute the mean absolute error value\n",
        "mae_value = tf.reduce_mean(mae).numpy()  # Extract the numerical value from the TensorFlow tensor\n",
        "\n",
        "print(\"Mean Absolute Error:\", mae_value)\n"
      ],
      "metadata": {
        "colab": {
          "base_uri": "https://localhost:8080/"
        },
        "id": "wHT8h13j_YlJ",
        "outputId": "180cce43-8d78-4bae-ff4d-2757e6a558ef"
      },
      "execution_count": null,
      "outputs": [
        {
          "output_type": "stream",
          "name": "stdout",
          "text": [
            "tf.Tensor(\n",
            "[31.484772  27.80401   24.123245  20.442482  17.009369  14.248569\n",
            " 12.160074  10.743883  10.0077305 10.       ], shape=(10,), dtype=float32)\n",
            "Mean Absolute Error: 17.802414\n"
          ]
        }
      ]
    },
    {
      "cell_type": "code",
      "source": [
        "# Check the test label tensor values\n",
        "Y_test"
      ],
      "metadata": {
        "colab": {
          "base_uri": "https://localhost:8080/"
        },
        "id": "zV54nhfg_Yps",
        "outputId": "8cdc191b-773c-47e7-9963-c06386323d37"
      },
      "execution_count": null,
      "outputs": [
        {
          "output_type": "execute_result",
          "data": {
            "text/plain": [
              "array([ 70,  74,  78,  82,  86,  90,  94,  98, 102, 106])"
            ]
          },
          "metadata": {},
          "execution_count": 202
        }
      ]
    },
    {
      "cell_type": "code",
      "source": [
        "# Check the predictions tensor values (notice the extra square brackets)\n",
        "y_pred"
      ],
      "metadata": {
        "colab": {
          "base_uri": "https://localhost:8080/"
        },
        "id": "HO8KX-Gf_YxB",
        "outputId": "2cf0a462-9416-4025-f0dd-4874180a5e58"
      },
      "execution_count": null,
      "outputs": [
        {
          "output_type": "execute_result",
          "data": {
            "text/plain": [
              "array([[56.51523 ],\n",
              "       [60.19599 ],\n",
              "       [63.876755],\n",
              "       [67.55752 ],\n",
              "       [71.23829 ],\n",
              "       [74.91905 ],\n",
              "       [78.599815],\n",
              "       [82.28059 ],\n",
              "       [85.96135 ],\n",
              "       [89.64211 ]], dtype=float32)"
            ]
          },
          "metadata": {},
          "execution_count": 203
        }
      ]
    },
    {
      "cell_type": "code",
      "source": [
        "# Check the tensor shapes\n",
        "Y_test.shape, y_pred.shape"
      ],
      "metadata": {
        "colab": {
          "base_uri": "https://localhost:8080/"
        },
        "id": "DdnzLRNy_Y5L",
        "outputId": "b7e77330-1074-446d-8f8f-23cfb5c91797"
      },
      "execution_count": null,
      "outputs": [
        {
          "output_type": "execute_result",
          "data": {
            "text/plain": [
              "((10,), (10, 1))"
            ]
          },
          "metadata": {},
          "execution_count": 204
        }
      ]
    },
    {
      "cell_type": "markdown",
      "source": [
        "Remember how we discussed dealing with different input and output shapes is one the most common issues you'll come across, this is one of those times.\n",
        "\n",
        "But not to worry.\n",
        "\n",
        "We can fix it using squeeze(), it'll remove the the 1 dimension from our y_preds tensor, making it the same shape as y_test.\n",
        "\n",
        "🔑 Note: If you're comparing two tensors, it's important to make sure they're the right shape(s) (you won't always have to manipulate the shapes, but always be on the look out, many errors are the result of mismatched tensors, especially mismatched input and output shapes)."
      ],
      "metadata": {
        "id": "Sl6ZY__Q_Y9i"
      }
    },
    {
      "cell_type": "code",
      "source": [
        "# Shape before squeeze()\n",
        "y_pred.shape"
      ],
      "metadata": {
        "id": "IBSBj85ldaPN",
        "colab": {
          "base_uri": "https://localhost:8080/"
        },
        "outputId": "f723bd7a-a6fa-4a43-da7f-7e264eff63df"
      },
      "execution_count": null,
      "outputs": [
        {
          "output_type": "execute_result",
          "data": {
            "text/plain": [
              "(10, 1)"
            ]
          },
          "metadata": {},
          "execution_count": 205
        }
      ]
    },
    {
      "cell_type": "code",
      "source": [
        "# Shape after squeeze()\n",
        "y_pred.squeeze().shape"
      ],
      "metadata": {
        "colab": {
          "base_uri": "https://localhost:8080/"
        },
        "id": "tqHDWvFiPxE9",
        "outputId": "3c830303-3c22-4ccb-c574-9419461f9024"
      },
      "execution_count": null,
      "outputs": [
        {
          "output_type": "execute_result",
          "data": {
            "text/plain": [
              "(10,)"
            ]
          },
          "metadata": {},
          "execution_count": 206
        }
      ]
    },
    {
      "cell_type": "code",
      "source": [
        "# What do they look like?\n",
        "Y_test, y_pred.squeeze()"
      ],
      "metadata": {
        "colab": {
          "base_uri": "https://localhost:8080/"
        },
        "id": "-HeG9dAdPxLN",
        "outputId": "58382cda-8b5a-4466-8a6c-2b3058831f20"
      },
      "execution_count": null,
      "outputs": [
        {
          "output_type": "execute_result",
          "data": {
            "text/plain": [
              "(array([ 70,  74,  78,  82,  86,  90,  94,  98, 102, 106]),\n",
              " array([56.51523 , 60.19599 , 63.876755, 67.55752 , 71.23829 , 74.91905 ,\n",
              "        78.599815, 82.28059 , 85.96135 , 89.64211 ], dtype=float32))"
            ]
          },
          "metadata": {},
          "execution_count": 207
        }
      ]
    },
    {
      "cell_type": "markdown",
      "source": [
        "Okay, now we know how to make our y_test and y_preds tenors the same shape, let's use our evaluation metrics."
      ],
      "metadata": {
        "id": "IFvQo3hzPxQ2"
      }
    },
    {
      "cell_type": "code",
      "source": [
        "# Calcuate the MAE\n",
        "mae = tf.metrics.mean_absolute_error(y_true=Y_test,\n",
        "                                     y_pred=y_pred.squeeze()) # use squeeze() to make same shape\n",
        "mae"
      ],
      "metadata": {
        "colab": {
          "base_uri": "https://localhost:8080/"
        },
        "id": "HdjPiRn6PxUH",
        "outputId": "46d1e035-6e56-4889-a1e9-0e807e305d2d"
      },
      "execution_count": null,
      "outputs": [
        {
          "output_type": "execute_result",
          "data": {
            "text/plain": [
              "<tf.Tensor: shape=(), dtype=float32, numpy=14.92133>"
            ]
          },
          "metadata": {},
          "execution_count": 208
        }
      ]
    },
    {
      "cell_type": "code",
      "source": [
        "# Calculate the MSE\n",
        "mse = tf.metrics.mean_squared_error(y_true=Y_test,\n",
        "                                    y_pred=y_pred.squeeze())\n",
        "mse"
      ],
      "metadata": {
        "colab": {
          "base_uri": "https://localhost:8080/"
        },
        "id": "ABYsaUUYPxXC",
        "outputId": "335e8c46-6f0f-4f62-fa97-47c236a2f4fc"
      },
      "execution_count": null,
      "outputs": [
        {
          "output_type": "execute_result",
          "data": {
            "text/plain": [
              "<tf.Tensor: shape=(), dtype=float32, numpy=223.48686>"
            ]
          },
          "metadata": {},
          "execution_count": 209
        }
      ]
    },
    {
      "cell_type": "markdown",
      "source": [
        "We can also calculate the MAE using pure TensorFlow functions"
      ],
      "metadata": {
        "id": "L-6m5E7iPxcn"
      }
    },
    {
      "cell_type": "code",
      "source": [
        "# Returns the same as tf.metrics.mean_absolute_error()\n",
        "tf.reduce_mean(tf.abs(Y_test-y_pred.squeeze()))"
      ],
      "metadata": {
        "colab": {
          "base_uri": "https://localhost:8080/"
        },
        "id": "pbyM3MYlPxf1",
        "outputId": "8090cbe6-b466-44c1-fb53-28c67f250c36"
      },
      "execution_count": null,
      "outputs": [
        {
          "output_type": "execute_result",
          "data": {
            "text/plain": [
              "<tf.Tensor: shape=(), dtype=float64, numpy=14.92133026123047>"
            ]
          },
          "metadata": {},
          "execution_count": 210
        }
      ]
    },
    {
      "cell_type": "markdown",
      "source": [
        "Again, it's a good idea to functionize anything you think you might use over again (or find yourself using over and over again).\n",
        "\n",
        "Let's make functions for our evaluation metrics.\n",
        "\n"
      ],
      "metadata": {
        "id": "b2jYPmzuPxi0"
      }
    },
    {
      "cell_type": "code",
      "source": [
        "def mae(Y_test, y_pred):\n",
        "  \"\"\"\n",
        "  Calculuates mean absolute error between y_test and y_preds.\n",
        "  \"\"\"\n",
        "  return tf.metrics.mean_absolute_error(Y_test,\n",
        "                                        y_pred)\n",
        "\n",
        "def mse(Y_test, y_pred):\n",
        "  \"\"\"\n",
        "  Calculates mean squared error between y_test and y_preds.\n",
        "  \"\"\"\n",
        "  return tf.metrics.mean_squared_error(Y_test,\n",
        "                                       y_pred)\n"
      ],
      "metadata": {
        "id": "32V6Uf0EPxlz"
      },
      "execution_count": null,
      "outputs": []
    },
    {
      "cell_type": "markdown",
      "source": [
        "# **Running experiments to improve a model**"
      ],
      "metadata": {
        "id": "WuNtUWWTPxo8"
      }
    },
    {
      "cell_type": "markdown",
      "source": [
        "After seeing the evaluation metrics and the predictions your model makes, it's likely you'll want to improve it.\n",
        "\n",
        "Again, there are many different ways you can do this, but 3 of the main ones are:\n",
        "\n",
        "* Get more data - get more examples for your model to train on (more opportunities to learn patterns).\n",
        "\n",
        "* Make your model larger (use a more complex model) - this might come in the form of more layers or more hidden units in each layer.\n",
        "\n",
        "* Train for longer - give your model more of a chance to find the patterns in the data.\n",
        "\n",
        "Since we created our dataset, we could easily make more data but this isn't always the case when you're working with real-world datasets.\n",
        "\n",
        "So let's take a look at how we can improve our model using 2 and 3.\n",
        "\n",
        "To do so, we'll build 3 models and compare their results:\n",
        "\n",
        "* model_1 - same as original model, 1 layer, trained for 100 epochs.\n",
        "\n",
        "* model_2 - 2 layers, trained for 100 epochs.\n",
        "\n",
        "* model_3 - 2 layers, trained for 500 epochs."
      ],
      "metadata": {
        "id": "a5xLNVN7PxvC"
      }
    },
    {
      "cell_type": "markdown",
      "source": [
        "# **Build model_1**"
      ],
      "metadata": {
        "id": "3CRCInbxdbB1"
      }
    },
    {
      "cell_type": "code",
      "source": [
        "# Set random seed\n",
        "tf.random.set_seed(42)\n",
        "\n",
        "# Replicate original model\n",
        "model_1 = tf.keras.Sequential([\n",
        "  tf.keras.layers.Dense(1)\n",
        "])\n",
        "\n",
        "# Compile the model\n",
        "model_1.compile(loss=tf.keras.losses.mae,\n",
        "                optimizer=tf.keras.optimizers.SGD(),\n",
        "                metrics=['mae'])\n",
        "\n",
        "# Fit the model\n",
        "model_1.fit(tf.expand_dims(X_train, axis=-1), Y_train, epochs=100)"
      ],
      "metadata": {
        "id": "pSFCiDnMdbEX",
        "colab": {
          "base_uri": "https://localhost:8080/"
        },
        "outputId": "9c8336e9-8d06-4691-a2b0-76b359bfd7fd"
      },
      "execution_count": null,
      "outputs": [
        {
          "output_type": "stream",
          "name": "stdout",
          "text": [
            "Epoch 1/100\n",
            "2/2 [==============================] - 0s 13ms/step - loss: 74.1770 - mae: 74.1770\n",
            "Epoch 2/100\n",
            "2/2 [==============================] - 0s 7ms/step - loss: 38.8518 - mae: 38.8518\n",
            "Epoch 3/100\n",
            "2/2 [==============================] - 0s 15ms/step - loss: 8.4128 - mae: 8.4128\n",
            "Epoch 4/100\n",
            "2/2 [==============================] - 0s 8ms/step - loss: 9.3058 - mae: 9.3058\n",
            "Epoch 5/100\n",
            "2/2 [==============================] - 0s 6ms/step - loss: 10.1714 - mae: 10.1714\n",
            "Epoch 6/100\n",
            "2/2 [==============================] - 0s 6ms/step - loss: 9.4368 - mae: 9.4368\n",
            "Epoch 7/100\n",
            "2/2 [==============================] - 0s 6ms/step - loss: 8.5788 - mae: 8.5788\n",
            "Epoch 8/100\n",
            "2/2 [==============================] - 0s 6ms/step - loss: 9.0652 - mae: 9.0652\n",
            "Epoch 9/100\n",
            "2/2 [==============================] - 0s 6ms/step - loss: 18.7327 - mae: 18.7327\n",
            "Epoch 10/100\n",
            "2/2 [==============================] - 0s 5ms/step - loss: 10.1189 - mae: 10.1189\n",
            "Epoch 11/100\n",
            "2/2 [==============================] - 0s 7ms/step - loss: 8.4128 - mae: 8.4128\n",
            "Epoch 12/100\n",
            "2/2 [==============================] - 0s 6ms/step - loss: 10.6718 - mae: 10.6718\n",
            "Epoch 13/100\n",
            "2/2 [==============================] - 0s 7ms/step - loss: 9.8141 - mae: 9.8141\n",
            "Epoch 14/100\n",
            "2/2 [==============================] - 0s 7ms/step - loss: 15.9870 - mae: 15.9870\n",
            "Epoch 15/100\n",
            "2/2 [==============================] - 0s 6ms/step - loss: 11.4518 - mae: 11.4518\n",
            "Epoch 16/100\n",
            "2/2 [==============================] - 0s 7ms/step - loss: 8.5512 - mae: 8.5512\n",
            "Epoch 17/100\n",
            "2/2 [==============================] - 0s 6ms/step - loss: 13.6386 - mae: 13.6386\n",
            "Epoch 18/100\n",
            "2/2 [==============================] - 0s 6ms/step - loss: 11.4620 - mae: 11.4620\n",
            "Epoch 19/100\n",
            "2/2 [==============================] - 0s 6ms/step - loss: 17.9581 - mae: 17.9581\n",
            "Epoch 20/100\n",
            "2/2 [==============================] - 0s 7ms/step - loss: 15.0925 - mae: 15.0925\n",
            "Epoch 21/100\n",
            "2/2 [==============================] - 0s 6ms/step - loss: 11.0630 - mae: 11.0630\n",
            "Epoch 22/100\n",
            "2/2 [==============================] - 0s 6ms/step - loss: 8.1974 - mae: 8.1974\n",
            "Epoch 23/100\n",
            "2/2 [==============================] - 0s 8ms/step - loss: 9.5202 - mae: 9.5202\n",
            "Epoch 24/100\n",
            "2/2 [==============================] - 0s 6ms/step - loss: 7.6894 - mae: 7.6894\n",
            "Epoch 25/100\n",
            "2/2 [==============================] - 0s 6ms/step - loss: 13.1607 - mae: 13.1607\n",
            "Epoch 26/100\n",
            "2/2 [==============================] - 0s 8ms/step - loss: 16.4636 - mae: 16.4636\n",
            "Epoch 27/100\n",
            "2/2 [==============================] - 0s 7ms/step - loss: 13.2053 - mae: 13.2053\n",
            "Epoch 28/100\n",
            "2/2 [==============================] - 0s 7ms/step - loss: 14.3022 - mae: 14.3022\n",
            "Epoch 29/100\n",
            "2/2 [==============================] - 0s 7ms/step - loss: 10.0960 - mae: 10.0960\n",
            "Epoch 30/100\n",
            "2/2 [==============================] - 0s 7ms/step - loss: 16.3970 - mae: 16.3970\n",
            "Epoch 31/100\n",
            "2/2 [==============================] - 0s 6ms/step - loss: 23.6101 - mae: 23.6101\n",
            "Epoch 32/100\n",
            "2/2 [==============================] - 0s 6ms/step - loss: 7.6376 - mae: 7.6376\n",
            "Epoch 33/100\n",
            "2/2 [==============================] - 0s 6ms/step - loss: 9.3354 - mae: 9.3354\n",
            "Epoch 34/100\n",
            "2/2 [==============================] - 0s 7ms/step - loss: 13.7201 - mae: 13.7201\n",
            "Epoch 35/100\n",
            "2/2 [==============================] - 0s 7ms/step - loss: 11.1657 - mae: 11.1657\n",
            "Epoch 36/100\n",
            "2/2 [==============================] - 0s 6ms/step - loss: 13.3716 - mae: 13.3716\n",
            "Epoch 37/100\n",
            "2/2 [==============================] - 0s 7ms/step - loss: 9.4849 - mae: 9.4849\n",
            "Epoch 38/100\n",
            "2/2 [==============================] - 0s 6ms/step - loss: 10.1422 - mae: 10.1422\n",
            "Epoch 39/100\n",
            "2/2 [==============================] - 0s 6ms/step - loss: 10.2176 - mae: 10.2176\n",
            "Epoch 40/100\n",
            "2/2 [==============================] - 0s 6ms/step - loss: 10.9556 - mae: 10.9556\n",
            "Epoch 41/100\n",
            "2/2 [==============================] - 0s 6ms/step - loss: 7.9463 - mae: 7.9463\n",
            "Epoch 42/100\n",
            "2/2 [==============================] - 0s 6ms/step - loss: 10.0979 - mae: 10.0979\n",
            "Epoch 43/100\n",
            "2/2 [==============================] - 0s 7ms/step - loss: 8.7165 - mae: 8.7165\n",
            "Epoch 44/100\n",
            "2/2 [==============================] - 0s 7ms/step - loss: 12.1932 - mae: 12.1932\n",
            "Epoch 45/100\n",
            "2/2 [==============================] - 0s 7ms/step - loss: 13.8430 - mae: 13.8430\n",
            "Epoch 46/100\n",
            "2/2 [==============================] - 0s 6ms/step - loss: 8.5101 - mae: 8.5101\n",
            "Epoch 47/100\n",
            "2/2 [==============================] - 0s 6ms/step - loss: 9.1411 - mae: 9.1411\n",
            "Epoch 48/100\n",
            "2/2 [==============================] - 0s 6ms/step - loss: 10.6213 - mae: 10.6213\n",
            "Epoch 49/100\n",
            "2/2 [==============================] - 0s 7ms/step - loss: 7.7591 - mae: 7.7591\n",
            "Epoch 50/100\n",
            "2/2 [==============================] - 0s 7ms/step - loss: 9.5438 - mae: 9.5438\n",
            "Epoch 51/100\n",
            "2/2 [==============================] - 0s 6ms/step - loss: 9.1759 - mae: 9.1759\n",
            "Epoch 52/100\n",
            "2/2 [==============================] - 0s 7ms/step - loss: 16.3300 - mae: 16.3300\n",
            "Epoch 53/100\n",
            "2/2 [==============================] - 0s 6ms/step - loss: 14.1637 - mae: 14.1637\n",
            "Epoch 54/100\n",
            "2/2 [==============================] - 0s 6ms/step - loss: 21.1804 - mae: 21.1804\n",
            "Epoch 55/100\n",
            "2/2 [==============================] - 0s 6ms/step - loss: 16.3712 - mae: 16.3712\n",
            "Epoch 56/100\n",
            "2/2 [==============================] - 0s 6ms/step - loss: 10.0257 - mae: 10.0257\n",
            "Epoch 57/100\n",
            "2/2 [==============================] - 0s 7ms/step - loss: 9.9660 - mae: 9.9660\n",
            "Epoch 58/100\n",
            "2/2 [==============================] - 0s 6ms/step - loss: 9.2293 - mae: 9.2293\n",
            "Epoch 59/100\n",
            "2/2 [==============================] - 0s 6ms/step - loss: 8.4294 - mae: 8.4294\n",
            "Epoch 60/100\n",
            "2/2 [==============================] - 0s 6ms/step - loss: 9.4981 - mae: 9.4981\n",
            "Epoch 61/100\n",
            "2/2 [==============================] - 0s 6ms/step - loss: 11.4346 - mae: 11.4346\n",
            "Epoch 62/100\n",
            "2/2 [==============================] - 0s 6ms/step - loss: 11.7348 - mae: 11.7348\n",
            "Epoch 63/100\n",
            "2/2 [==============================] - 0s 7ms/step - loss: 7.0986 - mae: 7.0986\n",
            "Epoch 64/100\n",
            "2/2 [==============================] - 0s 7ms/step - loss: 17.0111 - mae: 17.0111\n",
            "Epoch 65/100\n",
            "2/2 [==============================] - 0s 6ms/step - loss: 12.4993 - mae: 12.4993\n",
            "Epoch 66/100\n",
            "2/2 [==============================] - 0s 8ms/step - loss: 13.0638 - mae: 13.0638\n",
            "Epoch 67/100\n",
            "2/2 [==============================] - 0s 7ms/step - loss: 8.0926 - mae: 8.0926\n",
            "Epoch 68/100\n",
            "2/2 [==============================] - 0s 7ms/step - loss: 10.2259 - mae: 10.2259\n",
            "Epoch 69/100\n",
            "2/2 [==============================] - 0s 8ms/step - loss: 12.4113 - mae: 12.4113\n",
            "Epoch 70/100\n",
            "2/2 [==============================] - 0s 8ms/step - loss: 9.0606 - mae: 9.0606\n",
            "Epoch 71/100\n",
            "2/2 [==============================] - 0s 7ms/step - loss: 10.0446 - mae: 10.0446\n",
            "Epoch 72/100\n",
            "2/2 [==============================] - 0s 7ms/step - loss: 10.0619 - mae: 10.0619\n",
            "Epoch 73/100\n",
            "2/2 [==============================] - 0s 7ms/step - loss: 12.6090 - mae: 12.6090\n",
            "Epoch 74/100\n",
            "2/2 [==============================] - 0s 7ms/step - loss: 10.4305 - mae: 10.4305\n",
            "Epoch 75/100\n",
            "2/2 [==============================] - 0s 7ms/step - loss: 9.7307 - mae: 9.7307\n",
            "Epoch 76/100\n",
            "2/2 [==============================] - 0s 8ms/step - loss: 11.2287 - mae: 11.2287\n",
            "Epoch 77/100\n",
            "2/2 [==============================] - 0s 7ms/step - loss: 8.3719 - mae: 8.3719\n",
            "Epoch 78/100\n",
            "2/2 [==============================] - 0s 7ms/step - loss: 9.1266 - mae: 9.1266\n",
            "Epoch 79/100\n",
            "2/2 [==============================] - 0s 7ms/step - loss: 19.5582 - mae: 19.5582\n",
            "Epoch 80/100\n",
            "2/2 [==============================] - 0s 6ms/step - loss: 14.8747 - mae: 14.8747\n",
            "Epoch 81/100\n",
            "2/2 [==============================] - 0s 6ms/step - loss: 9.0559 - mae: 9.0559\n",
            "Epoch 82/100\n",
            "2/2 [==============================] - 0s 7ms/step - loss: 13.0084 - mae: 13.0084\n",
            "Epoch 83/100\n",
            "2/2 [==============================] - 0s 6ms/step - loss: 7.9333 - mae: 7.9333\n",
            "Epoch 84/100\n",
            "2/2 [==============================] - 0s 7ms/step - loss: 7.7176 - mae: 7.7176\n",
            "Epoch 85/100\n",
            "2/2 [==============================] - 0s 7ms/step - loss: 10.0723 - mae: 10.0723\n",
            "Epoch 86/100\n",
            "2/2 [==============================] - 0s 8ms/step - loss: 9.2766 - mae: 9.2766\n",
            "Epoch 87/100\n",
            "2/2 [==============================] - 0s 8ms/step - loss: 12.0604 - mae: 12.0604\n",
            "Epoch 88/100\n",
            "2/2 [==============================] - 0s 7ms/step - loss: 10.6816 - mae: 10.6816\n",
            "Epoch 89/100\n",
            "2/2 [==============================] - 0s 7ms/step - loss: 7.2913 - mae: 7.2913\n",
            "Epoch 90/100\n",
            "2/2 [==============================] - 0s 7ms/step - loss: 12.8237 - mae: 12.8237\n",
            "Epoch 91/100\n",
            "2/2 [==============================] - 0s 8ms/step - loss: 7.5032 - mae: 7.5032\n",
            "Epoch 92/100\n",
            "2/2 [==============================] - 0s 9ms/step - loss: 6.7757 - mae: 6.7757\n",
            "Epoch 93/100\n",
            "2/2 [==============================] - 0s 6ms/step - loss: 11.9743 - mae: 11.9743\n",
            "Epoch 94/100\n",
            "2/2 [==============================] - 0s 7ms/step - loss: 8.9068 - mae: 8.9068\n",
            "Epoch 95/100\n",
            "2/2 [==============================] - 0s 6ms/step - loss: 7.7468 - mae: 7.7468\n",
            "Epoch 96/100\n",
            "2/2 [==============================] - 0s 7ms/step - loss: 6.7743 - mae: 6.7743\n",
            "Epoch 97/100\n",
            "2/2 [==============================] - 0s 7ms/step - loss: 8.6593 - mae: 8.6593\n",
            "Epoch 98/100\n",
            "2/2 [==============================] - 0s 9ms/step - loss: 9.4129 - mae: 9.4129\n",
            "Epoch 99/100\n",
            "2/2 [==============================] - 0s 6ms/step - loss: 9.1487 - mae: 9.1487\n",
            "Epoch 100/100\n",
            "2/2 [==============================] - 0s 7ms/step - loss: 10.5047 - mae: 10.5047\n"
          ]
        },
        {
          "output_type": "execute_result",
          "data": {
            "text/plain": [
              "<keras.src.callbacks.History at 0x7ac761d40d90>"
            ]
          },
          "metadata": {},
          "execution_count": 212
        }
      ]
    },
    {
      "cell_type": "code",
      "source": [
        "# Make and plot predictions for model_1\n",
        "y_preds_1 = model_1.predict(X_test)\n",
        "plot_predictions(predictions=y_preds_1)"
      ],
      "metadata": {
        "id": "Ui_bybAadbHT",
        "colab": {
          "base_uri": "https://localhost:8080/",
          "height": 616
        },
        "outputId": "0867dace-13ef-4e51-f33c-c23d27721cfc"
      },
      "execution_count": null,
      "outputs": [
        {
          "output_type": "stream",
          "name": "stdout",
          "text": [
            "1/1 [==============================] - 0s 43ms/step\n"
          ]
        },
        {
          "output_type": "display_data",
          "data": {
            "text/plain": [
              "<Figure size 1000x700 with 1 Axes>"
            ],
            "image/png": "[encoded data removed]"
          },
          "metadata": {}
        }
      ]
    },
    {
      "cell_type": "code",
      "source": [
        "# Calculate model_1 metrics\n",
        "mae_1 = mae(Y_test, y_preds_1.squeeze()).numpy()\n",
        "mse_1 = mse(Y_test, y_preds_1.squeeze()).numpy()\n",
        "mae_1, mse_1"
      ],
      "metadata": {
        "id": "tHh_Y9oFdbJ7",
        "colab": {
          "base_uri": "https://localhost:8080/"
        },
        "outputId": "47d06b56-dd9a-4a6e-c7e1-b6cee72ae316"
      },
      "execution_count": null,
      "outputs": [
        {
          "output_type": "execute_result",
          "data": {
            "text/plain": [
              "(14.98109, 225.27983)"
            ]
          },
          "metadata": {},
          "execution_count": 214
        }
      ]
    },
    {
      "cell_type": "markdown",
      "source": [
        "# **Build model_2**"
      ],
      "metadata": {
        "id": "Lo9em9QxdbM0"
      }
    },
    {
      "cell_type": "code",
      "source": [
        "# Set random seed\n",
        "tf.random.set_seed(42)\n",
        "\n",
        "# Replicate model_1 and add an extra layer\n",
        "model_2 = tf.keras.Sequential([\n",
        "  tf.keras.layers.Dense(1),\n",
        "  tf.keras.layers.Dense(1) # add a second layer\n",
        "])\n",
        "\n",
        "# Compile the model\n",
        "model_2.compile(loss=tf.keras.losses.mae,\n",
        "                optimizer=tf.keras.optimizers.SGD(),\n",
        "                metrics=['mae'])\n",
        "\n",
        "# Fit the model\n",
        "model_2.fit(tf.expand_dims(X_train, axis=-1), Y_train, epochs=100, verbose=0) # set verbose to 0 for less output"
      ],
      "metadata": {
        "id": "nEag_BS8dbP9",
        "colab": {
          "base_uri": "https://localhost:8080/"
        },
        "outputId": "c0f4d86e-2ac8-44d8-b21d-8ae6972248ce"
      },
      "execution_count": null,
      "outputs": [
        {
          "output_type": "execute_result",
          "data": {
            "text/plain": [
              "<keras.src.callbacks.History at 0x7ac761cc0790>"
            ]
          },
          "metadata": {},
          "execution_count": 215
        }
      ]
    },
    {
      "cell_type": "code",
      "source": [
        "# Make and plot predictions for model_2\n",
        "y_preds_2 = model_2.predict(X_test)\n",
        "plot_predictions(predictions=y_preds_2)"
      ],
      "metadata": {
        "id": "qXv5bQTldbS8",
        "colab": {
          "base_uri": "https://localhost:8080/",
          "height": 616
        },
        "outputId": "216819c9-2dca-422d-9119-a22687a2f2c5"
      },
      "execution_count": null,
      "outputs": [
        {
          "output_type": "stream",
          "name": "stdout",
          "text": [
            "1/1 [==============================] - 0s 50ms/step\n"
          ]
        },
        {
          "output_type": "display_data",
          "data": {
            "text/plain": [
              "<Figure size 1000x700 with 1 Axes>"
            ],
            "image/png": "[encoded data removed]"
          },
          "metadata": {}
        }
      ]
    },
    {
      "cell_type": "code",
      "source": [
        "# Calculate model_2 metrics\n",
        "mae_2 = mae(Y_test, y_preds_2.squeeze()).numpy()\n",
        "mse_2 = mse(Y_test, y_preds_2.squeeze()).numpy()\n",
        "mae_2, mse_2"
      ],
      "metadata": {
        "id": "fzxNReZ1dbV2",
        "colab": {
          "base_uri": "https://localhost:8080/"
        },
        "outputId": "2989a4be-97fe-4427-c594-03206c00debf"
      },
      "execution_count": null,
      "outputs": [
        {
          "output_type": "execute_result",
          "data": {
            "text/plain": [
              "(28.344446, 832.2438)"
            ]
          },
          "metadata": {},
          "execution_count": 217
        }
      ]
    },
    {
      "cell_type": "markdown",
      "source": [
        "# **Build model_3**"
      ],
      "metadata": {
        "id": "TQshvWprdbYv"
      }
    },
    {
      "cell_type": "markdown",
      "source": [
        "For our 3rd model, we'll keep everything the same as model_2 except this time we'll train for longer (500 epochs instead of 100).\n",
        "\n",
        "This will give our model more of a chance to learn the patterns in the data."
      ],
      "metadata": {
        "id": "58nbg7nVdbbq"
      }
    },
    {
      "cell_type": "code",
      "source": [
        "# Set random seed\n",
        "tf.random.set_seed(42)\n",
        "\n",
        "# Replicate model_2\n",
        "model_3 = tf.keras.Sequential([\n",
        "  tf.keras.layers.Dense(1),\n",
        "  tf.keras.layers.Dense(1)\n",
        "])\n",
        "\n",
        "# Compile the model\n",
        "model_3.compile(loss=tf.keras.losses.mae,\n",
        "                optimizer=tf.keras.optimizers.SGD(),\n",
        "                metrics=['mae'])\n",
        "\n",
        "# Fit the model (this time for 500 epochs, not 100)\n",
        "model_3.fit(tf.expand_dims(X_train, axis=-1), Y_train, epochs=500, verbose=0)# set verbose to 0 for less output"
      ],
      "metadata": {
        "id": "2sowV8UudbhM",
        "colab": {
          "base_uri": "https://localhost:8080/"
        },
        "outputId": "04d70c55-02f7-4637-91fb-67583a78aaf7"
      },
      "execution_count": null,
      "outputs": [
        {
          "output_type": "execute_result",
          "data": {
            "text/plain": [
              "<keras.src.callbacks.History at 0x7ac761a386d0>"
            ]
          },
          "metadata": {},
          "execution_count": 218
        }
      ]
    },
    {
      "cell_type": "code",
      "source": [
        "# Make and plot predictions for model_3\n",
        "y_preds_3 = model_3.predict(X_test)\n",
        "plot_predictions(predictions=y_preds_3)"
      ],
      "metadata": {
        "colab": {
          "base_uri": "https://localhost:8080/",
          "height": 616
        },
        "id": "Usgwkb5mUp_v",
        "outputId": "922b204e-0f8a-4133-b688-4b93ce3c61f0"
      },
      "execution_count": null,
      "outputs": [
        {
          "output_type": "stream",
          "name": "stdout",
          "text": [
            "1/1 [==============================] - 0s 70ms/step\n"
          ]
        },
        {
          "output_type": "display_data",
          "data": {
            "text/plain": [
              "<Figure size 1000x700 with 1 Axes>"
            ],
            "image/png": "[encoded data removed]"
          },
          "metadata": {}
        }
      ]
    },
    {
      "cell_type": "markdown",
      "source": [
        "Strange, we trained for longer but our model performed worse?\n",
        "\n",
        "As it turns out, our model might've trained too long and has thus resulted in worse results (we'll see ways to prevent training for too long later on)."
      ],
      "metadata": {
        "id": "jVDmukYKdbkU"
      }
    },
    {
      "cell_type": "code",
      "source": [
        "# Calculate model_3 metrics\n",
        "mae_3 = mae(Y_test, y_preds_3.squeeze()).numpy()\n",
        "mse_3 = mse(Y_test, y_preds_3.squeeze()).numpy()\n",
        "mae_3, mse_3"
      ],
      "metadata": {
        "id": "zeEHPD6ddboW",
        "colab": {
          "base_uri": "https://localhost:8080/"
        },
        "outputId": "e78207b1-fed0-4e23-b3e7-1ad0bfaffa1b"
      },
      "execution_count": null,
      "outputs": [
        {
          "output_type": "execute_result",
          "data": {
            "text/plain": [
              "(67.46714, 4635.417)"
            ]
          },
          "metadata": {},
          "execution_count": 220
        }
      ]
    },
    {
      "cell_type": "markdown",
      "source": [
        "# **Comparing results**\n",
        "\n",
        "Now we've got results for 3 similar but slightly different results, let's compare them."
      ],
      "metadata": {
        "id": "Q1C3GYp7dbsQ"
      }
    },
    {
      "cell_type": "code",
      "source": [
        "model_results = [[\"model_1\", mae_1, mse_1],\n",
        "                 [\"model_2\", mae_2, mse_2],\n",
        "                 [\"model_3\", mae_3, mae_3]]"
      ],
      "metadata": {
        "id": "f-3YoUIqdbvs"
      },
      "execution_count": null,
      "outputs": []
    },
    {
      "cell_type": "code",
      "source": [
        "import pandas as pd\n",
        "all_results = pd.DataFrame(model_results, columns=[\"model\", \"mae\", \"mse\"])\n",
        "all_results"
      ],
      "metadata": {
        "colab": {
          "base_uri": "https://localhost:8080/",
          "height": 143
        },
        "id": "vhA6zkVHVOoD",
        "outputId": "1a3d6d4e-59ad-4a97-a0a5-fe1675ad7bf9"
      },
      "execution_count": null,
      "outputs": [
        {
          "output_type": "execute_result",
          "data": {
            "text/plain": [
              "     model        mae         mse\n",
              "0  model_1  14.981090  225.279831\n",
              "1  model_2  28.344446  832.243774\n",
              "2  model_3  67.467140   67.467140"
            ],
            "text/html": [
              "\n",
              "  <div id=\"df-f0d7e0bf-7a62-4bf3-8936-175d857f718d\" class=\"colab-df-container\">\n",
              "    <div>\n",
              "<style scoped>\n",
              "    .dataframe tbody tr th:only-of-type {\n",
              "        vertical-align: middle;\n",
              "    }\n",
              "\n",
              "    .dataframe tbody tr th {\n",
              "        vertical-align: top;\n",
              "    }\n",
              "\n",
              "    .dataframe thead th {\n",
              "        text-align: right;\n",
              "    }\n",
              "</style>\n",
              "<table border=\"1\" class=\"dataframe\">\n",
              "  <thead>\n",
              "    <tr style=\"text-align: right;\">\n",
              "      <th></th>\n",
              "      <th>model</th>\n",
              "      <th>mae</th>\n",
              "      <th>mse</th>\n",
              "    </tr>\n",
              "  </thead>\n",
              "  <tbody>\n",
              "    <tr>\n",
              "      <th>0</th>\n",
              "      <td>model_1</td>\n",
              "      <td>14.981090</td>\n",
              "      <td>225.279831</td>\n",
              "    </tr>\n",
              "    <tr>\n",
              "      <th>1</th>\n",
              "      <td>model_2</td>\n",
              "      <td>28.344446</td>\n",
              "      <td>832.243774</td>\n",
              "    </tr>\n",
              "    <tr>\n",
              "      <th>2</th>\n",
              "      <td>model_3</td>\n",
              "      <td>67.467140</td>\n",
              "      <td>67.467140</td>\n",
              "    </tr>\n",
              "  </tbody>\n",
              "</table>\n",
              "</div>\n",
              "    <div class=\"colab-df-buttons\">\n",
              "\n",
              "  <div class=\"colab-df-container\">\n",
              "    <button class=\"colab-df-convert\" onclick=\"convertToInteractive('df-f0d7e0bf-7a62-4bf3-8936-175d857f718d')\"\n",
              "            title=\"Convert this dataframe to an interactive table.\"\n",
              "            style=\"display:none;\">\n",
              "\n",
              "  <svg xmlns=\"http://www.w3.org/2000/svg\" height=\"24px\" viewBox=\"0 -960 960 960\">\n",
              "    <path d=\"M120-120v-720h720v720H120Zm60-500h600v-160H180v160Zm220 220h160v-160H400v160Zm0 220h160v-160H400v160ZM180-400h160v-160H180v160Zm440 0h160v-160H620v160ZM180-180h160v-160H180v160Zm440 0h160v-160H620v160Z\"/>\n",
              "  </svg>\n",
              "    </button>\n",
              "\n",
              "  <style>\n",
              "    .colab-df-container {\n",
              "      display:flex;\n",
              "      gap: 12px;\n",
              "    }\n",
              "\n",
              "    .colab-df-convert {\n",
              "      background-color: #E8F0FE;\n",
              "      border: none;\n",
              "      border-radius: 50%;\n",
              "      cursor: pointer;\n",
              "      display: none;\n",
              "      fill: #1967D2;\n",
              "      height: 32px;\n",
              "      padding: 0 0 0 0;\n",
              "      width: 32px;\n",
              "    }\n",
              "\n",
              "    .colab-df-convert:hover {\n",
              "      background-color: #E2EBFA;\n",
              "      box-shadow: 0px 1px 2px rgba(60, 64, 67, 0.3), 0px 1px 3px 1px rgba(60, 64, 67, 0.15);\n",
              "      fill: #174EA6;\n",
              "    }\n",
              "\n",
              "    .colab-df-buttons div {\n",
              "      margin-bottom: 4px;\n",
              "    }\n",
              "\n",
              "    [theme=dark] .colab-df-convert {\n",
              "      background-color: #3B4455;\n",
              "      fill: #D2E3FC;\n",
              "    }\n",
              "\n",
              "    [theme=dark] .colab-df-convert:hover {\n",
              "      background-color: #434B5C;\n",
              "      box-shadow: 0px 1px 3px 1px rgba(0, 0, 0, 0.15);\n",
              "      filter: drop-shadow(0px 1px 2px rgba(0, 0, 0, 0.3));\n",
              "      fill: #FFFFFF;\n",
              "    }\n",
              "  </style>\n",
              "\n",
              "    <script>\n",
              "      const buttonEl =\n",
              "        document.querySelector('#df-f0d7e0bf-7a62-4bf3-8936-175d857f718d button.colab-df-convert');\n",
              "      buttonEl.style.display =\n",
              "        google.colab.kernel.accessAllowed ? 'block' : 'none';\n",
              "\n",
              "      async function convertToInteractive(key) {\n",
              "        const element = document.querySelector('#df-f0d7e0bf-7a62-4bf3-8936-175d857f718d');\n",
              "        const dataTable =\n",
              "          await google.colab.kernel.invokeFunction('convertToInteractive',\n",
              "                                                    [key], {});\n",
              "        if (!dataTable) return;\n",
              "\n",
              "        const docLinkHtml = 'Like what you see? Visit the ' +\n",
              "          '<a target=\"_blank\" href=https://colab.research.google.com/notebooks/data_table.ipynb>data table notebook</a>'\n",
              "          + ' to learn more about interactive tables.';\n",
              "        element.innerHTML = '';\n",
              "        dataTable['output_type'] = 'display_data';\n",
              "        await google.colab.output.renderOutput(dataTable, element);\n",
              "        const docLink = document.createElement('div');\n",
              "        docLink.innerHTML = docLinkHtml;\n",
              "        element.appendChild(docLink);\n",
              "      }\n",
              "    </script>\n",
              "  </div>\n",
              "\n",
              "\n",
              "<div id=\"df-f0591cd0-c337-4ff4-ad16-e7a5f9761fae\">\n",
              "  <button class=\"colab-df-quickchart\" onclick=\"quickchart('df-f0591cd0-c337-4ff4-ad16-e7a5f9761fae')\"\n",
              "            title=\"Suggest charts.\"\n",
              "            style=\"display:none;\">\n",
              "\n",
              "<svg xmlns=\"http://www.w3.org/2000/svg\" height=\"24px\"viewBox=\"0 0 24 24\"\n",
              "     width=\"24px\">\n",
              "    <g>\n",
              "        <path d=\"M19 3H5c-1.1 0-2 .9-2 2v14c0 1.1.9 2 2 2h14c1.1 0 2-.9 2-2V5c0-1.1-.9-2-2-2zM9 17H7v-7h2v7zm4 0h-2V7h2v10zm4 0h-2v-4h2v4z\"/>\n",
              "    </g>\n",
              "</svg>\n",
              "  </button>\n",
              "\n",
              "<style>\n",
              "  .colab-df-quickchart {\n",
              "      --bg-color: #E8F0FE;\n",
              "      --fill-color: #1967D2;\n",
              "      --hover-bg-color: #E2EBFA;\n",
              "      --hover-fill-color: #174EA6;\n",
              "      --disabled-fill-color: #AAA;\n",
              "      --disabled-bg-color: #DDD;\n",
              "  }\n",
              "\n",
              "  [theme=dark] .colab-df-quickchart {\n",
              "      --bg-color: #3B4455;\n",
              "      --fill-color: #D2E3FC;\n",
              "      --hover-bg-color: #434B5C;\n",
              "      --hover-fill-color: #FFFFFF;\n",
              "      --disabled-bg-color: #3B4455;\n",
              "      --disabled-fill-color: #666;\n",
              "  }\n",
              "\n",
              "  .colab-df-quickchart {\n",
              "    background-color: var(--bg-color);\n",
              "    border: none;\n",
              "    border-radius: 50%;\n",
              "    cursor: pointer;\n",
              "    display: none;\n",
              "    fill: var(--fill-color);\n",
              "    height: 32px;\n",
              "    padding: 0;\n",
              "    width: 32px;\n",
              "  }\n",
              "\n",
              "  .colab-df-quickchart:hover {\n",
              "    background-color: var(--hover-bg-color);\n",
              "    box-shadow: 0 1px 2px rgba(60, 64, 67, 0.3), 0 1px 3px 1px rgba(60, 64, 67, 0.15);\n",
              "    fill: var(--button-hover-fill-color);\n",
              "  }\n",
              "\n",
              "  .colab-df-quickchart-complete:disabled,\n",
              "  .colab-df-quickchart-complete:disabled:hover {\n",
              "    background-color: var(--disabled-bg-color);\n",
              "    fill: var(--disabled-fill-color);\n",
              "    box-shadow: none;\n",
              "  }\n",
              "\n",
              "  .colab-df-spinner {\n",
              "    border: 2px solid var(--fill-color);\n",
              "    border-color: transparent;\n",
              "    border-bottom-color: var(--fill-color);\n",
              "    animation:\n",
              "      spin 1s steps(1) infinite;\n",
              "  }\n",
              "\n",
              "  @keyframes spin {\n",
              "    0% {\n",
              "      border-color: transparent;\n",
              "      border-bottom-color: var(--fill-color);\n",
              "      border-left-color: var(--fill-color);\n",
              "    }\n",
              "    20% {\n",
              "      border-color: transparent;\n",
              "      border-left-color: var(--fill-color);\n",
              "      border-top-color: var(--fill-color);\n",
              "    }\n",
              "    30% {\n",
              "      border-color: transparent;\n",
              "      border-left-color: var(--fill-color);\n",
              "      border-top-color: var(--fill-color);\n",
              "      border-right-color: var(--fill-color);\n",
              "    }\n",
              "    40% {\n",
              "      border-color: transparent;\n",
              "      border-right-color: var(--fill-color);\n",
              "      border-top-color: var(--fill-color);\n",
              "    }\n",
              "    60% {\n",
              "      border-color: transparent;\n",
              "      border-right-color: var(--fill-color);\n",
              "    }\n",
              "    80% {\n",
              "      border-color: transparent;\n",
              "      border-right-color: var(--fill-color);\n",
              "      border-bottom-color: var(--fill-color);\n",
              "    }\n",
              "    90% {\n",
              "      border-color: transparent;\n",
              "      border-bottom-color: var(--fill-color);\n",
              "    }\n",
              "  }\n",
              "</style>\n",
              "\n",
              "  <script>\n",
              "    async function quickchart(key) {\n",
              "      const quickchartButtonEl =\n",
              "        document.querySelector('#' + key + ' button');\n",
              "      quickchartButtonEl.disabled = true;  // To prevent multiple clicks.\n",
              "      quickchartButtonEl.classList.add('colab-df-spinner');\n",
              "      try {\n",
              "        const charts = await google.colab.kernel.invokeFunction(\n",
              "            'suggestCharts', [key], {});\n",
              "      } catch (error) {\n",
              "        console.error('Error during call to suggestCharts:', error);\n",
              "      }\n",
              "      quickchartButtonEl.classList.remove('colab-df-spinner');\n",
              "      quickchartButtonEl.classList.add('colab-df-quickchart-complete');\n",
              "    }\n",
              "    (() => {\n",
              "      let quickchartButtonEl =\n",
              "        document.querySelector('#df-f0591cd0-c337-4ff4-ad16-e7a5f9761fae button');\n",
              "      quickchartButtonEl.style.display =\n",
              "        google.colab.kernel.accessAllowed ? 'block' : 'none';\n",
              "    })();\n",
              "  </script>\n",
              "</div>\n",
              "    </div>\n",
              "  </div>\n"
            ]
          },
          "metadata": {},
          "execution_count": 222
        }
      ]
    },
    {
      "cell_type": "markdown",
      "source": [
        "From our experiments, it looks like model_1 performed the best.\n",
        "\n",
        "And now, you might be thinking, \"wow, comparing models is tedious...\" and it definitely can be, we've only compared 3 models here.\n",
        "\n",
        "But this is part of what machine learning modelling is about, trying many different combinations of models and seeing which performs best.\n",
        "\n",
        "Each model you build is a small experiment.\n",
        "\n",
        "🔑 Note: One of your main goals should be to minimize the time between your experiments. The more experiments you do, the more things you'll figure out which don't work and in turn, get closer to figuring out what does work. Remember the machine learning practitioner's motto: \"experiment, experiment, experiment\".\n",
        "\n",
        "Another thing you'll also find is what you thought may work (such as training a model for longer) may not always work and the exact opposite is also often the case."
      ],
      "metadata": {
        "id": "Ysy1nDZGVO0H"
      }
    },
    {
      "cell_type": "markdown",
      "source": [
        "# **Tracking your experiments**\n",
        "\n",
        "One really good habit to get into is tracking your modelling experiments to see which perform better than others.\n",
        "\n",
        "We've done a simple version of this above (keeping the results in different variables).\n",
        "\n",
        "📖 Resource: But as you build more models, you'll want to look into using tools such as:\n",
        "\n",
        "* TensorBoard - a component of the TensorFlow library to help track modelling experiments (we'll see this later).\n",
        "\n",
        "* Weights & Biases - a tool for tracking all kinds of machine learning experiments (the good news for Weights & Biases is it plugs into TensorBoard)."
      ],
      "metadata": {
        "id": "uYTYQc99VO3I"
      }
    },
    {
      "cell_type": "markdown",
      "source": [
        "# **Saving a model**\n",
        "\n",
        "Once you've trained a model and found one which performs to your liking, you'll probably want to save it for use elsewhere (like a web application or mobile device).\n",
        "\n",
        "You can save a TensorFlow/Keras model using model.save().\n",
        "\n",
        "There are two ways to save a model in TensorFlow:\n",
        "\n",
        "* The SavedModel format (default).\n",
        "* The HDF5 format.\n",
        "  \n",
        "The main difference between the two is the SavedModel is automatically able to save custom objects (such as special layers) without additional modifications when loading the model back in.\n",
        "\n",
        "Which one should you use?\n",
        "\n",
        "It depends on your situation but the SavedModel format will suffice most of the time.\n",
        "\n",
        "Both methods use the same method call."
      ],
      "metadata": {
        "id": "V5cpI311VO8b"
      }
    },
    {
      "cell_type": "code",
      "source": [
        "# Save a model using the SavedModel format\n",
        "model_1.save('best_model_SavedModel_format')"
      ],
      "metadata": {
        "id": "pevqbHThYwwT"
      },
      "execution_count": null,
      "outputs": []
    },
    {
      "cell_type": "code",
      "source": [
        "# Check it out - outputs a protobuf binary file (.pb) as well as other files\n",
        "!ls best_model_SavedModel_format"
      ],
      "metadata": {
        "colab": {
          "base_uri": "https://localhost:8080/"
        },
        "id": "Yr8fmU4VYw8A",
        "outputId": "73ea0fa9-ae7c-425c-f03f-74e1944f112a"
      },
      "execution_count": null,
      "outputs": [
        {
          "output_type": "stream",
          "name": "stdout",
          "text": [
            "assets\tfingerprint.pb\tkeras_metadata.pb  saved_model.pb  variables\n"
          ]
        }
      ]
    },
    {
      "cell_type": "markdown",
      "source": [
        "Now let's save the model in the HDF5 format, we'll use the same method but with a different filename."
      ],
      "metadata": {
        "id": "N2XnGrlsYw_T"
      }
    },
    {
      "cell_type": "code",
      "source": [
        "# Save a model using the HDF5 format\n",
        "model_1.save(\"best_model_HDF5_format.h5\") # note the addition of '.h5' on the end"
      ],
      "metadata": {
        "colab": {
          "base_uri": "https://localhost:8080/"
        },
        "id": "pS_lBNjdYxCR",
        "outputId": "9aca5427-f741-4b00-f84c-c12eed541465"
      },
      "execution_count": null,
      "outputs": [
        {
          "output_type": "stream",
          "name": "stderr",
          "text": [
            "/usr/local/lib/python3.10/dist-packages/keras/src/engine/training.py:3000: UserWarning: You are saving your model as an HDF5 file via `model.save()`. This file format is considered legacy. We recommend using instead the native Keras format, e.g. `model.save('my_model.keras')`.\n",
            "  saving_api.save_model(\n"
          ]
        }
      ]
    },
    {
      "cell_type": "code",
      "source": [
        "# Check it out\n",
        "!ls best_model_HDF5_format.h5"
      ],
      "metadata": {
        "colab": {
          "base_uri": "https://localhost:8080/"
        },
        "id": "27h9r2QnYxGO",
        "outputId": "85835497-fd0a-479f-f2c4-748755d9476d"
      },
      "execution_count": null,
      "outputs": [
        {
          "output_type": "stream",
          "name": "stdout",
          "text": [
            "best_model_HDF5_format.h5\n"
          ]
        }
      ]
    },
    {
      "cell_type": "markdown",
      "source": [
        "## **Loading a model**"
      ],
      "metadata": {
        "id": "knRFtc7qYxzG"
      }
    },
    {
      "cell_type": "markdown",
      "source": [
        "We can load a saved model using the load_model() method.\n",
        "\n",
        "Loading a model for the different formats (SavedModel and HDF5) is the same (as long as the pathnames to the particular formats are correct)."
      ],
      "metadata": {
        "id": "vYo5ZdnFYx7c"
      }
    },
    {
      "cell_type": "code",
      "source": [
        "# Load a model from the SavedModel format\n",
        "loaded_saved_model = tf.keras.models.load_model(\"best_model_SavedModel_format\")\n",
        "loaded_saved_model.summary()"
      ],
      "metadata": {
        "colab": {
          "base_uri": "https://localhost:8080/"
        },
        "id": "7RJOyeFrYx-r",
        "outputId": "9e4e3d78-0d4e-4349-fe8f-ad2f41f94f8a"
      },
      "execution_count": null,
      "outputs": [
        {
          "output_type": "stream",
          "name": "stdout",
          "text": [
            "Model: \"sequential_25\"\n",
            "_________________________________________________________________\n",
            " Layer (type)                Output Shape              Param #   \n",
            "=================================================================\n",
            " dense_35 (Dense)            (None, 1)                 2         \n",
            "                                                                 \n",
            "=================================================================\n",
            "Total params: 2 (8.00 Byte)\n",
            "Trainable params: 2 (8.00 Byte)\n",
            "Non-trainable params: 0 (0.00 Byte)\n",
            "_________________________________________________________________\n"
          ]
        }
      ]
    },
    {
      "cell_type": "code",
      "source": [
        "model_2_preds = model_2.predict(X_test)"
      ],
      "metadata": {
        "colab": {
          "base_uri": "https://localhost:8080/"
        },
        "id": "TySOCl_7YN-z",
        "outputId": "8c15dca7-50e9-44c3-e778-ae7cebc50082"
      },
      "execution_count": null,
      "outputs": [
        {
          "output_type": "stream",
          "name": "stdout",
          "text": [
            "1/1 [==============================] - 0s 36ms/step\n"
          ]
        }
      ]
    },
    {
      "cell_type": "code",
      "source": [
        "# Compare model_1 with the SavedModel version (should return True)\n",
        "model_1_preds = model_1.predict(X_test)\n",
        "saved_model_preds = loaded_saved_model.predict(X_test)\n",
        "mae(Y_test, saved_model_preds.squeeze()).numpy() == mae(Y_test, model_1_preds.squeeze()).numpy()\n"
      ],
      "metadata": {
        "colab": {
          "base_uri": "https://localhost:8080/"
        },
        "id": "oCUCiv9BZ0y_",
        "outputId": "670dde98-354d-45c0-8afe-a09d8ae94d71"
      },
      "execution_count": null,
      "outputs": [
        {
          "output_type": "stream",
          "name": "stdout",
          "text": [
            "1/1 [==============================] - 0s 27ms/step\n",
            "1/1 [==============================] - 0s 45ms/step\n"
          ]
        },
        {
          "output_type": "execute_result",
          "data": {
            "text/plain": [
              "True"
            ]
          },
          "metadata": {},
          "execution_count": 229
        }
      ]
    },
    {
      "cell_type": "markdown",
      "source": [
        "Loading in from the HDF5 is much the same."
      ],
      "metadata": {
        "id": "YJGeMt4tafBW"
      }
    },
    {
      "cell_type": "code",
      "source": [
        "# Load a model from the HDF5 format\n",
        "loaded_h5_model = tf.keras.models.load_model(\"best_model_HDF5_format.h5\")\n",
        "loaded_h5_model.summary()\n"
      ],
      "metadata": {
        "colab": {
          "base_uri": "https://localhost:8080/"
        },
        "id": "ahvbZk01ai8f",
        "outputId": "0a91987c-5d76-4c30-e9ae-3f3342026ee7"
      },
      "execution_count": null,
      "outputs": [
        {
          "output_type": "stream",
          "name": "stdout",
          "text": [
            "Model: \"sequential_25\"\n",
            "_________________________________________________________________\n",
            " Layer (type)                Output Shape              Param #   \n",
            "=================================================================\n",
            " dense_35 (Dense)            (None, 1)                 2         \n",
            "                                                                 \n",
            "=================================================================\n",
            "Total params: 2 (8.00 Byte)\n",
            "Trainable params: 2 (8.00 Byte)\n",
            "Non-trainable params: 0 (0.00 Byte)\n",
            "_________________________________________________________________\n"
          ]
        }
      ]
    },
    {
      "cell_type": "code",
      "source": [
        "# Compare model_2 with the loaded HDF5 version (should return True)\n",
        "h5_model_preds = loaded_h5_model.predict(X_test)\n",
        "mae(Y_test, h5_model_preds.squeeze()).numpy() == mae(Y_test, model_1_preds.squeeze()).numpy()"
      ],
      "metadata": {
        "colab": {
          "base_uri": "https://localhost:8080/"
        },
        "id": "SNExwBcwajJl",
        "outputId": "ba27debe-8e46-4fbd-f78f-0b4bea38201a"
      },
      "execution_count": null,
      "outputs": [
        {
          "output_type": "stream",
          "name": "stdout",
          "text": [
            "1/1 [==============================] - 0s 45ms/step\n"
          ]
        },
        {
          "output_type": "execute_result",
          "data": {
            "text/plain": [
              "True"
            ]
          },
          "metadata": {},
          "execution_count": 231
        }
      ]
    },
    {
      "cell_type": "markdown",
      "source": [
        "# **Downloading a model (from Google Colab)**\n",
        "\n",
        "Say you wanted to get your model from Google Colab to your local machine, you can do one of the following things:\n",
        "\n",
        "* Right click on the file in the files pane and click 'download'.\n",
        "\n",
        "* Use the code below."
      ],
      "metadata": {
        "id": "jeVdA0AbbGZm"
      }
    },
    {
      "cell_type": "code",
      "source": [
        "# Download the model (or any file) from Google Colab\n",
        "from google.colab import files\n",
        "files.download(\"best_model_HDF5_format.h5\")"
      ],
      "metadata": {
        "colab": {
          "base_uri": "https://localhost:8080/",
          "height": 17
        },
        "id": "69-3MCebbSra",
        "outputId": "be85684d-0c3c-410d-d796-ad92519eb8b1"
      },
      "execution_count": null,
      "outputs": [
        {
          "output_type": "display_data",
          "data": {
            "text/plain": [
              "<IPython.core.display.Javascript object>"
            ],
            "application/javascript": [
              "\n",
              "    async function download(id, filename, size) {\n",
              "      if (!google.colab.kernel.accessAllowed) {\n",
              "        return;\n",
              "      }\n",
              "      const div = document.createElement('div');\n",
              "      const label = document.createElement('label');\n",
              "      label.textContent = `Downloading \"${filename}\": `;\n",
              "      div.appendChild(label);\n",
              "      const progress = document.createElement('progress');\n",
              "      progress.max = size;\n",
              "      div.appendChild(progress);\n",
              "      document.body.appendChild(div);\n",
              "\n",
              "      const buffers = [];\n",
              "      let downloaded = 0;\n",
              "\n",
              "      const channel = await google.colab.kernel.comms.open(id);\n",
              "      // Send a message to notify the kernel that we're ready.\n",
              "      channel.send({})\n",
              "\n",
              "      for await (const message of channel.messages) {\n",
              "        // Send a message to notify the kernel that we're ready.\n",
              "        channel.send({})\n",
              "        if (message.buffers) {\n",
              "          for (const buffer of message.buffers) {\n",
              "            buffers.push(buffer);\n",
              "            downloaded += buffer.byteLength;\n",
              "            progress.value = downloaded;\n",
              "          }\n",
              "        }\n",
              "      }\n",
              "      const blob = new Blob(buffers, {type: 'application/binary'});\n",
              "      const a = document.createElement('a');\n",
              "      a.href = window.URL.createObjectURL(blob);\n",
              "      a.download = filename;\n",
              "      div.appendChild(a);\n",
              "      a.click();\n",
              "      div.remove();\n",
              "    }\n",
              "  "
            ]
          },
          "metadata": {}
        },
        {
          "output_type": "display_data",
          "data": {
            "text/plain": [
              "<IPython.core.display.Javascript object>"
            ],
            "application/javascript": [
              "download(\"download_9330685b-8972-4413-a145-32fb93fcca01\", \"best_model_HDF5_format.h5\", 17600)"
            ]
          },
          "metadata": {}
        }
      ]
    },
    {
      "cell_type": "markdown",
      "source": [
        "# **A larger example**\n",
        "\n",
        "Alright, we've seen the fundamentals of building neural network regression models in TensorFlow.\n",
        "\n",
        "Let's step it up a notch and build a model for a more feature rich dataset.\n",
        "\n",
        "More specifically we're going to try predict the cost of medical insurance for individuals based on a number of different parameters such as, age, sex, bmi, children, smoking_status and residential_region.\n",
        "\n",
        "To do, we'll leverage the pubically available Medical Cost dataset available from Kaggle and hosted on GitHub.\n",
        "\n",
        "🔑 Note: When learning machine learning paradigms, you'll often go through a series of foundational techniques and then practice them by working with open-source datasets and examples. Just as we're doing now, learn foundations, put them to work with different problems. Every time you work on something new, it's a good idea to search for something like \"problem X example with Python/TensorFlow\" where you substitute X for your problem."
      ],
      "metadata": {
        "id": "6qyWmnEsbW1Q"
      }
    },
    {
      "cell_type": "code",
      "source": [
        "# Import required libraries\n",
        "import tensorflow as tf\n",
        "import pandas as pd\n",
        "import matplotlib.pyplot as plt\n"
      ],
      "metadata": {
        "id": "R9e1rFDBbcZR"
      },
      "execution_count": null,
      "outputs": []
    },
    {
      "cell_type": "code",
      "source": [
        "# Read in the insurance dataset\n",
        "insurance = pd.read_csv(\"https://raw.githubusercontent.com/stedy/Machine-Learning-with-R-datasets/master/insurance.csv\")"
      ],
      "metadata": {
        "id": "1o5UZoH0bfHE"
      },
      "execution_count": null,
      "outputs": []
    },
    {
      "cell_type": "code",
      "source": [
        "# Check out the insurance dataset\n",
        "insurance.head()"
      ],
      "metadata": {
        "colab": {
          "base_uri": "https://localhost:8080/",
          "height": 206
        },
        "id": "Vn-NZs90bsv-",
        "outputId": "659b97f1-0894-4bc0-c0ac-90012f90707a"
      },
      "execution_count": null,
      "outputs": [
        {
          "output_type": "execute_result",
          "data": {
            "text/plain": [
              "   age     sex     bmi  children smoker     region      charges\n",
              "0   19  female  27.900         0    yes  southwest  16884.92400\n",
              "1   18    male  33.770         1     no  southeast   1725.55230\n",
              "2   28    male  33.000         3     no  southeast   4449.46200\n",
              "3   33    male  22.705         0     no  northwest  21984.47061\n",
              "4   32    male  28.880         0     no  northwest   3866.85520"
            ],
            "text/html": [
              "\n",
              "  <div id=\"df-b9df82a3-6ac0-4e93-8d4a-7b3db97807ad\" class=\"colab-df-container\">\n",
              "    <div>\n",
              "<style scoped>\n",
              "    .dataframe tbody tr th:only-of-type {\n",
              "        vertical-align: middle;\n",
              "    }\n",
              "\n",
              "    .dataframe tbody tr th {\n",
              "        vertical-align: top;\n",
              "    }\n",
              "\n",
              "    .dataframe thead th {\n",
              "        text-align: right;\n",
              "    }\n",
              "</style>\n",
              "<table border=\"1\" class=\"dataframe\">\n",
              "  <thead>\n",
              "    <tr style=\"text-align: right;\">\n",
              "      <th></th>\n",
              "      <th>age</th>\n",
              "      <th>sex</th>\n",
              "      <th>bmi</th>\n",
              "      <th>children</th>\n",
              "      <th>smoker</th>\n",
              "      <th>region</th>\n",
              "      <th>charges</th>\n",
              "    </tr>\n",
              "  </thead>\n",
              "  <tbody>\n",
              "    <tr>\n",
              "      <th>0</th>\n",
              "      <td>19</td>\n",
              "      <td>female</td>\n",
              "      <td>27.900</td>\n",
              "      <td>0</td>\n",
              "      <td>yes</td>\n",
              "      <td>southwest</td>\n",
              "      <td>16884.92400</td>\n",
              "    </tr>\n",
              "    <tr>\n",
              "      <th>1</th>\n",
              "      <td>18</td>\n",
              "      <td>male</td>\n",
              "      <td>33.770</td>\n",
              "      <td>1</td>\n",
              "      <td>no</td>\n",
              "      <td>southeast</td>\n",
              "      <td>1725.55230</td>\n",
              "    </tr>\n",
              "    <tr>\n",
              "      <th>2</th>\n",
              "      <td>28</td>\n",
              "      <td>male</td>\n",
              "      <td>33.000</td>\n",
              "      <td>3</td>\n",
              "      <td>no</td>\n",
              "      <td>southeast</td>\n",
              "      <td>4449.46200</td>\n",
              "    </tr>\n",
              "    <tr>\n",
              "      <th>3</th>\n",
              "      <td>33</td>\n",
              "      <td>male</td>\n",
              "      <td>22.705</td>\n",
              "      <td>0</td>\n",
              "      <td>no</td>\n",
              "      <td>northwest</td>\n",
              "      <td>21984.47061</td>\n",
              "    </tr>\n",
              "    <tr>\n",
              "      <th>4</th>\n",
              "      <td>32</td>\n",
              "      <td>male</td>\n",
              "      <td>28.880</td>\n",
              "      <td>0</td>\n",
              "      <td>no</td>\n",
              "      <td>northwest</td>\n",
              "      <td>3866.85520</td>\n",
              "    </tr>\n",
              "  </tbody>\n",
              "</table>\n",
              "</div>\n",
              "    <div class=\"colab-df-buttons\">\n",
              "\n",
              "  <div class=\"colab-df-container\">\n",
              "    <button class=\"colab-df-convert\" onclick=\"convertToInteractive('df-b9df82a3-6ac0-4e93-8d4a-7b3db97807ad')\"\n",
              "            title=\"Convert this dataframe to an interactive table.\"\n",
              "            style=\"display:none;\">\n",
              "\n",
              "  <svg xmlns=\"http://www.w3.org/2000/svg\" height=\"24px\" viewBox=\"0 -960 960 960\">\n",
              "    <path d=\"M120-120v-720h720v720H120Zm60-500h600v-160H180v160Zm220 220h160v-160H400v160Zm0 220h160v-160H400v160ZM180-400h160v-160H180v160Zm440 0h160v-160H620v160ZM180-180h160v-160H180v160Zm440 0h160v-160H620v160Z\"/>\n",
              "  </svg>\n",
              "    </button>\n",
              "\n",
              "  <style>\n",
              "    .colab-df-container {\n",
              "      display:flex;\n",
              "      gap: 12px;\n",
              "    }\n",
              "\n",
              "    .colab-df-convert {\n",
              "      background-color: #E8F0FE;\n",
              "      border: none;\n",
              "      border-radius: 50%;\n",
              "      cursor: pointer;\n",
              "      display: none;\n",
              "      fill: #1967D2;\n",
              "      height: 32px;\n",
              "      padding: 0 0 0 0;\n",
              "      width: 32px;\n",
              "    }\n",
              "\n",
              "    .colab-df-convert:hover {\n",
              "      background-color: #E2EBFA;\n",
              "      box-shadow: 0px 1px 2px rgba(60, 64, 67, 0.3), 0px 1px 3px 1px rgba(60, 64, 67, 0.15);\n",
              "      fill: #174EA6;\n",
              "    }\n",
              "\n",
              "    .colab-df-buttons div {\n",
              "      margin-bottom: 4px;\n",
              "    }\n",
              "\n",
              "    [theme=dark] .colab-df-convert {\n",
              "      background-color: #3B4455;\n",
              "      fill: #D2E3FC;\n",
              "    }\n",
              "\n",
              "    [theme=dark] .colab-df-convert:hover {\n",
              "      background-color: #434B5C;\n",
              "      box-shadow: 0px 1px 3px 1px rgba(0, 0, 0, 0.15);\n",
              "      filter: drop-shadow(0px 1px 2px rgba(0, 0, 0, 0.3));\n",
              "      fill: #FFFFFF;\n",
              "    }\n",
              "  </style>\n",
              "\n",
              "    <script>\n",
              "      const buttonEl =\n",
              "        document.querySelector('#df-b9df82a3-6ac0-4e93-8d4a-7b3db97807ad button.colab-df-convert');\n",
              "      buttonEl.style.display =\n",
              "        google.colab.kernel.accessAllowed ? 'block' : 'none';\n",
              "\n",
              "      async function convertToInteractive(key) {\n",
              "        const element = document.querySelector('#df-b9df82a3-6ac0-4e93-8d4a-7b3db97807ad');\n",
              "        const dataTable =\n",
              "          await google.colab.kernel.invokeFunction('convertToInteractive',\n",
              "                                                    [key], {});\n",
              "        if (!dataTable) return;\n",
              "\n",
              "        const docLinkHtml = 'Like what you see? Visit the ' +\n",
              "          '<a target=\"_blank\" href=https://colab.research.google.com/notebooks/data_table.ipynb>data table notebook</a>'\n",
              "          + ' to learn more about interactive tables.';\n",
              "        element.innerHTML = '';\n",
              "        dataTable['output_type'] = 'display_data';\n",
              "        await google.colab.output.renderOutput(dataTable, element);\n",
              "        const docLink = document.createElement('div');\n",
              "        docLink.innerHTML = docLinkHtml;\n",
              "        element.appendChild(docLink);\n",
              "      }\n",
              "    </script>\n",
              "  </div>\n",
              "\n",
              "\n",
              "<div id=\"df-e6b0b006-d1d3-44f8-b8f8-80fbe3872dc7\">\n",
              "  <button class=\"colab-df-quickchart\" onclick=\"quickchart('df-e6b0b006-d1d3-44f8-b8f8-80fbe3872dc7')\"\n",
              "            title=\"Suggest charts.\"\n",
              "            style=\"display:none;\">\n",
              "\n",
              "<svg xmlns=\"http://www.w3.org/2000/svg\" height=\"24px\"viewBox=\"0 0 24 24\"\n",
              "     width=\"24px\">\n",
              "    <g>\n",
              "        <path d=\"M19 3H5c-1.1 0-2 .9-2 2v14c0 1.1.9 2 2 2h14c1.1 0 2-.9 2-2V5c0-1.1-.9-2-2-2zM9 17H7v-7h2v7zm4 0h-2V7h2v10zm4 0h-2v-4h2v4z\"/>\n",
              "    </g>\n",
              "</svg>\n",
              "  </button>\n",
              "\n",
              "<style>\n",
              "  .colab-df-quickchart {\n",
              "      --bg-color: #E8F0FE;\n",
              "      --fill-color: #1967D2;\n",
              "      --hover-bg-color: #E2EBFA;\n",
              "      --hover-fill-color: #174EA6;\n",
              "      --disabled-fill-color: #AAA;\n",
              "      --disabled-bg-color: #DDD;\n",
              "  }\n",
              "\n",
              "  [theme=dark] .colab-df-quickchart {\n",
              "      --bg-color: #3B4455;\n",
              "      --fill-color: #D2E3FC;\n",
              "      --hover-bg-color: #434B5C;\n",
              "      --hover-fill-color: #FFFFFF;\n",
              "      --disabled-bg-color: #3B4455;\n",
              "      --disabled-fill-color: #666;\n",
              "  }\n",
              "\n",
              "  .colab-df-quickchart {\n",
              "    background-color: var(--bg-color);\n",
              "    border: none;\n",
              "    border-radius: 50%;\n",
              "    cursor: pointer;\n",
              "    display: none;\n",
              "    fill: var(--fill-color);\n",
              "    height: 32px;\n",
              "    padding: 0;\n",
              "    width: 32px;\n",
              "  }\n",
              "\n",
              "  .colab-df-quickchart:hover {\n",
              "    background-color: var(--hover-bg-color);\n",
              "    box-shadow: 0 1px 2px rgba(60, 64, 67, 0.3), 0 1px 3px 1px rgba(60, 64, 67, 0.15);\n",
              "    fill: var(--button-hover-fill-color);\n",
              "  }\n",
              "\n",
              "  .colab-df-quickchart-complete:disabled,\n",
              "  .colab-df-quickchart-complete:disabled:hover {\n",
              "    background-color: var(--disabled-bg-color);\n",
              "    fill: var(--disabled-fill-color);\n",
              "    box-shadow: none;\n",
              "  }\n",
              "\n",
              "  .colab-df-spinner {\n",
              "    border: 2px solid var(--fill-color);\n",
              "    border-color: transparent;\n",
              "    border-bottom-color: var(--fill-color);\n",
              "    animation:\n",
              "      spin 1s steps(1) infinite;\n",
              "  }\n",
              "\n",
              "  @keyframes spin {\n",
              "    0% {\n",
              "      border-color: transparent;\n",
              "      border-bottom-color: var(--fill-color);\n",
              "      border-left-color: var(--fill-color);\n",
              "    }\n",
              "    20% {\n",
              "      border-color: transparent;\n",
              "      border-left-color: var(--fill-color);\n",
              "      border-top-color: var(--fill-color);\n",
              "    }\n",
              "    30% {\n",
              "      border-color: transparent;\n",
              "      border-left-color: var(--fill-color);\n",
              "      border-top-color: var(--fill-color);\n",
              "      border-right-color: var(--fill-color);\n",
              "    }\n",
              "    40% {\n",
              "      border-color: transparent;\n",
              "      border-right-color: var(--fill-color);\n",
              "      border-top-color: var(--fill-color);\n",
              "    }\n",
              "    60% {\n",
              "      border-color: transparent;\n",
              "      border-right-color: var(--fill-color);\n",
              "    }\n",
              "    80% {\n",
              "      border-color: transparent;\n",
              "      border-right-color: var(--fill-color);\n",
              "      border-bottom-color: var(--fill-color);\n",
              "    }\n",
              "    90% {\n",
              "      border-color: transparent;\n",
              "      border-bottom-color: var(--fill-color);\n",
              "    }\n",
              "  }\n",
              "</style>\n",
              "\n",
              "  <script>\n",
              "    async function quickchart(key) {\n",
              "      const quickchartButtonEl =\n",
              "        document.querySelector('#' + key + ' button');\n",
              "      quickchartButtonEl.disabled = true;  // To prevent multiple clicks.\n",
              "      quickchartButtonEl.classList.add('colab-df-spinner');\n",
              "      try {\n",
              "        const charts = await google.colab.kernel.invokeFunction(\n",
              "            'suggestCharts', [key], {});\n",
              "      } catch (error) {\n",
              "        console.error('Error during call to suggestCharts:', error);\n",
              "      }\n",
              "      quickchartButtonEl.classList.remove('colab-df-spinner');\n",
              "      quickchartButtonEl.classList.add('colab-df-quickchart-complete');\n",
              "    }\n",
              "    (() => {\n",
              "      let quickchartButtonEl =\n",
              "        document.querySelector('#df-e6b0b006-d1d3-44f8-b8f8-80fbe3872dc7 button');\n",
              "      quickchartButtonEl.style.display =\n",
              "        google.colab.kernel.accessAllowed ? 'block' : 'none';\n",
              "    })();\n",
              "  </script>\n",
              "</div>\n",
              "    </div>\n",
              "  </div>\n"
            ]
          },
          "metadata": {},
          "execution_count": 235
        }
      ]
    },
    {
      "cell_type": "markdown",
      "source": [
        "We're going to have to turn the non-numerical columns into numbers (because a neural network can't handle non-numerical inputs).\n",
        "\n",
        "To do so, we'll use the get_dummies() method in pandas.\n",
        "\n",
        "It converts categorical variables (like the sex, smoker and region columns) into numerical variables using one-hot encoding."
      ],
      "metadata": {
        "id": "AuPOVNsMbyJq"
      }
    },
    {
      "cell_type": "code",
      "source": [
        "# Turn all categories into numbers\n",
        "insurance_one_hot = pd.get_dummies(insurance)\n",
        "insurance_one_hot.head() # view the converted columns"
      ],
      "metadata": {
        "colab": {
          "base_uri": "https://localhost:8080/",
          "height": 226
        },
        "id": "uvE9AEVpbzng",
        "outputId": "fc5ff279-753e-432b-8bc0-70907ada0088"
      },
      "execution_count": null,
      "outputs": [
        {
          "output_type": "execute_result",
          "data": {
            "text/plain": [
              "   age     bmi  children      charges  sex_female  sex_male  smoker_no  \\\n",
              "0   19  27.900         0  16884.92400           1         0          0   \n",
              "1   18  33.770         1   1725.55230           0         1          1   \n",
              "2   28  33.000         3   4449.46200           0         1          1   \n",
              "3   33  22.705         0  21984.47061           0         1          1   \n",
              "4   32  28.880         0   3866.85520           0         1          1   \n",
              "\n",
              "   smoker_yes  region_northeast  region_northwest  region_southeast  \\\n",
              "0           1                 0                 0                 0   \n",
              "1           0                 0                 0                 1   \n",
              "2           0                 0                 0                 1   \n",
              "3           0                 0                 1                 0   \n",
              "4           0                 0                 1                 0   \n",
              "\n",
              "   region_southwest  \n",
              "0                 1  \n",
              "1                 0  \n",
              "2                 0  \n",
              "3                 0  \n",
              "4                 0  "
            ],
            "text/html": [
              "\n",
              "  <div id=\"df-7a55827c-4e57-4ac5-9398-cc7a0b18e381\" class=\"colab-df-container\">\n",
              "    <div>\n",
              "<style scoped>\n",
              "    .dataframe tbody tr th:only-of-type {\n",
              "        vertical-align: middle;\n",
              "    }\n",
              "\n",
              "    .dataframe tbody tr th {\n",
              "        vertical-align: top;\n",
              "    }\n",
              "\n",
              "    .dataframe thead th {\n",
              "        text-align: right;\n",
              "    }\n",
              "</style>\n",
              "<table border=\"1\" class=\"dataframe\">\n",
              "  <thead>\n",
              "    <tr style=\"text-align: right;\">\n",
              "      <th></th>\n",
              "      <th>age</th>\n",
              "      <th>bmi</th>\n",
              "      <th>children</th>\n",
              "      <th>charges</th>\n",
              "      <th>sex_female</th>\n",
              "      <th>sex_male</th>\n",
              "      <th>smoker_no</th>\n",
              "      <th>smoker_yes</th>\n",
              "      <th>region_northeast</th>\n",
              "      <th>region_northwest</th>\n",
              "      <th>region_southeast</th>\n",
              "      <th>region_southwest</th>\n",
              "    </tr>\n",
              "  </thead>\n",
              "  <tbody>\n",
              "    <tr>\n",
              "      <th>0</th>\n",
              "      <td>19</td>\n",
              "      <td>27.900</td>\n",
              "      <td>0</td>\n",
              "      <td>16884.92400</td>\n",
              "      <td>1</td>\n",
              "      <td>0</td>\n",
              "      <td>0</td>\n",
              "      <td>1</td>\n",
              "      <td>0</td>\n",
              "      <td>0</td>\n",
              "      <td>0</td>\n",
              "      <td>1</td>\n",
              "    </tr>\n",
              "    <tr>\n",
              "      <th>1</th>\n",
              "      <td>18</td>\n",
              "      <td>33.770</td>\n",
              "      <td>1</td>\n",
              "      <td>1725.55230</td>\n",
              "      <td>0</td>\n",
              "      <td>1</td>\n",
              "      <td>1</td>\n",
              "      <td>0</td>\n",
              "      <td>0</td>\n",
              "      <td>0</td>\n",
              "      <td>1</td>\n",
              "      <td>0</td>\n",
              "    </tr>\n",
              "    <tr>\n",
              "      <th>2</th>\n",
              "      <td>28</td>\n",
              "      <td>33.000</td>\n",
              "      <td>3</td>\n",
              "      <td>4449.46200</td>\n",
              "      <td>0</td>\n",
              "      <td>1</td>\n",
              "      <td>1</td>\n",
              "      <td>0</td>\n",
              "      <td>0</td>\n",
              "      <td>0</td>\n",
              "      <td>1</td>\n",
              "      <td>0</td>\n",
              "    </tr>\n",
              "    <tr>\n",
              "      <th>3</th>\n",
              "      <td>33</td>\n",
              "      <td>22.705</td>\n",
              "      <td>0</td>\n",
              "      <td>21984.47061</td>\n",
              "      <td>0</td>\n",
              "      <td>1</td>\n",
              "      <td>1</td>\n",
              "      <td>0</td>\n",
              "      <td>0</td>\n",
              "      <td>1</td>\n",
              "      <td>0</td>\n",
              "      <td>0</td>\n",
              "    </tr>\n",
              "    <tr>\n",
              "      <th>4</th>\n",
              "      <td>32</td>\n",
              "      <td>28.880</td>\n",
              "      <td>0</td>\n",
              "      <td>3866.85520</td>\n",
              "      <td>0</td>\n",
              "      <td>1</td>\n",
              "      <td>1</td>\n",
              "      <td>0</td>\n",
              "      <td>0</td>\n",
              "      <td>1</td>\n",
              "      <td>0</td>\n",
              "      <td>0</td>\n",
              "    </tr>\n",
              "  </tbody>\n",
              "</table>\n",
              "</div>\n",
              "    <div class=\"colab-df-buttons\">\n",
              "\n",
              "  <div class=\"colab-df-container\">\n",
              "    <button class=\"colab-df-convert\" onclick=\"convertToInteractive('df-7a55827c-4e57-4ac5-9398-cc7a0b18e381')\"\n",
              "            title=\"Convert this dataframe to an interactive table.\"\n",
              "            style=\"display:none;\">\n",
              "\n",
              "  <svg xmlns=\"http://www.w3.org/2000/svg\" height=\"24px\" viewBox=\"0 -960 960 960\">\n",
              "    <path d=\"M120-120v-720h720v720H120Zm60-500h600v-160H180v160Zm220 220h160v-160H400v160Zm0 220h160v-160H400v160ZM180-400h160v-160H180v160Zm440 0h160v-160H620v160ZM180-180h160v-160H180v160Zm440 0h160v-160H620v160Z\"/>\n",
              "  </svg>\n",
              "    </button>\n",
              "\n",
              "  <style>\n",
              "    .colab-df-container {\n",
              "      display:flex;\n",
              "      gap: 12px;\n",
              "    }\n",
              "\n",
              "    .colab-df-convert {\n",
              "      background-color: #E8F0FE;\n",
              "      border: none;\n",
              "      border-radius: 50%;\n",
              "      cursor: pointer;\n",
              "      display: none;\n",
              "      fill: #1967D2;\n",
              "      height: 32px;\n",
              "      padding: 0 0 0 0;\n",
              "      width: 32px;\n",
              "    }\n",
              "\n",
              "    .colab-df-convert:hover {\n",
              "      background-color: #E2EBFA;\n",
              "      box-shadow: 0px 1px 2px rgba(60, 64, 67, 0.3), 0px 1px 3px 1px rgba(60, 64, 67, 0.15);\n",
              "      fill: #174EA6;\n",
              "    }\n",
              "\n",
              "    .colab-df-buttons div {\n",
              "      margin-bottom: 4px;\n",
              "    }\n",
              "\n",
              "    [theme=dark] .colab-df-convert {\n",
              "      background-color: #3B4455;\n",
              "      fill: #D2E3FC;\n",
              "    }\n",
              "\n",
              "    [theme=dark] .colab-df-convert:hover {\n",
              "      background-color: #434B5C;\n",
              "      box-shadow: 0px 1px 3px 1px rgba(0, 0, 0, 0.15);\n",
              "      filter: drop-shadow(0px 1px 2px rgba(0, 0, 0, 0.3));\n",
              "      fill: #FFFFFF;\n",
              "    }\n",
              "  </style>\n",
              "\n",
              "    <script>\n",
              "      const buttonEl =\n",
              "        document.querySelector('#df-7a55827c-4e57-4ac5-9398-cc7a0b18e381 button.colab-df-convert');\n",
              "      buttonEl.style.display =\n",
              "        google.colab.kernel.accessAllowed ? 'block' : 'none';\n",
              "\n",
              "      async function convertToInteractive(key) {\n",
              "        const element = document.querySelector('#df-7a55827c-4e57-4ac5-9398-cc7a0b18e381');\n",
              "        const dataTable =\n",
              "          await google.colab.kernel.invokeFunction('convertToInteractive',\n",
              "                                                    [key], {});\n",
              "        if (!dataTable) return;\n",
              "\n",
              "        const docLinkHtml = 'Like what you see? Visit the ' +\n",
              "          '<a target=\"_blank\" href=https://colab.research.google.com/notebooks/data_table.ipynb>data table notebook</a>'\n",
              "          + ' to learn more about interactive tables.';\n",
              "        element.innerHTML = '';\n",
              "        dataTable['output_type'] = 'display_data';\n",
              "        await google.colab.output.renderOutput(dataTable, element);\n",
              "        const docLink = document.createElement('div');\n",
              "        docLink.innerHTML = docLinkHtml;\n",
              "        element.appendChild(docLink);\n",
              "      }\n",
              "    </script>\n",
              "  </div>\n",
              "\n",
              "\n",
              "<div id=\"df-35e8c323-3b39-49c9-b16e-e5ac1440b904\">\n",
              "  <button class=\"colab-df-quickchart\" onclick=\"quickchart('df-35e8c323-3b39-49c9-b16e-e5ac1440b904')\"\n",
              "            title=\"Suggest charts.\"\n",
              "            style=\"display:none;\">\n",
              "\n",
              "<svg xmlns=\"http://www.w3.org/2000/svg\" height=\"24px\"viewBox=\"0 0 24 24\"\n",
              "     width=\"24px\">\n",
              "    <g>\n",
              "        <path d=\"M19 3H5c-1.1 0-2 .9-2 2v14c0 1.1.9 2 2 2h14c1.1 0 2-.9 2-2V5c0-1.1-.9-2-2-2zM9 17H7v-7h2v7zm4 0h-2V7h2v10zm4 0h-2v-4h2v4z\"/>\n",
              "    </g>\n",
              "</svg>\n",
              "  </button>\n",
              "\n",
              "<style>\n",
              "  .colab-df-quickchart {\n",
              "      --bg-color: #E8F0FE;\n",
              "      --fill-color: #1967D2;\n",
              "      --hover-bg-color: #E2EBFA;\n",
              "      --hover-fill-color: #174EA6;\n",
              "      --disabled-fill-color: #AAA;\n",
              "      --disabled-bg-color: #DDD;\n",
              "  }\n",
              "\n",
              "  [theme=dark] .colab-df-quickchart {\n",
              "      --bg-color: #3B4455;\n",
              "      --fill-color: #D2E3FC;\n",
              "      --hover-bg-color: #434B5C;\n",
              "      --hover-fill-color: #FFFFFF;\n",
              "      --disabled-bg-color: #3B4455;\n",
              "      --disabled-fill-color: #666;\n",
              "  }\n",
              "\n",
              "  .colab-df-quickchart {\n",
              "    background-color: var(--bg-color);\n",
              "    border: none;\n",
              "    border-radius: 50%;\n",
              "    cursor: pointer;\n",
              "    display: none;\n",
              "    fill: var(--fill-color);\n",
              "    height: 32px;\n",
              "    padding: 0;\n",
              "    width: 32px;\n",
              "  }\n",
              "\n",
              "  .colab-df-quickchart:hover {\n",
              "    background-color: var(--hover-bg-color);\n",
              "    box-shadow: 0 1px 2px rgba(60, 64, 67, 0.3), 0 1px 3px 1px rgba(60, 64, 67, 0.15);\n",
              "    fill: var(--button-hover-fill-color);\n",
              "  }\n",
              "\n",
              "  .colab-df-quickchart-complete:disabled,\n",
              "  .colab-df-quickchart-complete:disabled:hover {\n",
              "    background-color: var(--disabled-bg-color);\n",
              "    fill: var(--disabled-fill-color);\n",
              "    box-shadow: none;\n",
              "  }\n",
              "\n",
              "  .colab-df-spinner {\n",
              "    border: 2px solid var(--fill-color);\n",
              "    border-color: transparent;\n",
              "    border-bottom-color: var(--fill-color);\n",
              "    animation:\n",
              "      spin 1s steps(1) infinite;\n",
              "  }\n",
              "\n",
              "  @keyframes spin {\n",
              "    0% {\n",
              "      border-color: transparent;\n",
              "      border-bottom-color: var(--fill-color);\n",
              "      border-left-color: var(--fill-color);\n",
              "    }\n",
              "    20% {\n",
              "      border-color: transparent;\n",
              "      border-left-color: var(--fill-color);\n",
              "      border-top-color: var(--fill-color);\n",
              "    }\n",
              "    30% {\n",
              "      border-color: transparent;\n",
              "      border-left-color: var(--fill-color);\n",
              "      border-top-color: var(--fill-color);\n",
              "      border-right-color: var(--fill-color);\n",
              "    }\n",
              "    40% {\n",
              "      border-color: transparent;\n",
              "      border-right-color: var(--fill-color);\n",
              "      border-top-color: var(--fill-color);\n",
              "    }\n",
              "    60% {\n",
              "      border-color: transparent;\n",
              "      border-right-color: var(--fill-color);\n",
              "    }\n",
              "    80% {\n",
              "      border-color: transparent;\n",
              "      border-right-color: var(--fill-color);\n",
              "      border-bottom-color: var(--fill-color);\n",
              "    }\n",
              "    90% {\n",
              "      border-color: transparent;\n",
              "      border-bottom-color: var(--fill-color);\n",
              "    }\n",
              "  }\n",
              "</style>\n",
              "\n",
              "  <script>\n",
              "    async function quickchart(key) {\n",
              "      const quickchartButtonEl =\n",
              "        document.querySelector('#' + key + ' button');\n",
              "      quickchartButtonEl.disabled = true;  // To prevent multiple clicks.\n",
              "      quickchartButtonEl.classList.add('colab-df-spinner');\n",
              "      try {\n",
              "        const charts = await google.colab.kernel.invokeFunction(\n",
              "            'suggestCharts', [key], {});\n",
              "      } catch (error) {\n",
              "        console.error('Error during call to suggestCharts:', error);\n",
              "      }\n",
              "      quickchartButtonEl.classList.remove('colab-df-spinner');\n",
              "      quickchartButtonEl.classList.add('colab-df-quickchart-complete');\n",
              "    }\n",
              "    (() => {\n",
              "      let quickchartButtonEl =\n",
              "        document.querySelector('#df-35e8c323-3b39-49c9-b16e-e5ac1440b904 button');\n",
              "      quickchartButtonEl.style.display =\n",
              "        google.colab.kernel.accessAllowed ? 'block' : 'none';\n",
              "    })();\n",
              "  </script>\n",
              "</div>\n",
              "    </div>\n",
              "  </div>\n"
            ]
          },
          "metadata": {},
          "execution_count": 236
        }
      ]
    },
    {
      "cell_type": "markdown",
      "source": [
        "Now we'll split data into features (X) and labels (y)."
      ],
      "metadata": {
        "id": "Qw0RgSmzb3-b"
      }
    },
    {
      "cell_type": "code",
      "source": [
        "# Create X & y values\n",
        "X = insurance_one_hot.drop(\"charges\", axis=1)\n",
        "y = insurance_one_hot[\"charges\"]"
      ],
      "metadata": {
        "id": "wwFVU2m-b42y"
      },
      "execution_count": null,
      "outputs": []
    },
    {
      "cell_type": "code",
      "source": [
        "# View features\n",
        "X.head()"
      ],
      "metadata": {
        "colab": {
          "base_uri": "https://localhost:8080/",
          "height": 226
        },
        "id": "rXrbsN5Rb-1e",
        "outputId": "c57767c3-3bdb-44d3-8d15-fedf3e82ffb9"
      },
      "execution_count": null,
      "outputs": [
        {
          "output_type": "execute_result",
          "data": {
            "text/plain": [
              "   age     bmi  children  sex_female  sex_male  smoker_no  smoker_yes  \\\n",
              "0   19  27.900         0           1         0          0           1   \n",
              "1   18  33.770         1           0         1          1           0   \n",
              "2   28  33.000         3           0         1          1           0   \n",
              "3   33  22.705         0           0         1          1           0   \n",
              "4   32  28.880         0           0         1          1           0   \n",
              "\n",
              "   region_northeast  region_northwest  region_southeast  region_southwest  \n",
              "0                 0                 0                 0                 1  \n",
              "1                 0                 0                 1                 0  \n",
              "2                 0                 0                 1                 0  \n",
              "3                 0                 1                 0                 0  \n",
              "4                 0                 1                 0                 0  "
            ],
            "text/html": [
              "\n",
              "  <div id=\"df-26b11cbb-d316-4afe-bb0b-138b4c7eaeaf\" class=\"colab-df-container\">\n",
              "    <div>\n",
              "<style scoped>\n",
              "    .dataframe tbody tr th:only-of-type {\n",
              "        vertical-align: middle;\n",
              "    }\n",
              "\n",
              "    .dataframe tbody tr th {\n",
              "        vertical-align: top;\n",
              "    }\n",
              "\n",
              "    .dataframe thead th {\n",
              "        text-align: right;\n",
              "    }\n",
              "</style>\n",
              "<table border=\"1\" class=\"dataframe\">\n",
              "  <thead>\n",
              "    <tr style=\"text-align: right;\">\n",
              "      <th></th>\n",
              "      <th>age</th>\n",
              "      <th>bmi</th>\n",
              "      <th>children</th>\n",
              "      <th>sex_female</th>\n",
              "      <th>sex_male</th>\n",
              "      <th>smoker_no</th>\n",
              "      <th>smoker_yes</th>\n",
              "      <th>region_northeast</th>\n",
              "      <th>region_northwest</th>\n",
              "      <th>region_southeast</th>\n",
              "      <th>region_southwest</th>\n",
              "    </tr>\n",
              "  </thead>\n",
              "  <tbody>\n",
              "    <tr>\n",
              "      <th>0</th>\n",
              "      <td>19</td>\n",
              "      <td>27.900</td>\n",
              "      <td>0</td>\n",
              "      <td>1</td>\n",
              "      <td>0</td>\n",
              "      <td>0</td>\n",
              "      <td>1</td>\n",
              "      <td>0</td>\n",
              "      <td>0</td>\n",
              "      <td>0</td>\n",
              "      <td>1</td>\n",
              "    </tr>\n",
              "    <tr>\n",
              "      <th>1</th>\n",
              "      <td>18</td>\n",
              "      <td>33.770</td>\n",
              "      <td>1</td>\n",
              "      <td>0</td>\n",
              "      <td>1</td>\n",
              "      <td>1</td>\n",
              "      <td>0</td>\n",
              "      <td>0</td>\n",
              "      <td>0</td>\n",
              "      <td>1</td>\n",
              "      <td>0</td>\n",
              "    </tr>\n",
              "    <tr>\n",
              "      <th>2</th>\n",
              "      <td>28</td>\n",
              "      <td>33.000</td>\n",
              "      <td>3</td>\n",
              "      <td>0</td>\n",
              "      <td>1</td>\n",
              "      <td>1</td>\n",
              "      <td>0</td>\n",
              "      <td>0</td>\n",
              "      <td>0</td>\n",
              "      <td>1</td>\n",
              "      <td>0</td>\n",
              "    </tr>\n",
              "    <tr>\n",
              "      <th>3</th>\n",
              "      <td>33</td>\n",
              "      <td>22.705</td>\n",
              "      <td>0</td>\n",
              "      <td>0</td>\n",
              "      <td>1</td>\n",
              "      <td>1</td>\n",
              "      <td>0</td>\n",
              "      <td>0</td>\n",
              "      <td>1</td>\n",
              "      <td>0</td>\n",
              "      <td>0</td>\n",
              "    </tr>\n",
              "    <tr>\n",
              "      <th>4</th>\n",
              "      <td>32</td>\n",
              "      <td>28.880</td>\n",
              "      <td>0</td>\n",
              "      <td>0</td>\n",
              "      <td>1</td>\n",
              "      <td>1</td>\n",
              "      <td>0</td>\n",
              "      <td>0</td>\n",
              "      <td>1</td>\n",
              "      <td>0</td>\n",
              "      <td>0</td>\n",
              "    </tr>\n",
              "  </tbody>\n",
              "</table>\n",
              "</div>\n",
              "    <div class=\"colab-df-buttons\">\n",
              "\n",
              "  <div class=\"colab-df-container\">\n",
              "    <button class=\"colab-df-convert\" onclick=\"convertToInteractive('df-26b11cbb-d316-4afe-bb0b-138b4c7eaeaf')\"\n",
              "            title=\"Convert this dataframe to an interactive table.\"\n",
              "            style=\"display:none;\">\n",
              "\n",
              "  <svg xmlns=\"http://www.w3.org/2000/svg\" height=\"24px\" viewBox=\"0 -960 960 960\">\n",
              "    <path d=\"M120-120v-720h720v720H120Zm60-500h600v-160H180v160Zm220 220h160v-160H400v160Zm0 220h160v-160H400v160ZM180-400h160v-160H180v160Zm440 0h160v-160H620v160ZM180-180h160v-160H180v160Zm440 0h160v-160H620v160Z\"/>\n",
              "  </svg>\n",
              "    </button>\n",
              "\n",
              "  <style>\n",
              "    .colab-df-container {\n",
              "      display:flex;\n",
              "      gap: 12px;\n",
              "    }\n",
              "\n",
              "    .colab-df-convert {\n",
              "      background-color: #E8F0FE;\n",
              "      border: none;\n",
              "      border-radius: 50%;\n",
              "      cursor: pointer;\n",
              "      display: none;\n",
              "      fill: #1967D2;\n",
              "      height: 32px;\n",
              "      padding: 0 0 0 0;\n",
              "      width: 32px;\n",
              "    }\n",
              "\n",
              "    .colab-df-convert:hover {\n",
              "      background-color: #E2EBFA;\n",
              "      box-shadow: 0px 1px 2px rgba(60, 64, 67, 0.3), 0px 1px 3px 1px rgba(60, 64, 67, 0.15);\n",
              "      fill: #174EA6;\n",
              "    }\n",
              "\n",
              "    .colab-df-buttons div {\n",
              "      margin-bottom: 4px;\n",
              "    }\n",
              "\n",
              "    [theme=dark] .colab-df-convert {\n",
              "      background-color: #3B4455;\n",
              "      fill: #D2E3FC;\n",
              "    }\n",
              "\n",
              "    [theme=dark] .colab-df-convert:hover {\n",
              "      background-color: #434B5C;\n",
              "      box-shadow: 0px 1px 3px 1px rgba(0, 0, 0, 0.15);\n",
              "      filter: drop-shadow(0px 1px 2px rgba(0, 0, 0, 0.3));\n",
              "      fill: #FFFFFF;\n",
              "    }\n",
              "  </style>\n",
              "\n",
              "    <script>\n",
              "      const buttonEl =\n",
              "        document.querySelector('#df-26b11cbb-d316-4afe-bb0b-138b4c7eaeaf button.colab-df-convert');\n",
              "      buttonEl.style.display =\n",
              "        google.colab.kernel.accessAllowed ? 'block' : 'none';\n",
              "\n",
              "      async function convertToInteractive(key) {\n",
              "        const element = document.querySelector('#df-26b11cbb-d316-4afe-bb0b-138b4c7eaeaf');\n",
              "        const dataTable =\n",
              "          await google.colab.kernel.invokeFunction('convertToInteractive',\n",
              "                                                    [key], {});\n",
              "        if (!dataTable) return;\n",
              "\n",
              "        const docLinkHtml = 'Like what you see? Visit the ' +\n",
              "          '<a target=\"_blank\" href=https://colab.research.google.com/notebooks/data_table.ipynb>data table notebook</a>'\n",
              "          + ' to learn more about interactive tables.';\n",
              "        element.innerHTML = '';\n",
              "        dataTable['output_type'] = 'display_data';\n",
              "        await google.colab.output.renderOutput(dataTable, element);\n",
              "        const docLink = document.createElement('div');\n",
              "        docLink.innerHTML = docLinkHtml;\n",
              "        element.appendChild(docLink);\n",
              "      }\n",
              "    </script>\n",
              "  </div>\n",
              "\n",
              "\n",
              "<div id=\"df-c8c9cf21-7ff5-4b10-ac38-740b38ce94cc\">\n",
              "  <button class=\"colab-df-quickchart\" onclick=\"quickchart('df-c8c9cf21-7ff5-4b10-ac38-740b38ce94cc')\"\n",
              "            title=\"Suggest charts.\"\n",
              "            style=\"display:none;\">\n",
              "\n",
              "<svg xmlns=\"http://www.w3.org/2000/svg\" height=\"24px\"viewBox=\"0 0 24 24\"\n",
              "     width=\"24px\">\n",
              "    <g>\n",
              "        <path d=\"M19 3H5c-1.1 0-2 .9-2 2v14c0 1.1.9 2 2 2h14c1.1 0 2-.9 2-2V5c0-1.1-.9-2-2-2zM9 17H7v-7h2v7zm4 0h-2V7h2v10zm4 0h-2v-4h2v4z\"/>\n",
              "    </g>\n",
              "</svg>\n",
              "  </button>\n",
              "\n",
              "<style>\n",
              "  .colab-df-quickchart {\n",
              "      --bg-color: #E8F0FE;\n",
              "      --fill-color: #1967D2;\n",
              "      --hover-bg-color: #E2EBFA;\n",
              "      --hover-fill-color: #174EA6;\n",
              "      --disabled-fill-color: #AAA;\n",
              "      --disabled-bg-color: #DDD;\n",
              "  }\n",
              "\n",
              "  [theme=dark] .colab-df-quickchart {\n",
              "      --bg-color: #3B4455;\n",
              "      --fill-color: #D2E3FC;\n",
              "      --hover-bg-color: #434B5C;\n",
              "      --hover-fill-color: #FFFFFF;\n",
              "      --disabled-bg-color: #3B4455;\n",
              "      --disabled-fill-color: #666;\n",
              "  }\n",
              "\n",
              "  .colab-df-quickchart {\n",
              "    background-color: var(--bg-color);\n",
              "    border: none;\n",
              "    border-radius: 50%;\n",
              "    cursor: pointer;\n",
              "    display: none;\n",
              "    fill: var(--fill-color);\n",
              "    height: 32px;\n",
              "    padding: 0;\n",
              "    width: 32px;\n",
              "  }\n",
              "\n",
              "  .colab-df-quickchart:hover {\n",
              "    background-color: var(--hover-bg-color);\n",
              "    box-shadow: 0 1px 2px rgba(60, 64, 67, 0.3), 0 1px 3px 1px rgba(60, 64, 67, 0.15);\n",
              "    fill: var(--button-hover-fill-color);\n",
              "  }\n",
              "\n",
              "  .colab-df-quickchart-complete:disabled,\n",
              "  .colab-df-quickchart-complete:disabled:hover {\n",
              "    background-color: var(--disabled-bg-color);\n",
              "    fill: var(--disabled-fill-color);\n",
              "    box-shadow: none;\n",
              "  }\n",
              "\n",
              "  .colab-df-spinner {\n",
              "    border: 2px solid var(--fill-color);\n",
              "    border-color: transparent;\n",
              "    border-bottom-color: var(--fill-color);\n",
              "    animation:\n",
              "      spin 1s steps(1) infinite;\n",
              "  }\n",
              "\n",
              "  @keyframes spin {\n",
              "    0% {\n",
              "      border-color: transparent;\n",
              "      border-bottom-color: var(--fill-color);\n",
              "      border-left-color: var(--fill-color);\n",
              "    }\n",
              "    20% {\n",
              "      border-color: transparent;\n",
              "      border-left-color: var(--fill-color);\n",
              "      border-top-color: var(--fill-color);\n",
              "    }\n",
              "    30% {\n",
              "      border-color: transparent;\n",
              "      border-left-color: var(--fill-color);\n",
              "      border-top-color: var(--fill-color);\n",
              "      border-right-color: var(--fill-color);\n",
              "    }\n",
              "    40% {\n",
              "      border-color: transparent;\n",
              "      border-right-color: var(--fill-color);\n",
              "      border-top-color: var(--fill-color);\n",
              "    }\n",
              "    60% {\n",
              "      border-color: transparent;\n",
              "      border-right-color: var(--fill-color);\n",
              "    }\n",
              "    80% {\n",
              "      border-color: transparent;\n",
              "      border-right-color: var(--fill-color);\n",
              "      border-bottom-color: var(--fill-color);\n",
              "    }\n",
              "    90% {\n",
              "      border-color: transparent;\n",
              "      border-bottom-color: var(--fill-color);\n",
              "    }\n",
              "  }\n",
              "</style>\n",
              "\n",
              "  <script>\n",
              "    async function quickchart(key) {\n",
              "      const quickchartButtonEl =\n",
              "        document.querySelector('#' + key + ' button');\n",
              "      quickchartButtonEl.disabled = true;  // To prevent multiple clicks.\n",
              "      quickchartButtonEl.classList.add('colab-df-spinner');\n",
              "      try {\n",
              "        const charts = await google.colab.kernel.invokeFunction(\n",
              "            'suggestCharts', [key], {});\n",
              "      } catch (error) {\n",
              "        console.error('Error during call to suggestCharts:', error);\n",
              "      }\n",
              "      quickchartButtonEl.classList.remove('colab-df-spinner');\n",
              "      quickchartButtonEl.classList.add('colab-df-quickchart-complete');\n",
              "    }\n",
              "    (() => {\n",
              "      let quickchartButtonEl =\n",
              "        document.querySelector('#df-c8c9cf21-7ff5-4b10-ac38-740b38ce94cc button');\n",
              "      quickchartButtonEl.style.display =\n",
              "        google.colab.kernel.accessAllowed ? 'block' : 'none';\n",
              "    })();\n",
              "  </script>\n",
              "</div>\n",
              "    </div>\n",
              "  </div>\n"
            ]
          },
          "metadata": {},
          "execution_count": 238
        }
      ]
    },
    {
      "cell_type": "markdown",
      "source": [
        "And create training and test sets. We could do this manually, but to make it easier, we'll leverage the already available train_test_split function available from Scikit-Learn."
      ],
      "metadata": {
        "id": "eR9Zk0UbcCtI"
      }
    },
    {
      "cell_type": "code",
      "source": [
        "# Create training and test sets\n",
        "from sklearn.model_selection import train_test_split\n",
        "X_train, X_test, y_train, y_test = train_test_split(X,\n",
        "                                                    y,\n",
        "                                                    test_size=0.2,\n",
        "                                                    random_state=42) # set random state for reproducible splits\n"
      ],
      "metadata": {
        "id": "_h9ZyWNOcDs2"
      },
      "execution_count": null,
      "outputs": []
    },
    {
      "cell_type": "markdown",
      "source": [
        "Now we can build and fit a model (we'll make it the same as model_1)."
      ],
      "metadata": {
        "id": "GsmnKlK3cJF5"
      }
    },
    {
      "cell_type": "code",
      "source": [
        "# Set random seed\n",
        "tf.random.set_seed(42)\n",
        "\n",
        "# Create a new model (same as model_1)\n",
        "insurance_model = tf.keras.Sequential([\n",
        "  tf.keras.layers.Dense(1)\n",
        "])\n",
        "\n",
        "# Compile the model\n",
        "insurance_model.compile(loss=tf.keras.losses.mae,\n",
        "                        optimizer=tf.keras.optimizers.SGD(),\n",
        "                        metrics=['mae'])\n",
        "\n",
        "# Fit the model\n",
        "insurance_model.fit(X_train, y_train, epochs=100)"
      ],
      "metadata": {
        "colab": {
          "base_uri": "https://localhost:8080/"
        },
        "id": "KrUqs3-jcMMY",
        "outputId": "0ff38765-213c-4f0f-f7ee-1b065b938224"
      },
      "execution_count": null,
      "outputs": [
        {
          "output_type": "stream",
          "name": "stdout",
          "text": [
            "Epoch 1/100\n",
            "34/34 [==============================] - 0s 2ms/step - loss: 12945.1729 - mae: 12945.1729\n",
            "Epoch 2/100\n",
            "34/34 [==============================] - 0s 2ms/step - loss: 12100.2939 - mae: 12100.2939\n",
            "Epoch 3/100\n",
            "34/34 [==============================] - 0s 1ms/step - loss: 11272.7275 - mae: 11272.7275\n",
            "Epoch 4/100\n",
            "34/34 [==============================] - 0s 1ms/step - loss: 10514.7568 - mae: 10514.7568\n",
            "Epoch 5/100\n",
            "34/34 [==============================] - 0s 2ms/step - loss: 9864.4727 - mae: 9864.4727\n",
            "Epoch 6/100\n",
            "34/34 [==============================] - 0s 2ms/step - loss: 9314.6230 - mae: 9314.6230\n",
            "Epoch 7/100\n",
            "34/34 [==============================] - 0s 1ms/step - loss: 8839.6865 - mae: 8839.6865\n",
            "Epoch 8/100\n",
            "34/34 [==============================] - 0s 2ms/step - loss: 8452.3350 - mae: 8452.3350\n",
            "Epoch 9/100\n",
            "34/34 [==============================] - 0s 1ms/step - loss: 8146.1665 - mae: 8146.1665\n",
            "Epoch 10/100\n",
            "34/34 [==============================] - 0s 2ms/step - loss: 7900.4121 - mae: 7900.4121\n",
            "Epoch 11/100\n",
            "34/34 [==============================] - 0s 1ms/step - loss: 7711.5459 - mae: 7711.5459\n",
            "Epoch 12/100\n",
            "34/34 [==============================] - 0s 2ms/step - loss: 7578.7725 - mae: 7578.7725\n",
            "Epoch 13/100\n",
            "34/34 [==============================] - 0s 1ms/step - loss: 7490.4443 - mae: 7490.4443\n",
            "Epoch 14/100\n",
            "34/34 [==============================] - 0s 2ms/step - loss: 7430.2510 - mae: 7430.2510\n",
            "Epoch 15/100\n",
            "34/34 [==============================] - 0s 2ms/step - loss: 7390.2329 - mae: 7390.2329\n",
            "Epoch 16/100\n",
            "34/34 [==============================] - 0s 2ms/step - loss: 7359.7725 - mae: 7359.7725\n",
            "Epoch 17/100\n",
            "34/34 [==============================] - 0s 2ms/step - loss: 7338.8423 - mae: 7338.8423\n",
            "Epoch 18/100\n",
            "34/34 [==============================] - 0s 1ms/step - loss: 7323.7832 - mae: 7323.7832\n",
            "Epoch 19/100\n",
            "34/34 [==============================] - 0s 1ms/step - loss: 7311.9307 - mae: 7311.9307\n",
            "Epoch 20/100\n",
            "34/34 [==============================] - 0s 2ms/step - loss: 7302.2065 - mae: 7302.2065\n",
            "Epoch 21/100\n",
            "34/34 [==============================] - 0s 1ms/step - loss: 7293.7354 - mae: 7293.7354\n",
            "Epoch 22/100\n",
            "34/34 [==============================] - 0s 2ms/step - loss: 7287.3291 - mae: 7287.3291\n",
            "Epoch 23/100\n",
            "34/34 [==============================] - 0s 1ms/step - loss: 7282.7554 - mae: 7282.7554\n",
            "Epoch 24/100\n",
            "34/34 [==============================] - 0s 1ms/step - loss: 7278.3530 - mae: 7278.3530\n",
            "Epoch 25/100\n",
            "34/34 [==============================] - 0s 2ms/step - loss: 7273.9229 - mae: 7273.9229\n",
            "Epoch 26/100\n",
            "34/34 [==============================] - 0s 1ms/step - loss: 7269.8516 - mae: 7269.8516\n",
            "Epoch 27/100\n",
            "34/34 [==============================] - 0s 1ms/step - loss: 7265.8276 - mae: 7265.8276\n",
            "Epoch 28/100\n",
            "34/34 [==============================] - 0s 2ms/step - loss: 7261.7031 - mae: 7261.7031\n",
            "Epoch 29/100\n",
            "34/34 [==============================] - 0s 1ms/step - loss: 7257.7935 - mae: 7257.7935\n",
            "Epoch 30/100\n",
            "34/34 [==============================] - 0s 2ms/step - loss: 7253.8921 - mae: 7253.8921\n",
            "Epoch 31/100\n",
            "34/34 [==============================] - 0s 1ms/step - loss: 7249.7881 - mae: 7249.7881\n",
            "Epoch 32/100\n",
            "34/34 [==============================] - 0s 2ms/step - loss: 7246.0952 - mae: 7246.0952\n",
            "Epoch 33/100\n",
            "34/34 [==============================] - 0s 1ms/step - loss: 7242.0059 - mae: 7242.0059\n",
            "Epoch 34/100\n",
            "34/34 [==============================] - 0s 1ms/step - loss: 7238.1484 - mae: 7238.1484\n",
            "Epoch 35/100\n",
            "34/34 [==============================] - 0s 1ms/step - loss: 7234.4019 - mae: 7234.4019\n",
            "Epoch 36/100\n",
            "34/34 [==============================] - 0s 1ms/step - loss: 7230.4917 - mae: 7230.4917\n",
            "Epoch 37/100\n",
            "34/34 [==============================] - 0s 1ms/step - loss: 7226.5947 - mae: 7226.5947\n",
            "Epoch 38/100\n",
            "34/34 [==============================] - 0s 1ms/step - loss: 7222.8457 - mae: 7222.8457\n",
            "Epoch 39/100\n",
            "34/34 [==============================] - 0s 2ms/step - loss: 7218.8696 - mae: 7218.8696\n",
            "Epoch 40/100\n",
            "34/34 [==============================] - 0s 1ms/step - loss: 7215.0747 - mae: 7215.0747\n",
            "Epoch 41/100\n",
            "34/34 [==============================] - 0s 1ms/step - loss: 7211.3247 - mae: 7211.3247\n",
            "Epoch 42/100\n",
            "34/34 [==============================] - 0s 2ms/step - loss: 7207.6089 - mae: 7207.6089\n",
            "Epoch 43/100\n",
            "34/34 [==============================] - 0s 1ms/step - loss: 7203.6997 - mae: 7203.6997\n",
            "Epoch 44/100\n",
            "34/34 [==============================] - 0s 2ms/step - loss: 7200.0972 - mae: 7200.0972\n",
            "Epoch 45/100\n",
            "34/34 [==============================] - 0s 2ms/step - loss: 7196.5220 - mae: 7196.5220\n",
            "Epoch 46/100\n",
            "34/34 [==============================] - 0s 1ms/step - loss: 7192.7354 - mae: 7192.7354\n",
            "Epoch 47/100\n",
            "34/34 [==============================] - 0s 1ms/step - loss: 7189.1699 - mae: 7189.1699\n",
            "Epoch 48/100\n",
            "34/34 [==============================] - 0s 1ms/step - loss: 7185.2437 - mae: 7185.2437\n",
            "Epoch 49/100\n",
            "34/34 [==============================] - 0s 2ms/step - loss: 7181.9077 - mae: 7181.9077\n",
            "Epoch 50/100\n",
            "34/34 [==============================] - 0s 1ms/step - loss: 7178.1782 - mae: 7178.1782\n",
            "Epoch 51/100\n",
            "34/34 [==============================] - 0s 1ms/step - loss: 7174.5737 - mae: 7174.5737\n",
            "Epoch 52/100\n",
            "34/34 [==============================] - 0s 2ms/step - loss: 7170.6743 - mae: 7170.6743\n",
            "Epoch 53/100\n",
            "34/34 [==============================] - 0s 2ms/step - loss: 7167.1855 - mae: 7167.1855\n",
            "Epoch 54/100\n",
            "34/34 [==============================] - 0s 2ms/step - loss: 7163.5425 - mae: 7163.5425\n",
            "Epoch 55/100\n",
            "34/34 [==============================] - 0s 1ms/step - loss: 7159.8062 - mae: 7159.8062\n",
            "Epoch 56/100\n",
            "34/34 [==============================] - 0s 2ms/step - loss: 7156.3379 - mae: 7156.3379\n",
            "Epoch 57/100\n",
            "34/34 [==============================] - 0s 1ms/step - loss: 7152.8638 - mae: 7152.8638\n",
            "Epoch 58/100\n",
            "34/34 [==============================] - 0s 1ms/step - loss: 7149.2461 - mae: 7149.2461\n",
            "Epoch 59/100\n",
            "34/34 [==============================] - 0s 1ms/step - loss: 7145.8691 - mae: 7145.8691\n",
            "Epoch 60/100\n",
            "34/34 [==============================] - 0s 1ms/step - loss: 7142.4243 - mae: 7142.4243\n",
            "Epoch 61/100\n",
            "34/34 [==============================] - 0s 1ms/step - loss: 7139.0474 - mae: 7139.0474\n",
            "Epoch 62/100\n",
            "34/34 [==============================] - 0s 2ms/step - loss: 7135.5054 - mae: 7135.5054\n",
            "Epoch 63/100\n",
            "34/34 [==============================] - 0s 1ms/step - loss: 7132.2212 - mae: 7132.2212\n",
            "Epoch 64/100\n",
            "34/34 [==============================] - 0s 2ms/step - loss: 7129.0234 - mae: 7129.0234\n",
            "Epoch 65/100\n",
            "34/34 [==============================] - 0s 2ms/step - loss: 7125.7129 - mae: 7125.7129\n",
            "Epoch 66/100\n",
            "34/34 [==============================] - 0s 1ms/step - loss: 7122.2568 - mae: 7122.2568\n",
            "Epoch 67/100\n",
            "34/34 [==============================] - 0s 1ms/step - loss: 7119.1133 - mae: 7119.1133\n",
            "Epoch 68/100\n",
            "34/34 [==============================] - 0s 1ms/step - loss: 7115.8779 - mae: 7115.8779\n",
            "Epoch 69/100\n",
            "34/34 [==============================] - 0s 1ms/step - loss: 7112.5981 - mae: 7112.5981\n",
            "Epoch 70/100\n",
            "34/34 [==============================] - 0s 1ms/step - loss: 7109.4336 - mae: 7109.4336\n",
            "Epoch 71/100\n",
            "34/34 [==============================] - 0s 1ms/step - loss: 7106.1328 - mae: 7106.1328\n",
            "Epoch 72/100\n",
            "34/34 [==============================] - 0s 1ms/step - loss: 7103.1987 - mae: 7103.1987\n",
            "Epoch 73/100\n",
            "34/34 [==============================] - 0s 2ms/step - loss: 7099.8926 - mae: 7099.8926\n",
            "Epoch 74/100\n",
            "34/34 [==============================] - 0s 2ms/step - loss: 7096.5298 - mae: 7096.5298\n",
            "Epoch 75/100\n",
            "34/34 [==============================] - 0s 1ms/step - loss: 7093.4126 - mae: 7093.4126\n",
            "Epoch 76/100\n",
            "34/34 [==============================] - 0s 1ms/step - loss: 7090.1494 - mae: 7090.1494\n",
            "Epoch 77/100\n",
            "34/34 [==============================] - 0s 1ms/step - loss: 7087.0757 - mae: 7087.0757\n",
            "Epoch 78/100\n",
            "34/34 [==============================] - 0s 2ms/step - loss: 7084.0171 - mae: 7084.0171\n",
            "Epoch 79/100\n",
            "34/34 [==============================] - 0s 1ms/step - loss: 7081.0742 - mae: 7081.0742\n",
            "Epoch 80/100\n",
            "34/34 [==============================] - 0s 1ms/step - loss: 7077.8042 - mae: 7077.8042\n",
            "Epoch 81/100\n",
            "34/34 [==============================] - 0s 1ms/step - loss: 7074.8413 - mae: 7074.8413\n",
            "Epoch 82/100\n",
            "34/34 [==============================] - 0s 2ms/step - loss: 7072.0757 - mae: 7072.0757\n",
            "Epoch 83/100\n",
            "34/34 [==============================] - 0s 1ms/step - loss: 7069.2715 - mae: 7069.2715\n",
            "Epoch 84/100\n",
            "34/34 [==============================] - 0s 2ms/step - loss: 7065.9209 - mae: 7065.9209\n",
            "Epoch 85/100\n",
            "34/34 [==============================] - 0s 2ms/step - loss: 7063.1597 - mae: 7063.1597\n",
            "Epoch 86/100\n",
            "34/34 [==============================] - 0s 2ms/step - loss: 7060.1357 - mae: 7060.1357\n",
            "Epoch 87/100\n",
            "34/34 [==============================] - 0s 1ms/step - loss: 7057.4419 - mae: 7057.4419\n",
            "Epoch 88/100\n",
            "34/34 [==============================] - 0s 1ms/step - loss: 7054.2764 - mae: 7054.2764\n",
            "Epoch 89/100\n",
            "34/34 [==============================] - 0s 2ms/step - loss: 7051.3887 - mae: 7051.3887\n",
            "Epoch 90/100\n",
            "34/34 [==============================] - 0s 2ms/step - loss: 7048.2842 - mae: 7048.2842\n",
            "Epoch 91/100\n",
            "34/34 [==============================] - 0s 1ms/step - loss: 7045.4600 - mae: 7045.4600\n",
            "Epoch 92/100\n",
            "34/34 [==============================] - 0s 1ms/step - loss: 7042.7075 - mae: 7042.7075\n",
            "Epoch 93/100\n",
            "34/34 [==============================] - 0s 1ms/step - loss: 7039.7236 - mae: 7039.7236\n",
            "Epoch 94/100\n",
            "34/34 [==============================] - 0s 2ms/step - loss: 7036.7773 - mae: 7036.7773\n",
            "Epoch 95/100\n",
            "34/34 [==============================] - 0s 2ms/step - loss: 7033.7466 - mae: 7033.7466\n",
            "Epoch 96/100\n",
            "34/34 [==============================] - 0s 2ms/step - loss: 7031.0386 - mae: 7031.0386\n",
            "Epoch 97/100\n",
            "34/34 [==============================] - 0s 1ms/step - loss: 7028.2300 - mae: 7028.2300\n",
            "Epoch 98/100\n",
            "34/34 [==============================] - 0s 2ms/step - loss: 7025.2031 - mae: 7025.2031\n",
            "Epoch 99/100\n",
            "34/34 [==============================] - 0s 2ms/step - loss: 7022.2729 - mae: 7022.2729\n",
            "Epoch 100/100\n",
            "34/34 [==============================] - 0s 1ms/step - loss: 7019.1489 - mae: 7019.1489\n"
          ]
        },
        {
          "output_type": "execute_result",
          "data": {
            "text/plain": [
              "<keras.src.callbacks.History at 0x7ac7617e1a50>"
            ]
          },
          "metadata": {},
          "execution_count": 240
        }
      ]
    },
    {
      "cell_type": "code",
      "source": [
        "# Check the results of the insurance model\n",
        "insurance_model.evaluate(X_test, y_test)"
      ],
      "metadata": {
        "colab": {
          "base_uri": "https://localhost:8080/"
        },
        "id": "Bc4-PMh0cUaf",
        "outputId": "56d98a45-219d-435e-a4a8-c757ba056146"
      },
      "execution_count": null,
      "outputs": [
        {
          "output_type": "stream",
          "name": "stdout",
          "text": [
            "9/9 [==============================] - 0s 2ms/step - loss: 6999.0327 - mae: 6999.0327\n"
          ]
        },
        {
          "output_type": "execute_result",
          "data": {
            "text/plain": [
              "[6999.03271484375, 6999.03271484375]"
            ]
          },
          "metadata": {},
          "execution_count": 241
        }
      ]
    },
    {
      "cell_type": "markdown",
      "source": [
        "Our model didn't perform very well, let's try a bigger model.\n",
        "\n",
        "We'll try 3 things:\n",
        "\n",
        "* Increasing the number of layers (2 -> 3).\n",
        "\n",
        "* Increasing the number of units in each layer (except for the output layer).\n",
        "\n",
        "* Changing the optimizer (from SGD to Adam).\n",
        "\n",
        "Everything else will stay the same."
      ],
      "metadata": {
        "id": "1q6szU5hca5z"
      }
    },
    {
      "cell_type": "code",
      "source": [
        "# Set random seed\n",
        "tf.random.set_seed(42)\n",
        "\n",
        "# Add an extra layer and increase number of units\n",
        "insurance_model_2 = tf.keras.Sequential([\n",
        "  tf.keras.layers.Dense(100), # 100 units\n",
        "  tf.keras.layers.Dense(10), # 10 units\n",
        "  tf.keras.layers.Dense(1) # 1 unit (important for output layer)\n",
        "])\n",
        "\n",
        "# Compile the model\n",
        "insurance_model_2.compile(loss=tf.keras.losses.mae,\n",
        "                          optimizer=tf.keras.optimizers.Adam(), # Adam works but SGD doesn't\n",
        "                          metrics=['mae'])\n",
        "\n",
        "# Fit the model and save the history (we can plot this)\n",
        "history = insurance_model_2.fit(X_train, y_train, epochs=100, verbose=0)"
      ],
      "metadata": {
        "id": "JAwVjCiWcoRv"
      },
      "execution_count": null,
      "outputs": []
    },
    {
      "cell_type": "code",
      "source": [
        "# Evaluate our larger model\n",
        "insurance_model_2.evaluate(X_test, y_test)"
      ],
      "metadata": {
        "colab": {
          "base_uri": "https://localhost:8080/"
        },
        "id": "Sc_15gcNcrzE",
        "outputId": "4d6b5812-dc97-47a6-a595-30f3faaead7c"
      },
      "execution_count": null,
      "outputs": [
        {
          "output_type": "stream",
          "name": "stdout",
          "text": [
            "9/9 [==============================] - 0s 2ms/step - loss: 5002.4009 - mae: 5002.4009\n"
          ]
        },
        {
          "output_type": "execute_result",
          "data": {
            "text/plain": [
              "[5002.40087890625, 5002.40087890625]"
            ]
          },
          "metadata": {},
          "execution_count": 243
        }
      ]
    },
    {
      "cell_type": "markdown",
      "source": [
        "Much better! Using a larger model and the Adam optimizer results in almost half the error as the previous model.\n",
        "\n",
        "🔑 Note: For many problems, the Adam optimizer is a great starting choice. See Andrei Karpathy's \"Adam is safe\" point from A Recipe for Training Neural Networks for more.\n",
        "\n",
        "Let's check out the loss curves of our model, we should see a downward trend."
      ],
      "metadata": {
        "id": "mE9SjX4Lc1Is"
      }
    },
    {
      "cell_type": "code",
      "source": [
        "# Plot history (also known as a loss curve)\n",
        "pd.DataFrame(history.history).plot()\n",
        "plt.ylabel(\"loss\")\n",
        "plt.xlabel(\"epochs\");"
      ],
      "metadata": {
        "colab": {
          "base_uri": "https://localhost:8080/",
          "height": 449
        },
        "id": "EQRKgYdic2x_",
        "outputId": "321f8e85-3514-4bad-dfa2-c04e1e54b2f4"
      },
      "execution_count": null,
      "outputs": [
        {
          "output_type": "display_data",
          "data": {
            "text/plain": [
              "<Figure size 640x480 with 1 Axes>"
            ],
            "image/png": "[encoded data removed]"
          },
          "metadata": {}
        }
      ]
    },
    {
      "cell_type": "markdown",
      "source": [
        "From this, it looks like our model's loss (and MAE) were both still decreasing (in our case, MAE and loss are the same, hence the lines in the plot overlap eachother).\n",
        "\n",
        "What this tells us is the loss might go down if we try training it for longer.\n",
        "\n",
        "🤔 Question: How long should you train for?\n",
        "\n",
        "It depends on what problem you're working on. Sometimes training won't take very long, other times it'll take longer than you expect. A common method is to set your model training for a very long time (e.g. 1000's of epochs) but set it up with an EarlyStopping callback so it stops automatically when it stops improving. We'll see this in another module.\n",
        "\n",
        "Let's train the same model as above for a little longer. We can do this but calling fit on it again."
      ],
      "metadata": {
        "id": "i-4HRZdVc5Vr"
      }
    },
    {
      "cell_type": "code",
      "source": [
        "# Try training for a little longer (100 more epochs)\n",
        "history_2 = insurance_model_2.fit(X_train, y_train, epochs=100, verbose=0)"
      ],
      "metadata": {
        "id": "IDvhIoBSc5ZG"
      },
      "execution_count": null,
      "outputs": []
    },
    {
      "cell_type": "markdown",
      "source": [
        "How did the extra training go?"
      ],
      "metadata": {
        "id": "9iWwHb3Kc5cj"
      }
    },
    {
      "cell_type": "code",
      "source": [
        "# Evaluate the model trained for 200 total epochs\n",
        "insurance_model_2_loss, insurance_model_2_mae = insurance_model_2.evaluate(X_test, y_test)\n",
        "insurance_model_2_loss, insurance_model_2_mae"
      ],
      "metadata": {
        "colab": {
          "base_uri": "https://localhost:8080/"
        },
        "id": "emefFSghc5ij",
        "outputId": "46262b4f-d73f-4b2e-f66a-94a7b62d4aed"
      },
      "execution_count": null,
      "outputs": [
        {
          "output_type": "stream",
          "name": "stdout",
          "text": [
            "9/9 [==============================] - 0s 2ms/step - loss: 3503.7390 - mae: 3503.7390\n"
          ]
        },
        {
          "output_type": "execute_result",
          "data": {
            "text/plain": [
              "(3503.739013671875, 3503.739013671875)"
            ]
          },
          "metadata": {},
          "execution_count": 246
        }
      ]
    },
    {
      "cell_type": "markdown",
      "source": [
        "Boom! Training for an extra 100 epochs we see about a 10% decrease in error."
      ],
      "metadata": {
        "id": "RILXdZqzc5pS"
      }
    },
    {
      "cell_type": "code",
      "source": [
        "# Plot the model trained for 200 total epochs loss curves\n",
        "pd.DataFrame(history_2.history).plot()\n",
        "plt.ylabel(\"loss\")\n",
        "plt.xlabel(\"epochs\"); # note: epochs will only show 100 since we overrid the histo"
      ],
      "metadata": {
        "colab": {
          "base_uri": "https://localhost:8080/",
          "height": 449
        },
        "id": "VV3CEEjYdOUP",
        "outputId": "3136f7c1-adf1-43ad-f8e2-59264febf3fd"
      },
      "execution_count": null,
      "outputs": [
        {
          "output_type": "display_data",
          "data": {
            "text/plain": [
              "<Figure size 640x480 with 1 Axes>"
            ],
            "image/png": "[encoded data removed]"
          },
          "metadata": {}
        }
      ]
    },
    {
      "cell_type": "markdown",
      "source": [
        "# **Preprocessing data (normalization and standardization)**"
      ],
      "metadata": {
        "id": "9brKl37ddOwJ"
      }
    },
    {
      "cell_type": "markdown",
      "source": [
        "A common practice when working with neural networks is to make sure all of the data you pass to them is in the range 0 to 1.\n",
        "\n",
        "This practice is called normalization (scaling all values from their original range to, e.g. between 0 and 100,000 to be between 0 and 1).\n",
        "\n",
        "There is another process call standardization which converts all of your data to unit variance and 0 mean.\n",
        "\n",
        "These two practices are often part of a preprocessing pipeline (a series of functions to prepare your data for use with neural networks).\n",
        "\n",
        "Knowing this, some of the major steps you'll take to preprocess your data for a neural network include:\n",
        "\n",
        "* Turning all of your data to numbers (a neural network can't handle strings).\n",
        "\n",
        "* Making sure your data is in the right shape (verifying input and output shapes).\n",
        "\n",
        "* Feature scaling:\n",
        "  * Normalizing data (making sure all values are between 0 and 1). This is done by subtracting the minimum value then dividing by the maximum value minus the minimum. This is also referred to as min-max scaling.\n",
        "\n",
        "  * Standardization (making sure all values have a mean of 0 and a variance of 1). This is done by subtracting the mean value from the target feature and then dividing it by the standard deviation.\n",
        "  * Which one should you use?\n",
        "   *  With neural networks you'll tend to favour normalization as they tend  to  prefer values between 0 and 1 (you'll see this espcially with image processing), however, you'll often find a neural network can perform pretty well with minimal feature scaling.\n",
        "\n",
        "* 📖 Resource: For more on preprocessing data, I'd recommend reading the following resources:\n",
        "\n",
        "* Scikit-Learn's documentation on preprocessing data.\n",
        "\n",
        "* Scale, Standardize or Normalize with Scikit-Learn by Jeff Hale.\n",
        "\n",
        "We've already turned our data into numbers using get_dummies(), let's see how we'd normalize it as well.\n",
        "\n"
      ],
      "metadata": {
        "id": "E9Spx-C7oH2i"
      }
    },
    {
      "cell_type": "code",
      "source": [
        "import pandas as pd\n",
        "import matplotlib.pyplot as plt\n",
        "import tensorflow as tf\n",
        "\n",
        "# Read in the insurance dataset\n",
        "insurance = pd.read_csv(\"https://raw.githubusercontent.com/stedy/Machine-Learning-with-R-datasets/master/insurance.csv\")\n"
      ],
      "metadata": {
        "id": "bV0Ynlc9o0Qy"
      },
      "execution_count": null,
      "outputs": []
    },
    {
      "cell_type": "code",
      "source": [
        "# Check out the data\n",
        "insurance.head()\n"
      ],
      "metadata": {
        "colab": {
          "base_uri": "https://localhost:8080/",
          "height": 206
        },
        "id": "MWmFaOYRo6VA",
        "outputId": "f6de3450-1be3-4abd-91ab-c458e170e386"
      },
      "execution_count": null,
      "outputs": [
        {
          "output_type": "execute_result",
          "data": {
            "text/plain": [
              "   age     sex     bmi  children smoker     region      charges\n",
              "0   19  female  27.900         0    yes  southwest  16884.92400\n",
              "1   18    male  33.770         1     no  southeast   1725.55230\n",
              "2   28    male  33.000         3     no  southeast   4449.46200\n",
              "3   33    male  22.705         0     no  northwest  21984.47061\n",
              "4   32    male  28.880         0     no  northwest   3866.85520"
            ],
            "text/html": [
              "\n",
              "  <div id=\"df-af934340-620d-464c-861c-85f1ddd1ca5f\" class=\"colab-df-container\">\n",
              "    <div>\n",
              "<style scoped>\n",
              "    .dataframe tbody tr th:only-of-type {\n",
              "        vertical-align: middle;\n",
              "    }\n",
              "\n",
              "    .dataframe tbody tr th {\n",
              "        vertical-align: top;\n",
              "    }\n",
              "\n",
              "    .dataframe thead th {\n",
              "        text-align: right;\n",
              "    }\n",
              "</style>\n",
              "<table border=\"1\" class=\"dataframe\">\n",
              "  <thead>\n",
              "    <tr style=\"text-align: right;\">\n",
              "      <th></th>\n",
              "      <th>age</th>\n",
              "      <th>sex</th>\n",
              "      <th>bmi</th>\n",
              "      <th>children</th>\n",
              "      <th>smoker</th>\n",
              "      <th>region</th>\n",
              "      <th>charges</th>\n",
              "    </tr>\n",
              "  </thead>\n",
              "  <tbody>\n",
              "    <tr>\n",
              "      <th>0</th>\n",
              "      <td>19</td>\n",
              "      <td>female</td>\n",
              "      <td>27.900</td>\n",
              "      <td>0</td>\n",
              "      <td>yes</td>\n",
              "      <td>southwest</td>\n",
              "      <td>16884.92400</td>\n",
              "    </tr>\n",
              "    <tr>\n",
              "      <th>1</th>\n",
              "      <td>18</td>\n",
              "      <td>male</td>\n",
              "      <td>33.770</td>\n",
              "      <td>1</td>\n",
              "      <td>no</td>\n",
              "      <td>southeast</td>\n",
              "      <td>1725.55230</td>\n",
              "    </tr>\n",
              "    <tr>\n",
              "      <th>2</th>\n",
              "      <td>28</td>\n",
              "      <td>male</td>\n",
              "      <td>33.000</td>\n",
              "      <td>3</td>\n",
              "      <td>no</td>\n",
              "      <td>southeast</td>\n",
              "      <td>4449.46200</td>\n",
              "    </tr>\n",
              "    <tr>\n",
              "      <th>3</th>\n",
              "      <td>33</td>\n",
              "      <td>male</td>\n",
              "      <td>22.705</td>\n",
              "      <td>0</td>\n",
              "      <td>no</td>\n",
              "      <td>northwest</td>\n",
              "      <td>21984.47061</td>\n",
              "    </tr>\n",
              "    <tr>\n",
              "      <th>4</th>\n",
              "      <td>32</td>\n",
              "      <td>male</td>\n",
              "      <td>28.880</td>\n",
              "      <td>0</td>\n",
              "      <td>no</td>\n",
              "      <td>northwest</td>\n",
              "      <td>3866.85520</td>\n",
              "    </tr>\n",
              "  </tbody>\n",
              "</table>\n",
              "</div>\n",
              "    <div class=\"colab-df-buttons\">\n",
              "\n",
              "  <div class=\"colab-df-container\">\n",
              "    <button class=\"colab-df-convert\" onclick=\"convertToInteractive('df-af934340-620d-464c-861c-85f1ddd1ca5f')\"\n",
              "            title=\"Convert this dataframe to an interactive table.\"\n",
              "            style=\"display:none;\">\n",
              "\n",
              "  <svg xmlns=\"http://www.w3.org/2000/svg\" height=\"24px\" viewBox=\"0 -960 960 960\">\n",
              "    <path d=\"M120-120v-720h720v720H120Zm60-500h600v-160H180v160Zm220 220h160v-160H400v160Zm0 220h160v-160H400v160ZM180-400h160v-160H180v160Zm440 0h160v-160H620v160ZM180-180h160v-160H180v160Zm440 0h160v-160H620v160Z\"/>\n",
              "  </svg>\n",
              "    </button>\n",
              "\n",
              "  <style>\n",
              "    .colab-df-container {\n",
              "      display:flex;\n",
              "      gap: 12px;\n",
              "    }\n",
              "\n",
              "    .colab-df-convert {\n",
              "      background-color: #E8F0FE;\n",
              "      border: none;\n",
              "      border-radius: 50%;\n",
              "      cursor: pointer;\n",
              "      display: none;\n",
              "      fill: #1967D2;\n",
              "      height: 32px;\n",
              "      padding: 0 0 0 0;\n",
              "      width: 32px;\n",
              "    }\n",
              "\n",
              "    .colab-df-convert:hover {\n",
              "      background-color: #E2EBFA;\n",
              "      box-shadow: 0px 1px 2px rgba(60, 64, 67, 0.3), 0px 1px 3px 1px rgba(60, 64, 67, 0.15);\n",
              "      fill: #174EA6;\n",
              "    }\n",
              "\n",
              "    .colab-df-buttons div {\n",
              "      margin-bottom: 4px;\n",
              "    }\n",
              "\n",
              "    [theme=dark] .colab-df-convert {\n",
              "      background-color: #3B4455;\n",
              "      fill: #D2E3FC;\n",
              "    }\n",
              "\n",
              "    [theme=dark] .colab-df-convert:hover {\n",
              "      background-color: #434B5C;\n",
              "      box-shadow: 0px 1px 3px 1px rgba(0, 0, 0, 0.15);\n",
              "      filter: drop-shadow(0px 1px 2px rgba(0, 0, 0, 0.3));\n",
              "      fill: #FFFFFF;\n",
              "    }\n",
              "  </style>\n",
              "\n",
              "    <script>\n",
              "      const buttonEl =\n",
              "        document.querySelector('#df-af934340-620d-464c-861c-85f1ddd1ca5f button.colab-df-convert');\n",
              "      buttonEl.style.display =\n",
              "        google.colab.kernel.accessAllowed ? 'block' : 'none';\n",
              "\n",
              "      async function convertToInteractive(key) {\n",
              "        const element = document.querySelector('#df-af934340-620d-464c-861c-85f1ddd1ca5f');\n",
              "        const dataTable =\n",
              "          await google.colab.kernel.invokeFunction('convertToInteractive',\n",
              "                                                    [key], {});\n",
              "        if (!dataTable) return;\n",
              "\n",
              "        const docLinkHtml = 'Like what you see? Visit the ' +\n",
              "          '<a target=\"_blank\" href=https://colab.research.google.com/notebooks/data_table.ipynb>data table notebook</a>'\n",
              "          + ' to learn more about interactive tables.';\n",
              "        element.innerHTML = '';\n",
              "        dataTable['output_type'] = 'display_data';\n",
              "        await google.colab.output.renderOutput(dataTable, element);\n",
              "        const docLink = document.createElement('div');\n",
              "        docLink.innerHTML = docLinkHtml;\n",
              "        element.appendChild(docLink);\n",
              "      }\n",
              "    </script>\n",
              "  </div>\n",
              "\n",
              "\n",
              "<div id=\"df-20bee2bd-44ae-4fae-83d2-71fb5e3da9a8\">\n",
              "  <button class=\"colab-df-quickchart\" onclick=\"quickchart('df-20bee2bd-44ae-4fae-83d2-71fb5e3da9a8')\"\n",
              "            title=\"Suggest charts.\"\n",
              "            style=\"display:none;\">\n",
              "\n",
              "<svg xmlns=\"http://www.w3.org/2000/svg\" height=\"24px\"viewBox=\"0 0 24 24\"\n",
              "     width=\"24px\">\n",
              "    <g>\n",
              "        <path d=\"M19 3H5c-1.1 0-2 .9-2 2v14c0 1.1.9 2 2 2h14c1.1 0 2-.9 2-2V5c0-1.1-.9-2-2-2zM9 17H7v-7h2v7zm4 0h-2V7h2v10zm4 0h-2v-4h2v4z\"/>\n",
              "    </g>\n",
              "</svg>\n",
              "  </button>\n",
              "\n",
              "<style>\n",
              "  .colab-df-quickchart {\n",
              "      --bg-color: #E8F0FE;\n",
              "      --fill-color: #1967D2;\n",
              "      --hover-bg-color: #E2EBFA;\n",
              "      --hover-fill-color: #174EA6;\n",
              "      --disabled-fill-color: #AAA;\n",
              "      --disabled-bg-color: #DDD;\n",
              "  }\n",
              "\n",
              "  [theme=dark] .colab-df-quickchart {\n",
              "      --bg-color: #3B4455;\n",
              "      --fill-color: #D2E3FC;\n",
              "      --hover-bg-color: #434B5C;\n",
              "      --hover-fill-color: #FFFFFF;\n",
              "      --disabled-bg-color: #3B4455;\n",
              "      --disabled-fill-color: #666;\n",
              "  }\n",
              "\n",
              "  .colab-df-quickchart {\n",
              "    background-color: var(--bg-color);\n",
              "    border: none;\n",
              "    border-radius: 50%;\n",
              "    cursor: pointer;\n",
              "    display: none;\n",
              "    fill: var(--fill-color);\n",
              "    height: 32px;\n",
              "    padding: 0;\n",
              "    width: 32px;\n",
              "  }\n",
              "\n",
              "  .colab-df-quickchart:hover {\n",
              "    background-color: var(--hover-bg-color);\n",
              "    box-shadow: 0 1px 2px rgba(60, 64, 67, 0.3), 0 1px 3px 1px rgba(60, 64, 67, 0.15);\n",
              "    fill: var(--button-hover-fill-color);\n",
              "  }\n",
              "\n",
              "  .colab-df-quickchart-complete:disabled,\n",
              "  .colab-df-quickchart-complete:disabled:hover {\n",
              "    background-color: var(--disabled-bg-color);\n",
              "    fill: var(--disabled-fill-color);\n",
              "    box-shadow: none;\n",
              "  }\n",
              "\n",
              "  .colab-df-spinner {\n",
              "    border: 2px solid var(--fill-color);\n",
              "    border-color: transparent;\n",
              "    border-bottom-color: var(--fill-color);\n",
              "    animation:\n",
              "      spin 1s steps(1) infinite;\n",
              "  }\n",
              "\n",
              "  @keyframes spin {\n",
              "    0% {\n",
              "      border-color: transparent;\n",
              "      border-bottom-color: var(--fill-color);\n",
              "      border-left-color: var(--fill-color);\n",
              "    }\n",
              "    20% {\n",
              "      border-color: transparent;\n",
              "      border-left-color: var(--fill-color);\n",
              "      border-top-color: var(--fill-color);\n",
              "    }\n",
              "    30% {\n",
              "      border-color: transparent;\n",
              "      border-left-color: var(--fill-color);\n",
              "      border-top-color: var(--fill-color);\n",
              "      border-right-color: var(--fill-color);\n",
              "    }\n",
              "    40% {\n",
              "      border-color: transparent;\n",
              "      border-right-color: var(--fill-color);\n",
              "      border-top-color: var(--fill-color);\n",
              "    }\n",
              "    60% {\n",
              "      border-color: transparent;\n",
              "      border-right-color: var(--fill-color);\n",
              "    }\n",
              "    80% {\n",
              "      border-color: transparent;\n",
              "      border-right-color: var(--fill-color);\n",
              "      border-bottom-color: var(--fill-color);\n",
              "    }\n",
              "    90% {\n",
              "      border-color: transparent;\n",
              "      border-bottom-color: var(--fill-color);\n",
              "    }\n",
              "  }\n",
              "</style>\n",
              "\n",
              "  <script>\n",
              "    async function quickchart(key) {\n",
              "      const quickchartButtonEl =\n",
              "        document.querySelector('#' + key + ' button');\n",
              "      quickchartButtonEl.disabled = true;  // To prevent multiple clicks.\n",
              "      quickchartButtonEl.classList.add('colab-df-spinner');\n",
              "      try {\n",
              "        const charts = await google.colab.kernel.invokeFunction(\n",
              "            'suggestCharts', [key], {});\n",
              "      } catch (error) {\n",
              "        console.error('Error during call to suggestCharts:', error);\n",
              "      }\n",
              "      quickchartButtonEl.classList.remove('colab-df-spinner');\n",
              "      quickchartButtonEl.classList.add('colab-df-quickchart-complete');\n",
              "    }\n",
              "    (() => {\n",
              "      let quickchartButtonEl =\n",
              "        document.querySelector('#df-20bee2bd-44ae-4fae-83d2-71fb5e3da9a8 button');\n",
              "      quickchartButtonEl.style.display =\n",
              "        google.colab.kernel.accessAllowed ? 'block' : 'none';\n",
              "    })();\n",
              "  </script>\n",
              "</div>\n",
              "    </div>\n",
              "  </div>\n"
            ]
          },
          "metadata": {},
          "execution_count": 249
        }
      ]
    },
    {
      "cell_type": "markdown",
      "source": [
        "Now, just as before, we need to transform the non-numerical columns into numbers and this time we'll also be normalizing the numerical columns with different ranges (to make sure they're all between 0 and 1).\n",
        "\n",
        "To do this, we're going to use a few classes from Scikit-Learn:\n",
        "\n",
        "* make_column_transformer - build a multi-step data preprocessing function for the folllowing transformations:\n",
        "     * MinMaxScaler - make sure all numerical columns are normalized (between 0 and 1).\n",
        "     * OneHotEncoder - one hot encode the non-numerical columns."
      ],
      "metadata": {
        "id": "5LJ0ALCoo6Yx"
      }
    },
    {
      "cell_type": "code",
      "source": [
        "\n",
        "from sklearn.compose import make_column_transformer\n",
        "from sklearn.preprocessing import MinMaxScaler, OneHotEncoder\n",
        "\n",
        "# Create column transformer (this will help us normalize/preprocess our data)\n",
        "ct = make_column_transformer(\n",
        "    (MinMaxScaler(), [\"age\", \"bmi\", \"children\"]), # get all values between 0 and 1\n",
        "    (OneHotEncoder(handle_unknown=\"ignore\"), [\"sex\", \"smoker\", \"region\"])\n",
        ")\n",
        "\n",
        "# Create X & y\n",
        "X = insurance.drop(\"charges\", axis=1)\n",
        "y = insurance[\"charges\"]\n",
        "\n",
        "# Build our train and test sets (use random state to ensure same split as before)\n",
        "X_train, X_test, y_train, y_test = train_test_split(X, y, test_size=0.2, random_state=42)\n",
        "\n",
        "# Fit column transformer on the training data only (doing so on test data would result in data leakage)\n",
        "ct.fit(X_train)\n",
        "\n",
        "# Transform training and test data with normalization (MinMaxScalar) and one hot encoding (OneHotEncoder)\n",
        "X_train_normal = ct.transform(X_train)\n",
        "X_test_normal = ct.transform(X_test)\n"
      ],
      "metadata": {
        "id": "NIsgIqezpO3L"
      },
      "execution_count": null,
      "outputs": []
    },
    {
      "cell_type": "markdown",
      "source": [
        "Now we've normalized it and one-hot encoding it"
      ],
      "metadata": {
        "id": "EEDZGIOYo6bc"
      }
    },
    {
      "cell_type": "code",
      "source": [
        "# Non-normalized and non-one-hot encoded data example\n",
        "X_train.loc[0]"
      ],
      "metadata": {
        "colab": {
          "base_uri": "https://localhost:8080/"
        },
        "id": "CQE_Z8spo6eQ",
        "outputId": "bf958a73-36d3-4153-c034-6513996eb474"
      },
      "execution_count": null,
      "outputs": [
        {
          "output_type": "execute_result",
          "data": {
            "text/plain": [
              "age                19\n",
              "sex            female\n",
              "bmi              27.9\n",
              "children            0\n",
              "smoker            yes\n",
              "region      southwest\n",
              "Name: 0, dtype: object"
            ]
          },
          "metadata": {},
          "execution_count": 251
        }
      ]
    },
    {
      "cell_type": "code",
      "source": [
        "# Normalized and one-hot encoded example\n",
        "X_train_normal[0]"
      ],
      "metadata": {
        "colab": {
          "base_uri": "https://localhost:8080/"
        },
        "id": "748L8kf_o6i-",
        "outputId": "cf6a65bf-ab3b-4568-fa8e-f950febbbe99"
      },
      "execution_count": null,
      "outputs": [
        {
          "output_type": "execute_result",
          "data": {
            "text/plain": [
              "array([0.60869565, 0.10734463, 0.4       , 1.        , 0.        ,\n",
              "       1.        , 0.        , 0.        , 1.        , 0.        ,\n",
              "       0.        ])"
            ]
          },
          "metadata": {},
          "execution_count": 252
        }
      ]
    },
    {
      "cell_type": "code",
      "source": [
        "# Notice the normalized/one-hot encoded shape is larger because of the extra columns\n",
        "X_train_normal.shape, X_train.shape\n"
      ],
      "metadata": {
        "colab": {
          "base_uri": "https://localhost:8080/"
        },
        "id": "9V9BuwZIppVN",
        "outputId": "04499a93-d45d-446f-89ab-dba9edf3efb9"
      },
      "execution_count": null,
      "outputs": [
        {
          "output_type": "execute_result",
          "data": {
            "text/plain": [
              "((1070, 11), (1070, 6))"
            ]
          },
          "metadata": {},
          "execution_count": 253
        }
      ]
    },
    {
      "cell_type": "markdown",
      "source": [
        "We'll use the same model as insurance_model_2."
      ],
      "metadata": {
        "id": "OGHXkG-dppqx"
      }
    },
    {
      "cell_type": "code",
      "source": [
        "# Set random seed\n",
        "tf.random.set_seed(42)\n",
        "\n",
        "# Build the model (3 layers, 100, 10, 1 units)\n",
        "insurance_model_3 = tf.keras.Sequential([\n",
        "  tf.keras.layers.Dense(100),\n",
        "  tf.keras.layers.Dense(10),\n",
        "  tf.keras.layers.Dense(1)\n",
        "])\n",
        "\n",
        "# Compile the model\n",
        "insurance_model_3.compile(loss=tf.keras.losses.mae,\n",
        "                          optimizer=tf.keras.optimizers.Adam(),\n",
        "                          metrics=['mae'])\n",
        "\n",
        "# Fit the model for 200 epochs (same as insurance_model_2)\n",
        "insurance_model_3.fit(X_train_normal, y_train, epochs=200, verbose=0)\n"
      ],
      "metadata": {
        "colab": {
          "base_uri": "https://localhost:8080/"
        },
        "id": "I15BwUXlp15j",
        "outputId": "c86a781b-174d-463a-947c-882847579ebd"
      },
      "execution_count": null,
      "outputs": [
        {
          "output_type": "execute_result",
          "data": {
            "text/plain": [
              "<keras.src.callbacks.History at 0x7ac760e0dfc0>"
            ]
          },
          "metadata": {},
          "execution_count": 254
        }
      ]
    },
    {
      "cell_type": "markdown",
      "source": [
        "Let's evaluate the model on normalized test set."
      ],
      "metadata": {
        "id": "GzV9VSgeqC3h"
      }
    },
    {
      "cell_type": "code",
      "source": [
        "# Evaulate 3rd model\n",
        "insurance_model_3_loss, insurance_model_3_mae = insurance_model_3.evaluate(X_test_normal, y_test)\n"
      ],
      "metadata": {
        "colab": {
          "base_uri": "https://localhost:8080/"
        },
        "id": "9gWh3vuSp-OQ",
        "outputId": "f7704cb7-00db-4540-d7a1-9b78d9679a74"
      },
      "execution_count": null,
      "outputs": [
        {
          "output_type": "stream",
          "name": "stdout",
          "text": [
            "9/9 [==============================] - 0s 3ms/step - loss: 3169.7729 - mae: 3169.7729\n"
          ]
        }
      ]
    },
    {
      "cell_type": "markdown",
      "source": [
        "And finally, let's compare the results from insurance_model_2 (trained on non-normalized data) and insurance_model_3 (trained on normalized data)."
      ],
      "metadata": {
        "id": "QMtCo8RHqKOP"
      }
    },
    {
      "cell_type": "code",
      "source": [
        "# Compare modelling results from non-normalized data and normalized data\n",
        "insurance_model_2_mae, insurance_model_3_mae"
      ],
      "metadata": {
        "colab": {
          "base_uri": "https://localhost:8080/"
        },
        "id": "gS5WVFemqOhE",
        "outputId": "28d6cf72-38e5-4df1-efc7-800cee0d7be3"
      },
      "execution_count": null,
      "outputs": [
        {
          "output_type": "execute_result",
          "data": {
            "text/plain": [
              "(3503.739013671875, 3169.77294921875)"
            ]
          },
          "metadata": {},
          "execution_count": 256
        }
      ]
    },
    {
      "cell_type": "markdown",
      "source": [
        "From this we can see normalizing the data results in 10% less error using the same model than not normalizing the data.\n",
        "\n",
        "This is** one of the main benefits of normalization: faster convergence time **(a fancy way of saying, your model gets to better results faster).\n",
        "\n",
        "* insurance_model_2 may have eventually achieved the same results as insurance_model_3 if we left it training for longer.\n",
        "\n",
        "Also, the results may change if we were to alter the architectures of the models, e.g. more hidden units per layer or more layers.\n",
        "\n",
        "But since our main goal as neural network practitioners is to decrease the time between experiments, anything that helps us get better results sooner is a plus."
      ],
      "metadata": {
        "id": "BUZDK903qVBR"
      }
    },
    {
      "cell_type": "markdown",
      "source": [
        "# **🛠 Exercises**\n",
        "We've a covered a whole lot pretty quickly.\n",
        "\n",
        "So now it's time to have a play around with a few things and start to build up your intuition.\n",
        "\n",
        "I emphasise the words play around because that's very important. Try a few things out, run the code and see what happens.\n",
        "\n",
        "1. Create your own regression dataset (or make the one we created in \"Create data to view and fit\" bigger) and build fit a model to it.\n",
        "\n",
        "2. Try building a neural network with 4 Dense layers and fitting it to your own regression dataset, how does it perform?\n",
        "\n",
        "3. Try and improve the results we got on the insurance dataset, some things you might want to try include:\n",
        "\n",
        "  * Building a larger model (how does one with 4 dense layers go?).\n",
        "  * Increasing the number of units in each layer.\n",
        "  * Lookup the documentation of Adam and find out what the first parameter is, what happens if you increase it by 10x?\n",
        "  * What happens if you train for longer (say 300 epochs instead of 200)?\n",
        "\n",
        "4. Import the Boston pricing dataset from TensorFlow tf.keras.datasets and model it."
      ],
      "metadata": {
        "id": "5JwNehastEe_"
      }
    },
    {
      "cell_type": "markdown",
      "source": [
        "# 📖 **Extra curriculum**\n",
        "\n",
        "If you're looking for extra materials relating to this notebook, I'd check out the following:\n",
        "\n",
        "* MIT introduction deep learning lecture 1 - gives a great overview of what's happening behind all of the code we're running.\n",
        "\n",
        "* Reading: 1-hour of Chapter 1 of Neural Networks and Deep Learning by Michael Nielson - a great in-depth and hands-on example of the intuition behind neural networks.\n",
        "\n",
        "To practice your regression modelling with TensorFlow, I'd also encourage you to look through Lion Bridge's collection of datasets or Kaggle's datasets, find a regression dataset which sparks your interest and try to model."
      ],
      "metadata": {
        "id": "iMiO_xqKthWT"
      }
    },
    {
      "cell_type": "markdown",
      "source": [
        "# **Exercises**"
      ],
      "metadata": {
        "id": "rrUqvOsot-OE"
      }
    },
    {
      "cell_type": "code",
      "source": [
        "#boston housing dataset\n",
        "import pandas as pd\n",
        "import tensorflow as tf\n",
        "import matplotlib.pyplot as plt\n",
        "import numpy as np"
      ],
      "metadata": {
        "id": "AW9pdi4XyapF"
      },
      "execution_count": null,
      "outputs": []
    },
    {
      "cell_type": "code",
      "source": [
        "#create your own dataset\n",
        "x = np.arange(50, 300, 4)\n",
        "x.shape"
      ],
      "metadata": {
        "colab": {
          "base_uri": "https://localhost:8080/"
        },
        "id": "EDkD0DtvD5Qi",
        "outputId": "99da3afc-68d7-4f49-db61-78ad1cb96405"
      },
      "execution_count": null,
      "outputs": [
        {
          "output_type": "execute_result",
          "data": {
            "text/plain": [
              "(63,)"
            ]
          },
          "metadata": {},
          "execution_count": 38
        }
      ]
    },
    {
      "cell_type": "code",
      "source": [
        "y = tf.constant[(60, 310, 4)]\n",
        "y.shape"
      ],
      "metadata": {
        "colab": {
          "base_uri": "https://localhost:8080/"
        },
        "id": "1Q92k01eD5S2",
        "outputId": "c4bb91c6-f0d9-4f1d-d748-607f0ecf5d7f"
      },
      "execution_count": null,
      "outputs": [
        {
          "output_type": "execute_result",
          "data": {
            "text/plain": [
              "(63,)"
            ]
          },
          "metadata": {},
          "execution_count": 31
        }
      ]
    },
    {
      "cell_type": "code",
      "source": [
        "x,y"
      ],
      "metadata": {
        "colab": {
          "base_uri": "https://localhost:8080/"
        },
        "id": "4snHKe-PWJ6x",
        "outputId": "e3efaf42-2658-4014-9876-21e868346b6a"
      },
      "execution_count": null,
      "outputs": [
        {
          "output_type": "execute_result",
          "data": {
            "text/plain": [
              "(array([ 50,  54,  58,  62,  66,  70,  74,  78,  82,  86,  90,  94,  98,\n",
              "        102, 106, 110, 114, 118, 122, 126, 130, 134, 138, 142, 146, 150,\n",
              "        154, 158, 162, 166, 170, 174, 178, 182, 186, 190, 194, 198, 202,\n",
              "        206, 210, 214, 218, 222, 226, 230, 234, 238, 242, 246, 250, 254,\n",
              "        258, 262, 266, 270, 274, 278, 282, 286, 290, 294, 298]),\n",
              " array([ 60,  64,  68,  72,  76,  80,  84,  88,  92,  96, 100, 104, 108,\n",
              "        112, 116, 120, 124, 128, 132, 136, 140, 144, 148, 152, 156, 160,\n",
              "        164, 168, 172, 176, 180, 184, 188, 192, 196, 200, 204, 208, 212,\n",
              "        216, 220, 224, 228, 232, 236, 240, 244, 248, 252, 256, 260, 264,\n",
              "        268, 272, 276, 280, 284, 288, 292, 296, 300, 304, 308]))"
            ]
          },
          "metadata": {},
          "execution_count": 77
        }
      ]
    },
    {
      "cell_type": "code",
      "source": [
        "plt.scatter(x,y)"
      ],
      "metadata": {
        "colab": {
          "base_uri": "https://localhost:8080/",
          "height": 447
        },
        "id": "OBKxAKdvJsL4",
        "outputId": "6ed868c0-af53-4ad5-8a8d-5313b41d42ef"
      },
      "execution_count": null,
      "outputs": [
        {
          "output_type": "execute_result",
          "data": {
            "text/plain": [
              "<matplotlib.collections.PathCollection at 0x7f0a913fc1f0>"
            ]
          },
          "metadata": {},
          "execution_count": 35
        },
        {
          "output_type": "display_data",
          "data": {
            "text/plain": [
              "<Figure size 640x480 with 1 Axes>"
            ],
            "image/png": "[encoded data removed]"
          },
          "metadata": {}
        }
      ]
    },
    {
      "cell_type": "code",
      "source": [
        "tensor_X = tf.convert_to_tensor(x, dtype=tf.float32)  # You can specify the dtype if needed\n",
        "tensor_y = tf.convert_to_tensor(y, dtype=tf.float32)\n",
        "tensor_X,tensor_y"
      ],
      "metadata": {
        "colab": {
          "base_uri": "https://localhost:8080/"
        },
        "id": "tvddZheWJsq3",
        "outputId": "1bf7f69b-421c-4be0-9d66-1d74142e1a08"
      },
      "execution_count": null,
      "outputs": [
        {
          "output_type": "execute_result",
          "data": {
            "text/plain": [
              "(<tf.Tensor: shape=(63,), dtype=float32, numpy=\n",
              " array([ 50.,  54.,  58.,  62.,  66.,  70.,  74.,  78.,  82.,  86.,  90.,\n",
              "         94.,  98., 102., 106., 110., 114., 118., 122., 126., 130., 134.,\n",
              "        138., 142., 146., 150., 154., 158., 162., 166., 170., 174., 178.,\n",
              "        182., 186., 190., 194., 198., 202., 206., 210., 214., 218., 222.,\n",
              "        226., 230., 234., 238., 242., 246., 250., 254., 258., 262., 266.,\n",
              "        270., 274., 278., 282., 286., 290., 294., 298.], dtype=float32)>,\n",
              " <tf.Tensor: shape=(63,), dtype=float32, numpy=\n",
              " array([ 60.,  64.,  68.,  72.,  76.,  80.,  84.,  88.,  92.,  96., 100.,\n",
              "        104., 108., 112., 116., 120., 124., 128., 132., 136., 140., 144.,\n",
              "        148., 152., 156., 160., 164., 168., 172., 176., 180., 184., 188.,\n",
              "        192., 196., 200., 204., 208., 212., 216., 220., 224., 228., 232.,\n",
              "        236., 240., 244., 248., 252., 256., 260., 264., 268., 272., 276.,\n",
              "        280., 284., 288., 292., 296., 300., 304., 308.], dtype=float32)>)"
            ]
          },
          "metadata": {},
          "execution_count": 39
        }
      ]
    },
    {
      "cell_type": "code",
      "source": [
        "# Create training and test sets\n",
        "from sklearn.model_selection import train_test_split\n",
        "x_train, x_test, y_train, y_test = train_test_split(x,\n",
        "                                                    y,\n",
        "                                                    test_size=0.2,\n",
        "                                                    random_state=42)\n"
      ],
      "metadata": {
        "id": "U1WpouliJst0"
      },
      "execution_count": null,
      "outputs": []
    },
    {
      "cell_type": "code",
      "source": [
        "plt.figure(figsize=(10, 7))\n",
        "# Plot training data in blue\n",
        "plt.scatter(x_train, y_train, c='b', label='Training data')\n",
        "# Plot test data in green\n",
        "plt.scatter(x_test, y_test, c='g', label='Testing data')\n",
        "# Show the legend\n",
        "plt.legend();"
      ],
      "metadata": {
        "colab": {
          "base_uri": "https://localhost:8080/",
          "height": 599
        },
        "id": "qOWuo4PdP2g3",
        "outputId": "2526ec02-9a15-450a-9196-417d7766467b"
      },
      "execution_count": null,
      "outputs": [
        {
          "output_type": "display_data",
          "data": {
            "text/plain": [
              "<Figure size 1000x700 with 1 Axes>"
            ],
            "image/png": "[encoded data removed]"
          },
          "metadata": {}
        }
      ]
    },
    {
      "cell_type": "code",
      "source": [
        "x_train.shape, y_train.shape,x_test.shape,y_test.shape"
      ],
      "metadata": {
        "colab": {
          "base_uri": "https://localhost:8080/"
        },
        "id": "2Fqnh12AOl7s",
        "outputId": "0d66e961-a1e6-4c54-b281-0abe740bf2b1"
      },
      "execution_count": null,
      "outputs": [
        {
          "output_type": "execute_result",
          "data": {
            "text/plain": [
              "((50,), (50,), (13,), (13,))"
            ]
          },
          "metadata": {},
          "execution_count": 105
        }
      ]
    },
    {
      "cell_type": "code",
      "source": [
        "# Set random seed\n",
        "tf.random.set_seed(42)\n",
        "\n",
        "#creating four dense layer\n",
        "model_ex= tf.keras.Sequential([\n",
        "  tf.keras.layers.Dense(1),\n",
        "  tf.keras.layers.Dense(10) ,\n",
        "  tf.keras.layers.Dense(12),\n",
        "  tf.keras.layers.Dense(1)\n",
        "])\n",
        "\n",
        "# Compile the model\n",
        "model_ex.compile(loss=tf.keras.losses.mae,\n",
        "                        optimizer=tf.keras.optimizers.Adam(learning_rate=0.001),\n",
        "                        metrics=['mae'])\n",
        "\n",
        "# Fit the model\n",
        "history_ex=model_ex.fit( tf.expand_dims(X_train, axis=1), y_train, epochs=300)"
      ],
      "metadata": {
        "colab": {
          "base_uri": "https://localhost:8080/"
        },
        "id": "1TFXZrAwJswg",
        "outputId": "83aea093-734f-43ac-f732-a5f11bd6d731"
      },
      "execution_count": null,
      "outputs": [
        {
          "output_type": "stream",
          "name": "stdout",
          "text": [
            "Epoch 1/300\n",
            "2/2 [==============================] - 1s 14ms/step - loss: 40.4364 - mae: 40.4364\n",
            "Epoch 2/300\n",
            "2/2 [==============================] - 0s 8ms/step - loss: 30.7881 - mae: 30.7881\n",
            "Epoch 3/300\n",
            "2/2 [==============================] - 0s 6ms/step - loss: 21.1065 - mae: 21.1065\n",
            "Epoch 4/300\n",
            "2/2 [==============================] - 0s 8ms/step - loss: 11.9610 - mae: 11.9610\n",
            "Epoch 5/300\n",
            "2/2 [==============================] - 0s 7ms/step - loss: 4.8574 - mae: 4.8574\n",
            "Epoch 6/300\n",
            "2/2 [==============================] - 0s 6ms/step - loss: 5.5696 - mae: 5.5696\n",
            "Epoch 7/300\n",
            "2/2 [==============================] - 0s 6ms/step - loss: 9.2694 - mae: 9.2694\n",
            "Epoch 8/300\n",
            "2/2 [==============================] - 0s 10ms/step - loss: 9.6791 - mae: 9.6791\n",
            "Epoch 9/300\n",
            "2/2 [==============================] - 0s 8ms/step - loss: 7.7942 - mae: 7.7942\n",
            "Epoch 10/300\n",
            "2/2 [==============================] - 0s 7ms/step - loss: 4.3277 - mae: 4.3277\n",
            "Epoch 11/300\n",
            "2/2 [==============================] - 0s 6ms/step - loss: 3.6169 - mae: 3.6169\n",
            "Epoch 12/300\n",
            "2/2 [==============================] - 0s 7ms/step - loss: 5.0248 - mae: 5.0248\n",
            "Epoch 13/300\n",
            "2/2 [==============================] - 0s 5ms/step - loss: 5.8298 - mae: 5.8298\n",
            "Epoch 14/300\n",
            "2/2 [==============================] - 0s 7ms/step - loss: 5.3988 - mae: 5.3988\n",
            "Epoch 15/300\n",
            "2/2 [==============================] - 0s 11ms/step - loss: 4.2732 - mae: 4.2732\n",
            "Epoch 16/300\n",
            "2/2 [==============================] - 0s 7ms/step - loss: 3.2500 - mae: 3.2500\n",
            "Epoch 17/300\n",
            "2/2 [==============================] - 0s 5ms/step - loss: 3.5598 - mae: 3.5598\n",
            "Epoch 18/300\n",
            "2/2 [==============================] - 0s 6ms/step - loss: 4.1180 - mae: 4.1180\n",
            "Epoch 19/300\n",
            "2/2 [==============================] - 0s 5ms/step - loss: 3.3528 - mae: 3.3528\n",
            "Epoch 20/300\n",
            "2/2 [==============================] - 0s 5ms/step - loss: 3.1688 - mae: 3.1688\n",
            "Epoch 21/300\n",
            "2/2 [==============================] - 0s 6ms/step - loss: 3.4596 - mae: 3.4596\n",
            "Epoch 22/300\n",
            "2/2 [==============================] - 0s 6ms/step - loss: 3.5936 - mae: 3.5936\n",
            "Epoch 23/300\n",
            "2/2 [==============================] - 0s 7ms/step - loss: 3.3851 - mae: 3.3851\n",
            "Epoch 24/300\n",
            "2/2 [==============================] - 0s 6ms/step - loss: 3.1721 - mae: 3.1721\n",
            "Epoch 25/300\n",
            "2/2 [==============================] - 0s 6ms/step - loss: 3.2475 - mae: 3.2475\n",
            "Epoch 26/300\n",
            "2/2 [==============================] - 0s 6ms/step - loss: 3.3418 - mae: 3.3418\n",
            "Epoch 27/300\n",
            "2/2 [==============================] - 0s 9ms/step - loss: 3.1631 - mae: 3.1631\n",
            "Epoch 28/300\n",
            "2/2 [==============================] - 0s 6ms/step - loss: 3.1131 - mae: 3.1131\n",
            "Epoch 29/300\n",
            "2/2 [==============================] - 0s 7ms/step - loss: 3.2505 - mae: 3.2505\n",
            "Epoch 30/300\n",
            "2/2 [==============================] - 0s 7ms/step - loss: 3.2545 - mae: 3.2545\n",
            "Epoch 31/300\n",
            "2/2 [==============================] - 0s 7ms/step - loss: 3.1810 - mae: 3.1810\n",
            "Epoch 32/300\n",
            "2/2 [==============================] - 0s 7ms/step - loss: 3.0963 - mae: 3.0963\n",
            "Epoch 33/300\n",
            "2/2 [==============================] - 0s 6ms/step - loss: 3.1299 - mae: 3.1299\n",
            "Epoch 34/300\n",
            "2/2 [==============================] - 0s 6ms/step - loss: 3.1947 - mae: 3.1947\n",
            "Epoch 35/300\n",
            "2/2 [==============================] - 0s 8ms/step - loss: 3.0923 - mae: 3.0923\n",
            "Epoch 36/300\n",
            "2/2 [==============================] - 0s 9ms/step - loss: 3.1098 - mae: 3.1098\n",
            "Epoch 37/300\n",
            "2/2 [==============================] - 0s 7ms/step - loss: 3.2152 - mae: 3.2152\n",
            "Epoch 38/300\n",
            "2/2 [==============================] - 0s 6ms/step - loss: 3.1925 - mae: 3.1925\n",
            "Epoch 39/300\n",
            "2/2 [==============================] - 0s 8ms/step - loss: 3.1715 - mae: 3.1715\n",
            "Epoch 40/300\n",
            "2/2 [==============================] - 0s 7ms/step - loss: 3.0831 - mae: 3.0831\n",
            "Epoch 41/300\n",
            "2/2 [==============================] - 0s 6ms/step - loss: 3.1133 - mae: 3.1133\n",
            "Epoch 42/300\n",
            "2/2 [==============================] - 0s 8ms/step - loss: 3.1243 - mae: 3.1243\n",
            "Epoch 43/300\n",
            "2/2 [==============================] - 0s 8ms/step - loss: 3.1101 - mae: 3.1101\n",
            "Epoch 44/300\n",
            "2/2 [==============================] - 0s 8ms/step - loss: 3.0920 - mae: 3.0920\n",
            "Epoch 45/300\n",
            "2/2 [==============================] - 0s 7ms/step - loss: 3.0805 - mae: 3.0805\n",
            "Epoch 46/300\n",
            "2/2 [==============================] - 0s 7ms/step - loss: 3.1155 - mae: 3.1155\n",
            "Epoch 47/300\n",
            "2/2 [==============================] - 0s 6ms/step - loss: 3.1052 - mae: 3.1052\n",
            "Epoch 48/300\n",
            "2/2 [==============================] - 0s 6ms/step - loss: 3.0868 - mae: 3.0868\n",
            "Epoch 49/300\n",
            "2/2 [==============================] - 0s 6ms/step - loss: 3.0628 - mae: 3.0628\n",
            "Epoch 50/300\n",
            "2/2 [==============================] - 0s 7ms/step - loss: 3.0789 - mae: 3.0789\n",
            "Epoch 51/300\n",
            "2/2 [==============================] - 0s 6ms/step - loss: 3.0977 - mae: 3.0977\n",
            "Epoch 52/300\n",
            "2/2 [==============================] - 0s 7ms/step - loss: 3.0898 - mae: 3.0898\n",
            "Epoch 53/300\n",
            "2/2 [==============================] - 0s 6ms/step - loss: 3.0489 - mae: 3.0489\n",
            "Epoch 54/300\n",
            "2/2 [==============================] - 0s 6ms/step - loss: 3.0757 - mae: 3.0757\n",
            "Epoch 55/300\n",
            "2/2 [==============================] - 0s 7ms/step - loss: 3.0616 - mae: 3.0616\n",
            "Epoch 56/300\n",
            "2/2 [==============================] - 0s 6ms/step - loss: 3.0380 - mae: 3.0380\n",
            "Epoch 57/300\n",
            "2/2 [==============================] - 0s 7ms/step - loss: 3.0438 - mae: 3.0438\n",
            "Epoch 58/300\n",
            "2/2 [==============================] - 0s 6ms/step - loss: 3.0336 - mae: 3.0336\n",
            "Epoch 59/300\n",
            "2/2 [==============================] - 0s 8ms/step - loss: 3.0478 - mae: 3.0478\n",
            "Epoch 60/300\n",
            "2/2 [==============================] - 0s 7ms/step - loss: 3.0445 - mae: 3.0445\n",
            "Epoch 61/300\n",
            "2/2 [==============================] - 0s 6ms/step - loss: 3.0179 - mae: 3.0179\n",
            "Epoch 62/300\n",
            "2/2 [==============================] - 0s 6ms/step - loss: 3.0352 - mae: 3.0352\n",
            "Epoch 63/300\n",
            "2/2 [==============================] - 0s 7ms/step - loss: 3.0228 - mae: 3.0228\n",
            "Epoch 64/300\n",
            "2/2 [==============================] - 0s 9ms/step - loss: 3.0000 - mae: 3.0000\n",
            "Epoch 65/300\n",
            "2/2 [==============================] - 0s 7ms/step - loss: 3.0829 - mae: 3.0829\n",
            "Epoch 66/300\n",
            "2/2 [==============================] - 0s 7ms/step - loss: 3.1090 - mae: 3.1090\n",
            "Epoch 67/300\n",
            "2/2 [==============================] - 0s 6ms/step - loss: 3.0208 - mae: 3.0208\n",
            "Epoch 68/300\n",
            "2/2 [==============================] - 0s 6ms/step - loss: 3.0029 - mae: 3.0029\n",
            "Epoch 69/300\n",
            "2/2 [==============================] - 0s 6ms/step - loss: 3.0616 - mae: 3.0616\n",
            "Epoch 70/300\n",
            "2/2 [==============================] - 0s 5ms/step - loss: 3.0020 - mae: 3.0020\n",
            "Epoch 71/300\n",
            "2/2 [==============================] - 0s 6ms/step - loss: 2.9878 - mae: 2.9878\n",
            "Epoch 72/300\n",
            "2/2 [==============================] - 0s 7ms/step - loss: 3.0829 - mae: 3.0829\n",
            "Epoch 73/300\n",
            "2/2 [==============================] - 0s 6ms/step - loss: 3.1005 - mae: 3.1005\n",
            "Epoch 74/300\n",
            "2/2 [==============================] - 0s 6ms/step - loss: 3.0097 - mae: 3.0097\n",
            "Epoch 75/300\n",
            "2/2 [==============================] - 0s 7ms/step - loss: 2.9922 - mae: 2.9922\n",
            "Epoch 76/300\n",
            "2/2 [==============================] - 0s 6ms/step - loss: 3.0405 - mae: 3.0405\n",
            "Epoch 77/300\n",
            "2/2 [==============================] - 0s 6ms/step - loss: 2.9929 - mae: 2.9929\n",
            "Epoch 78/300\n",
            "2/2 [==============================] - 0s 6ms/step - loss: 2.9830 - mae: 2.9830\n",
            "Epoch 79/300\n",
            "2/2 [==============================] - 0s 6ms/step - loss: 2.9850 - mae: 2.9850\n",
            "Epoch 80/300\n",
            "2/2 [==============================] - 0s 6ms/step - loss: 3.0041 - mae: 3.0041\n",
            "Epoch 81/300\n",
            "2/2 [==============================] - 0s 7ms/step - loss: 2.9594 - mae: 2.9594\n",
            "Epoch 82/300\n",
            "2/2 [==============================] - 0s 8ms/step - loss: 2.9925 - mae: 2.9925\n",
            "Epoch 83/300\n",
            "2/2 [==============================] - 0s 6ms/step - loss: 2.9984 - mae: 2.9984\n",
            "Epoch 84/300\n",
            "2/2 [==============================] - 0s 6ms/step - loss: 2.9821 - mae: 2.9821\n",
            "Epoch 85/300\n",
            "2/2 [==============================] - 0s 8ms/step - loss: 3.1019 - mae: 3.1019\n",
            "Epoch 86/300\n",
            "2/2 [==============================] - 0s 7ms/step - loss: 2.9980 - mae: 2.9980\n",
            "Epoch 87/300\n",
            "2/2 [==============================] - 0s 8ms/step - loss: 2.9310 - mae: 2.9310\n",
            "Epoch 88/300\n",
            "2/2 [==============================] - 0s 8ms/step - loss: 3.0160 - mae: 3.0160\n",
            "Epoch 89/300\n",
            "2/2 [==============================] - 0s 7ms/step - loss: 2.9794 - mae: 2.9794\n",
            "Epoch 90/300\n",
            "2/2 [==============================] - 0s 6ms/step - loss: 2.9150 - mae: 2.9150\n",
            "Epoch 91/300\n",
            "2/2 [==============================] - 0s 5ms/step - loss: 3.0075 - mae: 3.0075\n",
            "Epoch 92/300\n",
            "2/2 [==============================] - 0s 8ms/step - loss: 2.9851 - mae: 2.9851\n",
            "Epoch 93/300\n",
            "2/2 [==============================] - 0s 9ms/step - loss: 2.9173 - mae: 2.9173\n",
            "Epoch 94/300\n",
            "2/2 [==============================] - 0s 7ms/step - loss: 3.0099 - mae: 3.0099\n",
            "Epoch 95/300\n",
            "2/2 [==============================] - 0s 6ms/step - loss: 2.9454 - mae: 2.9454\n",
            "Epoch 96/300\n",
            "2/2 [==============================] - 0s 6ms/step - loss: 2.8913 - mae: 2.8913\n",
            "Epoch 97/300\n",
            "2/2 [==============================] - 0s 9ms/step - loss: 2.9923 - mae: 2.9923\n",
            "Epoch 98/300\n",
            "2/2 [==============================] - 0s 8ms/step - loss: 2.9720 - mae: 2.9720\n",
            "Epoch 99/300\n",
            "2/2 [==============================] - 0s 7ms/step - loss: 2.9130 - mae: 2.9130\n",
            "Epoch 100/300\n",
            "2/2 [==============================] - 0s 8ms/step - loss: 2.9407 - mae: 2.9407\n",
            "Epoch 101/300\n",
            "2/2 [==============================] - 0s 7ms/step - loss: 2.9343 - mae: 2.9343\n",
            "Epoch 102/300\n",
            "2/2 [==============================] - 0s 6ms/step - loss: 2.8866 - mae: 2.8866\n",
            "Epoch 103/300\n",
            "2/2 [==============================] - 0s 6ms/step - loss: 2.8818 - mae: 2.8818\n",
            "Epoch 104/300\n",
            "2/2 [==============================] - 0s 5ms/step - loss: 2.8843 - mae: 2.8843\n",
            "Epoch 105/300\n",
            "2/2 [==============================] - 0s 7ms/step - loss: 2.8721 - mae: 2.8721\n",
            "Epoch 106/300\n",
            "2/2 [==============================] - 0s 7ms/step - loss: 2.9146 - mae: 2.9146\n",
            "Epoch 107/300\n",
            "2/2 [==============================] - 0s 9ms/step - loss: 2.8812 - mae: 2.8812\n",
            "Epoch 108/300\n",
            "2/2 [==============================] - 0s 8ms/step - loss: 2.9179 - mae: 2.9179\n",
            "Epoch 109/300\n",
            "2/2 [==============================] - 0s 7ms/step - loss: 2.9681 - mae: 2.9681\n",
            "Epoch 110/300\n",
            "2/2 [==============================] - 0s 7ms/step - loss: 2.9167 - mae: 2.9167\n",
            "Epoch 111/300\n",
            "2/2 [==============================] - 0s 6ms/step - loss: 2.9039 - mae: 2.9039\n",
            "Epoch 112/300\n",
            "2/2 [==============================] - 0s 5ms/step - loss: 2.8542 - mae: 2.8542\n",
            "Epoch 113/300\n",
            "2/2 [==============================] - 0s 6ms/step - loss: 2.8579 - mae: 2.8579\n",
            "Epoch 114/300\n",
            "2/2 [==============================] - 0s 6ms/step - loss: 2.8664 - mae: 2.8664\n",
            "Epoch 115/300\n",
            "2/2 [==============================] - 0s 6ms/step - loss: 2.8468 - mae: 2.8468\n",
            "Epoch 116/300\n",
            "2/2 [==============================] - 0s 6ms/step - loss: 2.8720 - mae: 2.8720\n",
            "Epoch 117/300\n",
            "2/2 [==============================] - 0s 6ms/step - loss: 2.8498 - mae: 2.8498\n",
            "Epoch 118/300\n",
            "2/2 [==============================] - 0s 7ms/step - loss: 2.9573 - mae: 2.9573\n",
            "Epoch 119/300\n",
            "2/2 [==============================] - 0s 6ms/step - loss: 2.8486 - mae: 2.8486\n",
            "Epoch 120/300\n",
            "2/2 [==============================] - 0s 9ms/step - loss: 2.8266 - mae: 2.8266\n",
            "Epoch 121/300\n",
            "2/2 [==============================] - 0s 8ms/step - loss: 2.8556 - mae: 2.8556\n",
            "Epoch 122/300\n",
            "2/2 [==============================] - 0s 6ms/step - loss: 2.8773 - mae: 2.8773\n",
            "Epoch 123/300\n",
            "2/2 [==============================] - 0s 7ms/step - loss: 2.8145 - mae: 2.8145\n",
            "Epoch 124/300\n",
            "2/2 [==============================] - 0s 8ms/step - loss: 2.8043 - mae: 2.8043\n",
            "Epoch 125/300\n",
            "2/2 [==============================] - 0s 5ms/step - loss: 2.8047 - mae: 2.8047\n",
            "Epoch 126/300\n",
            "2/2 [==============================] - 0s 6ms/step - loss: 2.8192 - mae: 2.8192\n",
            "Epoch 127/300\n",
            "2/2 [==============================] - 0s 6ms/step - loss: 2.7959 - mae: 2.7959\n",
            "Epoch 128/300\n",
            "2/2 [==============================] - 0s 5ms/step - loss: 2.7869 - mae: 2.7869\n",
            "Epoch 129/300\n",
            "2/2 [==============================] - 0s 6ms/step - loss: 2.8038 - mae: 2.8038\n",
            "Epoch 130/300\n",
            "2/2 [==============================] - 0s 5ms/step - loss: 2.8879 - mae: 2.8879\n",
            "Epoch 131/300\n",
            "2/2 [==============================] - 0s 6ms/step - loss: 2.8708 - mae: 2.8708\n",
            "Epoch 132/300\n",
            "2/2 [==============================] - 0s 6ms/step - loss: 2.8259 - mae: 2.8259\n",
            "Epoch 133/300\n",
            "2/2 [==============================] - 0s 7ms/step - loss: 3.0050 - mae: 3.0050\n",
            "Epoch 134/300\n",
            "2/2 [==============================] - 0s 7ms/step - loss: 2.7453 - mae: 2.7453\n",
            "Epoch 135/300\n",
            "2/2 [==============================] - 0s 10ms/step - loss: 2.9528 - mae: 2.9528\n",
            "Epoch 136/300\n",
            "2/2 [==============================] - 0s 6ms/step - loss: 2.9582 - mae: 2.9582\n",
            "Epoch 137/300\n",
            "2/2 [==============================] - 0s 6ms/step - loss: 2.8020 - mae: 2.8020\n",
            "Epoch 138/300\n",
            "2/2 [==============================] - 0s 7ms/step - loss: 2.7943 - mae: 2.7943\n",
            "Epoch 139/300\n",
            "2/2 [==============================] - 0s 9ms/step - loss: 2.7648 - mae: 2.7648\n",
            "Epoch 140/300\n",
            "2/2 [==============================] - 0s 7ms/step - loss: 2.7294 - mae: 2.7294\n",
            "Epoch 141/300\n",
            "2/2 [==============================] - 0s 6ms/step - loss: 2.7746 - mae: 2.7746\n",
            "Epoch 142/300\n",
            "2/2 [==============================] - 0s 7ms/step - loss: 2.7977 - mae: 2.7977\n",
            "Epoch 143/300\n",
            "2/2 [==============================] - 0s 8ms/step - loss: 2.7290 - mae: 2.7290\n",
            "Epoch 144/300\n",
            "2/2 [==============================] - 0s 8ms/step - loss: 2.7282 - mae: 2.7282\n",
            "Epoch 145/300\n",
            "2/2 [==============================] - 0s 7ms/step - loss: 2.7231 - mae: 2.7231\n",
            "Epoch 146/300\n",
            "2/2 [==============================] - 0s 6ms/step - loss: 2.7378 - mae: 2.7378\n",
            "Epoch 147/300\n",
            "2/2 [==============================] - 0s 6ms/step - loss: 2.7382 - mae: 2.7382\n",
            "Epoch 148/300\n",
            "2/2 [==============================] - 0s 6ms/step - loss: 2.7429 - mae: 2.7429\n",
            "Epoch 149/300\n",
            "2/2 [==============================] - 0s 6ms/step - loss: 2.7029 - mae: 2.7029\n",
            "Epoch 150/300\n",
            "2/2 [==============================] - 0s 7ms/step - loss: 2.7619 - mae: 2.7619\n",
            "Epoch 151/300\n",
            "2/2 [==============================] - 0s 6ms/step - loss: 2.7231 - mae: 2.7231\n",
            "Epoch 152/300\n",
            "2/2 [==============================] - 0s 6ms/step - loss: 2.7253 - mae: 2.7253\n",
            "Epoch 153/300\n",
            "2/2 [==============================] - 0s 6ms/step - loss: 2.6915 - mae: 2.6915\n",
            "Epoch 154/300\n",
            "2/2 [==============================] - 0s 6ms/step - loss: 2.6866 - mae: 2.6866\n",
            "Epoch 155/300\n",
            "2/2 [==============================] - 0s 6ms/step - loss: 2.6812 - mae: 2.6812\n",
            "Epoch 156/300\n",
            "2/2 [==============================] - 0s 7ms/step - loss: 2.6767 - mae: 2.6767\n",
            "Epoch 157/300\n",
            "2/2 [==============================] - 0s 5ms/step - loss: 2.6760 - mae: 2.6760\n",
            "Epoch 158/300\n",
            "2/2 [==============================] - 0s 5ms/step - loss: 2.6793 - mae: 2.6793\n",
            "Epoch 159/300\n",
            "2/2 [==============================] - 0s 6ms/step - loss: 2.6665 - mae: 2.6665\n",
            "Epoch 160/300\n",
            "2/2 [==============================] - 0s 8ms/step - loss: 2.6696 - mae: 2.6696\n",
            "Epoch 161/300\n",
            "2/2 [==============================] - 0s 7ms/step - loss: 2.7062 - mae: 2.7062\n",
            "Epoch 162/300\n",
            "2/2 [==============================] - 0s 7ms/step - loss: 2.6622 - mae: 2.6622\n",
            "Epoch 163/300\n",
            "2/2 [==============================] - 0s 6ms/step - loss: 2.6651 - mae: 2.6651\n",
            "Epoch 164/300\n",
            "2/2 [==============================] - 0s 7ms/step - loss: 2.6536 - mae: 2.6536\n",
            "Epoch 165/300\n",
            "2/2 [==============================] - 0s 7ms/step - loss: 2.6550 - mae: 2.6550\n",
            "Epoch 166/300\n",
            "2/2 [==============================] - 0s 6ms/step - loss: 2.6362 - mae: 2.6362\n",
            "Epoch 167/300\n",
            "2/2 [==============================] - 0s 6ms/step - loss: 2.6348 - mae: 2.6348\n",
            "Epoch 168/300\n",
            "2/2 [==============================] - 0s 6ms/step - loss: 2.6625 - mae: 2.6625\n",
            "Epoch 169/300\n",
            "2/2 [==============================] - 0s 6ms/step - loss: 2.6472 - mae: 2.6472\n",
            "Epoch 170/300\n",
            "2/2 [==============================] - 0s 6ms/step - loss: 2.6203 - mae: 2.6203\n",
            "Epoch 171/300\n",
            "2/2 [==============================] - 0s 6ms/step - loss: 2.7298 - mae: 2.7298\n",
            "Epoch 172/300\n",
            "2/2 [==============================] - 0s 6ms/step - loss: 2.6581 - mae: 2.6581\n",
            "Epoch 173/300\n",
            "2/2 [==============================] - 0s 6ms/step - loss: 2.6468 - mae: 2.6468\n",
            "Epoch 174/300\n",
            "2/2 [==============================] - 0s 6ms/step - loss: 2.6347 - mae: 2.6347\n",
            "Epoch 175/300\n",
            "2/2 [==============================] - 0s 6ms/step - loss: 2.6171 - mae: 2.6171\n",
            "Epoch 176/300\n",
            "2/2 [==============================] - 0s 6ms/step - loss: 2.6734 - mae: 2.6734\n",
            "Epoch 177/300\n",
            "2/2 [==============================] - 0s 6ms/step - loss: 2.6066 - mae: 2.6066\n",
            "Epoch 178/300\n",
            "2/2 [==============================] - 0s 6ms/step - loss: 2.6106 - mae: 2.6106\n",
            "Epoch 179/300\n",
            "2/2 [==============================] - 0s 6ms/step - loss: 2.6900 - mae: 2.6900\n",
            "Epoch 180/300\n",
            "2/2 [==============================] - 0s 7ms/step - loss: 2.6209 - mae: 2.6209\n",
            "Epoch 181/300\n",
            "2/2 [==============================] - 0s 8ms/step - loss: 2.6582 - mae: 2.6582\n",
            "Epoch 182/300\n",
            "2/2 [==============================] - 0s 7ms/step - loss: 2.5717 - mae: 2.5717\n",
            "Epoch 183/300\n",
            "2/2 [==============================] - 0s 7ms/step - loss: 2.7307 - mae: 2.7307\n",
            "Epoch 184/300\n",
            "2/2 [==============================] - 0s 11ms/step - loss: 2.5652 - mae: 2.5652\n",
            "Epoch 185/300\n",
            "2/2 [==============================] - 0s 8ms/step - loss: 2.6905 - mae: 2.6905\n",
            "Epoch 186/300\n",
            "2/2 [==============================] - 0s 6ms/step - loss: 2.7290 - mae: 2.7290\n",
            "Epoch 187/300\n",
            "2/2 [==============================] - 0s 6ms/step - loss: 2.6729 - mae: 2.6729\n",
            "Epoch 188/300\n",
            "2/2 [==============================] - 0s 9ms/step - loss: 2.6804 - mae: 2.6804\n",
            "Epoch 189/300\n",
            "2/2 [==============================] - 0s 6ms/step - loss: 2.5558 - mae: 2.5558\n",
            "Epoch 190/300\n",
            "2/2 [==============================] - 0s 7ms/step - loss: 2.8153 - mae: 2.8153\n",
            "Epoch 191/300\n",
            "2/2 [==============================] - 0s 8ms/step - loss: 2.5847 - mae: 2.5847\n",
            "Epoch 192/300\n",
            "2/2 [==============================] - 0s 6ms/step - loss: 2.6750 - mae: 2.6750\n",
            "Epoch 193/300\n",
            "2/2 [==============================] - 0s 6ms/step - loss: 2.6620 - mae: 2.6620\n",
            "Epoch 194/300\n",
            "2/2 [==============================] - 0s 8ms/step - loss: 2.6434 - mae: 2.6434\n",
            "Epoch 195/300\n",
            "2/2 [==============================] - 0s 7ms/step - loss: 2.7929 - mae: 2.7929\n",
            "Epoch 196/300\n",
            "2/2 [==============================] - 0s 11ms/step - loss: 2.7089 - mae: 2.7089\n",
            "Epoch 197/300\n",
            "2/2 [==============================] - 0s 8ms/step - loss: 2.7393 - mae: 2.7393\n",
            "Epoch 198/300\n",
            "2/2 [==============================] - 0s 6ms/step - loss: 2.5409 - mae: 2.5409\n",
            "Epoch 199/300\n",
            "2/2 [==============================] - 0s 5ms/step - loss: 2.5044 - mae: 2.5044\n",
            "Epoch 200/300\n",
            "2/2 [==============================] - 0s 6ms/step - loss: 2.5011 - mae: 2.5011\n",
            "Epoch 201/300\n",
            "2/2 [==============================] - 0s 10ms/step - loss: 2.5280 - mae: 2.5280\n",
            "Epoch 202/300\n",
            "2/2 [==============================] - 0s 6ms/step - loss: 2.5370 - mae: 2.5370\n",
            "Epoch 203/300\n",
            "2/2 [==============================] - 0s 6ms/step - loss: 2.5123 - mae: 2.5123\n",
            "Epoch 204/300\n",
            "2/2 [==============================] - 0s 7ms/step - loss: 2.6097 - mae: 2.6097\n",
            "Epoch 205/300\n",
            "2/2 [==============================] - 0s 8ms/step - loss: 2.5426 - mae: 2.5426\n",
            "Epoch 206/300\n",
            "2/2 [==============================] - 0s 8ms/step - loss: 2.5100 - mae: 2.5100\n",
            "Epoch 207/300\n",
            "2/2 [==============================] - 0s 9ms/step - loss: 2.5548 - mae: 2.5548\n",
            "Epoch 208/300\n",
            "2/2 [==============================] - 0s 6ms/step - loss: 2.5051 - mae: 2.5051\n",
            "Epoch 209/300\n",
            "2/2 [==============================] - 0s 6ms/step - loss: 2.5715 - mae: 2.5715\n",
            "Epoch 210/300\n",
            "2/2 [==============================] - 0s 4ms/step - loss: 2.4413 - mae: 2.4413\n",
            "Epoch 211/300\n",
            "2/2 [==============================] - 0s 5ms/step - loss: 2.5462 - mae: 2.5462\n",
            "Epoch 212/300\n",
            "2/2 [==============================] - 0s 5ms/step - loss: 2.5756 - mae: 2.5756\n",
            "Epoch 213/300\n",
            "2/2 [==============================] - 0s 7ms/step - loss: 2.4508 - mae: 2.4508\n",
            "Epoch 214/300\n",
            "2/2 [==============================] - 0s 6ms/step - loss: 2.4429 - mae: 2.4429\n",
            "Epoch 215/300\n",
            "2/2 [==============================] - 0s 6ms/step - loss: 2.4816 - mae: 2.4816\n",
            "Epoch 216/300\n",
            "2/2 [==============================] - 0s 6ms/step - loss: 2.4608 - mae: 2.4608\n",
            "Epoch 217/300\n",
            "2/2 [==============================] - 0s 6ms/step - loss: 2.5191 - mae: 2.5191\n",
            "Epoch 218/300\n",
            "2/2 [==============================] - 0s 7ms/step - loss: 2.3853 - mae: 2.3853\n",
            "Epoch 219/300\n",
            "2/2 [==============================] - 0s 6ms/step - loss: 2.5435 - mae: 2.5435\n",
            "Epoch 220/300\n",
            "2/2 [==============================] - 0s 7ms/step - loss: 2.5273 - mae: 2.5273\n",
            "Epoch 221/300\n",
            "2/2 [==============================] - 0s 7ms/step - loss: 2.4445 - mae: 2.4445\n",
            "Epoch 222/300\n",
            "2/2 [==============================] - 0s 9ms/step - loss: 2.5726 - mae: 2.5726\n",
            "Epoch 223/300\n",
            "2/2 [==============================] - 0s 6ms/step - loss: 2.5091 - mae: 2.5091\n",
            "Epoch 224/300\n",
            "2/2 [==============================] - 0s 6ms/step - loss: 2.4081 - mae: 2.4081\n",
            "Epoch 225/300\n",
            "2/2 [==============================] - 0s 6ms/step - loss: 2.4076 - mae: 2.4076\n",
            "Epoch 226/300\n",
            "2/2 [==============================] - 0s 6ms/step - loss: 2.4574 - mae: 2.4574\n",
            "Epoch 227/300\n",
            "2/2 [==============================] - 0s 5ms/step - loss: 2.3959 - mae: 2.3959\n",
            "Epoch 228/300\n",
            "2/2 [==============================] - 0s 6ms/step - loss: 2.4353 - mae: 2.4353\n",
            "Epoch 229/300\n",
            "2/2 [==============================] - 0s 5ms/step - loss: 2.4455 - mae: 2.4455\n",
            "Epoch 230/300\n",
            "2/2 [==============================] - 0s 6ms/step - loss: 2.3911 - mae: 2.3911\n",
            "Epoch 231/300\n",
            "2/2 [==============================] - 0s 6ms/step - loss: 2.3766 - mae: 2.3766\n",
            "Epoch 232/300\n",
            "2/2 [==============================] - 0s 7ms/step - loss: 2.3832 - mae: 2.3832\n",
            "Epoch 233/300\n",
            "2/2 [==============================] - 0s 7ms/step - loss: 2.3670 - mae: 2.3670\n",
            "Epoch 234/300\n",
            "2/2 [==============================] - 0s 6ms/step - loss: 2.4248 - mae: 2.4248\n",
            "Epoch 235/300\n",
            "2/2 [==============================] - 0s 6ms/step - loss: 2.3568 - mae: 2.3568\n",
            "Epoch 236/300\n",
            "2/2 [==============================] - 0s 6ms/step - loss: 2.3801 - mae: 2.3801\n",
            "Epoch 237/300\n",
            "2/2 [==============================] - 0s 6ms/step - loss: 2.3571 - mae: 2.3571\n",
            "Epoch 238/300\n",
            "2/2 [==============================] - 0s 7ms/step - loss: 2.3348 - mae: 2.3348\n",
            "Epoch 239/300\n",
            "2/2 [==============================] - 0s 6ms/step - loss: 2.4433 - mae: 2.4433\n",
            "Epoch 240/300\n",
            "2/2 [==============================] - 0s 7ms/step - loss: 2.3649 - mae: 2.3649\n",
            "Epoch 241/300\n",
            "2/2 [==============================] - 0s 10ms/step - loss: 2.3375 - mae: 2.3375\n",
            "Epoch 242/300\n",
            "2/2 [==============================] - 0s 6ms/step - loss: 2.4314 - mae: 2.4314\n",
            "Epoch 243/300\n",
            "2/2 [==============================] - 0s 10ms/step - loss: 2.3399 - mae: 2.3399\n",
            "Epoch 244/300\n",
            "2/2 [==============================] - 0s 7ms/step - loss: 2.3590 - mae: 2.3590\n",
            "Epoch 245/300\n",
            "2/2 [==============================] - 0s 7ms/step - loss: 2.3900 - mae: 2.3900\n",
            "Epoch 246/300\n",
            "2/2 [==============================] - 0s 7ms/step - loss: 2.3881 - mae: 2.3881\n",
            "Epoch 247/300\n",
            "2/2 [==============================] - 0s 7ms/step - loss: 2.2944 - mae: 2.2944\n",
            "Epoch 248/300\n",
            "2/2 [==============================] - 0s 7ms/step - loss: 2.3427 - mae: 2.3427\n",
            "Epoch 249/300\n",
            "2/2 [==============================] - 0s 7ms/step - loss: 2.2927 - mae: 2.2927\n",
            "Epoch 250/300\n",
            "2/2 [==============================] - 0s 7ms/step - loss: 2.3326 - mae: 2.3326\n",
            "Epoch 251/300\n",
            "2/2 [==============================] - 0s 7ms/step - loss: 2.4066 - mae: 2.4066\n",
            "Epoch 252/300\n",
            "2/2 [==============================] - 0s 7ms/step - loss: 2.2747 - mae: 2.2747\n",
            "Epoch 253/300\n",
            "2/2 [==============================] - 0s 9ms/step - loss: 2.3176 - mae: 2.3176\n",
            "Epoch 254/300\n",
            "2/2 [==============================] - 0s 9ms/step - loss: 2.2963 - mae: 2.2963\n",
            "Epoch 255/300\n",
            "2/2 [==============================] - 0s 7ms/step - loss: 2.3298 - mae: 2.3298\n",
            "Epoch 256/300\n",
            "2/2 [==============================] - 0s 6ms/step - loss: 2.2839 - mae: 2.2839\n",
            "Epoch 257/300\n",
            "2/2 [==============================] - 0s 6ms/step - loss: 2.3166 - mae: 2.3166\n",
            "Epoch 258/300\n",
            "2/2 [==============================] - 0s 7ms/step - loss: 2.2546 - mae: 2.2546\n",
            "Epoch 259/300\n",
            "2/2 [==============================] - 0s 7ms/step - loss: 2.3058 - mae: 2.3058\n",
            "Epoch 260/300\n",
            "2/2 [==============================] - 0s 7ms/step - loss: 2.2339 - mae: 2.2339\n",
            "Epoch 261/300\n",
            "2/2 [==============================] - 0s 7ms/step - loss: 2.2858 - mae: 2.2858\n",
            "Epoch 262/300\n",
            "2/2 [==============================] - 0s 7ms/step - loss: 2.4098 - mae: 2.4098\n",
            "Epoch 263/300\n",
            "2/2 [==============================] - 0s 7ms/step - loss: 2.2477 - mae: 2.2477\n",
            "Epoch 264/300\n",
            "2/2 [==============================] - 0s 7ms/step - loss: 2.2424 - mae: 2.2424\n",
            "Epoch 265/300\n",
            "2/2 [==============================] - 0s 7ms/step - loss: 2.2183 - mae: 2.2183\n",
            "Epoch 266/300\n",
            "2/2 [==============================] - 0s 6ms/step - loss: 2.2773 - mae: 2.2773\n",
            "Epoch 267/300\n",
            "2/2 [==============================] - 0s 6ms/step - loss: 2.2936 - mae: 2.2936\n",
            "Epoch 268/300\n",
            "2/2 [==============================] - 0s 6ms/step - loss: 2.3479 - mae: 2.3479\n",
            "Epoch 269/300\n",
            "2/2 [==============================] - 0s 6ms/step - loss: 2.2062 - mae: 2.2062\n",
            "Epoch 270/300\n",
            "2/2 [==============================] - 0s 6ms/step - loss: 2.2137 - mae: 2.2137\n",
            "Epoch 271/300\n",
            "2/2 [==============================] - 0s 6ms/step - loss: 2.2227 - mae: 2.2227\n",
            "Epoch 272/300\n",
            "2/2 [==============================] - 0s 5ms/step - loss: 2.1912 - mae: 2.1912\n",
            "Epoch 273/300\n",
            "2/2 [==============================] - 0s 6ms/step - loss: 2.2000 - mae: 2.2000\n",
            "Epoch 274/300\n",
            "2/2 [==============================] - 0s 7ms/step - loss: 2.2148 - mae: 2.2148\n",
            "Epoch 275/300\n",
            "2/2 [==============================] - 0s 5ms/step - loss: 2.2294 - mae: 2.2294\n",
            "Epoch 276/300\n",
            "2/2 [==============================] - 0s 6ms/step - loss: 2.2233 - mae: 2.2233\n",
            "Epoch 277/300\n",
            "2/2 [==============================] - 0s 14ms/step - loss: 2.1622 - mae: 2.1622\n",
            "Epoch 278/300\n",
            "2/2 [==============================] - 0s 12ms/step - loss: 2.2425 - mae: 2.2425\n",
            "Epoch 279/300\n",
            "2/2 [==============================] - 0s 8ms/step - loss: 2.1657 - mae: 2.1657\n",
            "Epoch 280/300\n",
            "2/2 [==============================] - 0s 11ms/step - loss: 2.2672 - mae: 2.2672\n",
            "Epoch 281/300\n",
            "2/2 [==============================] - 0s 7ms/step - loss: 2.1730 - mae: 2.1730\n",
            "Epoch 282/300\n",
            "2/2 [==============================] - 0s 7ms/step - loss: 2.2176 - mae: 2.2176\n",
            "Epoch 283/300\n",
            "2/2 [==============================] - 0s 6ms/step - loss: 2.1290 - mae: 2.1290\n",
            "Epoch 284/300\n",
            "2/2 [==============================] - 0s 7ms/step - loss: 2.2235 - mae: 2.2235\n",
            "Epoch 285/300\n",
            "2/2 [==============================] - 0s 8ms/step - loss: 2.1389 - mae: 2.1389\n",
            "Epoch 286/300\n",
            "2/2 [==============================] - 0s 7ms/step - loss: 2.1377 - mae: 2.1377\n",
            "Epoch 287/300\n",
            "2/2 [==============================] - 0s 7ms/step - loss: 2.1334 - mae: 2.1334\n",
            "Epoch 288/300\n",
            "2/2 [==============================] - 0s 7ms/step - loss: 2.1453 - mae: 2.1453\n",
            "Epoch 289/300\n",
            "2/2 [==============================] - 0s 6ms/step - loss: 2.1369 - mae: 2.1369\n",
            "Epoch 290/300\n",
            "2/2 [==============================] - 0s 7ms/step - loss: 2.1676 - mae: 2.1676\n",
            "Epoch 291/300\n",
            "2/2 [==============================] - 0s 10ms/step - loss: 2.1372 - mae: 2.1372\n",
            "Epoch 292/300\n",
            "2/2 [==============================] - 0s 6ms/step - loss: 2.1587 - mae: 2.1587\n",
            "Epoch 293/300\n",
            "2/2 [==============================] - 0s 5ms/step - loss: 2.1709 - mae: 2.1709\n",
            "Epoch 294/300\n",
            "2/2 [==============================] - 0s 6ms/step - loss: 2.0797 - mae: 2.0797\n",
            "Epoch 295/300\n",
            "2/2 [==============================] - 0s 6ms/step - loss: 2.1615 - mae: 2.1615\n",
            "Epoch 296/300\n",
            "2/2 [==============================] - 0s 6ms/step - loss: 2.1490 - mae: 2.1490\n",
            "Epoch 297/300\n",
            "2/2 [==============================] - 0s 6ms/step - loss: 2.1066 - mae: 2.1066\n",
            "Epoch 298/300\n",
            "2/2 [==============================] - 0s 7ms/step - loss: 2.1037 - mae: 2.1037\n",
            "Epoch 299/300\n",
            "2/2 [==============================] - 0s 6ms/step - loss: 2.1395 - mae: 2.1395\n",
            "Epoch 300/300\n",
            "2/2 [==============================] - 0s 6ms/step - loss: 2.0710 - mae: 2.0710\n"
          ]
        }
      ]
    },
    {
      "cell_type": "code",
      "source": [
        "model_ex.predict([70.0])"
      ],
      "metadata": {
        "colab": {
          "base_uri": "https://localhost:8080/"
        },
        "id": "dnfkSW0DUy5O",
        "outputId": "3520701c-3676-44b9-93e8-8c08cbf7df8b"
      },
      "execution_count": null,
      "outputs": [
        {
          "output_type": "stream",
          "name": "stdout",
          "text": [
            "1/1 [==============================] - 0s 83ms/step\n"
          ]
        },
        {
          "output_type": "execute_result",
          "data": {
            "text/plain": [
              "array([[75.50271]], dtype=float32)"
            ]
          },
          "metadata": {},
          "execution_count": 140
        }
      ]
    },
    {
      "cell_type": "code",
      "source": [
        "# Make predictions\n",
        "y_preds = model_ex.predict(x_test)"
      ],
      "metadata": {
        "colab": {
          "base_uri": "https://localhost:8080/"
        },
        "id": "ENwkvX4ISKEc",
        "outputId": "5c3cf9b7-8f4b-4439-b92f-ea322c880ca1"
      },
      "execution_count": null,
      "outputs": [
        {
          "output_type": "stream",
          "name": "stdout",
          "text": [
            "1/1 [==============================] - 0s 60ms/step\n"
          ]
        }
      ]
    },
    {
      "cell_type": "code",
      "source": [
        "y_preds"
      ],
      "metadata": {
        "colab": {
          "base_uri": "https://localhost:8080/"
        },
        "id": "u6Q5XyG_UoYx",
        "outputId": "305d1f47-dedb-466b-dbb1-6388ccb4ba7c"
      },
      "execution_count": null,
      "outputs": [
        {
          "output_type": "execute_result",
          "data": {
            "text/plain": [
              "array([[306.2281  ],\n",
              "       [289.74768 ],\n",
              "       [ 54.902218],\n",
              "       [232.06636 ],\n",
              "       [ 75.50271 ],\n",
              "       [203.22571 ],\n",
              "       [120.82376 ],\n",
              "       [104.34337 ],\n",
              "       [157.90462 ],\n",
              "       [302.10803 ],\n",
              "       [281.5075  ],\n",
              "       [ 91.983086],\n",
              "       [219.70609 ]], dtype=float32)"
            ]
          },
          "metadata": {},
          "execution_count": 142
        }
      ]
    },
    {
      "cell_type": "code",
      "source": [
        "def plot_predictions(train_data=x_train,\n",
        "                     train_labels=y_train,\n",
        "                     test_data=x_test,\n",
        "                     test_labels=y_test,\n",
        "                     predictions=y_preds):\n",
        "  \"\"\"\n",
        "  Plots training data, test data and compares predictions.\n",
        "  \"\"\"\n",
        "  plt.figure(figsize=(10, 7))\n",
        "  # Plot training data in blue\n",
        "  plt.scatter(train_data, train_labels, c=\"b\", label=\"Training data\")\n",
        "  # Plot test data in green\n",
        "  plt.scatter(test_data, test_labels, c=\"g\", label=\"Testing data\")\n",
        "  # Plot the predictions in red (predictions were made on the test data)\n",
        "  plt.scatter(test_data, predictions, c=\"r\", label=\"Predictions\")\n",
        "  # Show the legend\n",
        "  plt.legend();"
      ],
      "metadata": {
        "id": "VDNvpmynJs05"
      },
      "execution_count": null,
      "outputs": []
    },
    {
      "cell_type": "code",
      "source": [
        "plot_predictions(train_data=x_train,\n",
        "                 train_labels=y_train,\n",
        "                 test_data=x_test,\n",
        "                 test_labels=y_test,\n",
        "                 predictions=y_preds)"
      ],
      "metadata": {
        "colab": {
          "base_uri": "https://localhost:8080/",
          "height": 599
        },
        "id": "K-RjEiXfJs5F",
        "outputId": "1ef1134e-935d-4f30-ebc8-6fef38faabdf"
      },
      "execution_count": null,
      "outputs": [
        {
          "output_type": "display_data",
          "data": {
            "text/plain": [
              "<Figure size 1000x700 with 1 Axes>"
            ],
            "image/png": "[encoded data removed]"
          },
          "metadata": {}
        }
      ]
    },
    {
      "cell_type": "code",
      "source": [
        "# Evaluate the model on the test set\n",
        "model_ex.evaluate(x_test, y_test)"
      ],
      "metadata": {
        "colab": {
          "base_uri": "https://localhost:8080/"
        },
        "id": "pb3LNjRSJs9T",
        "outputId": "646ad967-1786-45cd-b587-b81154ddc5bd"
      },
      "execution_count": null,
      "outputs": [
        {
          "output_type": "stream",
          "name": "stdout",
          "text": [
            "1/1 [==============================] - 0s 113ms/step - loss: 2.4051 - mae: 2.4051\n"
          ]
        },
        {
          "output_type": "execute_result",
          "data": {
            "text/plain": [
              "[2.4050824642181396, 2.4050824642181396]"
            ]
          },
          "metadata": {},
          "execution_count": 145
        }
      ]
    },
    {
      "cell_type": "code",
      "source": [
        "# Assuming y_true and y_pred are your true labels and predictions respectively\n",
        "mae = tf.keras.losses.mean_absolute_error(y_true=y_test, y_pred=y_preds)\n",
        "print(mae)\n",
        "\n",
        "# Compute the mean absolute error value\n",
        "mae_value = tf.reduce_mean(mae).numpy()  # Extract the numerical value from the TensorFlow tensor\n",
        "\n",
        "print(\"Mean Absolute Error:\", mae_value)"
      ],
      "metadata": {
        "colab": {
          "base_uri": "https://localhost:8080/"
        },
        "id": "uQh5_c62JtBT",
        "outputId": "80d9824e-8657-49fc-b517-d8ea2e93d1b9"
      },
      "execution_count": null,
      "outputs": [
        {
          "output_type": "stream",
          "name": "stdout",
          "text": [
            "tf.Tensor(\n",
            "[117.30501  104.59455  134.02086   80.64091  115.805405  76.67494\n",
            "  89.52933   96.4305    80.48355  113.47603   99.88866  103.70401\n",
            "  77.82354 ], shape=(13,), dtype=float32)\n",
            "Mean Absolute Error: 99.25978\n"
          ]
        }
      ]
    },
    {
      "cell_type": "code",
      "source": [
        "# Check the tensor shapes\n",
        "y_test.shape, y_preds.shape"
      ],
      "metadata": {
        "colab": {
          "base_uri": "https://localhost:8080/"
        },
        "id": "fnwWZhutXrgn",
        "outputId": "8a363c7c-d060-4c96-d034-49f5bfb05f9f"
      },
      "execution_count": null,
      "outputs": [
        {
          "output_type": "execute_result",
          "data": {
            "text/plain": [
              "((13,), (13, 1))"
            ]
          },
          "metadata": {},
          "execution_count": 147
        }
      ]
    },
    {
      "cell_type": "code",
      "source": [
        "y_test,y_preds"
      ],
      "metadata": {
        "colab": {
          "base_uri": "https://localhost:8080/"
        },
        "id": "KSflHZAbY0eA",
        "outputId": "a8b2d2eb-caf9-4b95-85d1-1800588f40dc"
      },
      "execution_count": null,
      "outputs": [
        {
          "output_type": "execute_result",
          "data": {
            "text/plain": [
              "(array([304, 288,  60, 232,  80, 204, 124, 108, 160, 300, 280,  96, 220]),\n",
              " array([[306.2281  ],\n",
              "        [289.74768 ],\n",
              "        [ 54.902218],\n",
              "        [232.06636 ],\n",
              "        [ 75.50271 ],\n",
              "        [203.22571 ],\n",
              "        [120.82376 ],\n",
              "        [104.34337 ],\n",
              "        [157.90462 ],\n",
              "        [302.10803 ],\n",
              "        [281.5075  ],\n",
              "        [ 91.983086],\n",
              "        [219.70609 ]], dtype=float32))"
            ]
          },
          "metadata": {},
          "execution_count": 148
        }
      ]
    },
    {
      "cell_type": "code",
      "source": [
        "y_preds.squeeze()"
      ],
      "metadata": {
        "colab": {
          "base_uri": "https://localhost:8080/"
        },
        "id": "GpYfDTMCYj9Q",
        "outputId": "946cb330-84d0-4d12-b576-c19a39a6d944"
      },
      "execution_count": null,
      "outputs": [
        {
          "output_type": "execute_result",
          "data": {
            "text/plain": [
              "array([306.2281  , 289.74768 ,  54.902218, 232.06636 ,  75.50271 ,\n",
              "       203.22571 , 120.82376 , 104.34337 , 157.90462 , 302.10803 ,\n",
              "       281.5075  ,  91.983086, 219.70609 ], dtype=float32)"
            ]
          },
          "metadata": {},
          "execution_count": 149
        }
      ]
    },
    {
      "cell_type": "code",
      "source": [
        "# Calcuate the MAE\n",
        "mae = tf.metrics.mean_absolute_error(y_true=y_test,\n",
        "                                     y_pred=y_preds.squeeze()) # use squeeze() to make same shape\n",
        "mae"
      ],
      "metadata": {
        "colab": {
          "base_uri": "https://localhost:8080/"
        },
        "id": "6uk_5Se0Yejb",
        "outputId": "9ef0534b-2911-449b-9111-7f5f293585f1"
      },
      "execution_count": null,
      "outputs": [
        {
          "output_type": "execute_result",
          "data": {
            "text/plain": [
              "<tf.Tensor: shape=(), dtype=float32, numpy=2.405086>"
            ]
          },
          "metadata": {},
          "execution_count": 150
        }
      ]
    },
    {
      "cell_type": "code",
      "source": [
        "# Calcuate the MSE\n",
        "mse = tf.metrics.mean_squared_error(y_true=y_test,\n",
        "                                     y_pred=y_preds.squeeze()) # use squeeze() to make same shape\n",
        "mse"
      ],
      "metadata": {
        "colab": {
          "base_uri": "https://localhost:8080/"
        },
        "id": "Ja5Ze-lOZupn",
        "outputId": "1f62cb1c-b725-4a90-bf37-de8d99a3998e"
      },
      "execution_count": null,
      "outputs": [
        {
          "output_type": "execute_result",
          "data": {
            "text/plain": [
              "<tf.Tensor: shape=(), dtype=float32, numpy=8.124935>"
            ]
          },
          "metadata": {},
          "execution_count": 151
        }
      ]
    },
    {
      "cell_type": "code",
      "source": [
        "# Plot history (also known as a loss curve)\n",
        "pd.DataFrame(history_ex.history).plot()\n",
        "plt.ylabel(\"loss\")\n",
        "plt.xlabel(\"epochs\");"
      ],
      "metadata": {
        "colab": {
          "base_uri": "https://localhost:8080/",
          "height": 449
        },
        "id": "5v8rzgnebXC1",
        "outputId": "04101d90-1084-4eb7-b0ca-f123013c74e2"
      },
      "execution_count": null,
      "outputs": [
        {
          "output_type": "display_data",
          "data": {
            "text/plain": [
              "<Figure size 640x480 with 1 Axes>"
            ],
            "image/png": "[encoded data removed]"
          },
          "metadata": {}
        }
      ]
    },
    {
      "cell_type": "code",
      "source": [
        "# Save a model using the SavedModel format\n",
        "model_ex.save('best_model_SavedModel_format_1')"
      ],
      "metadata": {
        "id": "Wktze_9HZ9f_"
      },
      "execution_count": null,
      "outputs": []
    },
    {
      "cell_type": "code",
      "source": [],
      "metadata": {
        "id": "OlzMuawGbJgr"
      },
      "execution_count": null,
      "outputs": []
    },
    {
      "cell_type": "markdown",
      "source": [
        "\n",
        "\n",
        "---\n",
        "---\n",
        "\n",
        "\n"
      ],
      "metadata": {
        "id": "iLx-GfVIe4eo"
      }
    },
    {
      "cell_type": "code",
      "source": [
        "model_ex_1=tf.keras.datasets.boston_housing.load_data(\n",
        "    path='boston_housing.npz', test_split=0.2, seed=113\n",
        ")"
      ],
      "metadata": {
        "id": "u_HHGzeXcm72"
      },
      "execution_count": null,
      "outputs": []
    },
    {
      "cell_type": "code",
      "source": [
        "# Set random seed\n",
        "tf.random.set_seed(42)\n",
        "\n",
        "#creating four dense layer\n",
        "model_ex_1= tf.keras.Sequential([\n",
        "  tf.keras.layers.Dense(10),\n",
        "  tf.keras.layers.Dense(1)\n",
        "])\n",
        "\n",
        "# Compile the model\n",
        "model_ex_1.compile(loss=tf.keras.losses.mae,\n",
        "                        optimizer=tf.keras.optimizers.Adam(learning_rate=0.001),\n",
        "                        metrics=['mae'])\n",
        "\n",
        "# Fit the model\n",
        "history_ex_1=model_ex_1.fit( tf.expand_dims(X_train, axis=1), y_train, epochs=300)"
      ],
      "metadata": {
        "colab": {
          "base_uri": "https://localhost:8080/"
        },
        "id": "XqqNB4a6cof-",
        "outputId": "cc136252-c811-4972-a9ba-c2fd2c8e9298"
      },
      "execution_count": null,
      "outputs": [
        {
          "output_type": "stream",
          "name": "stdout",
          "text": [
            "Epoch 1/300\n",
            "2/2 [==============================] - 0s 9ms/step - loss: 206.2212 - mae: 206.2212\n",
            "Epoch 2/300\n",
            "2/2 [==============================] - 0s 7ms/step - loss: 203.9314 - mae: 203.9314\n",
            "Epoch 3/300\n",
            "2/2 [==============================] - 0s 6ms/step - loss: 201.5961 - mae: 201.5961\n",
            "Epoch 4/300\n",
            "2/2 [==============================] - 0s 7ms/step - loss: 199.2573 - mae: 199.2573\n",
            "Epoch 5/300\n",
            "2/2 [==============================] - 0s 7ms/step - loss: 196.9745 - mae: 196.9745\n",
            "Epoch 6/300\n",
            "2/2 [==============================] - 0s 6ms/step - loss: 194.6530 - mae: 194.6530\n",
            "Epoch 7/300\n",
            "2/2 [==============================] - 0s 6ms/step - loss: 192.3502 - mae: 192.3502\n",
            "Epoch 8/300\n",
            "2/2 [==============================] - 0s 7ms/step - loss: 189.9793 - mae: 189.9793\n",
            "Epoch 9/300\n",
            "2/2 [==============================] - 0s 9ms/step - loss: 187.7104 - mae: 187.7104\n",
            "Epoch 10/300\n",
            "2/2 [==============================] - 0s 6ms/step - loss: 185.4016 - mae: 185.4016\n",
            "Epoch 11/300\n",
            "2/2 [==============================] - 0s 6ms/step - loss: 183.0618 - mae: 183.0618\n",
            "Epoch 12/300\n",
            "2/2 [==============================] - 0s 7ms/step - loss: 180.8206 - mae: 180.8206\n",
            "Epoch 13/300\n",
            "2/2 [==============================] - 0s 5ms/step - loss: 178.4736 - mae: 178.4736\n",
            "Epoch 14/300\n",
            "2/2 [==============================] - 0s 6ms/step - loss: 176.1402 - mae: 176.1402\n",
            "Epoch 15/300\n",
            "2/2 [==============================] - 0s 7ms/step - loss: 173.8577 - mae: 173.8577\n",
            "Epoch 16/300\n",
            "2/2 [==============================] - 0s 4ms/step - loss: 171.5270 - mae: 171.5270\n",
            "Epoch 17/300\n",
            "2/2 [==============================] - 0s 5ms/step - loss: 169.2193 - mae: 169.2193\n",
            "Epoch 18/300\n",
            "2/2 [==============================] - 0s 4ms/step - loss: 166.8917 - mae: 166.8917\n",
            "Epoch 19/300\n",
            "2/2 [==============================] - 0s 5ms/step - loss: 164.5977 - mae: 164.5977\n",
            "Epoch 20/300\n",
            "2/2 [==============================] - 0s 5ms/step - loss: 162.2728 - mae: 162.2728\n",
            "Epoch 21/300\n",
            "2/2 [==============================] - 0s 6ms/step - loss: 159.9087 - mae: 159.9087\n",
            "Epoch 22/300\n",
            "2/2 [==============================] - 0s 5ms/step - loss: 157.5862 - mae: 157.5862\n",
            "Epoch 23/300\n",
            "2/2 [==============================] - 0s 4ms/step - loss: 155.2646 - mae: 155.2646\n",
            "Epoch 24/300\n",
            "2/2 [==============================] - 0s 5ms/step - loss: 152.9634 - mae: 152.9634\n",
            "Epoch 25/300\n",
            "2/2 [==============================] - 0s 5ms/step - loss: 150.5780 - mae: 150.5780\n",
            "Epoch 26/300\n",
            "2/2 [==============================] - 0s 5ms/step - loss: 148.1820 - mae: 148.1820\n",
            "Epoch 27/300\n",
            "2/2 [==============================] - 0s 5ms/step - loss: 145.8858 - mae: 145.8858\n",
            "Epoch 28/300\n",
            "2/2 [==============================] - 0s 6ms/step - loss: 143.4843 - mae: 143.4843\n",
            "Epoch 29/300\n",
            "2/2 [==============================] - 0s 9ms/step - loss: 141.1028 - mae: 141.1028\n",
            "Epoch 30/300\n",
            "2/2 [==============================] - 0s 5ms/step - loss: 138.7458 - mae: 138.7458\n",
            "Epoch 31/300\n",
            "2/2 [==============================] - 0s 7ms/step - loss: 136.3953 - mae: 136.3953\n",
            "Epoch 32/300\n",
            "2/2 [==============================] - 0s 6ms/step - loss: 133.9081 - mae: 133.9081\n",
            "Epoch 33/300\n",
            "2/2 [==============================] - 0s 6ms/step - loss: 131.5387 - mae: 131.5387\n",
            "Epoch 34/300\n",
            "2/2 [==============================] - 0s 7ms/step - loss: 129.1200 - mae: 129.1200\n",
            "Epoch 35/300\n",
            "2/2 [==============================] - 0s 6ms/step - loss: 126.7548 - mae: 126.7548\n",
            "Epoch 36/300\n",
            "2/2 [==============================] - 0s 6ms/step - loss: 124.2303 - mae: 124.2303\n",
            "Epoch 37/300\n",
            "2/2 [==============================] - 0s 6ms/step - loss: 121.7854 - mae: 121.7854\n",
            "Epoch 38/300\n",
            "2/2 [==============================] - 0s 7ms/step - loss: 119.3831 - mae: 119.3831\n",
            "Epoch 39/300\n",
            "2/2 [==============================] - 0s 7ms/step - loss: 116.9342 - mae: 116.9342\n",
            "Epoch 40/300\n",
            "2/2 [==============================] - 0s 5ms/step - loss: 114.4087 - mae: 114.4087\n",
            "Epoch 41/300\n",
            "2/2 [==============================] - 0s 6ms/step - loss: 111.9272 - mae: 111.9272\n",
            "Epoch 42/300\n",
            "2/2 [==============================] - 0s 6ms/step - loss: 109.4150 - mae: 109.4150\n",
            "Epoch 43/300\n",
            "2/2 [==============================] - 0s 6ms/step - loss: 107.0193 - mae: 107.0193\n",
            "Epoch 44/300\n",
            "2/2 [==============================] - 0s 6ms/step - loss: 104.3938 - mae: 104.3938\n",
            "Epoch 45/300\n",
            "2/2 [==============================] - 0s 11ms/step - loss: 101.9597 - mae: 101.9597\n",
            "Epoch 46/300\n",
            "2/2 [==============================] - 0s 9ms/step - loss: 99.3888 - mae: 99.3888\n",
            "Epoch 47/300\n",
            "2/2 [==============================] - 0s 7ms/step - loss: 96.8434 - mae: 96.8434\n",
            "Epoch 48/300\n",
            "2/2 [==============================] - 0s 6ms/step - loss: 94.2683 - mae: 94.2683\n",
            "Epoch 49/300\n",
            "2/2 [==============================] - 0s 6ms/step - loss: 91.7351 - mae: 91.7351\n",
            "Epoch 50/300\n",
            "2/2 [==============================] - 0s 6ms/step - loss: 89.1386 - mae: 89.1386\n",
            "Epoch 51/300\n",
            "2/2 [==============================] - 0s 5ms/step - loss: 86.5654 - mae: 86.5654\n",
            "Epoch 52/300\n",
            "2/2 [==============================] - 0s 5ms/step - loss: 83.9725 - mae: 83.9725\n",
            "Epoch 53/300\n",
            "2/2 [==============================] - 0s 5ms/step - loss: 81.3824 - mae: 81.3824\n",
            "Epoch 54/300\n",
            "2/2 [==============================] - 0s 6ms/step - loss: 78.7342 - mae: 78.7342\n",
            "Epoch 55/300\n",
            "2/2 [==============================] - 0s 5ms/step - loss: 76.1408 - mae: 76.1408\n",
            "Epoch 56/300\n",
            "2/2 [==============================] - 0s 6ms/step - loss: 73.3943 - mae: 73.3943\n",
            "Epoch 57/300\n",
            "2/2 [==============================] - 0s 8ms/step - loss: 70.7755 - mae: 70.7755\n",
            "Epoch 58/300\n",
            "2/2 [==============================] - 0s 6ms/step - loss: 68.1450 - mae: 68.1450\n",
            "Epoch 59/300\n",
            "2/2 [==============================] - 0s 6ms/step - loss: 65.4012 - mae: 65.4012\n",
            "Epoch 60/300\n",
            "2/2 [==============================] - 0s 6ms/step - loss: 62.7248 - mae: 62.7248\n",
            "Epoch 61/300\n",
            "2/2 [==============================] - 0s 6ms/step - loss: 60.0028 - mae: 60.0028\n",
            "Epoch 62/300\n",
            "2/2 [==============================] - 0s 7ms/step - loss: 57.2508 - mae: 57.2508\n",
            "Epoch 63/300\n",
            "2/2 [==============================] - 0s 7ms/step - loss: 54.5483 - mae: 54.5483\n",
            "Epoch 64/300\n",
            "2/2 [==============================] - 0s 8ms/step - loss: 51.8293 - mae: 51.8293\n",
            "Epoch 65/300\n",
            "2/2 [==============================] - 0s 6ms/step - loss: 48.9747 - mae: 48.9747\n",
            "Epoch 66/300\n",
            "2/2 [==============================] - 0s 6ms/step - loss: 46.1825 - mae: 46.1825\n",
            "Epoch 67/300\n",
            "2/2 [==============================] - 0s 8ms/step - loss: 43.4337 - mae: 43.4337\n",
            "Epoch 68/300\n",
            "2/2 [==============================] - 0s 6ms/step - loss: 40.5930 - mae: 40.5930\n",
            "Epoch 69/300\n",
            "2/2 [==============================] - 0s 9ms/step - loss: 37.8253 - mae: 37.8253\n",
            "Epoch 70/300\n",
            "2/2 [==============================] - 0s 6ms/step - loss: 34.9475 - mae: 34.9475\n",
            "Epoch 71/300\n",
            "2/2 [==============================] - 0s 7ms/step - loss: 32.1436 - mae: 32.1436\n",
            "Epoch 72/300\n",
            "2/2 [==============================] - 0s 7ms/step - loss: 29.2534 - mae: 29.2534\n",
            "Epoch 73/300\n",
            "2/2 [==============================] - 0s 8ms/step - loss: 26.3310 - mae: 26.3310\n",
            "Epoch 74/300\n",
            "2/2 [==============================] - 0s 5ms/step - loss: 23.4694 - mae: 23.4694\n",
            "Epoch 75/300\n",
            "2/2 [==============================] - 0s 8ms/step - loss: 20.5481 - mae: 20.5481\n",
            "Epoch 76/300\n",
            "2/2 [==============================] - 0s 6ms/step - loss: 17.6019 - mae: 17.6019\n",
            "Epoch 77/300\n",
            "2/2 [==============================] - 0s 9ms/step - loss: 14.6978 - mae: 14.6978\n",
            "Epoch 78/300\n",
            "2/2 [==============================] - 0s 9ms/step - loss: 11.6850 - mae: 11.6850\n",
            "Epoch 79/300\n",
            "2/2 [==============================] - 0s 6ms/step - loss: 8.7569 - mae: 8.7569\n",
            "Epoch 80/300\n",
            "2/2 [==============================] - 0s 5ms/step - loss: 5.7331 - mae: 5.7331\n",
            "Epoch 81/300\n",
            "2/2 [==============================] - 0s 8ms/step - loss: 3.1969 - mae: 3.1969\n",
            "Epoch 82/300\n",
            "2/2 [==============================] - 0s 5ms/step - loss: 3.0875 - mae: 3.0875\n",
            "Epoch 83/300\n",
            "2/2 [==============================] - 0s 6ms/step - loss: 4.0755 - mae: 4.0755\n",
            "Epoch 84/300\n",
            "2/2 [==============================] - 0s 6ms/step - loss: 4.9211 - mae: 4.9211\n",
            "Epoch 85/300\n",
            "2/2 [==============================] - 0s 7ms/step - loss: 5.4242 - mae: 5.4242\n",
            "Epoch 86/300\n",
            "2/2 [==============================] - 0s 7ms/step - loss: 5.4660 - mae: 5.4660\n",
            "Epoch 87/300\n",
            "2/2 [==============================] - 0s 6ms/step - loss: 5.1516 - mae: 5.1516\n",
            "Epoch 88/300\n",
            "2/2 [==============================] - 0s 7ms/step - loss: 4.6385 - mae: 4.6385\n",
            "Epoch 89/300\n",
            "2/2 [==============================] - 0s 6ms/step - loss: 4.0215 - mae: 4.0215\n",
            "Epoch 90/300\n",
            "2/2 [==============================] - 0s 5ms/step - loss: 3.4960 - mae: 3.4960\n",
            "Epoch 91/300\n",
            "2/2 [==============================] - 0s 8ms/step - loss: 2.9959 - mae: 2.9959\n",
            "Epoch 92/300\n",
            "2/2 [==============================] - 0s 6ms/step - loss: 2.9019 - mae: 2.9019\n",
            "Epoch 93/300\n",
            "2/2 [==============================] - 0s 7ms/step - loss: 3.0157 - mae: 3.0157\n",
            "Epoch 94/300\n",
            "2/2 [==============================] - 0s 5ms/step - loss: 3.2736 - mae: 3.2736\n",
            "Epoch 95/300\n",
            "2/2 [==============================] - 0s 6ms/step - loss: 3.3326 - mae: 3.3326\n",
            "Epoch 96/300\n",
            "2/2 [==============================] - 0s 8ms/step - loss: 3.1417 - mae: 3.1417\n",
            "Epoch 97/300\n",
            "2/2 [==============================] - 0s 7ms/step - loss: 2.9983 - mae: 2.9983\n",
            "Epoch 98/300\n",
            "2/2 [==============================] - 0s 7ms/step - loss: 2.8879 - mae: 2.8879\n",
            "Epoch 99/300\n",
            "2/2 [==============================] - 0s 6ms/step - loss: 2.8868 - mae: 2.8868\n",
            "Epoch 100/300\n",
            "2/2 [==============================] - 0s 7ms/step - loss: 2.9430 - mae: 2.9430\n",
            "Epoch 101/300\n",
            "2/2 [==============================] - 0s 7ms/step - loss: 2.9598 - mae: 2.9598\n",
            "Epoch 102/300\n",
            "2/2 [==============================] - 0s 7ms/step - loss: 2.9584 - mae: 2.9584\n",
            "Epoch 103/300\n",
            "2/2 [==============================] - 0s 6ms/step - loss: 2.9373 - mae: 2.9373\n",
            "Epoch 104/300\n",
            "2/2 [==============================] - 0s 7ms/step - loss: 2.9170 - mae: 2.9170\n",
            "Epoch 105/300\n",
            "2/2 [==============================] - 0s 7ms/step - loss: 2.8929 - mae: 2.8929\n",
            "Epoch 106/300\n",
            "2/2 [==============================] - 0s 6ms/step - loss: 2.8966 - mae: 2.8966\n",
            "Epoch 107/300\n",
            "2/2 [==============================] - 0s 6ms/step - loss: 2.8975 - mae: 2.8975\n",
            "Epoch 108/300\n",
            "2/2 [==============================] - 0s 6ms/step - loss: 2.8863 - mae: 2.8863\n",
            "Epoch 109/300\n",
            "2/2 [==============================] - 0s 6ms/step - loss: 2.8836 - mae: 2.8836\n",
            "Epoch 110/300\n",
            "2/2 [==============================] - 0s 6ms/step - loss: 2.8834 - mae: 2.8834\n",
            "Epoch 111/300\n",
            "2/2 [==============================] - 0s 9ms/step - loss: 2.8799 - mae: 2.8799\n",
            "Epoch 112/300\n",
            "2/2 [==============================] - 0s 6ms/step - loss: 2.8791 - mae: 2.8791\n",
            "Epoch 113/300\n",
            "2/2 [==============================] - 0s 6ms/step - loss: 2.8801 - mae: 2.8801\n",
            "Epoch 114/300\n",
            "2/2 [==============================] - 0s 6ms/step - loss: 2.8765 - mae: 2.8765\n",
            "Epoch 115/300\n",
            "2/2 [==============================] - 0s 5ms/step - loss: 2.8755 - mae: 2.8755\n",
            "Epoch 116/300\n",
            "2/2 [==============================] - 0s 9ms/step - loss: 2.8897 - mae: 2.8897\n",
            "Epoch 117/300\n",
            "2/2 [==============================] - 0s 6ms/step - loss: 2.8800 - mae: 2.8800\n",
            "Epoch 118/300\n",
            "2/2 [==============================] - 0s 6ms/step - loss: 2.8807 - mae: 2.8807\n",
            "Epoch 119/300\n",
            "2/2 [==============================] - 0s 7ms/step - loss: 2.8735 - mae: 2.8735\n",
            "Epoch 120/300\n",
            "2/2 [==============================] - 0s 8ms/step - loss: 2.8739 - mae: 2.8739\n",
            "Epoch 121/300\n",
            "2/2 [==============================] - 0s 8ms/step - loss: 2.8705 - mae: 2.8705\n",
            "Epoch 122/300\n",
            "2/2 [==============================] - 0s 6ms/step - loss: 2.8755 - mae: 2.8755\n",
            "Epoch 123/300\n",
            "2/2 [==============================] - 0s 7ms/step - loss: 2.8690 - mae: 2.8690\n",
            "Epoch 124/300\n",
            "2/2 [==============================] - 0s 7ms/step - loss: 2.8698 - mae: 2.8698\n",
            "Epoch 125/300\n",
            "2/2 [==============================] - 0s 6ms/step - loss: 2.8656 - mae: 2.8656\n",
            "Epoch 126/300\n",
            "2/2 [==============================] - 0s 7ms/step - loss: 2.8679 - mae: 2.8679\n",
            "Epoch 127/300\n",
            "2/2 [==============================] - 0s 6ms/step - loss: 2.8627 - mae: 2.8627\n",
            "Epoch 128/300\n",
            "2/2 [==============================] - 0s 6ms/step - loss: 2.8629 - mae: 2.8629\n",
            "Epoch 129/300\n",
            "2/2 [==============================] - 0s 6ms/step - loss: 2.8665 - mae: 2.8665\n",
            "Epoch 130/300\n",
            "2/2 [==============================] - 0s 6ms/step - loss: 2.8660 - mae: 2.8660\n",
            "Epoch 131/300\n",
            "2/2 [==============================] - 0s 7ms/step - loss: 2.8627 - mae: 2.8627\n",
            "Epoch 132/300\n",
            "2/2 [==============================] - 0s 6ms/step - loss: 2.8598 - mae: 2.8598\n",
            "Epoch 133/300\n",
            "2/2 [==============================] - 0s 6ms/step - loss: 2.8573 - mae: 2.8573\n",
            "Epoch 134/300\n",
            "2/2 [==============================] - 0s 7ms/step - loss: 2.8559 - mae: 2.8559\n",
            "Epoch 135/300\n",
            "2/2 [==============================] - 0s 8ms/step - loss: 2.8526 - mae: 2.8526\n",
            "Epoch 136/300\n",
            "2/2 [==============================] - 0s 10ms/step - loss: 2.8513 - mae: 2.8513\n",
            "Epoch 137/300\n",
            "2/2 [==============================] - 0s 8ms/step - loss: 2.8516 - mae: 2.8516\n",
            "Epoch 138/300\n",
            "2/2 [==============================] - 0s 6ms/step - loss: 2.8509 - mae: 2.8509\n",
            "Epoch 139/300\n",
            "2/2 [==============================] - 0s 6ms/step - loss: 2.8505 - mae: 2.8505\n",
            "Epoch 140/300\n",
            "2/2 [==============================] - 0s 7ms/step - loss: 2.8507 - mae: 2.8507\n",
            "Epoch 141/300\n",
            "2/2 [==============================] - 0s 6ms/step - loss: 2.8476 - mae: 2.8476\n",
            "Epoch 142/300\n",
            "2/2 [==============================] - 0s 6ms/step - loss: 2.8473 - mae: 2.8473\n",
            "Epoch 143/300\n",
            "2/2 [==============================] - 0s 9ms/step - loss: 2.8438 - mae: 2.8438\n",
            "Epoch 144/300\n",
            "2/2 [==============================] - 0s 6ms/step - loss: 2.8416 - mae: 2.8416\n",
            "Epoch 145/300\n",
            "2/2 [==============================] - 0s 7ms/step - loss: 2.8406 - mae: 2.8406\n",
            "Epoch 146/300\n",
            "2/2 [==============================] - 0s 7ms/step - loss: 2.8415 - mae: 2.8415\n",
            "Epoch 147/300\n",
            "2/2 [==============================] - 0s 7ms/step - loss: 2.8422 - mae: 2.8422\n",
            "Epoch 148/300\n",
            "2/2 [==============================] - 0s 8ms/step - loss: 2.8389 - mae: 2.8389\n",
            "Epoch 149/300\n",
            "2/2 [==============================] - 0s 7ms/step - loss: 2.8372 - mae: 2.8372\n",
            "Epoch 150/300\n",
            "2/2 [==============================] - 0s 8ms/step - loss: 2.8401 - mae: 2.8401\n",
            "Epoch 151/300\n",
            "2/2 [==============================] - 0s 10ms/step - loss: 2.8370 - mae: 2.8370\n",
            "Epoch 152/300\n",
            "2/2 [==============================] - 0s 7ms/step - loss: 2.8361 - mae: 2.8361\n",
            "Epoch 153/300\n",
            "2/2 [==============================] - 0s 6ms/step - loss: 2.8325 - mae: 2.8325\n",
            "Epoch 154/300\n",
            "2/2 [==============================] - 0s 8ms/step - loss: 2.8321 - mae: 2.8321\n",
            "Epoch 155/300\n",
            "2/2 [==============================] - 0s 6ms/step - loss: 2.8310 - mae: 2.8310\n",
            "Epoch 156/300\n",
            "2/2 [==============================] - 0s 7ms/step - loss: 2.8297 - mae: 2.8297\n",
            "Epoch 157/300\n",
            "2/2 [==============================] - 0s 7ms/step - loss: 2.8296 - mae: 2.8296\n",
            "Epoch 158/300\n",
            "2/2 [==============================] - 0s 6ms/step - loss: 2.8278 - mae: 2.8278\n",
            "Epoch 159/300\n",
            "2/2 [==============================] - 0s 7ms/step - loss: 2.8272 - mae: 2.8272\n",
            "Epoch 160/300\n",
            "2/2 [==============================] - 0s 8ms/step - loss: 2.8234 - mae: 2.8234\n",
            "Epoch 161/300\n",
            "2/2 [==============================] - 0s 5ms/step - loss: 2.8209 - mae: 2.8209\n",
            "Epoch 162/300\n",
            "2/2 [==============================] - 0s 6ms/step - loss: 2.8175 - mae: 2.8175\n",
            "Epoch 163/300\n",
            "2/2 [==============================] - 0s 6ms/step - loss: 2.8192 - mae: 2.8192\n",
            "Epoch 164/300\n",
            "2/2 [==============================] - 0s 7ms/step - loss: 2.8248 - mae: 2.8248\n",
            "Epoch 165/300\n",
            "2/2 [==============================] - 0s 6ms/step - loss: 2.8321 - mae: 2.8321\n",
            "Epoch 166/300\n",
            "2/2 [==============================] - 0s 6ms/step - loss: 2.8262 - mae: 2.8262\n",
            "Epoch 167/300\n",
            "2/2 [==============================] - 0s 6ms/step - loss: 2.8157 - mae: 2.8157\n",
            "Epoch 168/300\n",
            "2/2 [==============================] - 0s 5ms/step - loss: 2.8095 - mae: 2.8095\n",
            "Epoch 169/300\n",
            "2/2 [==============================] - 0s 6ms/step - loss: 2.8107 - mae: 2.8107\n",
            "Epoch 170/300\n",
            "2/2 [==============================] - 0s 9ms/step - loss: 2.8222 - mae: 2.8222\n",
            "Epoch 171/300\n",
            "2/2 [==============================] - 0s 8ms/step - loss: 2.8215 - mae: 2.8215\n",
            "Epoch 172/300\n",
            "2/2 [==============================] - 0s 6ms/step - loss: 2.8185 - mae: 2.8185\n",
            "Epoch 173/300\n",
            "2/2 [==============================] - 0s 6ms/step - loss: 2.8177 - mae: 2.8177\n",
            "Epoch 174/300\n",
            "2/2 [==============================] - 0s 6ms/step - loss: 2.8095 - mae: 2.8095\n",
            "Epoch 175/300\n",
            "2/2 [==============================] - 0s 6ms/step - loss: 2.8062 - mae: 2.8062\n",
            "Epoch 176/300\n",
            "2/2 [==============================] - 0s 7ms/step - loss: 2.8025 - mae: 2.8025\n",
            "Epoch 177/300\n",
            "2/2 [==============================] - 0s 6ms/step - loss: 2.8044 - mae: 2.8044\n",
            "Epoch 178/300\n",
            "2/2 [==============================] - 0s 6ms/step - loss: 2.8018 - mae: 2.8018\n",
            "Epoch 179/300\n",
            "2/2 [==============================] - 0s 6ms/step - loss: 2.8003 - mae: 2.8003\n",
            "Epoch 180/300\n",
            "2/2 [==============================] - 0s 6ms/step - loss: 2.7973 - mae: 2.7973\n",
            "Epoch 181/300\n",
            "2/2 [==============================] - 0s 6ms/step - loss: 2.7958 - mae: 2.7958\n",
            "Epoch 182/300\n",
            "2/2 [==============================] - 0s 6ms/step - loss: 2.7960 - mae: 2.7960\n",
            "Epoch 183/300\n",
            "2/2 [==============================] - 0s 6ms/step - loss: 2.7965 - mae: 2.7965\n",
            "Epoch 184/300\n",
            "2/2 [==============================] - 0s 7ms/step - loss: 2.7944 - mae: 2.7944\n",
            "Epoch 185/300\n",
            "2/2 [==============================] - 0s 6ms/step - loss: 2.7932 - mae: 2.7932\n",
            "Epoch 186/300\n",
            "2/2 [==============================] - 0s 6ms/step - loss: 2.7923 - mae: 2.7923\n",
            "Epoch 187/300\n",
            "2/2 [==============================] - 0s 6ms/step - loss: 2.7917 - mae: 2.7917\n",
            "Epoch 188/300\n",
            "2/2 [==============================] - 0s 6ms/step - loss: 2.7901 - mae: 2.7901\n",
            "Epoch 189/300\n",
            "2/2 [==============================] - 0s 5ms/step - loss: 2.7909 - mae: 2.7909\n",
            "Epoch 190/300\n",
            "2/2 [==============================] - 0s 6ms/step - loss: 2.7881 - mae: 2.7881\n",
            "Epoch 191/300\n",
            "2/2 [==============================] - 0s 6ms/step - loss: 2.7869 - mae: 2.7869\n",
            "Epoch 192/300\n",
            "2/2 [==============================] - 0s 6ms/step - loss: 2.7878 - mae: 2.7878\n",
            "Epoch 193/300\n",
            "2/2 [==============================] - 0s 6ms/step - loss: 2.7807 - mae: 2.7807\n",
            "Epoch 194/300\n",
            "2/2 [==============================] - 0s 6ms/step - loss: 2.7797 - mae: 2.7797\n",
            "Epoch 195/300\n",
            "2/2 [==============================] - 0s 7ms/step - loss: 2.7807 - mae: 2.7807\n",
            "Epoch 196/300\n",
            "2/2 [==============================] - 0s 7ms/step - loss: 2.7890 - mae: 2.7890\n",
            "Epoch 197/300\n",
            "2/2 [==============================] - 0s 6ms/step - loss: 2.7772 - mae: 2.7772\n",
            "Epoch 198/300\n",
            "2/2 [==============================] - 0s 9ms/step - loss: 2.7759 - mae: 2.7759\n",
            "Epoch 199/300\n",
            "2/2 [==============================] - 0s 5ms/step - loss: 2.7763 - mae: 2.7763\n",
            "Epoch 200/300\n",
            "2/2 [==============================] - 0s 8ms/step - loss: 2.7762 - mae: 2.7762\n",
            "Epoch 201/300\n",
            "2/2 [==============================] - 0s 9ms/step - loss: 2.7796 - mae: 2.7796\n",
            "Epoch 202/300\n",
            "2/2 [==============================] - 0s 6ms/step - loss: 2.7733 - mae: 2.7733\n",
            "Epoch 203/300\n",
            "2/2 [==============================] - 0s 9ms/step - loss: 2.7731 - mae: 2.7731\n",
            "Epoch 204/300\n",
            "2/2 [==============================] - 0s 8ms/step - loss: 2.7787 - mae: 2.7787\n",
            "Epoch 205/300\n",
            "2/2 [==============================] - 0s 8ms/step - loss: 2.7681 - mae: 2.7681\n",
            "Epoch 206/300\n",
            "2/2 [==============================] - 0s 8ms/step - loss: 2.7669 - mae: 2.7669\n",
            "Epoch 207/300\n",
            "2/2 [==============================] - 0s 7ms/step - loss: 2.7632 - mae: 2.7632\n",
            "Epoch 208/300\n",
            "2/2 [==============================] - 0s 8ms/step - loss: 2.7613 - mae: 2.7613\n",
            "Epoch 209/300\n",
            "2/2 [==============================] - 0s 6ms/step - loss: 2.7595 - mae: 2.7595\n",
            "Epoch 210/300\n",
            "2/2 [==============================] - 0s 5ms/step - loss: 2.7608 - mae: 2.7608\n",
            "Epoch 211/300\n",
            "2/2 [==============================] - 0s 9ms/step - loss: 2.7570 - mae: 2.7570\n",
            "Epoch 212/300\n",
            "2/2 [==============================] - 0s 6ms/step - loss: 2.7569 - mae: 2.7569\n",
            "Epoch 213/300\n",
            "2/2 [==============================] - 0s 6ms/step - loss: 2.7558 - mae: 2.7558\n",
            "Epoch 214/300\n",
            "2/2 [==============================] - 0s 8ms/step - loss: 2.7550 - mae: 2.7550\n",
            "Epoch 215/300\n",
            "2/2 [==============================] - 0s 8ms/step - loss: 2.7545 - mae: 2.7545\n",
            "Epoch 216/300\n",
            "2/2 [==============================] - 0s 5ms/step - loss: 2.7516 - mae: 2.7516\n",
            "Epoch 217/300\n",
            "2/2 [==============================] - 0s 6ms/step - loss: 2.7560 - mae: 2.7560\n",
            "Epoch 218/300\n",
            "2/2 [==============================] - 0s 5ms/step - loss: 2.7470 - mae: 2.7470\n",
            "Epoch 219/300\n",
            "2/2 [==============================] - 0s 6ms/step - loss: 2.7459 - mae: 2.7459\n",
            "Epoch 220/300\n",
            "2/2 [==============================] - 0s 7ms/step - loss: 2.7454 - mae: 2.7454\n",
            "Epoch 221/300\n",
            "2/2 [==============================] - 0s 8ms/step - loss: 2.7483 - mae: 2.7483\n",
            "Epoch 222/300\n",
            "2/2 [==============================] - 0s 10ms/step - loss: 2.7514 - mae: 2.7514\n",
            "Epoch 223/300\n",
            "2/2 [==============================] - 0s 8ms/step - loss: 2.7378 - mae: 2.7378\n",
            "Epoch 224/300\n",
            "2/2 [==============================] - 0s 7ms/step - loss: 2.7311 - mae: 2.7311\n",
            "Epoch 225/300\n",
            "2/2 [==============================] - 0s 6ms/step - loss: 2.7322 - mae: 2.7322\n",
            "Epoch 226/300\n",
            "2/2 [==============================] - 0s 10ms/step - loss: 2.7535 - mae: 2.7535\n",
            "Epoch 227/300\n",
            "2/2 [==============================] - 0s 8ms/step - loss: 2.7641 - mae: 2.7641\n",
            "Epoch 228/300\n",
            "2/2 [==============================] - 0s 8ms/step - loss: 2.7634 - mae: 2.7634\n",
            "Epoch 229/300\n",
            "2/2 [==============================] - 0s 6ms/step - loss: 2.7402 - mae: 2.7402\n",
            "Epoch 230/300\n",
            "2/2 [==============================] - 0s 7ms/step - loss: 2.7301 - mae: 2.7301\n",
            "Epoch 231/300\n",
            "2/2 [==============================] - 0s 5ms/step - loss: 2.7295 - mae: 2.7295\n",
            "Epoch 232/300\n",
            "2/2 [==============================] - 0s 5ms/step - loss: 2.7331 - mae: 2.7331\n",
            "Epoch 233/300\n",
            "2/2 [==============================] - 0s 6ms/step - loss: 2.7413 - mae: 2.7413\n",
            "Epoch 234/300\n",
            "2/2 [==============================] - 0s 7ms/step - loss: 2.7490 - mae: 2.7490\n",
            "Epoch 235/300\n",
            "2/2 [==============================] - 0s 5ms/step - loss: 2.7308 - mae: 2.7308\n",
            "Epoch 236/300\n",
            "2/2 [==============================] - 0s 6ms/step - loss: 2.7262 - mae: 2.7262\n",
            "Epoch 237/300\n",
            "2/2 [==============================] - 0s 5ms/step - loss: 2.7246 - mae: 2.7246\n",
            "Epoch 238/300\n",
            "2/2 [==============================] - 0s 5ms/step - loss: 2.7187 - mae: 2.7187\n",
            "Epoch 239/300\n",
            "2/2 [==============================] - 0s 5ms/step - loss: 2.7160 - mae: 2.7160\n",
            "Epoch 240/300\n",
            "2/2 [==============================] - 0s 5ms/step - loss: 2.7238 - mae: 2.7238\n",
            "Epoch 241/300\n",
            "2/2 [==============================] - 0s 5ms/step - loss: 2.7145 - mae: 2.7145\n",
            "Epoch 242/300\n",
            "2/2 [==============================] - 0s 5ms/step - loss: 2.7338 - mae: 2.7338\n",
            "Epoch 243/300\n",
            "2/2 [==============================] - 0s 6ms/step - loss: 2.7133 - mae: 2.7133\n",
            "Epoch 244/300\n",
            "2/2 [==============================] - 0s 5ms/step - loss: 2.7091 - mae: 2.7091\n",
            "Epoch 245/300\n",
            "2/2 [==============================] - 0s 6ms/step - loss: 2.7110 - mae: 2.7110\n",
            "Epoch 246/300\n",
            "2/2 [==============================] - 0s 6ms/step - loss: 2.7119 - mae: 2.7119\n",
            "Epoch 247/300\n",
            "2/2 [==============================] - 0s 11ms/step - loss: 2.7074 - mae: 2.7074\n",
            "Epoch 248/300\n",
            "2/2 [==============================] - 0s 8ms/step - loss: 2.7065 - mae: 2.7065\n",
            "Epoch 249/300\n",
            "2/2 [==============================] - 0s 6ms/step - loss: 2.7038 - mae: 2.7038\n",
            "Epoch 250/300\n",
            "2/2 [==============================] - 0s 9ms/step - loss: 2.6997 - mae: 2.6997\n",
            "Epoch 251/300\n",
            "2/2 [==============================] - 0s 5ms/step - loss: 2.6991 - mae: 2.6991\n",
            "Epoch 252/300\n",
            "2/2 [==============================] - 0s 7ms/step - loss: 2.6994 - mae: 2.6994\n",
            "Epoch 253/300\n",
            "2/2 [==============================] - 0s 8ms/step - loss: 2.7009 - mae: 2.7009\n",
            "Epoch 254/300\n",
            "2/2 [==============================] - 0s 6ms/step - loss: 2.6974 - mae: 2.6974\n",
            "Epoch 255/300\n",
            "2/2 [==============================] - 0s 4ms/step - loss: 2.6970 - mae: 2.6970\n",
            "Epoch 256/300\n",
            "2/2 [==============================] - 0s 6ms/step - loss: 2.6918 - mae: 2.6918\n",
            "Epoch 257/300\n",
            "2/2 [==============================] - 0s 7ms/step - loss: 2.6892 - mae: 2.6892\n",
            "Epoch 258/300\n",
            "2/2 [==============================] - 0s 6ms/step - loss: 2.6898 - mae: 2.6898\n",
            "Epoch 259/300\n",
            "2/2 [==============================] - 0s 7ms/step - loss: 2.6922 - mae: 2.6922\n",
            "Epoch 260/300\n",
            "2/2 [==============================] - 0s 6ms/step - loss: 2.6896 - mae: 2.6896\n",
            "Epoch 261/300\n",
            "2/2 [==============================] - 0s 6ms/step - loss: 2.6939 - mae: 2.6939\n",
            "Epoch 262/300\n",
            "2/2 [==============================] - 0s 7ms/step - loss: 2.7126 - mae: 2.7126\n",
            "Epoch 263/300\n",
            "2/2 [==============================] - 0s 8ms/step - loss: 2.6970 - mae: 2.6970\n",
            "Epoch 264/300\n",
            "2/2 [==============================] - 0s 5ms/step - loss: 2.6955 - mae: 2.6955\n",
            "Epoch 265/300\n",
            "2/2 [==============================] - 0s 6ms/step - loss: 2.6829 - mae: 2.6829\n",
            "Epoch 266/300\n",
            "2/2 [==============================] - 0s 5ms/step - loss: 2.6747 - mae: 2.6747\n",
            "Epoch 267/300\n",
            "2/2 [==============================] - 0s 5ms/step - loss: 2.6931 - mae: 2.6931\n",
            "Epoch 268/300\n",
            "2/2 [==============================] - 0s 7ms/step - loss: 2.6839 - mae: 2.6839\n",
            "Epoch 269/300\n",
            "2/2 [==============================] - 0s 6ms/step - loss: 2.6844 - mae: 2.6844\n",
            "Epoch 270/300\n",
            "2/2 [==============================] - 0s 5ms/step - loss: 2.6896 - mae: 2.6896\n",
            "Epoch 271/300\n",
            "2/2 [==============================] - 0s 5ms/step - loss: 2.6832 - mae: 2.6832\n",
            "Epoch 272/300\n",
            "2/2 [==============================] - 0s 6ms/step - loss: 2.6724 - mae: 2.6724\n",
            "Epoch 273/300\n",
            "2/2 [==============================] - 0s 5ms/step - loss: 2.6604 - mae: 2.6604\n",
            "Epoch 274/300\n",
            "2/2 [==============================] - 0s 6ms/step - loss: 2.6789 - mae: 2.6789\n",
            "Epoch 275/300\n",
            "2/2 [==============================] - 0s 6ms/step - loss: 2.6740 - mae: 2.6740\n",
            "Epoch 276/300\n",
            "2/2 [==============================] - 0s 6ms/step - loss: 2.6740 - mae: 2.6740\n",
            "Epoch 277/300\n",
            "2/2 [==============================] - 0s 6ms/step - loss: 2.6708 - mae: 2.6708\n",
            "Epoch 278/300\n",
            "2/2 [==============================] - 0s 6ms/step - loss: 2.6579 - mae: 2.6579\n",
            "Epoch 279/300\n",
            "2/2 [==============================] - 0s 6ms/step - loss: 2.6563 - mae: 2.6563\n",
            "Epoch 280/300\n",
            "2/2 [==============================] - 0s 5ms/step - loss: 2.6694 - mae: 2.6694\n",
            "Epoch 281/300\n",
            "2/2 [==============================] - 0s 7ms/step - loss: 2.6577 - mae: 2.6577\n",
            "Epoch 282/300\n",
            "2/2 [==============================] - 0s 12ms/step - loss: 2.6606 - mae: 2.6606\n",
            "Epoch 283/300\n",
            "2/2 [==============================] - 0s 10ms/step - loss: 2.6521 - mae: 2.6521\n",
            "Epoch 284/300\n",
            "2/2 [==============================] - 0s 6ms/step - loss: 2.6495 - mae: 2.6495\n",
            "Epoch 285/300\n",
            "2/2 [==============================] - 0s 5ms/step - loss: 2.6464 - mae: 2.6464\n",
            "Epoch 286/300\n",
            "2/2 [==============================] - 0s 8ms/step - loss: 2.6453 - mae: 2.6453\n",
            "Epoch 287/300\n",
            "2/2 [==============================] - 0s 7ms/step - loss: 2.6454 - mae: 2.6454\n",
            "Epoch 288/300\n",
            "2/2 [==============================] - 0s 6ms/step - loss: 2.6456 - mae: 2.6456\n",
            "Epoch 289/300\n",
            "2/2 [==============================] - 0s 6ms/step - loss: 2.6434 - mae: 2.6434\n",
            "Epoch 290/300\n",
            "2/2 [==============================] - 0s 5ms/step - loss: 2.6317 - mae: 2.6317\n",
            "Epoch 291/300\n",
            "2/2 [==============================] - 0s 5ms/step - loss: 2.6490 - mae: 2.6490\n",
            "Epoch 292/300\n",
            "2/2 [==============================] - 0s 5ms/step - loss: 2.6658 - mae: 2.6658\n",
            "Epoch 293/300\n",
            "2/2 [==============================] - 0s 5ms/step - loss: 2.6699 - mae: 2.6699\n",
            "Epoch 294/300\n",
            "2/2 [==============================] - 0s 6ms/step - loss: 2.6632 - mae: 2.6632\n",
            "Epoch 295/300\n",
            "2/2 [==============================] - 0s 5ms/step - loss: 2.6360 - mae: 2.6360\n",
            "Epoch 296/300\n",
            "2/2 [==============================] - 0s 5ms/step - loss: 2.6437 - mae: 2.6437\n",
            "Epoch 297/300\n",
            "2/2 [==============================] - 0s 6ms/step - loss: 2.6332 - mae: 2.6332\n",
            "Epoch 298/300\n",
            "2/2 [==============================] - 0s 5ms/step - loss: 2.6362 - mae: 2.6362\n",
            "Epoch 299/300\n",
            "2/2 [==============================] - 0s 5ms/step - loss: 2.6521 - mae: 2.6521\n",
            "Epoch 300/300\n",
            "2/2 [==============================] - 0s 5ms/step - loss: 2.6193 - mae: 2.6193\n"
          ]
        }
      ]
    },
    {
      "cell_type": "code",
      "source": [
        "# Make predictions\n",
        "y_preds_1 = model_ex_1.predict(x_test)"
      ],
      "metadata": {
        "colab": {
          "base_uri": "https://localhost:8080/"
        },
        "id": "dcYX9z9ZcowD",
        "outputId": "4b628d16-c753-4085-e330-fa42c506f368"
      },
      "execution_count": null,
      "outputs": [
        {
          "output_type": "stream",
          "name": "stdout",
          "text": [
            "1/1 [==============================] - 0s 43ms/step\n"
          ]
        }
      ]
    },
    {
      "cell_type": "code",
      "source": [
        "y_preds_1"
      ],
      "metadata": {
        "colab": {
          "base_uri": "https://localhost:8080/"
        },
        "id": "aNxhqbEvd8V5",
        "outputId": "234a3eb8-6db4-4077-dd78-1bbe2e69a9b3"
      },
      "execution_count": null,
      "outputs": [
        {
          "output_type": "execute_result",
          "data": {
            "text/plain": [
              "array([[307.334   ],\n",
              "       [290.69556 ],\n",
              "       [ 53.59761 ],\n",
              "       [232.46098 ],\n",
              "       [ 74.39568 ],\n",
              "       [203.34369 ],\n",
              "       [120.15143 ],\n",
              "       [103.51297 ],\n",
              "       [157.58794 ],\n",
              "       [303.1744  ],\n",
              "       [282.37634 ],\n",
              "       [ 91.034134],\n",
              "       [219.98215 ]], dtype=float32)"
            ]
          },
          "metadata": {},
          "execution_count": 169
        }
      ]
    },
    {
      "cell_type": "code",
      "source": [
        "plot_predictions(train_data=x_train,\n",
        "                 train_labels=y_train,\n",
        "                 test_data=x_test,\n",
        "                 test_labels=y_test,\n",
        "                 predictions=y_preds_1)"
      ],
      "metadata": {
        "colab": {
          "base_uri": "https://localhost:8080/",
          "height": 599
        },
        "id": "wM3JtaMjfeqT",
        "outputId": "35577ef3-33a8-40b6-97ef-dd9938b71c91"
      },
      "execution_count": null,
      "outputs": [
        {
          "output_type": "display_data",
          "data": {
            "text/plain": [
              "<Figure size 1000x700 with 1 Axes>"
            ],
            "image/png": "[encoded data removed]"
          },
          "metadata": {}
        }
      ]
    },
    {
      "cell_type": "code",
      "source": [
        "model_ex_1.evaluate(X_test, y_test)"
      ],
      "metadata": {
        "colab": {
          "base_uri": "https://localhost:8080/"
        },
        "id": "ER-52GnEeap7",
        "outputId": "a9631fab-7d29-4d7b-aa9e-8d59f8862c05"
      },
      "execution_count": null,
      "outputs": [
        {
          "output_type": "stream",
          "name": "stderr",
          "text": [
            "WARNING:tensorflow:5 out of the last 5 calls to <function Model.make_test_function.<locals>.test_function at 0x7f0a8959fe20> triggered tf.function retracing. Tracing is expensive and the excessive number of tracings could be due to (1) creating @tf.function repeatedly in a loop, (2) passing tensors with different shapes, (3) passing Python objects instead of tensors. For (1), please define your @tf.function outside of the loop. For (2), @tf.function has reduce_retracing=True option that can avoid unnecessary retracing. For (3), please refer to https://www.tensorflow.org/guide/function#controlling_retracing and https://www.tensorflow.org/api_docs/python/tf/function for  more details.\n"
          ]
        },
        {
          "output_type": "stream",
          "name": "stdout",
          "text": [
            "1/1 [==============================] - 0s 137ms/step - loss: 3.1104 - mae: 3.1104\n"
          ]
        },
        {
          "output_type": "execute_result",
          "data": {
            "text/plain": [
              "[3.1104378700256348, 3.1104378700256348]"
            ]
          },
          "metadata": {},
          "execution_count": 170
        }
      ]
    },
    {
      "cell_type": "code",
      "source": [
        "# Plot history (also known as a loss curve)\n",
        "pd.DataFrame(history_ex_1.history).plot()\n",
        "plt.ylabel(\"loss\")\n",
        "plt.xlabel(\"epochs\");"
      ],
      "metadata": {
        "colab": {
          "base_uri": "https://localhost:8080/",
          "height": 449
        },
        "id": "t7Wx276Ves75",
        "outputId": "2130a8cc-c3d9-41a4-f942-f06ab94eb076"
      },
      "execution_count": null,
      "outputs": [
        {
          "output_type": "display_data",
          "data": {
            "text/plain": [
              "<Figure size 640x480 with 1 Axes>"
            ],
            "image/png": "[encoded data removed]"
          },
          "metadata": {}
        }
      ]
    },
    {
      "cell_type": "code",
      "source": [],
      "metadata": {
        "id": "y_Mpg1HIgKDE"
      },
      "execution_count": null,
      "outputs": []
    }
  ]
}