{
  "nbformat": 4,
  "nbformat_minor": 0,
  "metadata": {
    "colab": {
      "provenance": [],
      "toc_visible": true,
      "gpuType": "T4",
      "authorship_tag": "ABX9TyNEHSxd2buuPh0jAYJVbZ59",
      "include_colab_link": true
    },
    "kernelspec": {
      "name": "python3",
      "display_name": "Python 3"
    },
    "language_info": {
      "name": "python"
    },
    "accelerator": "GPU"
  },
  "cells": [
    {
      "cell_type": "markdown",
      "metadata": {
        "id": "view-in-github",
        "colab_type": "text"
      },
      "source": [
        "<a href=\"https://colab.research.google.com/github/subhaganesh/deep_learning_repo/blob/main/00_tensorflow_fundamentals.ipynb\" target=\"_parent\"><img src=\"https://colab.research.google.com/assets/colab-badge.svg\" alt=\"Open In Colab\"/></a>"
      ]
    },
    {
      "cell_type": "markdown",
      "source": [
        "#In this notebook we are  going to cover some of the most fundamental concepts of tensors using tensorflow\n",
        "\n",
        "More specifically , we're going to cover:\n",
        "\n",
        "*introduction to tensors\n",
        "\n",
        "*getting information from tensors\n",
        "\n",
        "*manipulating tensors\n",
        "\n",
        "*tensors & numpy\n",
        "\n",
        "*using GPU'S with tensorflow or (TPU'S)\n",
        "\n",
        "*using @tf.function (a way to speed up your regular python functions)\n",
        "\n",
        "*exercises to try for yourself!  "
      ],
      "metadata": {
        "id": "WfgzjGJSv3SJ"
      }
    },
    {
      "cell_type": "markdown",
      "source": [
        "![picture](https://drive.google.com/file/d/1ktimUdBWompnTnV2sfw5X44QtiiKGlTU/view?usp=drive_link)"
      ],
      "metadata": {
        "id": "PzKaZNmSsL_q"
      }
    },
    {
      "cell_type": "markdown",
      "source": [
        "#**Introduction to tensors**"
      ],
      "metadata": {
        "id": "3m9tpJ7F0LOU"
      }
    },
    {
      "cell_type": "code",
      "source": [
        "#import tensorflow\n",
        "import tensorflow as tf\n",
        "print(tf.__version__)"
      ],
      "metadata": {
        "colab": {
          "base_uri": "https://localhost:8080/"
        },
        "id": "Eldeq3qA1yRR",
        "outputId": "3d78fa66-28eb-44af-e72e-49481aa3115a"
      },
      "execution_count": null,
      "outputs": [
        {
          "output_type": "stream",
          "name": "stdout",
          "text": [
            "2.13.0\n"
          ]
        }
      ]
    },
    {
      "cell_type": "code",
      "source": [
        "#create tensors with tf.constant ()\n",
        "scalar = tf.constant(7)\n",
        "scalar"
      ],
      "metadata": {
        "colab": {
          "base_uri": "https://localhost:8080/"
        },
        "id": "UmzT7iwd2Xa3",
        "outputId": "06392790-dac8-4c3b-e985-c6fb9577af89"
      },
      "execution_count": null,
      "outputs": [
        {
          "output_type": "execute_result",
          "data": {
            "text/plain": [
              "<tf.Tensor: shape=(), dtype=int32, numpy=7>"
            ]
          },
          "metadata": {},
          "execution_count": 3
        }
      ]
    },
    {
      "cell_type": "code",
      "source": [
        "#check the number of dimensions of a tensor (ndim stands for number of dimensions)\n",
        "\n",
        "#check the dimension for scalar\n",
        "scalar.ndim"
      ],
      "metadata": {
        "id": "zI8Cnpr44x76",
        "colab": {
          "base_uri": "https://localhost:8080/"
        },
        "outputId": "3bc636b8-a611-4061-ca59-88e5650f6092"
      },
      "execution_count": null,
      "outputs": [
        {
          "output_type": "execute_result",
          "data": {
            "text/plain": [
              "0"
            ]
          },
          "metadata": {},
          "execution_count": 4
        }
      ]
    },
    {
      "cell_type": "code",
      "source": [
        "#create a vector\n",
        "\n",
        "vector=tf.constant([10,2])\n",
        "vector"
      ],
      "metadata": {
        "colab": {
          "base_uri": "https://localhost:8080/"
        },
        "id": "y6ihnT9I5Z8h",
        "outputId": "1f8a83bd-a32d-4a70-8533-23290663ace9"
      },
      "execution_count": null,
      "outputs": [
        {
          "output_type": "execute_result",
          "data": {
            "text/plain": [
              "<tf.Tensor: shape=(2,), dtype=int32, numpy=array([10,  2], dtype=int32)>"
            ]
          },
          "metadata": {},
          "execution_count": 5
        }
      ]
    },
    {
      "cell_type": "code",
      "source": [
        "#check the dimension of vector\n",
        "vector.ndim"
      ],
      "metadata": {
        "colab": {
          "base_uri": "https://localhost:8080/"
        },
        "id": "F_sZicqz5n2v",
        "outputId": "7204d806-3a6e-4ac2-e434-56250feb7b21"
      },
      "execution_count": null,
      "outputs": [
        {
          "output_type": "execute_result",
          "data": {
            "text/plain": [
              "1"
            ]
          },
          "metadata": {},
          "execution_count": 6
        }
      ]
    },
    {
      "cell_type": "code",
      "source": [
        "#create a matrix (has more then one dimension)\n",
        "matrix= tf.constant([[10,5],\n",
        "                     [1,2]])\n",
        "matrix"
      ],
      "metadata": {
        "colab": {
          "base_uri": "https://localhost:8080/"
        },
        "id": "5Jze7C_76CaZ",
        "outputId": "da209d21-a449-49e6-83ad-21904267d425"
      },
      "execution_count": null,
      "outputs": [
        {
          "output_type": "execute_result",
          "data": {
            "text/plain": [
              "<tf.Tensor: shape=(2, 2), dtype=int32, numpy=\n",
              "array([[10,  5],\n",
              "       [ 1,  2]], dtype=int32)>"
            ]
          },
          "metadata": {},
          "execution_count": 7
        }
      ]
    },
    {
      "cell_type": "code",
      "source": [
        "#check the dimension of matrix\n",
        "matrix.ndim\n"
      ],
      "metadata": {
        "colab": {
          "base_uri": "https://localhost:8080/"
        },
        "id": "B9NOe2Jh6c0R",
        "outputId": "8b9e6194-5f97-47e6-d2cc-1fe786e0a0f1"
      },
      "execution_count": null,
      "outputs": [
        {
          "output_type": "execute_result",
          "data": {
            "text/plain": [
              "2"
            ]
          },
          "metadata": {},
          "execution_count": 8
        }
      ]
    },
    {
      "cell_type": "code",
      "source": [
        "#create another matrix\n",
        "another_matrix= tf.constant([[10.,7.],\n",
        "                            [3.,2.],\n",
        "                            [3.,3.]],dtype=tf.float16) #specify the data type with dtype parameter\n",
        "another_matrix"
      ],
      "metadata": {
        "colab": {
          "base_uri": "https://localhost:8080/"
        },
        "id": "5f6kVOOX7-MC",
        "outputId": "baa78b98-9939-411e-8de4-bfc09ceb33a1"
      },
      "execution_count": null,
      "outputs": [
        {
          "output_type": "execute_result",
          "data": {
            "text/plain": [
              "<tf.Tensor: shape=(3, 2), dtype=float16, numpy=\n",
              "array([[10.,  7.],\n",
              "       [ 3.,  2.],\n",
              "       [ 3.,  3.]], dtype=float16)>"
            ]
          },
          "metadata": {},
          "execution_count": 9
        }
      ]
    },
    {
      "cell_type": "code",
      "source": [
        "#check the dimension of matrix\n",
        "another_matrix.ndim"
      ],
      "metadata": {
        "colab": {
          "base_uri": "https://localhost:8080/"
        },
        "id": "W6sQXauf9lPm",
        "outputId": "7a00f9fe-3752-4f35-b242-aeaab0716040"
      },
      "execution_count": null,
      "outputs": [
        {
          "output_type": "execute_result",
          "data": {
            "text/plain": [
              "2"
            ]
          },
          "metadata": {},
          "execution_count": 10
        }
      ]
    },
    {
      "cell_type": "code",
      "source": [
        "# let's create a tensor\n",
        "tensor= tf.constant([[[1,2,3],\n",
        "                      [4,5,6]],\n",
        "                     [[7,8,9],\n",
        "                      [10,11,12]],\n",
        "                     [[13,14,15],\n",
        "                      [16,17,18]]])\n",
        "tensor"
      ],
      "metadata": {
        "colab": {
          "base_uri": "https://localhost:8080/"
        },
        "id": "xZbvf3vD-Dx6",
        "outputId": "433da619-9e00-4918-df2b-47a972268fd6"
      },
      "execution_count": null,
      "outputs": [
        {
          "output_type": "execute_result",
          "data": {
            "text/plain": [
              "<tf.Tensor: shape=(3, 2, 3), dtype=int32, numpy=\n",
              "array([[[ 1,  2,  3],\n",
              "        [ 4,  5,  6]],\n",
              "\n",
              "       [[ 7,  8,  9],\n",
              "        [10, 11, 12]],\n",
              "\n",
              "       [[13, 14, 15],\n",
              "        [16, 17, 18]]], dtype=int32)>"
            ]
          },
          "metadata": {},
          "execution_count": 11
        }
      ]
    },
    {
      "cell_type": "code",
      "source": [
        "tensor.ndim"
      ],
      "metadata": {
        "colab": {
          "base_uri": "https://localhost:8080/"
        },
        "id": "rYVszXrz77iD",
        "outputId": "bf5d9762-9097-4b0d-eeb1-c5331f7402c7"
      },
      "execution_count": null,
      "outputs": [
        {
          "output_type": "execute_result",
          "data": {
            "text/plain": [
              "3"
            ]
          },
          "metadata": {},
          "execution_count": 133
        }
      ]
    },
    {
      "cell_type": "markdown",
      "source": [
        "what we've created so far:\n",
        "\n",
        "*scalar: a single number\n",
        "\n",
        "*vector: a number with direction (e.g wind speed and direction)\n",
        "\n",
        "*matrix: a 2-dimentional array of numbers\n",
        "\n",
        "*tensor: an n- dimensional array of numbers.  (when n can be any number, a 0-dimensional tensor is a scalar ,a 1-dimensional tensor is a vector,a 2-dimensional tensor is a matrix,a 3-dimensional tensor is a n-dimensional matrix)\n"
      ],
      "metadata": {
        "id": "WTtj5-R5__hT"
      }
    },
    {
      "cell_type": "markdown",
      "source": [
        "#creating tensors with tf.**Variable**"
      ],
      "metadata": {
        "id": "_OeyggIaDFI7"
      }
    },
    {
      "cell_type": "code",
      "source": [
        "tf.Variable"
      ],
      "metadata": {
        "colab": {
          "base_uri": "https://localhost:8080/"
        },
        "id": "FS-nbKCuCau6",
        "outputId": "cf44aa85-cc21-4f6d-de98-86efe8aec048"
      },
      "execution_count": null,
      "outputs": [
        {
          "output_type": "execute_result",
          "data": {
            "text/plain": [
              "tensorflow.python.ops.variables.Variable"
            ]
          },
          "metadata": {},
          "execution_count": 12
        }
      ]
    },
    {
      "cell_type": "code",
      "source": [
        "# create the same tensor with tf.variable() as above tf.constant\n",
        "\n",
        "changeable_tensor = tf.Variable([1,2])\n",
        "unchangeable_tensor=tf.constant([1,2])\n",
        "changeable_tensor,unchangeable_tensor"
      ],
      "metadata": {
        "colab": {
          "base_uri": "https://localhost:8080/"
        },
        "id": "WdGWg1kEDrBr",
        "outputId": "cb0785ee-636f-4a65-f16d-ee2ce3303488"
      },
      "execution_count": null,
      "outputs": [
        {
          "output_type": "execute_result",
          "data": {
            "text/plain": [
              "(<tf.Variable 'Variable:0' shape=(2,) dtype=int32, numpy=array([1, 2], dtype=int32)>,\n",
              " <tf.Tensor: shape=(2,), dtype=int32, numpy=array([1, 2], dtype=int32)>)"
            ]
          },
          "metadata": {},
          "execution_count": 13
        }
      ]
    },
    {
      "cell_type": "markdown",
      "source": [
        "let's try change one of the elements in our changeable tensor\n",
        "\n",
        "changeable_tensor[0]=7\n",
        "changeable_tensor"
      ],
      "metadata": {
        "id": "5na6HhoTGl-c"
      }
    },
    {
      "cell_type": "markdown",
      "source": [
        "To change an element of a tf.Variable() tensor requires the assign() method."
      ],
      "metadata": {
        "id": "Y-db5RROS6HI"
      }
    },
    {
      "cell_type": "code",
      "source": [
        "#how about we try .assign()\n",
        "changeable_tensor[0].assign(7)\n",
        "changeable_tensor"
      ],
      "metadata": {
        "colab": {
          "base_uri": "https://localhost:8080/"
        },
        "id": "KKJrJYvsMI0F",
        "outputId": "ebf3312c-69f6-455b-f1a6-22bd44597067"
      },
      "execution_count": null,
      "outputs": [
        {
          "output_type": "execute_result",
          "data": {
            "text/plain": [
              "<tf.Variable 'Variable:0' shape=(2,) dtype=int32, numpy=array([7, 2], dtype=int32)>"
            ]
          },
          "metadata": {},
          "execution_count": 14
        }
      ]
    },
    {
      "cell_type": "markdown",
      "source": [
        "let's try change our unchangable tensor\n",
        " Will error (can't change tf.constant())\n",
        "unchangeable_tensor[0].assign(3)\n",
        "unchangeable_tensor"
      ],
      "metadata": {
        "id": "iJAE7VUoMbE7"
      }
    },
    {
      "cell_type": "markdown",
      "source": [
        "Which one should you use? tf.constant() or tf.Variable()?\n",
        "\n",
        "It will depend on what your problem requires. However, most of the time, TensorFlow will automatically choose for you (when loading data or modelling data)."
      ],
      "metadata": {
        "id": "RCpor-ljWEiJ"
      }
    },
    {
      "cell_type": "markdown",
      "source": [
        "#creating random tensors"
      ],
      "metadata": {
        "id": "8gTrW_iYNBpM"
      }
    },
    {
      "cell_type": "markdown",
      "source": [
        "Random tensors are tensors of some abitrary size which contain random numbers."
      ],
      "metadata": {
        "id": "bXWkwfMYNV6f"
      }
    },
    {
      "cell_type": "code",
      "source": [
        "#create two random (but the same ) tensors\n",
        "\n",
        "random_1 = tf.random.Generator.from_seed(22)  #set seed for reproducibility\n",
        "random_1 = random_1.normal(shape=(3,2))\n",
        "random_1"
      ],
      "metadata": {
        "id": "6OQUahW4ZIaf",
        "colab": {
          "base_uri": "https://localhost:8080/"
        },
        "outputId": "78fb0c14-53a0-4732-ba79-cf4bfaebf03c"
      },
      "execution_count": null,
      "outputs": [
        {
          "output_type": "execute_result",
          "data": {
            "text/plain": [
              "<tf.Tensor: shape=(3, 2), dtype=float32, numpy=\n",
              "array([[-0.7531523 ,  2.0261486 ],\n",
              "       [-0.06997604,  0.8544515 ],\n",
              "       [ 0.11754749,  0.03493892]], dtype=float32)>"
            ]
          },
          "metadata": {},
          "execution_count": 15
        }
      ]
    },
    {
      "cell_type": "code",
      "source": [
        "\n",
        "random_2 = tf.random.Generator.from_seed(22)  #set seed for reproducibility\n",
        "random_2 = random_2.normal(shape=(3,2))\n",
        "random_2"
      ],
      "metadata": {
        "colab": {
          "base_uri": "https://localhost:8080/"
        },
        "id": "3sy0rMBV737t",
        "outputId": "4eeb02b5-b134-4400-9c48-2da20bf9f32c"
      },
      "execution_count": null,
      "outputs": [
        {
          "output_type": "execute_result",
          "data": {
            "text/plain": [
              "<tf.Tensor: shape=(3, 2), dtype=float32, numpy=\n",
              "array([[-0.7531523 ,  2.0261486 ],\n",
              "       [-0.06997604,  0.8544515 ],\n",
              "       [ 0.11754749,  0.03493892]], dtype=float32)>"
            ]
          },
          "metadata": {},
          "execution_count": 16
        }
      ]
    },
    {
      "cell_type": "code",
      "source": [
        "#are they equal?\n",
        "random_1 == random_2"
      ],
      "metadata": {
        "colab": {
          "base_uri": "https://localhost:8080/"
        },
        "id": "ipY8cOr38F6-",
        "outputId": "d9a9dd74-7a4f-4b99-a76b-b9ad942a36b7"
      },
      "execution_count": null,
      "outputs": [
        {
          "output_type": "execute_result",
          "data": {
            "text/plain": [
              "<tf.Tensor: shape=(3, 2), dtype=bool, numpy=\n",
              "array([[ True,  True],\n",
              "       [ True,  True],\n",
              "       [ True,  True]])>"
            ]
          },
          "metadata": {},
          "execution_count": 17
        }
      ]
    },
    {
      "cell_type": "markdown",
      "source": [
        "The random_1 and random_2 are equal because it has same  random seed if it does n't have same random seed it won't give same value .this rule is apt for both uniform and normal"
      ],
      "metadata": {
        "id": "2Api6FD49sW2"
      }
    },
    {
      "cell_type": "code",
      "source": [
        "random_3 = tf.random.Generator.from_seed(42)  #set seed for reproducibility\n",
        "random_3 = random_3.uniform(shape=(3,2))\n",
        "random_3"
      ],
      "metadata": {
        "colab": {
          "base_uri": "https://localhost:8080/"
        },
        "id": "gXgEpSkn8cJe",
        "outputId": "10fb4fb8-7fc6-4ea5-f77b-b438507e8214"
      },
      "execution_count": null,
      "outputs": [
        {
          "output_type": "execute_result",
          "data": {
            "text/plain": [
              "<tf.Tensor: shape=(3, 2), dtype=float32, numpy=\n",
              "array([[0.7493447 , 0.73561966],\n",
              "       [0.45230794, 0.49039817],\n",
              "       [0.1889317 , 0.52027524]], dtype=float32)>"
            ]
          },
          "metadata": {},
          "execution_count": 18
        }
      ]
    },
    {
      "cell_type": "code",
      "source": [
        "random_4 = tf.random.Generator.from_seed(42)  #set seed for reproducibility\n",
        "random_4 = random_4.uniform(shape=(3,2))\n",
        "random_4"
      ],
      "metadata": {
        "colab": {
          "base_uri": "https://localhost:8080/"
        },
        "id": "JAoReybc8l7v",
        "outputId": "c30042e1-2089-4508-957d-f180420dc754"
      },
      "execution_count": null,
      "outputs": [
        {
          "output_type": "execute_result",
          "data": {
            "text/plain": [
              "<tf.Tensor: shape=(3, 2), dtype=float32, numpy=\n",
              "array([[0.7493447 , 0.73561966],\n",
              "       [0.45230794, 0.49039817],\n",
              "       [0.1889317 , 0.52027524]], dtype=float32)>"
            ]
          },
          "metadata": {},
          "execution_count": 19
        }
      ]
    },
    {
      "cell_type": "code",
      "source": [
        "random_3 == random_4"
      ],
      "metadata": {
        "colab": {
          "base_uri": "https://localhost:8080/"
        },
        "id": "tFEa4Zfx8szr",
        "outputId": "71ff134a-a14d-40a5-ebfb-3e1d42c886f9"
      },
      "execution_count": null,
      "outputs": [
        {
          "output_type": "execute_result",
          "data": {
            "text/plain": [
              "<tf.Tensor: shape=(3, 2), dtype=bool, numpy=\n",
              "array([[ True,  True],\n",
              "       [ True,  True],\n",
              "       [ True,  True]])>"
            ]
          },
          "metadata": {},
          "execution_count": 20
        }
      ]
    },
    {
      "cell_type": "code",
      "source": [
        "uniform=tf.random.uniform(shape=(2,2)),\n",
        "normal=tf.random.normal(shape=(2,2))\n",
        "uniform,normal"
      ],
      "metadata": {
        "colab": {
          "base_uri": "https://localhost:8080/"
        },
        "id": "NsfxAQcw-m2B",
        "outputId": "1344e95d-0030-4e2b-d8df-45d683f3e53d"
      },
      "execution_count": null,
      "outputs": [
        {
          "output_type": "execute_result",
          "data": {
            "text/plain": [
              "((<tf.Tensor: shape=(2, 2), dtype=float32, numpy=\n",
              "  array([[0.15907753, 0.00838828],\n",
              "         [0.6158956 , 0.87907624]], dtype=float32)>,),\n",
              " <tf.Tensor: shape=(2, 2), dtype=float32, numpy=\n",
              " array([[-0.1542775 ,  0.744887  ],\n",
              "        [-0.70548195, -0.7847715 ]], dtype=float32)>)"
            ]
          },
          "metadata": {},
          "execution_count": 21
        }
      ]
    },
    {
      "cell_type": "markdown",
      "source": [
        "#shuffle the order of elements in a tensor"
      ],
      "metadata": {
        "id": "-s3ZRHRC_H0C"
      }
    },
    {
      "cell_type": "markdown",
      "source": [
        "What if you wanted to shuffle the order of a tensor?\n",
        "\n",
        "Wait, why would you want to do that?\n",
        "\n",
        "Let's say you working with 15,000 images of cats and dogs and the first 10,000 images of were of cats and the next 5,000 were of dogs. This order could effect how a neural network learns (it may overfit by learning the order of the data), instead, it might be a good idea to move your data around."
      ],
      "metadata": {
        "id": "ZdlTm15DAlRA"
      }
    },
    {
      "cell_type": "code",
      "source": [
        "# Shuffle a tensor (valuable for when you want to shuffle your data)\n",
        "not_shuffled = tf.constant([[10, 7],\n",
        "                            [3, 4],\n",
        "                            [2, 5]])\n",
        "# Gets different results each time\n",
        "tf.random.shuffle(not_shuffled)"
      ],
      "metadata": {
        "colab": {
          "base_uri": "https://localhost:8080/"
        },
        "id": "AcmWtM7Z_l33",
        "outputId": "e904c5fe-eca2-45e9-f62f-0e69b418e895"
      },
      "execution_count": null,
      "outputs": [
        {
          "output_type": "execute_result",
          "data": {
            "text/plain": [
              "<tf.Tensor: shape=(3, 2), dtype=int32, numpy=\n",
              "array([[ 2,  5],\n",
              "       [10,  7],\n",
              "       [ 3,  4]], dtype=int32)>"
            ]
          },
          "metadata": {},
          "execution_count": 22
        }
      ]
    },
    {
      "cell_type": "code",
      "source": [
        "#shuffle our non-shuffled tensor with random seed\n",
        "tf.random.shuffle(not_shuffled, seed=42) #---operation level seed\n",
        "\n",
        "# the values are changing because it has no global level seed"
      ],
      "metadata": {
        "colab": {
          "base_uri": "https://localhost:8080/"
        },
        "id": "okGVp4htEHPT",
        "outputId": "321ba39d-4cef-4d50-a9ff-3aa5c96bd238"
      },
      "execution_count": null,
      "outputs": [
        {
          "output_type": "execute_result",
          "data": {
            "text/plain": [
              "<tf.Tensor: shape=(3, 2), dtype=int32, numpy=\n",
              "array([[ 2,  5],\n",
              "       [ 3,  4],\n",
              "       [10,  7]], dtype=int32)>"
            ]
          },
          "metadata": {},
          "execution_count": 23
        }
      ]
    },
    {
      "cell_type": "code",
      "source": [
        " #the values will not change because of global level seed\n",
        "\n",
        "tf.random.set_seed(42)                   #---global level seed\n",
        "tf.random.shuffle(not_shuffled, seed=42) #---operation level seed"
      ],
      "metadata": {
        "colab": {
          "base_uri": "https://localhost:8080/"
        },
        "id": "wA5NUcGuDBg4",
        "outputId": "4fc5e31c-6c4a-4e05-deab-40dde0f564af"
      },
      "execution_count": null,
      "outputs": [
        {
          "output_type": "execute_result",
          "data": {
            "text/plain": [
              "<tf.Tensor: shape=(3, 2), dtype=int32, numpy=\n",
              "array([[10,  7],\n",
              "       [ 3,  4],\n",
              "       [ 2,  5]], dtype=int32)>"
            ]
          },
          "metadata": {},
          "execution_count": 24
        }
      ]
    },
    {
      "cell_type": "markdown",
      "source": [
        "#other ways to make tensors"
      ],
      "metadata": {
        "id": "Znb83ZOuGm8X"
      }
    },
    {
      "cell_type": "code",
      "source": [
        "#create tensor of all ones\n",
        "tf.ones([5,4])"
      ],
      "metadata": {
        "colab": {
          "base_uri": "https://localhost:8080/"
        },
        "id": "6rxnoOi6Httf",
        "outputId": "20296b35-4715-41b5-c9c2-20e632d2d182"
      },
      "execution_count": null,
      "outputs": [
        {
          "output_type": "execute_result",
          "data": {
            "text/plain": [
              "<tf.Tensor: shape=(5, 4), dtype=float32, numpy=\n",
              "array([[1., 1., 1., 1.],\n",
              "       [1., 1., 1., 1.],\n",
              "       [1., 1., 1., 1.],\n",
              "       [1., 1., 1., 1.],\n",
              "       [1., 1., 1., 1.]], dtype=float32)>"
            ]
          },
          "metadata": {},
          "execution_count": 25
        }
      ]
    },
    {
      "cell_type": "code",
      "source": [
        "#create tensor of all zeros\n",
        "tf.zeros(shape=(3,4) )"
      ],
      "metadata": {
        "colab": {
          "base_uri": "https://localhost:8080/"
        },
        "id": "9xUA8nM3IYkL",
        "outputId": "ab459416-7820-4ae7-8222-f59f1e66e58e"
      },
      "execution_count": null,
      "outputs": [
        {
          "output_type": "execute_result",
          "data": {
            "text/plain": [
              "<tf.Tensor: shape=(3, 4), dtype=float32, numpy=\n",
              "array([[0., 0., 0., 0.],\n",
              "       [0., 0., 0., 0.],\n",
              "       [0., 0., 0., 0.]], dtype=float32)>"
            ]
          },
          "metadata": {},
          "execution_count": 26
        }
      ]
    },
    {
      "cell_type": "markdown",
      "source": [
        "the main difference between numpy arrays and tensorflow tensors is that tensors can be run on a gpu(much faster for numerical computing)."
      ],
      "metadata": {
        "id": "PcTU_h9EXoR4"
      }
    },
    {
      "cell_type": "code",
      "source": [
        "#you can also turn numpy arrays into tensors\n",
        "import numpy as np\n",
        "numpy_A= np.arange(1,25,dtype=np.int32) #create a numpy array between 1 & 25\n",
        "numpy_A\n",
        "\n",
        "# x = tf.constant(some_matrix) #capital for matrix or tensor\n",
        "# y = tf.constant(vector) # non-capital for vector"
      ],
      "metadata": {
        "colab": {
          "base_uri": "https://localhost:8080/"
        },
        "id": "LgFgxBbRXQXt",
        "outputId": "6ddbc9ea-80b3-4863-d88f-35faa5e1a256"
      },
      "execution_count": null,
      "outputs": [
        {
          "output_type": "execute_result",
          "data": {
            "text/plain": [
              "array([ 1,  2,  3,  4,  5,  6,  7,  8,  9, 10, 11, 12, 13, 14, 15, 16, 17,\n",
              "       18, 19, 20, 21, 22, 23, 24], dtype=int32)"
            ]
          },
          "metadata": {},
          "execution_count": 27
        }
      ]
    },
    {
      "cell_type": "code",
      "source": [
        "A = tf.constant (numpy_A, shape=(2,3,4))\n",
        "B = tf.constant (numpy_A) # note: the shape total (2*4*3) has to match the number of elements in the array\n",
        "A, B"
      ],
      "metadata": {
        "colab": {
          "base_uri": "https://localhost:8080/"
        },
        "id": "dIQ_WksSZKUb",
        "outputId": "d65e578b-5494-4bdf-e99a-d0be79ff7733"
      },
      "execution_count": null,
      "outputs": [
        {
          "output_type": "execute_result",
          "data": {
            "text/plain": [
              "(<tf.Tensor: shape=(2, 3, 4), dtype=int32, numpy=\n",
              " array([[[ 1,  2,  3,  4],\n",
              "         [ 5,  6,  7,  8],\n",
              "         [ 9, 10, 11, 12]],\n",
              " \n",
              "        [[13, 14, 15, 16],\n",
              "         [17, 18, 19, 20],\n",
              "         [21, 22, 23, 24]]], dtype=int32)>,\n",
              " <tf.Tensor: shape=(24,), dtype=int32, numpy=\n",
              " array([ 1,  2,  3,  4,  5,  6,  7,  8,  9, 10, 11, 12, 13, 14, 15, 16, 17,\n",
              "        18, 19, 20, 21, 22, 23, 24], dtype=int32)>)"
            ]
          },
          "metadata": {},
          "execution_count": 28
        }
      ]
    },
    {
      "cell_type": "code",
      "source": [
        "A.ndim"
      ],
      "metadata": {
        "colab": {
          "base_uri": "https://localhost:8080/"
        },
        "id": "xeGfObbqa25T",
        "outputId": "c524d0d0-0918-44d5-8699-b2144a06ef26"
      },
      "execution_count": null,
      "outputs": [
        {
          "output_type": "execute_result",
          "data": {
            "text/plain": [
              "3"
            ]
          },
          "metadata": {},
          "execution_count": 29
        }
      ]
    },
    {
      "cell_type": "markdown",
      "source": [
        "#getting information from tensors"
      ],
      "metadata": {
        "id": "qTi1Qm7rAbSO"
      }
    },
    {
      "cell_type": "markdown",
      "source": [
        "\n",
        " when dealing with tensors you probably want to be aware of the following\n",
        " attributes:\n",
        "* shape  \n",
        "* rank\n",
        "* axis or dimension\n",
        "* size   \n",
        "\n"
      ],
      "metadata": {
        "id": "b0bdW3vdZiW1"
      }
    },
    {
      "cell_type": "code",
      "source": [
        "#create a rank 4 tensor (4 dimensions)\n",
        "\n",
        "rank_4_tensor = tf.zeros(shape=([2,3,4,5]))\n",
        "rank_4_tensor"
      ],
      "metadata": {
        "colab": {
          "base_uri": "https://localhost:8080/"
        },
        "id": "fFrtFiCZastD",
        "outputId": "f6aa491e-d82d-4fa2-ed18-1b1d75831768"
      },
      "execution_count": null,
      "outputs": [
        {
          "output_type": "execute_result",
          "data": {
            "text/plain": [
              "<tf.Tensor: shape=(2, 3, 4, 5), dtype=float32, numpy=\n",
              "array([[[[0., 0., 0., 0., 0.],\n",
              "         [0., 0., 0., 0., 0.],\n",
              "         [0., 0., 0., 0., 0.],\n",
              "         [0., 0., 0., 0., 0.]],\n",
              "\n",
              "        [[0., 0., 0., 0., 0.],\n",
              "         [0., 0., 0., 0., 0.],\n",
              "         [0., 0., 0., 0., 0.],\n",
              "         [0., 0., 0., 0., 0.]],\n",
              "\n",
              "        [[0., 0., 0., 0., 0.],\n",
              "         [0., 0., 0., 0., 0.],\n",
              "         [0., 0., 0., 0., 0.],\n",
              "         [0., 0., 0., 0., 0.]]],\n",
              "\n",
              "\n",
              "       [[[0., 0., 0., 0., 0.],\n",
              "         [0., 0., 0., 0., 0.],\n",
              "         [0., 0., 0., 0., 0.],\n",
              "         [0., 0., 0., 0., 0.]],\n",
              "\n",
              "        [[0., 0., 0., 0., 0.],\n",
              "         [0., 0., 0., 0., 0.],\n",
              "         [0., 0., 0., 0., 0.],\n",
              "         [0., 0., 0., 0., 0.]],\n",
              "\n",
              "        [[0., 0., 0., 0., 0.],\n",
              "         [0., 0., 0., 0., 0.],\n",
              "         [0., 0., 0., 0., 0.],\n",
              "         [0., 0., 0., 0., 0.]]]], dtype=float32)>"
            ]
          },
          "metadata": {},
          "execution_count": 30
        }
      ]
    },
    {
      "cell_type": "code",
      "source": [
        "rank_4_tensor.shape,  rank_4_tensor.ndim,  tf.size(rank_4_tensor)"
      ],
      "metadata": {
        "colab": {
          "base_uri": "https://localhost:8080/"
        },
        "id": "P-YH5tZqfOYj",
        "outputId": "04aab732-c968-4ed4-abd3-c328620fd747"
      },
      "execution_count": null,
      "outputs": [
        {
          "output_type": "execute_result",
          "data": {
            "text/plain": [
              "(TensorShape([2, 3, 4, 5]), 4, <tf.Tensor: shape=(), dtype=int32, numpy=120>)"
            ]
          },
          "metadata": {},
          "execution_count": 31
        }
      ]
    },
    {
      "cell_type": "code",
      "source": [
        "rank_4_tensor.shape[0]"
      ],
      "metadata": {
        "colab": {
          "base_uri": "https://localhost:8080/"
        },
        "id": "tGWcP0IAjmlI",
        "outputId": "60db53d5-bb70-474e-eecb-2a360b5927d6"
      },
      "execution_count": null,
      "outputs": [
        {
          "output_type": "execute_result",
          "data": {
            "text/plain": [
              "2"
            ]
          },
          "metadata": {},
          "execution_count": 32
        }
      ]
    },
    {
      "cell_type": "code",
      "source": [
        "rank_4_tensor[0, :2]"
      ],
      "metadata": {
        "colab": {
          "base_uri": "https://localhost:8080/"
        },
        "id": "KYLReMS2hibn",
        "outputId": "d72d706a-be44-48bd-fee2-b9b11c799074"
      },
      "execution_count": null,
      "outputs": [
        {
          "output_type": "execute_result",
          "data": {
            "text/plain": [
              "<tf.Tensor: shape=(2, 4, 5), dtype=float32, numpy=\n",
              "array([[[0., 0., 0., 0., 0.],\n",
              "        [0., 0., 0., 0., 0.],\n",
              "        [0., 0., 0., 0., 0.],\n",
              "        [0., 0., 0., 0., 0.]],\n",
              "\n",
              "       [[0., 0., 0., 0., 0.],\n",
              "        [0., 0., 0., 0., 0.],\n",
              "        [0., 0., 0., 0., 0.],\n",
              "        [0., 0., 0., 0., 0.]]], dtype=float32)>"
            ]
          },
          "metadata": {},
          "execution_count": 33
        }
      ]
    },
    {
      "cell_type": "code",
      "source": [
        "# Get various attributes of tensor\n",
        "print(\"Datatype of every element:\", rank_4_tensor.dtype)\n",
        "print(\"Number of dimensions (rank):\", rank_4_tensor.ndim)\n",
        "print(\"Shape of tensor:\", rank_4_tensor.shape)\n",
        "print(\"Elements along axis 0 of tensor:\", rank_4_tensor.shape[0])\n",
        "print(\"Elements along last axis of tensor:\", rank_4_tensor.shape[-1])\n",
        "print(\"Total number of elements (2*3*4*5):\", tf.size(rank_4_tensor))\n",
        "print(\"Total number of elements (2*3*4*5):\", tf.size(rank_4_tensor).numpy()) # .numpy() converts to NumPy array\n"
      ],
      "metadata": {
        "colab": {
          "base_uri": "https://localhost:8080/"
        },
        "id": "n0nVPaYsm7I9",
        "outputId": "43263326-0e71-43d2-a74f-59c730338024"
      },
      "execution_count": null,
      "outputs": [
        {
          "output_type": "stream",
          "name": "stdout",
          "text": [
            "Datatype of every element: <dtype: 'float32'>\n",
            "Number of dimensions (rank): 4\n",
            "Shape of tensor: (2, 3, 4, 5)\n",
            "Elements along axis 0 of tensor: 2\n",
            "Elements along last axis of tensor: 5\n",
            "Total number of elements (2*3*4*5): tf.Tensor(120, shape=(), dtype=int32)\n",
            "Total number of elements (2*3*4*5): 120\n"
          ]
        }
      ]
    },
    {
      "cell_type": "markdown",
      "source": [
        "#indexing and expanding tensors\n",
        " index tensors just like Python lists."
      ],
      "metadata": {
        "id": "2rRfOjOjoq1P"
      }
    },
    {
      "cell_type": "code",
      "source": [
        "#get the first 2 elements of each dimension\n",
        "\n",
        "rank_4_tensor[:2, :2, :2, :2]"
      ],
      "metadata": {
        "colab": {
          "base_uri": "https://localhost:8080/"
        },
        "id": "h6gk0SDZolvA",
        "outputId": "1c96db0b-9cb9-4279-bd12-28d9c945f7c2"
      },
      "execution_count": null,
      "outputs": [
        {
          "output_type": "execute_result",
          "data": {
            "text/plain": [
              "<tf.Tensor: shape=(2, 2, 2, 2), dtype=float32, numpy=\n",
              "array([[[[0., 0.],\n",
              "         [0., 0.]],\n",
              "\n",
              "        [[0., 0.],\n",
              "         [0., 0.]]],\n",
              "\n",
              "\n",
              "       [[[0., 0.],\n",
              "         [0., 0.]],\n",
              "\n",
              "        [[0., 0.],\n",
              "         [0., 0.]]]], dtype=float32)>"
            ]
          },
          "metadata": {},
          "execution_count": 35
        }
      ]
    },
    {
      "cell_type": "code",
      "source": [
        "rank_4_tensor.shape"
      ],
      "metadata": {
        "colab": {
          "base_uri": "https://localhost:8080/"
        },
        "id": "HK2kG7sZsk-x",
        "outputId": "99d53324-1345-4fd9-da63-dfdb11e11e97"
      },
      "execution_count": null,
      "outputs": [
        {
          "output_type": "execute_result",
          "data": {
            "text/plain": [
              "TensorShape([2, 3, 4, 5])"
            ]
          },
          "metadata": {},
          "execution_count": 36
        }
      ]
    },
    {
      "cell_type": "code",
      "source": [
        "# Get the first element from each dimension  except for the final one\n",
        "rank_4_tensor[:1, :1, :1]"
      ],
      "metadata": {
        "colab": {
          "base_uri": "https://localhost:8080/"
        },
        "id": "o0kMrcOyrGhm",
        "outputId": "1954a87c-33d8-45b4-f6b3-79a093b34c57"
      },
      "execution_count": null,
      "outputs": [
        {
          "output_type": "execute_result",
          "data": {
            "text/plain": [
              "<tf.Tensor: shape=(1, 1, 1, 5), dtype=float32, numpy=array([[[[0., 0., 0., 0., 0.]]]], dtype=float32)>"
            ]
          },
          "metadata": {},
          "execution_count": 37
        }
      ]
    },
    {
      "cell_type": "code",
      "source": [
        "# Get the first element from each dimension  except for the third one\n",
        "rank_4_tensor[:1, :1, : , :1]"
      ],
      "metadata": {
        "colab": {
          "base_uri": "https://localhost:8080/"
        },
        "id": "5O5vzvzSrb-g",
        "outputId": "74dc6c25-4bab-4ea6-e73f-da83524aeb27"
      },
      "execution_count": null,
      "outputs": [
        {
          "output_type": "execute_result",
          "data": {
            "text/plain": [
              "<tf.Tensor: shape=(1, 1, 4, 1), dtype=float32, numpy=\n",
              "array([[[[0.],\n",
              "         [0.],\n",
              "         [0.],\n",
              "         [0.]]]], dtype=float32)>"
            ]
          },
          "metadata": {},
          "execution_count": 38
        }
      ]
    },
    {
      "cell_type": "code",
      "source": [
        "#create a rank 2 tensor (2dimensions)\n",
        "rank_2_tensor = tf.constant([[10,7],\n",
        "                             [3,4]])\n",
        "rank_2_tensor.shape, rank_2_tensor.ndim"
      ],
      "metadata": {
        "colab": {
          "base_uri": "https://localhost:8080/"
        },
        "id": "OtjNPJODtEfF",
        "outputId": "aed362bd-b975-47f6-9a2f-1adf121e14a4"
      },
      "execution_count": null,
      "outputs": [
        {
          "output_type": "execute_result",
          "data": {
            "text/plain": [
              "(TensorShape([2, 2]), 2)"
            ]
          },
          "metadata": {},
          "execution_count": 39
        }
      ]
    },
    {
      "cell_type": "code",
      "source": [
        "# Get the last item of each row\n",
        "rank_2_tensor[:, -1]"
      ],
      "metadata": {
        "colab": {
          "base_uri": "https://localhost:8080/"
        },
        "id": "UsGHG-qfxjVG",
        "outputId": "08ef860a-75f6-4c56-983b-e64deeddf809"
      },
      "execution_count": null,
      "outputs": [
        {
          "output_type": "execute_result",
          "data": {
            "text/plain": [
              "<tf.Tensor: shape=(2,), dtype=int32, numpy=array([7, 4], dtype=int32)>"
            ]
          },
          "metadata": {},
          "execution_count": 40
        }
      ]
    },
    {
      "cell_type": "code",
      "source": [
        "# Add an extra dimension (to the end)\n",
        "rank_3_tensor = rank_2_tensor[..., tf.newaxis] # in Python \"...\" means \"all dimensions prior to\"\n",
        "rank_2_tensor, rank_3_tensor # shape (2, 2), shape (2, 2, 1)"
      ],
      "metadata": {
        "colab": {
          "base_uri": "https://localhost:8080/"
        },
        "id": "vnjaqwHXx7k4",
        "outputId": "6edc747a-677b-4baa-fbf2-ecb6dedaa911"
      },
      "execution_count": null,
      "outputs": [
        {
          "output_type": "execute_result",
          "data": {
            "text/plain": [
              "(<tf.Tensor: shape=(2, 2), dtype=int32, numpy=\n",
              " array([[10,  7],\n",
              "        [ 3,  4]], dtype=int32)>,\n",
              " <tf.Tensor: shape=(2, 2, 1), dtype=int32, numpy=\n",
              " array([[[10],\n",
              "         [ 7]],\n",
              " \n",
              "        [[ 3],\n",
              "         [ 4]]], dtype=int32)>)"
            ]
          },
          "metadata": {},
          "execution_count": 41
        }
      ]
    },
    {
      "cell_type": "code",
      "source": [
        "#You can achieve the same using tf.expand_dims()\n",
        "\n",
        "tf.expand_dims(rank_2_tensor, axis=-1) # \"-1\" means last axis"
      ],
      "metadata": {
        "colab": {
          "base_uri": "https://localhost:8080/"
        },
        "id": "-hfTOtH5zOuT",
        "outputId": "2d9cefcb-5573-48bb-8318-429d5b5d2822"
      },
      "execution_count": null,
      "outputs": [
        {
          "output_type": "execute_result",
          "data": {
            "text/plain": [
              "<tf.Tensor: shape=(2, 2, 1), dtype=int32, numpy=\n",
              "array([[[10],\n",
              "        [ 7]],\n",
              "\n",
              "       [[ 3],\n",
              "        [ 4]]], dtype=int32)>"
            ]
          },
          "metadata": {},
          "execution_count": 42
        }
      ]
    },
    {
      "cell_type": "markdown",
      "source": [
        "#Manipulating tensors (tensor operations)\n",
        "##Basic operation\n",
        "\n",
        "* addition   \n",
        "* subtraction\n",
        "* multiplication\n",
        "* divide\n",
        "\n"
      ],
      "metadata": {
        "id": "K3A4wdr8zdk6"
      }
    },
    {
      "cell_type": "code",
      "source": [
        "# You can add values to a tensor using the addition operator\n",
        "tensor = tf.constant([[10, 7], [3, 4]])\n",
        "tensor + 10"
      ],
      "metadata": {
        "colab": {
          "base_uri": "https://localhost:8080/"
        },
        "id": "HWw1rP6WziZf",
        "outputId": "ebe5c879-3ed2-4236-d7a8-7097a0cd7e6b"
      },
      "execution_count": null,
      "outputs": [
        {
          "output_type": "execute_result",
          "data": {
            "text/plain": [
              "<tf.Tensor: shape=(2, 2), dtype=int32, numpy=\n",
              "array([[20, 17],\n",
              "       [13, 14]], dtype=int32)>"
            ]
          },
          "metadata": {},
          "execution_count": 43
        }
      ]
    },
    {
      "cell_type": "markdown",
      "source": [
        "Since we used tf.constant(), the original tensor is unchanged (the addition gets done on a copy)."
      ],
      "metadata": {
        "id": "dt8YAllw5i1n"
      }
    },
    {
      "cell_type": "code",
      "source": [
        "# Original tensor unchanged\n",
        "tensor"
      ],
      "metadata": {
        "colab": {
          "base_uri": "https://localhost:8080/"
        },
        "id": "n0M7325n5eD_",
        "outputId": "003fc67b-7ed6-4145-9b36-1f9111a515db"
      },
      "execution_count": null,
      "outputs": [
        {
          "output_type": "execute_result",
          "data": {
            "text/plain": [
              "<tf.Tensor: shape=(2, 2), dtype=int32, numpy=\n",
              "array([[10,  7],\n",
              "       [ 3,  4]], dtype=int32)>"
            ]
          },
          "metadata": {},
          "execution_count": 44
        }
      ]
    },
    {
      "cell_type": "code",
      "source": [
        "# Multiplication (known as element-wise multiplication)\n",
        "tensor * 10"
      ],
      "metadata": {
        "colab": {
          "base_uri": "https://localhost:8080/"
        },
        "id": "iB-b4C8Q5rET",
        "outputId": "04159337-47f1-4c1c-e4a6-7e4fb248d8ba"
      },
      "execution_count": null,
      "outputs": [
        {
          "output_type": "execute_result",
          "data": {
            "text/plain": [
              "<tf.Tensor: shape=(2, 2), dtype=int32, numpy=\n",
              "array([[100,  70],\n",
              "       [ 30,  40]], dtype=int32)>"
            ]
          },
          "metadata": {},
          "execution_count": 45
        }
      ]
    },
    {
      "cell_type": "code",
      "source": [
        "# Subtraction\n",
        "tensor - 10"
      ],
      "metadata": {
        "colab": {
          "base_uri": "https://localhost:8080/"
        },
        "id": "UOtokAuh5sUO",
        "outputId": "9ff6d81c-9d86-4f00-ffc4-e2ebdf2c4fdb"
      },
      "execution_count": null,
      "outputs": [
        {
          "output_type": "execute_result",
          "data": {
            "text/plain": [
              "<tf.Tensor: shape=(2, 2), dtype=int32, numpy=\n",
              "array([[ 0, -3],\n",
              "       [-7, -6]], dtype=int32)>"
            ]
          },
          "metadata": {},
          "execution_count": 46
        }
      ]
    },
    {
      "cell_type": "markdown",
      "source": [
        "You can also use the equivalent TensorFlow function. Using the TensorFlow function (where possible) has the advantage of being speed up later down the line when running as part of a TensorFlow graph."
      ],
      "metadata": {
        "id": "7snhKBA852po"
      }
    },
    {
      "cell_type": "code",
      "source": [
        "# Use the tensorflow function equivalent of the '*' (multiply) operator\n",
        "tf.multiply(tensor, 10)"
      ],
      "metadata": {
        "colab": {
          "base_uri": "https://localhost:8080/"
        },
        "id": "ercNnK2R55qB",
        "outputId": "1229bc63-2fc9-4ddf-d548-4f2a6f3efa49"
      },
      "execution_count": null,
      "outputs": [
        {
          "output_type": "execute_result",
          "data": {
            "text/plain": [
              "<tf.Tensor: shape=(2, 2), dtype=int32, numpy=\n",
              "array([[100,  70],\n",
              "       [ 30,  40]], dtype=int32)>"
            ]
          },
          "metadata": {},
          "execution_count": 47
        }
      ]
    },
    {
      "cell_type": "code",
      "source": [
        "x=tf.constant([[1,2],\n",
        "               [3,4]])\n",
        "y=tf.constant([[2,3],\n",
        "               [3,4]])\n",
        "tf.add(x,y)"
      ],
      "metadata": {
        "colab": {
          "base_uri": "https://localhost:8080/"
        },
        "id": "dGIss2LJNMpY",
        "outputId": "0ef668ec-a495-47cd-9e1e-58d47979a57f"
      },
      "execution_count": null,
      "outputs": [
        {
          "output_type": "execute_result",
          "data": {
            "text/plain": [
              "<tf.Tensor: shape=(2, 2), dtype=int32, numpy=\n",
              "array([[3, 5],\n",
              "       [6, 8]], dtype=int32)>"
            ]
          },
          "metadata": {},
          "execution_count": 48
        }
      ]
    },
    {
      "cell_type": "code",
      "source": [
        "tf.subtract(x,y)"
      ],
      "metadata": {
        "colab": {
          "base_uri": "https://localhost:8080/"
        },
        "id": "R-P2qD4hUZ_8",
        "outputId": "b92aaf0b-7144-4b98-8733-069b40e0af51"
      },
      "execution_count": null,
      "outputs": [
        {
          "output_type": "execute_result",
          "data": {
            "text/plain": [
              "<tf.Tensor: shape=(2, 2), dtype=int32, numpy=\n",
              "array([[-1, -1],\n",
              "       [ 0,  0]], dtype=int32)>"
            ]
          },
          "metadata": {},
          "execution_count": 49
        }
      ]
    },
    {
      "cell_type": "code",
      "source": [
        "tf.divide(x,y)"
      ],
      "metadata": {
        "colab": {
          "base_uri": "https://localhost:8080/"
        },
        "id": "-AzkVieAUsNS",
        "outputId": "b139eda1-f906-444e-f50c-56881deb7ced"
      },
      "execution_count": null,
      "outputs": [
        {
          "output_type": "execute_result",
          "data": {
            "text/plain": [
              "<tf.Tensor: shape=(2, 2), dtype=float64, numpy=\n",
              "array([[0.5       , 0.66666667],\n",
              "       [1.        , 1.        ]])>"
            ]
          },
          "metadata": {},
          "execution_count": 50
        }
      ]
    },
    {
      "cell_type": "code",
      "source": [
        "# The original tensor is still unchanged\n",
        "tensor"
      ],
      "metadata": {
        "colab": {
          "base_uri": "https://localhost:8080/"
        },
        "id": "qIojOZ9v574I",
        "outputId": "905b8f8f-d057-461c-aac7-9dad21c65d08"
      },
      "execution_count": null,
      "outputs": [
        {
          "output_type": "execute_result",
          "data": {
            "text/plain": [
              "<tf.Tensor: shape=(2, 2), dtype=int32, numpy=\n",
              "array([[10,  7],\n",
              "       [ 3,  4]], dtype=int32)>"
            ]
          },
          "metadata": {},
          "execution_count": 51
        }
      ]
    },
    {
      "cell_type": "markdown",
      "source": [
        "#Matrix mutliplication"
      ],
      "metadata": {
        "id": "mvl7peKLANgZ"
      }
    },
    {
      "cell_type": "markdown",
      "source": [
        "One of the most common operations in machine learning algorithms is matrix multiplication.\n",
        "\n",
        "TensorFlow implements this matrix multiplication functionality in the tf.matmul() method.\n",
        "\n",
        "The main two rules for matrix multiplication to remember are:\n",
        "\n",
        "The inner dimensions must match:\n",
        "\n",
        "(3, 5) @ (3, 5) won't work\n",
        "\n",
        "(5, 3) @ (3, 5) will work\n",
        "\n",
        "(3, 5) @ (5, 3) will work\n",
        "\n",
        "The resulting matrix has the shape of the outer dimensions:\n",
        "\n",
        "(5, 3) @ (3, 5) -> (5, 5)\n",
        "\n",
        "(3, 5) @ (5, 3) -> (3, 3)\n",
        "\n",
        "🔑 Note: '@' in Python is the symbol for matrix multiplication."
      ],
      "metadata": {
        "id": "ng_ildmt5-Og"
      }
    },
    {
      "cell_type": "code",
      "source": [
        "# Matrix multiplication in TensorFlow\n",
        "print(tensor)\n",
        "tf.matmul(tensor, tensor)"
      ],
      "metadata": {
        "colab": {
          "base_uri": "https://localhost:8080/"
        },
        "id": "vwfaDIC3NOhT",
        "outputId": "1f46728a-5580-4f20-902b-1e27a2fcbeb3"
      },
      "execution_count": null,
      "outputs": [
        {
          "output_type": "stream",
          "name": "stdout",
          "text": [
            "tf.Tensor(\n",
            "[[10  7]\n",
            " [ 3  4]], shape=(2, 2), dtype=int32)\n"
          ]
        },
        {
          "output_type": "execute_result",
          "data": {
            "text/plain": [
              "<tf.Tensor: shape=(2, 2), dtype=int32, numpy=\n",
              "array([[121,  98],\n",
              "       [ 42,  37]], dtype=int32)>"
            ]
          },
          "metadata": {},
          "execution_count": 52
        }
      ]
    },
    {
      "cell_type": "code",
      "source": [
        "# Matrix multiplication with Python operator '@'\n",
        "tensor @ tensor"
      ],
      "metadata": {
        "colab": {
          "base_uri": "https://localhost:8080/"
        },
        "id": "MFJ9qeYlNcB-",
        "outputId": "6583a144-5346-4bc2-8d47-6e7366daa11a"
      },
      "execution_count": null,
      "outputs": [
        {
          "output_type": "execute_result",
          "data": {
            "text/plain": [
              "<tf.Tensor: shape=(2, 2), dtype=int32, numpy=\n",
              "array([[121,  98],\n",
              "       [ 42,  37]], dtype=int32)>"
            ]
          },
          "metadata": {},
          "execution_count": 53
        }
      ]
    },
    {
      "cell_type": "code",
      "source": [
        "# Create (3, 2) tensor\n",
        "X = tf.constant([[1, 2],\n",
        "                 [3, 4],\n",
        "                 [5, 6]])\n",
        "\n",
        "# Create another (3, 2) tensor\n",
        "Y = tf.constant([[7, 8],\n",
        "                 [9, 10],\n",
        "                 [11, 12]])\n",
        "X, Y"
      ],
      "metadata": {
        "colab": {
          "base_uri": "https://localhost:8080/"
        },
        "id": "oqJd6DvKNfbt",
        "outputId": "402041e6-3d35-42a5-b837-54fbbd2b34d2"
      },
      "execution_count": null,
      "outputs": [
        {
          "output_type": "execute_result",
          "data": {
            "text/plain": [
              "(<tf.Tensor: shape=(3, 2), dtype=int32, numpy=\n",
              " array([[1, 2],\n",
              "        [3, 4],\n",
              "        [5, 6]], dtype=int32)>,\n",
              " <tf.Tensor: shape=(3, 2), dtype=int32, numpy=\n",
              " array([[ 7,  8],\n",
              "        [ 9, 10],\n",
              "        [11, 12]], dtype=int32)>)"
            ]
          },
          "metadata": {},
          "execution_count": 54
        }
      ]
    },
    {
      "cell_type": "markdown",
      "source": [
        " Try to matrix multiply them (will error)\n",
        "X @ Y"
      ],
      "metadata": {
        "id": "l1yQDKbdNlsH"
      }
    },
    {
      "cell_type": "markdown",
      "source": [
        "Trying to matrix multiply two tensors with the shape (3, 2) errors because the inner dimensions don't match."
      ],
      "metadata": {
        "id": "fcz8xKZgNrLb"
      }
    },
    {
      "cell_type": "markdown",
      "source": [
        "We need to either:\n",
        "\n",
        "Reshape X to (2, 3) so it's (2, 3) @ (3, 2).\n",
        "\n",
        "Reshape Y to (3, 2) so it's (3, 2) @ (2, 3).\n",
        "\n",
        "We can do this with either:\n",
        "\n",
        "tf.reshape() - allows us to reshape a tensor into a defined shape.\n",
        "\n",
        "tf.transpose() - switches the dimensions of a given tensor."
      ],
      "metadata": {
        "id": "_mdz3TP0N2IN"
      }
    },
    {
      "cell_type": "code",
      "source": [
        "# Example of reshape (3, 2) -> (2, 3)\n",
        "tf.reshape(Y, shape=(2, 3))"
      ],
      "metadata": {
        "colab": {
          "base_uri": "https://localhost:8080/"
        },
        "id": "7MNAfCoSN0gv",
        "outputId": "04d8d31a-d875-4de4-d7c1-31eeebaa84d2"
      },
      "execution_count": null,
      "outputs": [
        {
          "output_type": "execute_result",
          "data": {
            "text/plain": [
              "<tf.Tensor: shape=(2, 3), dtype=int32, numpy=\n",
              "array([[ 7,  8,  9],\n",
              "       [10, 11, 12]], dtype=int32)>"
            ]
          },
          "metadata": {},
          "execution_count": 55
        }
      ]
    },
    {
      "cell_type": "code",
      "source": [
        "# Try matrix multiplication with reshaped Y\n",
        "X @ tf.reshape(Y, shape=(2, 3))"
      ],
      "metadata": {
        "colab": {
          "base_uri": "https://localhost:8080/"
        },
        "id": "TY7VKphlSQN3",
        "outputId": "f059e75a-e2fb-43ac-f32c-801bdd7d4688"
      },
      "execution_count": null,
      "outputs": [
        {
          "output_type": "execute_result",
          "data": {
            "text/plain": [
              "<tf.Tensor: shape=(3, 3), dtype=int32, numpy=\n",
              "array([[ 27,  30,  33],\n",
              "       [ 61,  68,  75],\n",
              "       [ 95, 106, 117]], dtype=int32)>"
            ]
          },
          "metadata": {},
          "execution_count": 56
        }
      ]
    },
    {
      "cell_type": "markdown",
      "source": [
        "It worked, let's try the same with a reshaped X, except this time we'll use tf.transpose() and tf.matmul()"
      ],
      "metadata": {
        "id": "088LDPQTSilW"
      }
    },
    {
      "cell_type": "code",
      "source": [
        "# Example of transpose (3, 2) -> (2, 3)\n",
        "tf.transpose(X)"
      ],
      "metadata": {
        "colab": {
          "base_uri": "https://localhost:8080/"
        },
        "id": "a0PYhZ8xSdwy",
        "outputId": "c0874903-4436-4a5c-b586-af2a2dc6b964"
      },
      "execution_count": null,
      "outputs": [
        {
          "output_type": "execute_result",
          "data": {
            "text/plain": [
              "<tf.Tensor: shape=(2, 3), dtype=int32, numpy=\n",
              "array([[1, 3, 5],\n",
              "       [2, 4, 6]], dtype=int32)>"
            ]
          },
          "metadata": {},
          "execution_count": 57
        }
      ]
    },
    {
      "cell_type": "code",
      "source": [
        "# Try matrix multiplication\n",
        "tf.matmul(tf.transpose(X), Y)"
      ],
      "metadata": {
        "colab": {
          "base_uri": "https://localhost:8080/"
        },
        "id": "EeP3UDNUSd4l",
        "outputId": "0dc681f6-fe28-4585-87c5-773b1f8397d0"
      },
      "execution_count": null,
      "outputs": [
        {
          "output_type": "execute_result",
          "data": {
            "text/plain": [
              "<tf.Tensor: shape=(2, 2), dtype=int32, numpy=\n",
              "array([[ 89,  98],\n",
              "       [116, 128]], dtype=int32)>"
            ]
          },
          "metadata": {},
          "execution_count": 58
        }
      ]
    },
    {
      "cell_type": "code",
      "source": [
        "# You can achieve the same result with parameters\n",
        "tf.matmul(a=X, b=Y, transpose_a=True, transpose_b=False)"
      ],
      "metadata": {
        "colab": {
          "base_uri": "https://localhost:8080/"
        },
        "id": "ExTBFWWuSeAA",
        "outputId": "54697e55-198f-4ac9-92e0-631cacbc054f"
      },
      "execution_count": null,
      "outputs": [
        {
          "output_type": "execute_result",
          "data": {
            "text/plain": [
              "<tf.Tensor: shape=(2, 2), dtype=int32, numpy=\n",
              "array([[ 89,  98],\n",
              "       [116, 128]], dtype=int32)>"
            ]
          },
          "metadata": {},
          "execution_count": 59
        }
      ]
    },
    {
      "cell_type": "markdown",
      "source": [
        "This kind of data manipulation is a reminder: you'll spend a lot of your time in machine learning and working with neural networks reshaping data (in the form of tensors) to prepare it to be used with various operations (such as feeding it to a model)."
      ],
      "metadata": {
        "id": "BB5F3I5UTyau"
      }
    },
    {
      "cell_type": "markdown",
      "source": [
        "# The dot product"
      ],
      "metadata": {
        "id": "N9uD8SFG__gN"
      }
    },
    {
      "cell_type": "markdown",
      "source": [
        "\n",
        "\n",
        "Multiplying matrices by eachother is also referred to as the dot product.\n",
        "\n",
        "You can perform the tf.matmul() operation using tf.tensordot()."
      ],
      "metadata": {
        "id": "zemuZ9GCTqKO"
      }
    },
    {
      "cell_type": "code",
      "source": [
        "X,Y"
      ],
      "metadata": {
        "colab": {
          "base_uri": "https://localhost:8080/"
        },
        "id": "zP7BGoGNbi1o",
        "outputId": "0d6253de-0f69-493d-8e21-bddbda3da559"
      },
      "execution_count": null,
      "outputs": [
        {
          "output_type": "execute_result",
          "data": {
            "text/plain": [
              "(<tf.Tensor: shape=(3, 2), dtype=int32, numpy=\n",
              " array([[1, 2],\n",
              "        [3, 4],\n",
              "        [5, 6]], dtype=int32)>,\n",
              " <tf.Tensor: shape=(3, 2), dtype=int32, numpy=\n",
              " array([[ 7,  8],\n",
              "        [ 9, 10],\n",
              "        [11, 12]], dtype=int32)>)"
            ]
          },
          "metadata": {},
          "execution_count": 60
        }
      ]
    },
    {
      "cell_type": "markdown",
      "source": [
        "tensordot(transpose)"
      ],
      "metadata": {
        "id": "sl7vKp-zWReK"
      }
    },
    {
      "cell_type": "code",
      "source": [
        "# Perform the dot product on X and Y (requires X to be transposed)\n",
        "tf.tensordot(tf.transpose(X), Y, axes=1)"
      ],
      "metadata": {
        "colab": {
          "base_uri": "https://localhost:8080/"
        },
        "id": "Hiwn-qu9SeDn",
        "outputId": "a866539c-c9d0-468c-8de8-6fd6c48bfd64"
      },
      "execution_count": null,
      "outputs": [
        {
          "output_type": "execute_result",
          "data": {
            "text/plain": [
              "<tf.Tensor: shape=(2, 2), dtype=int32, numpy=\n",
              "array([[ 89,  98],\n",
              "       [116, 128]], dtype=int32)>"
            ]
          },
          "metadata": {},
          "execution_count": 61
        }
      ]
    },
    {
      "cell_type": "code",
      "source": [
        "tf.tensordot(X, tf.transpose(Y), axes=1)"
      ],
      "metadata": {
        "id": "Nhk4LUGeSeHh",
        "colab": {
          "base_uri": "https://localhost:8080/"
        },
        "outputId": "d8ffb567-bf7f-43f0-a1ac-33833aa9b8ea"
      },
      "execution_count": null,
      "outputs": [
        {
          "output_type": "execute_result",
          "data": {
            "text/plain": [
              "<tf.Tensor: shape=(3, 3), dtype=int32, numpy=\n",
              "array([[ 23,  29,  35],\n",
              "       [ 53,  67,  81],\n",
              "       [ 83, 105, 127]], dtype=int32)>"
            ]
          },
          "metadata": {},
          "execution_count": 62
        }
      ]
    },
    {
      "cell_type": "markdown",
      "source": [
        "tensordot(reshape)"
      ],
      "metadata": {
        "id": "MWChH-gPcZkM"
      }
    },
    {
      "cell_type": "code",
      "source": [
        "tf.tensordot(tf.reshape(X, (2,3)), Y, axes=1)"
      ],
      "metadata": {
        "colab": {
          "base_uri": "https://localhost:8080/"
        },
        "id": "yXNLuZnFd1T3",
        "outputId": "8cb8f26f-5484-4a0e-d8d6-1ab508c6e012"
      },
      "execution_count": null,
      "outputs": [
        {
          "output_type": "execute_result",
          "data": {
            "text/plain": [
              "<tf.Tensor: shape=(2, 2), dtype=int32, numpy=\n",
              "array([[ 58,  64],\n",
              "       [139, 154]], dtype=int32)>"
            ]
          },
          "metadata": {},
          "execution_count": 63
        }
      ]
    },
    {
      "cell_type": "code",
      "source": [
        "tf.tensordot(X,tf.reshape(Y, (2,3)),axes=1)"
      ],
      "metadata": {
        "colab": {
          "base_uri": "https://localhost:8080/"
        },
        "id": "lBOPpd-FcQIY",
        "outputId": "f0c40fdf-b5d4-4396-949a-50142d8e712f"
      },
      "execution_count": null,
      "outputs": [
        {
          "output_type": "execute_result",
          "data": {
            "text/plain": [
              "<tf.Tensor: shape=(3, 3), dtype=int32, numpy=\n",
              "array([[ 27,  30,  33],\n",
              "       [ 61,  68,  75],\n",
              "       [ 95, 106, 117]], dtype=int32)>"
            ]
          },
          "metadata": {},
          "execution_count": 64
        }
      ]
    },
    {
      "cell_type": "markdown",
      "source": [
        "matmul(transpose)"
      ],
      "metadata": {
        "id": "Gik8rc98WNxb"
      }
    },
    {
      "cell_type": "code",
      "source": [
        "tf.matmul(tf.transpose(X), Y)"
      ],
      "metadata": {
        "colab": {
          "base_uri": "https://localhost:8080/"
        },
        "id": "_OmkcjS4WDBG",
        "outputId": "8b420d62-db8f-4cdf-ba8b-1de0811dcf58"
      },
      "execution_count": null,
      "outputs": [
        {
          "output_type": "execute_result",
          "data": {
            "text/plain": [
              "<tf.Tensor: shape=(2, 2), dtype=int32, numpy=\n",
              "array([[ 89,  98],\n",
              "       [116, 128]], dtype=int32)>"
            ]
          },
          "metadata": {},
          "execution_count": 65
        }
      ]
    },
    {
      "cell_type": "code",
      "source": [
        "X, Y,  tf.matmul(X, tf.transpose(Y))"
      ],
      "metadata": {
        "colab": {
          "base_uri": "https://localhost:8080/"
        },
        "id": "K0cj3u8IWkkj",
        "outputId": "a48b94e6-ad63-4707-bb00-d717f6f8abe9"
      },
      "execution_count": null,
      "outputs": [
        {
          "output_type": "execute_result",
          "data": {
            "text/plain": [
              "(<tf.Tensor: shape=(3, 2), dtype=int32, numpy=\n",
              " array([[1, 2],\n",
              "        [3, 4],\n",
              "        [5, 6]], dtype=int32)>,\n",
              " <tf.Tensor: shape=(3, 2), dtype=int32, numpy=\n",
              " array([[ 7,  8],\n",
              "        [ 9, 10],\n",
              "        [11, 12]], dtype=int32)>,\n",
              " <tf.Tensor: shape=(3, 3), dtype=int32, numpy=\n",
              " array([[ 23,  29,  35],\n",
              "        [ 53,  67,  81],\n",
              "        [ 83, 105, 127]], dtype=int32)>)"
            ]
          },
          "metadata": {},
          "execution_count": 66
        }
      ]
    },
    {
      "cell_type": "markdown",
      "source": [
        "matmul(reshape)"
      ],
      "metadata": {
        "id": "aHwlEqdNW_Ud"
      }
    },
    {
      "cell_type": "code",
      "source": [
        "# Perform matrix multiplication between X and Y (reshaped)\n",
        "tf.matmul(X, tf.reshape(Y, (2, 3)))"
      ],
      "metadata": {
        "id": "h0kQ3__wSeKp",
        "colab": {
          "base_uri": "https://localhost:8080/"
        },
        "outputId": "a0e7327c-3333-490b-b51b-c1539f8c2c02"
      },
      "execution_count": null,
      "outputs": [
        {
          "output_type": "execute_result",
          "data": {
            "text/plain": [
              "<tf.Tensor: shape=(3, 3), dtype=int32, numpy=\n",
              "array([[ 27,  30,  33],\n",
              "       [ 61,  68,  75],\n",
              "       [ 95, 106, 117]], dtype=int32)>"
            ]
          },
          "metadata": {},
          "execution_count": 67
        }
      ]
    },
    {
      "cell_type": "code",
      "source": [
        "tf.matmul(tf.reshape(X, (2,3)), Y)"
      ],
      "metadata": {
        "colab": {
          "base_uri": "https://localhost:8080/"
        },
        "id": "erk61RYEbI1W",
        "outputId": "ddb13310-401a-43aa-f4df-3340575f3a5b"
      },
      "execution_count": null,
      "outputs": [
        {
          "output_type": "execute_result",
          "data": {
            "text/plain": [
              "<tf.Tensor: shape=(2, 2), dtype=int32, numpy=\n",
              "array([[ 58,  64],\n",
              "       [139, 154]], dtype=int32)>"
            ]
          },
          "metadata": {},
          "execution_count": 68
        }
      ]
    },
    {
      "cell_type": "markdown",
      "source": [
        "Hmm... they result in different values.\n",
        "\n",
        "Which is strange because when dealing with Y (a (3x2) matrix), reshaping to (2, 3) and tranposing it result in the same shape."
      ],
      "metadata": {
        "id": "LGoFZ1weU9D6"
      }
    },
    {
      "cell_type": "code",
      "source": [
        "# Check shapes of Y, reshaped Y and tranposed Y\n",
        "Y.shape, tf.reshape(Y, (2, 3)).shape, tf.transpose(Y).shape"
      ],
      "metadata": {
        "colab": {
          "base_uri": "https://localhost:8080/"
        },
        "id": "yPPvBNB_UZW2",
        "outputId": "38112948-beac-4da9-b4ad-12e3341f7d24"
      },
      "execution_count": null,
      "outputs": [
        {
          "output_type": "execute_result",
          "data": {
            "text/plain": [
              "(TensorShape([3, 2]), TensorShape([2, 3]), TensorShape([2, 3]))"
            ]
          },
          "metadata": {},
          "execution_count": 69
        }
      ]
    },
    {
      "cell_type": "markdown",
      "source": [
        "But calling tf.reshape() and tf.transpose() on Y don't necessarily result in the same values."
      ],
      "metadata": {
        "id": "z2RVI6_sVJ7m"
      }
    },
    {
      "cell_type": "code",
      "source": [
        "# Check values of Y, reshape Y and tranposed Y\n",
        "print(\"Normal Y:\")\n",
        "print(Y, \"\\n\") # \"\\n\" for newline\n",
        "\n",
        "print(\"Y reshaped to (2, 3):\")\n",
        "print(tf.reshape(Y, (2, 3)), \"\\n\")\n",
        "\n",
        "print(\"Y transposed:\")\n",
        "print(tf.transpose(Y))"
      ],
      "metadata": {
        "colab": {
          "base_uri": "https://localhost:8080/"
        },
        "id": "Kb-zRY-AUZgm",
        "outputId": "fc07d600-59ab-4d0f-f5df-0f5192f03446"
      },
      "execution_count": null,
      "outputs": [
        {
          "output_type": "stream",
          "name": "stdout",
          "text": [
            "Normal Y:\n",
            "tf.Tensor(\n",
            "[[ 7  8]\n",
            " [ 9 10]\n",
            " [11 12]], shape=(3, 2), dtype=int32) \n",
            "\n",
            "Y reshaped to (2, 3):\n",
            "tf.Tensor(\n",
            "[[ 7  8  9]\n",
            " [10 11 12]], shape=(2, 3), dtype=int32) \n",
            "\n",
            "Y transposed:\n",
            "tf.Tensor(\n",
            "[[ 7  9 11]\n",
            " [ 8 10 12]], shape=(2, 3), dtype=int32)\n"
          ]
        }
      ]
    },
    {
      "cell_type": "code",
      "source": [],
      "metadata": {
        "id": "UQ6k0eD0UZms"
      },
      "execution_count": null,
      "outputs": []
    },
    {
      "cell_type": "markdown",
      "source": [
        "#Changing the datatype of a tensor"
      ],
      "metadata": {
        "id": "_bTuabGTVlyH"
      }
    },
    {
      "cell_type": "markdown",
      "source": [
        "Sometimes you'll want to alter the default datatype of your tensor.\n",
        "\n",
        "This is common when you want to compute using less precision (e.g. 16-bit floating point numbers vs. 32-bit floating point numbers).\n",
        "\n",
        "Computing with less precision is useful on devices with less computing capacity such as mobile devices (because the less bits, the less space the computations require).\n",
        "\n",
        "You can change the datatype of a tensor using tf.cast()."
      ],
      "metadata": {
        "id": "JovbtyUPjon8"
      }
    },
    {
      "cell_type": "code",
      "source": [
        "# Create a new tensor with default datatype (float32)\n",
        "B = tf.constant([1.7, 7.4])\n",
        "\n",
        "# Create a new tensor with default datatype (int32)\n",
        "C = tf.constant([1, 7])\n",
        "B, C"
      ],
      "metadata": {
        "colab": {
          "base_uri": "https://localhost:8080/"
        },
        "id": "7WjdvGMuUZrW",
        "outputId": "b47b7aaf-7d97-4ad9-9f14-b0de8f8963c7"
      },
      "execution_count": null,
      "outputs": [
        {
          "output_type": "execute_result",
          "data": {
            "text/plain": [
              "(<tf.Tensor: shape=(2,), dtype=float32, numpy=array([1.7, 7.4], dtype=float32)>,\n",
              " <tf.Tensor: shape=(2,), dtype=int32, numpy=array([1, 7], dtype=int32)>)"
            ]
          },
          "metadata": {},
          "execution_count": 71
        }
      ]
    },
    {
      "cell_type": "code",
      "source": [
        "# Change from float32 to float16 (reduced precision)\n",
        "B = tf.cast(B, dtype=tf.float16)\n",
        "B"
      ],
      "metadata": {
        "colab": {
          "base_uri": "https://localhost:8080/"
        },
        "id": "b7ymFrnuUZwS",
        "outputId": "7c3110b7-05df-478b-ded5-9c062e8ff1a3"
      },
      "execution_count": null,
      "outputs": [
        {
          "output_type": "execute_result",
          "data": {
            "text/plain": [
              "<tf.Tensor: shape=(2,), dtype=float16, numpy=array([1.7, 7.4], dtype=float16)>"
            ]
          },
          "metadata": {},
          "execution_count": 72
        }
      ]
    },
    {
      "cell_type": "code",
      "source": [
        "# Change from int32 to float32\n",
        "C = tf.cast(C, dtype=tf.float32)\n",
        "C"
      ],
      "metadata": {
        "colab": {
          "base_uri": "https://localhost:8080/"
        },
        "id": "0YHQhkg7UZ0f",
        "outputId": "1af0729d-79bb-4809-e6db-40a43eb947e9"
      },
      "execution_count": null,
      "outputs": [
        {
          "output_type": "execute_result",
          "data": {
            "text/plain": [
              "<tf.Tensor: shape=(2,), dtype=float32, numpy=array([1., 7.], dtype=float32)>"
            ]
          },
          "metadata": {},
          "execution_count": 73
        }
      ]
    },
    {
      "cell_type": "markdown",
      "source": [
        "#Getting the absolute value"
      ],
      "metadata": {
        "id": "2TKrr6By_oc9"
      }
    },
    {
      "cell_type": "markdown",
      "source": [
        "\n",
        "Sometimes you'll want the absolute values (all values are positive) of elements in your tensors.\n",
        "\n",
        "To do so, you can use tf.abs()"
      ],
      "metadata": {
        "id": "kOKZFNxBkRQz"
      }
    },
    {
      "cell_type": "code",
      "source": [
        "# Create tensor with negative values\n",
        "D = tf.constant([-7, -10])\n",
        "D"
      ],
      "metadata": {
        "colab": {
          "base_uri": "https://localhost:8080/"
        },
        "id": "lDoav3s2UZ4y",
        "outputId": "792a482b-4dd5-460f-8352-9c76cc58dc81"
      },
      "execution_count": null,
      "outputs": [
        {
          "output_type": "execute_result",
          "data": {
            "text/plain": [
              "<tf.Tensor: shape=(2,), dtype=int32, numpy=array([ -7, -10], dtype=int32)>"
            ]
          },
          "metadata": {},
          "execution_count": 74
        }
      ]
    },
    {
      "cell_type": "code",
      "source": [
        "# Get the absolute values\n",
        "tf.abs(D)"
      ],
      "metadata": {
        "colab": {
          "base_uri": "https://localhost:8080/"
        },
        "id": "RdhkevwdVsxj",
        "outputId": "eac5c71f-461e-46c5-ba95-4bc7c0441c4c"
      },
      "execution_count": null,
      "outputs": [
        {
          "output_type": "execute_result",
          "data": {
            "text/plain": [
              "<tf.Tensor: shape=(2,), dtype=int32, numpy=array([ 7, 10], dtype=int32)>"
            ]
          },
          "metadata": {},
          "execution_count": 75
        }
      ]
    },
    {
      "cell_type": "markdown",
      "source": [
        "#Finding the min, max, mean, sum (aggregation)"
      ],
      "metadata": {
        "id": "FEAbyjxs_kDl"
      }
    },
    {
      "cell_type": "markdown",
      "source": [
        "\n",
        "You can quickly aggregate (perform a calculation on a whole tensor) tensors to find things like the minimum value, maximum value, mean and sum of all the elements.\n",
        "\n",
        "To do so, aggregation methods typically have the syntax reduce()_[action], such as:\n",
        "\n",
        "*tf.reduce_min() - find the minimum value in a tensor.\n",
        "\n",
        "*tf.reduce_max() - find the maximum value in a tensor (helpful for when you want to find the highest prediction probability).\n",
        "\n",
        "*tf.reduce_mean() - find the mean of all elements in a tensor.\n",
        "\n",
        "*tf.reduce_sum() - find the sum of all elements in a tensor.\n",
        "\n",
        "Note: typically, each of these is under the math module, e.g. tf.math.reduce_min() but you can use the alias tf.reduce_min()."
      ],
      "metadata": {
        "id": "jQ62AyRIlPui"
      }
    },
    {
      "cell_type": "code",
      "source": [
        "# Create a tensor with 50 random values between 0 and 100\n",
        "E = tf.constant(np.random.randint(low=0, high=100, size=50))\n",
        "E"
      ],
      "metadata": {
        "colab": {
          "base_uri": "https://localhost:8080/"
        },
        "id": "LQTMeDMVVs3Z",
        "outputId": "c7412f45-9c17-4fbe-d145-7182850bc279"
      },
      "execution_count": null,
      "outputs": [
        {
          "output_type": "execute_result",
          "data": {
            "text/plain": [
              "<tf.Tensor: shape=(50,), dtype=int64, numpy=\n",
              "array([81, 92, 39, 39, 72, 29, 34, 48, 71,  4, 45, 50, 98, 89, 20, 64, 99,\n",
              "       68, 98, 87, 28, 89, 97, 33, 30, 75, 72, 58, 68, 41, 80, 84,  5, 34,\n",
              "       16, 30, 44, 51, 92, 23, 77, 23, 96,  5, 83, 70, 65, 98, 63, 20])>"
            ]
          },
          "metadata": {},
          "execution_count": 76
        }
      ]
    },
    {
      "cell_type": "code",
      "source": [
        "# Find the minimum\n",
        "tf.reduce_min(E)"
      ],
      "metadata": {
        "colab": {
          "base_uri": "https://localhost:8080/"
        },
        "id": "jWelUCfjVs6p",
        "outputId": "cf69793d-9de6-4394-c264-fb10e4b571ac"
      },
      "execution_count": null,
      "outputs": [
        {
          "output_type": "execute_result",
          "data": {
            "text/plain": [
              "<tf.Tensor: shape=(), dtype=int64, numpy=4>"
            ]
          },
          "metadata": {},
          "execution_count": 77
        }
      ]
    },
    {
      "cell_type": "code",
      "source": [
        "# Find the maximum\n",
        "tf.reduce_max(E)"
      ],
      "metadata": {
        "colab": {
          "base_uri": "https://localhost:8080/"
        },
        "id": "m6NedIvXVs9l",
        "outputId": "40f963db-bbbc-4c83-b4c5-8585e1481b17"
      },
      "execution_count": null,
      "outputs": [
        {
          "output_type": "execute_result",
          "data": {
            "text/plain": [
              "<tf.Tensor: shape=(), dtype=int64, numpy=99>"
            ]
          },
          "metadata": {},
          "execution_count": 78
        }
      ]
    },
    {
      "cell_type": "code",
      "source": [
        "# Find the mean\n",
        "tf.reduce_mean(E)"
      ],
      "metadata": {
        "colab": {
          "base_uri": "https://localhost:8080/"
        },
        "id": "oxga-Fa6VtAB",
        "outputId": "3036a451-de6a-4e7b-9cc0-13bf594ec5cf"
      },
      "execution_count": null,
      "outputs": [
        {
          "output_type": "execute_result",
          "data": {
            "text/plain": [
              "<tf.Tensor: shape=(), dtype=int64, numpy=57>"
            ]
          },
          "metadata": {},
          "execution_count": 79
        }
      ]
    },
    {
      "cell_type": "code",
      "source": [
        "# Find the sum\n",
        "tf.reduce_sum(E)"
      ],
      "metadata": {
        "colab": {
          "base_uri": "https://localhost:8080/"
        },
        "id": "JuF625WYVtCt",
        "outputId": "8b0d1bd9-01c4-4bea-ed9d-044e84f0ed91"
      },
      "execution_count": null,
      "outputs": [
        {
          "output_type": "execute_result",
          "data": {
            "text/plain": [
              "<tf.Tensor: shape=(), dtype=int64, numpy=2877>"
            ]
          },
          "metadata": {},
          "execution_count": 80
        }
      ]
    },
    {
      "cell_type": "code",
      "source": [
        "#Find the standard deviation\n",
        "E  #--- dtype=int64\n",
        "\n",
        "E = tf.cast(E, dtype=tf.float32) # Convert to float 32 dtype\n",
        "\n",
        "tf.math.reduce_std(E)"
      ],
      "metadata": {
        "colab": {
          "base_uri": "https://localhost:8080/"
        },
        "id": "J7nm2CByVtFU",
        "outputId": "fc088d05-a023-4306-ec35-60b14d3065ae"
      },
      "execution_count": null,
      "outputs": [
        {
          "output_type": "execute_result",
          "data": {
            "text/plain": [
              "<tf.Tensor: shape=(), dtype=float32, numpy=28.565859>"
            ]
          },
          "metadata": {},
          "execution_count": 81
        }
      ]
    },
    {
      "cell_type": "code",
      "source": [
        "#another method for finding standard deviation using probability\n",
        "import tensorflow_probability as tfp\n",
        "tfp.stats.stddev(E)"
      ],
      "metadata": {
        "colab": {
          "base_uri": "https://localhost:8080/"
        },
        "id": "uf9d2Cr7obvv",
        "outputId": "7e4bd51d-ceb6-49b0-e06e-9b9a7f4acdbd"
      },
      "execution_count": null,
      "outputs": [
        {
          "output_type": "execute_result",
          "data": {
            "text/plain": [
              "<tf.Tensor: shape=(), dtype=float32, numpy=28.565859>"
            ]
          },
          "metadata": {},
          "execution_count": 82
        }
      ]
    },
    {
      "cell_type": "code",
      "source": [
        "#Find the variance\n",
        "\n",
        "E  #--- dtype=int64\n",
        "\n",
        "E= tf.cast(E, dtype=tf.float32) # Convert to float 32 dtype\n",
        "\n",
        "tf.math.reduce_variance(E)"
      ],
      "metadata": {
        "colab": {
          "base_uri": "https://localhost:8080/"
        },
        "id": "UjspdHofVtLB",
        "outputId": "5df76b6f-094d-44ed-cf94-2c90038bd331"
      },
      "execution_count": null,
      "outputs": [
        {
          "output_type": "execute_result",
          "data": {
            "text/plain": [
              "<tf.Tensor: shape=(), dtype=float32, numpy=816.00836>"
            ]
          },
          "metadata": {},
          "execution_count": 83
        }
      ]
    },
    {
      "cell_type": "code",
      "source": [
        "#another method for finding variance using probability\n",
        "import tensorflow_probability as tfp\n",
        "tfp.stats.variance(E)"
      ],
      "metadata": {
        "colab": {
          "base_uri": "https://localhost:8080/"
        },
        "id": "y0Qmwom3naak",
        "outputId": "d6c870fb-4256-465c-983e-56542b0418a2"
      },
      "execution_count": null,
      "outputs": [
        {
          "output_type": "execute_result",
          "data": {
            "text/plain": [
              "<tf.Tensor: shape=(), dtype=float32, numpy=816.00836>"
            ]
          },
          "metadata": {},
          "execution_count": 84
        }
      ]
    },
    {
      "cell_type": "markdown",
      "source": [
        "#Finding the positional maximum and minimum"
      ],
      "metadata": {
        "id": "ZxxCPP5R_Y2A"
      }
    },
    {
      "cell_type": "markdown",
      "source": [
        "\n",
        "How about finding the position a tensor where the maximum value occurs?\n",
        "\n",
        "This is helpful when you want to line up your labels (say ['Green', 'Blue', 'Red']) with your prediction probabilities tensor (e.g. [0.98, 0.01, 0.01]).\n",
        "\n",
        "In this case, the predicted label (the one with the highest prediction probability) would be 'Green'.\n",
        "\n",
        "You can do the same for the minimum (if required) with the following:\n",
        "\n",
        "tf.argmax() - find the position of the maximum element in a given tensor.\n",
        "\n",
        "tf.argmin() - find the position of the minimum element in a given tensor."
      ],
      "metadata": {
        "id": "7Gu3F3loqF_r"
      }
    },
    {
      "cell_type": "code",
      "source": [
        "# Create a tensor with 50 values between 0 and 1\n",
        "tf.random.set_seed(42)\n",
        "F = tf.constant(np.random.random(50))\n",
        "F"
      ],
      "metadata": {
        "id": "3pwbSyPEVtNP",
        "colab": {
          "base_uri": "https://localhost:8080/"
        },
        "outputId": "ee41e7ef-3ced-4e21-bc8a-5ee1d3054807"
      },
      "execution_count": null,
      "outputs": [
        {
          "output_type": "execute_result",
          "data": {
            "text/plain": [
              "<tf.Tensor: shape=(50,), dtype=float64, numpy=\n",
              "array([0.67309835, 0.59111657, 0.44321366, 0.24139286, 0.06447557,\n",
              "       0.31139707, 0.54124952, 0.46945251, 0.01385656, 0.67228555,\n",
              "       0.94745117, 0.0243768 , 0.85312928, 0.39715805, 0.85215537,\n",
              "       0.43179676, 0.91832438, 0.81258183, 0.82981986, 0.89379402,\n",
              "       0.36935986, 0.77811181, 0.07992664, 0.71413979, 0.57326774,\n",
              "       0.85129268, 0.79371893, 0.87383776, 0.46591178, 0.69257685,\n",
              "       0.15367134, 0.35938154, 0.73765835, 0.35840547, 0.68222747,\n",
              "       0.59750366, 0.53843765, 0.55957084, 0.78826731, 0.26314816,\n",
              "       0.3913973 , 0.70620072, 0.79571786, 0.13394844, 0.09457309,\n",
              "       0.32670633, 0.80601748, 0.19113354, 0.55513884, 0.41689093])>"
            ]
          },
          "metadata": {},
          "execution_count": 85
        }
      ]
    },
    {
      "cell_type": "code",
      "source": [
        "# Find the maximum element position of F\n",
        "tf.argmax(F)"
      ],
      "metadata": {
        "id": "bATEnP07VtQH",
        "colab": {
          "base_uri": "https://localhost:8080/"
        },
        "outputId": "30848db7-0e24-4dd8-84c2-3cd79ecae11f"
      },
      "execution_count": null,
      "outputs": [
        {
          "output_type": "execute_result",
          "data": {
            "text/plain": [
              "<tf.Tensor: shape=(), dtype=int64, numpy=10>"
            ]
          },
          "metadata": {},
          "execution_count": 86
        }
      ]
    },
    {
      "cell_type": "code",
      "source": [
        "F[tf.argmax(F)]"
      ],
      "metadata": {
        "colab": {
          "base_uri": "https://localhost:8080/"
        },
        "id": "9i_yTlbnsHH2",
        "outputId": "24bf27e1-5798-49c9-b2c1-7f05ffaeb815"
      },
      "execution_count": null,
      "outputs": [
        {
          "output_type": "execute_result",
          "data": {
            "text/plain": [
              "<tf.Tensor: shape=(), dtype=float64, numpy=0.9474511725899176>"
            ]
          },
          "metadata": {},
          "execution_count": 87
        }
      ]
    },
    {
      "cell_type": "code",
      "source": [
        "tf.reduce_max(F)"
      ],
      "metadata": {
        "colab": {
          "base_uri": "https://localhost:8080/"
        },
        "id": "N4dFq3NZsOUS",
        "outputId": "73cbdcc0-f2e0-4819-e7b7-8c5eb22324f0"
      },
      "execution_count": null,
      "outputs": [
        {
          "output_type": "execute_result",
          "data": {
            "text/plain": [
              "<tf.Tensor: shape=(), dtype=float64, numpy=0.9474511725899176>"
            ]
          },
          "metadata": {},
          "execution_count": 88
        }
      ]
    },
    {
      "cell_type": "code",
      "source": [
        "#check for equality\n",
        "assert F[tf.argmax(F)] == tf.reduce_max(F)"
      ],
      "metadata": {
        "id": "UI3szOFZstP1"
      },
      "execution_count": null,
      "outputs": []
    },
    {
      "cell_type": "code",
      "source": [
        "# Find the minimum element position of F\n",
        "tf.argmin(F)"
      ],
      "metadata": {
        "id": "AMx2Z_OMVtTX",
        "colab": {
          "base_uri": "https://localhost:8080/"
        },
        "outputId": "4404185e-724b-4ecd-e736-c5956f86677a"
      },
      "execution_count": null,
      "outputs": [
        {
          "output_type": "execute_result",
          "data": {
            "text/plain": [
              "<tf.Tensor: shape=(), dtype=int64, numpy=8>"
            ]
          },
          "metadata": {},
          "execution_count": 90
        }
      ]
    },
    {
      "cell_type": "code",
      "source": [
        "F[tf.argmin(F)]"
      ],
      "metadata": {
        "colab": {
          "base_uri": "https://localhost:8080/"
        },
        "id": "eULvaJRSsXxu",
        "outputId": "89507872-68ae-4b50-cb88-ab067f1a7a8f"
      },
      "execution_count": null,
      "outputs": [
        {
          "output_type": "execute_result",
          "data": {
            "text/plain": [
              "<tf.Tensor: shape=(), dtype=float64, numpy=0.013856564527372828>"
            ]
          },
          "metadata": {},
          "execution_count": 91
        }
      ]
    },
    {
      "cell_type": "code",
      "source": [
        "tf.reduce_min(F)"
      ],
      "metadata": {
        "colab": {
          "base_uri": "https://localhost:8080/"
        },
        "id": "gPymG3gtsgvj",
        "outputId": "1b15adb3-de24-40b7-9265-9ec078f257cf"
      },
      "execution_count": null,
      "outputs": [
        {
          "output_type": "execute_result",
          "data": {
            "text/plain": [
              "<tf.Tensor: shape=(), dtype=float64, numpy=0.013856564527372828>"
            ]
          },
          "metadata": {},
          "execution_count": 92
        }
      ]
    },
    {
      "cell_type": "code",
      "source": [
        "# Find the maximum element position of F\n",
        "print(f\"The maximum value of F is at position: {tf.argmax(F).numpy()}\")\n",
        "print(f\"The maximum value of F is: {tf.reduce_max(F).numpy()}\")\n",
        "print(f\"Using tf.argmax() to index F, the maximum value of F is: {F[tf.argmax(F)].numpy()}\")\n",
        "print(f\"Are the two max values the same (they should be)? {F[tf.argmax(F)].numpy() == tf.reduce_max(F).numpy()}\")"
      ],
      "metadata": {
        "id": "Numo0yeLqZjG",
        "colab": {
          "base_uri": "https://localhost:8080/"
        },
        "outputId": "2dad2df9-3010-454f-feac-5a941f804ac1"
      },
      "execution_count": null,
      "outputs": [
        {
          "output_type": "stream",
          "name": "stdout",
          "text": [
            "The maximum value of F is at position: 10\n",
            "The maximum value of F is: 0.9474511725899176\n",
            "Using tf.argmax() to index F, the maximum value of F is: 0.9474511725899176\n",
            "Are the two max values the same (they should be)? True\n"
          ]
        }
      ]
    },
    {
      "cell_type": "markdown",
      "source": [
        "#Squeezing a tensor (removing all single dimensions)\n",
        "\n",
        "If you need to remove single-dimensions from a tensor (dimensions with size 1), you can use tf.squeeze().\n",
        "\n",
        "tf.squeeze() - remove all dimensions of 1 from a tensor.\n"
      ],
      "metadata": {
        "id": "ycZ4xSwUq97E"
      }
    },
    {
      "cell_type": "code",
      "source": [
        "# Create a rank 5 (5 dimensions) tensor of 50 numbers between 0 and 100\n",
        "tf.random.set_seed(42)\n",
        "G = tf.constant(np.random.randint(0, 100, 50), shape=(1, 1, 1, 1, 50))\n",
        "G.shape, G.ndim"
      ],
      "metadata": {
        "id": "nlJWOizCq1FL",
        "colab": {
          "base_uri": "https://localhost:8080/"
        },
        "outputId": "1888d971-b3b5-4f67-974d-b91fcb78733e"
      },
      "execution_count": null,
      "outputs": [
        {
          "output_type": "execute_result",
          "data": {
            "text/plain": [
              "(TensorShape([1, 1, 1, 1, 50]), 5)"
            ]
          },
          "metadata": {},
          "execution_count": 94
        }
      ]
    },
    {
      "cell_type": "code",
      "source": [
        "# Squeeze tensor G (remove all 1 dimensions)\n",
        "G_squeezed = tf.squeeze(G)\n",
        "G_squeezed.shape, G_squeezed.ndim,G_squeezed"
      ],
      "metadata": {
        "id": "KUxulPXQq1UQ",
        "colab": {
          "base_uri": "https://localhost:8080/"
        },
        "outputId": "a8a63eb1-2871-4308-b5b1-751607cc491d"
      },
      "execution_count": null,
      "outputs": [
        {
          "output_type": "execute_result",
          "data": {
            "text/plain": [
              "(TensorShape([50]),\n",
              " 1,\n",
              " <tf.Tensor: shape=(50,), dtype=int64, numpy=\n",
              " array([40, 69, 10, 94, 42, 76, 64, 76, 36, 74, 84,  4, 80, 29, 71, 82, 81,\n",
              "        99,  3, 43, 23, 12, 66, 38, 77, 72, 50, 66, 53, 28, 39, 84, 79, 34,\n",
              "        67, 28, 32, 12, 49, 49, 65, 98, 98, 94, 51, 51, 80, 78, 69, 85])>)"
            ]
          },
          "metadata": {},
          "execution_count": 95
        }
      ]
    },
    {
      "cell_type": "markdown",
      "source": [
        "#One-hot encoding\n",
        "If you have a tensor of indicies and would like to one-hot encode it, you can use tf.one_hot().\n",
        "\n",
        "You should also specify the depth parameter (the level which you want to one-hot encode to)."
      ],
      "metadata": {
        "id": "7lJ5Mno1uUh0"
      }
    },
    {
      "cell_type": "code",
      "source": [
        "# Create a list of indices\n",
        "some_list = [0, 1, 2, 3]\n",
        "\n",
        "# One hot encode them\n",
        "tf.one_hot(some_list, depth=4)"
      ],
      "metadata": {
        "id": "XtYHtJl-q1X6",
        "colab": {
          "base_uri": "https://localhost:8080/"
        },
        "outputId": "6a7e5a36-ed2c-4dc0-9b2a-7572f8291d0c"
      },
      "execution_count": null,
      "outputs": [
        {
          "output_type": "execute_result",
          "data": {
            "text/plain": [
              "<tf.Tensor: shape=(4, 4), dtype=float32, numpy=\n",
              "array([[1., 0., 0., 0.],\n",
              "       [0., 1., 0., 0.],\n",
              "       [0., 0., 1., 0.],\n",
              "       [0., 0., 0., 1.]], dtype=float32)>"
            ]
          },
          "metadata": {},
          "execution_count": 96
        }
      ]
    },
    {
      "cell_type": "markdown",
      "source": [
        "You can also specify values for on_value and off_value instead of the default 0 and 1."
      ],
      "metadata": {
        "id": "Brr84gWyu4IH"
      }
    },
    {
      "cell_type": "code",
      "source": [
        "# Specify custom values for on and off encoding\n",
        "tf.one_hot(some_list, depth=4, on_value=\"We're live!\", off_value=\"Offline\")"
      ],
      "metadata": {
        "id": "ntalRr3Bq1dn",
        "colab": {
          "base_uri": "https://localhost:8080/"
        },
        "outputId": "bd3131c2-6052-4e3d-b07b-6d6e952546c3"
      },
      "execution_count": null,
      "outputs": [
        {
          "output_type": "execute_result",
          "data": {
            "text/plain": [
              "<tf.Tensor: shape=(4, 4), dtype=string, numpy=\n",
              "array([[b\"We're live!\", b'Offline', b'Offline', b'Offline'],\n",
              "       [b'Offline', b\"We're live!\", b'Offline', b'Offline'],\n",
              "       [b'Offline', b'Offline', b\"We're live!\", b'Offline'],\n",
              "       [b'Offline', b'Offline', b'Offline', b\"We're live!\"]], dtype=object)>"
            ]
          },
          "metadata": {},
          "execution_count": 97
        }
      ]
    },
    {
      "cell_type": "markdown",
      "source": [
        "#Squaring, log, square root\n",
        "\n",
        "Many other common mathematical operations you'd like to perform at some stage, probably exist.\n",
        "\n",
        "Let's take a look at:\n",
        "\n",
        "*tf.square() - get the square of every value in a tensor.\n",
        "\n",
        "*tf.sqrt() - get the squareroot of every value in a tensor (note: the elements need to be floats or this will error).\n",
        "\n",
        "*tf.math.log() - get the natural log of every value in a tensor (elements need to floats)."
      ],
      "metadata": {
        "id": "5aTPmNFEfF88"
      }
    },
    {
      "cell_type": "code",
      "source": [
        "# Create a new tensor\n",
        "H = tf.constant(np.arange(1, 10))\n",
        "H"
      ],
      "metadata": {
        "id": "121JLUjsupYB",
        "colab": {
          "base_uri": "https://localhost:8080/"
        },
        "outputId": "3d1950a6-8bea-4130-db30-9874486a2cf9"
      },
      "execution_count": null,
      "outputs": [
        {
          "output_type": "execute_result",
          "data": {
            "text/plain": [
              "<tf.Tensor: shape=(9,), dtype=int64, numpy=array([1, 2, 3, 4, 5, 6, 7, 8, 9])>"
            ]
          },
          "metadata": {},
          "execution_count": 98
        }
      ]
    },
    {
      "cell_type": "code",
      "source": [
        "# Square it\n",
        "tf.square(H)"
      ],
      "metadata": {
        "colab": {
          "base_uri": "https://localhost:8080/"
        },
        "id": "wu8WZZPcfcI7",
        "outputId": "87830b10-c997-4145-f485-b690856dd01a"
      },
      "execution_count": null,
      "outputs": [
        {
          "output_type": "execute_result",
          "data": {
            "text/plain": [
              "<tf.Tensor: shape=(9,), dtype=int64, numpy=array([ 1,  4,  9, 16, 25, 36, 49, 64, 81])>"
            ]
          },
          "metadata": {},
          "execution_count": 99
        }
      ]
    },
    {
      "cell_type": "markdown",
      "source": [
        "# Find the squareroot (will error), needs to be non-integer\n",
        "tf.sqrt(H)"
      ],
      "metadata": {
        "id": "dBgr_ikoffvd"
      }
    },
    {
      "cell_type": "code",
      "source": [
        "# Change H to float32\n",
        "H = tf.cast(H, dtype=tf.float32)\n",
        "H"
      ],
      "metadata": {
        "colab": {
          "base_uri": "https://localhost:8080/"
        },
        "id": "tIWhn1E4fhRM",
        "outputId": "6738d91c-5a6b-46da-bec0-1697d858d710"
      },
      "execution_count": null,
      "outputs": [
        {
          "output_type": "execute_result",
          "data": {
            "text/plain": [
              "<tf.Tensor: shape=(9,), dtype=float32, numpy=array([1., 2., 3., 4., 5., 6., 7., 8., 9.], dtype=float32)>"
            ]
          },
          "metadata": {},
          "execution_count": 100
        }
      ]
    },
    {
      "cell_type": "code",
      "source": [
        "# Find the square root\n",
        "tf.sqrt(H)"
      ],
      "metadata": {
        "colab": {
          "base_uri": "https://localhost:8080/"
        },
        "id": "aA5CwFWXfheW",
        "outputId": "cc7fd46c-f1b9-4102-92fa-e9967d2cddbc"
      },
      "execution_count": null,
      "outputs": [
        {
          "output_type": "execute_result",
          "data": {
            "text/plain": [
              "<tf.Tensor: shape=(9,), dtype=float32, numpy=\n",
              "array([1.       , 1.4142135, 1.7320508, 2.       , 2.2360678, 2.4494896,\n",
              "       2.6457512, 2.828427 , 3.       ], dtype=float32)>"
            ]
          },
          "metadata": {},
          "execution_count": 101
        }
      ]
    },
    {
      "cell_type": "code",
      "source": [
        "# Find the log (input also needs to be float)\n",
        "tf.math.log(H)"
      ],
      "metadata": {
        "colab": {
          "base_uri": "https://localhost:8080/"
        },
        "id": "SAjp08rufhlk",
        "outputId": "388aaa6e-dd11-45d1-c55c-e4ce6aa13a4d"
      },
      "execution_count": null,
      "outputs": [
        {
          "output_type": "execute_result",
          "data": {
            "text/plain": [
              "<tf.Tensor: shape=(9,), dtype=float32, numpy=\n",
              "array([0.       , 0.6931472, 1.0986123, 1.3862944, 1.609438 , 1.7917595,\n",
              "       1.9459102, 2.0794415, 2.1972246], dtype=float32)>"
            ]
          },
          "metadata": {},
          "execution_count": 102
        }
      ]
    },
    {
      "cell_type": "markdown",
      "source": [
        "#Manipulating tf.Variable tensors\n",
        "\n",
        "Tensors created with tf.Variable() can be changed in place using methods such as:\n",
        "\n",
        "*.assign() - assign a different value to a particular index of a variable tensor.\n",
        "\n",
        "*.add_assign() - add to an existing value and reassign it at a particular index of a variable tensor."
      ],
      "metadata": {
        "id": "n45hRS9IfrvG"
      }
    },
    {
      "cell_type": "code",
      "source": [
        "# Create a variable tensor\n",
        "I = tf.Variable(np.arange(0, 5))\n",
        "I"
      ],
      "metadata": {
        "id": "_q2PtflOfhp_",
        "colab": {
          "base_uri": "https://localhost:8080/"
        },
        "outputId": "7f1ad1d2-7379-4fd6-f33f-36a5a5b50fff"
      },
      "execution_count": null,
      "outputs": [
        {
          "output_type": "execute_result",
          "data": {
            "text/plain": [
              "<tf.Variable 'Variable:0' shape=(5,) dtype=int64, numpy=array([0, 1, 2, 3, 4])>"
            ]
          },
          "metadata": {},
          "execution_count": 103
        }
      ]
    },
    {
      "cell_type": "code",
      "source": [
        "# Assign the final value a new value of 50\n",
        "I.assign([0, 1, 2, 3, 50])"
      ],
      "metadata": {
        "id": "kheKKGKifhuq",
        "colab": {
          "base_uri": "https://localhost:8080/"
        },
        "outputId": "e1b3f707-8a05-493b-9ce1-e5a3d2b06f81"
      },
      "execution_count": null,
      "outputs": [
        {
          "output_type": "execute_result",
          "data": {
            "text/plain": [
              "<tf.Variable 'UnreadVariable' shape=(5,) dtype=int64, numpy=array([ 0,  1,  2,  3, 50])>"
            ]
          },
          "metadata": {},
          "execution_count": 104
        }
      ]
    },
    {
      "cell_type": "code",
      "source": [
        "# The change happens in place (the last value is now 50, not 4)\n",
        "I"
      ],
      "metadata": {
        "id": "DAi0xWbBfhyc",
        "colab": {
          "base_uri": "https://localhost:8080/"
        },
        "outputId": "dd6b565b-0356-48af-ca0d-7c5c7352a075"
      },
      "execution_count": null,
      "outputs": [
        {
          "output_type": "execute_result",
          "data": {
            "text/plain": [
              "<tf.Variable 'Variable:0' shape=(5,) dtype=int64, numpy=array([ 0,  1,  2,  3, 50])>"
            ]
          },
          "metadata": {},
          "execution_count": 105
        }
      ]
    },
    {
      "cell_type": "code",
      "source": [
        "# Add 10 to every element in I\n",
        "I.assign_add([10, 10, 10, 10, 10])"
      ],
      "metadata": {
        "id": "Fs7P_cbhfh2H",
        "colab": {
          "base_uri": "https://localhost:8080/"
        },
        "outputId": "af2d6186-16e3-4edf-ef12-3d4fbd41a8bc"
      },
      "execution_count": null,
      "outputs": [
        {
          "output_type": "execute_result",
          "data": {
            "text/plain": [
              "<tf.Variable 'UnreadVariable' shape=(5,) dtype=int64, numpy=array([10, 11, 12, 13, 60])>"
            ]
          },
          "metadata": {},
          "execution_count": 106
        }
      ]
    },
    {
      "cell_type": "code",
      "source": [
        "# Again, the change happens in place\n",
        "I"
      ],
      "metadata": {
        "id": "rUGjXqd-gBAe",
        "colab": {
          "base_uri": "https://localhost:8080/"
        },
        "outputId": "b2ee17ce-bde8-43c2-c593-e8dd65810938"
      },
      "execution_count": null,
      "outputs": [
        {
          "output_type": "execute_result",
          "data": {
            "text/plain": [
              "<tf.Variable 'Variable:0' shape=(5,) dtype=int64, numpy=array([10, 11, 12, 13, 60])>"
            ]
          },
          "metadata": {},
          "execution_count": 107
        }
      ]
    },
    {
      "cell_type": "markdown",
      "source": [
        "#Tensors and NumPy\n",
        "\n",
        "We've seen some examples of tensors interact with NumPy arrays, such as, using NumPy arrays to create tensors.\n",
        "\n",
        "Tensors can also be converted to NumPy arrays using:\n",
        "\n",
        "*np.array() - pass a tensor to convert to an ndarray (NumPy's main datatype).\n",
        "\n",
        "*tensor.numpy() - call on a tensor to convert to an ndarray.\n",
        "\n",
        "*Doing this is helpful as it makes tensors iterable as well as allows us to use any of NumPy's methods on them.\n"
      ],
      "metadata": {
        "id": "43n66uiQgIlG"
      }
    },
    {
      "cell_type": "code",
      "source": [
        "# Create a tensor from a NumPy array\n",
        "J = tf.constant(np.array([3., 7., 10.]))\n",
        "J"
      ],
      "metadata": {
        "id": "4ZgCmZzdgBLH",
        "colab": {
          "base_uri": "https://localhost:8080/"
        },
        "outputId": "93a246c5-5b00-4575-cf12-a4838d3d2a59"
      },
      "execution_count": null,
      "outputs": [
        {
          "output_type": "execute_result",
          "data": {
            "text/plain": [
              "<tf.Tensor: shape=(3,), dtype=float64, numpy=array([ 3.,  7., 10.])>"
            ]
          },
          "metadata": {},
          "execution_count": 108
        }
      ]
    },
    {
      "cell_type": "code",
      "source": [
        "# Convert tensor J to NumPy with np.array()\n",
        "np.array(J), type(np.array(J))"
      ],
      "metadata": {
        "id": "L1Z6mSSQgBQl",
        "colab": {
          "base_uri": "https://localhost:8080/"
        },
        "outputId": "ada1d559-bf87-4e70-9882-83d8ed71c101"
      },
      "execution_count": null,
      "outputs": [
        {
          "output_type": "execute_result",
          "data": {
            "text/plain": [
              "(array([ 3.,  7., 10.]), numpy.ndarray)"
            ]
          },
          "metadata": {},
          "execution_count": 109
        }
      ]
    },
    {
      "cell_type": "code",
      "source": [
        "# Convert tensor J to NumPy with .numpy()\n",
        "J.numpy(), type(J.numpy())"
      ],
      "metadata": {
        "id": "BOHA6NdLgYJp",
        "colab": {
          "base_uri": "https://localhost:8080/"
        },
        "outputId": "e37092a6-60b8-4ec2-d154-96b54e133e8c"
      },
      "execution_count": null,
      "outputs": [
        {
          "output_type": "execute_result",
          "data": {
            "text/plain": [
              "(array([ 3.,  7., 10.]), numpy.ndarray)"
            ]
          },
          "metadata": {},
          "execution_count": 110
        }
      ]
    },
    {
      "cell_type": "code",
      "source": [
        "k=tf.constant([3.])\n",
        "print(k)\n",
        "print('******************')\n",
        "k.numpy()[0]"
      ],
      "metadata": {
        "colab": {
          "base_uri": "https://localhost:8080/"
        },
        "id": "gbLecwfR2Rmj",
        "outputId": "12c72964-2583-474d-d912-be3be7c74dac"
      },
      "execution_count": null,
      "outputs": [
        {
          "output_type": "stream",
          "name": "stdout",
          "text": [
            "tf.Tensor([3.], shape=(1,), dtype=float32)\n",
            "******************\n"
          ]
        },
        {
          "output_type": "execute_result",
          "data": {
            "text/plain": [
              "3.0"
            ]
          },
          "metadata": {},
          "execution_count": 111
        }
      ]
    },
    {
      "cell_type": "markdown",
      "source": [
        "By default tensors have dtype=float32, where as NumPy arrays have dtype=float64.\n",
        "\n",
        "This is because neural networks (which are usually built with TensorFlow) can generally work very well with less precision (32-bit rather than 64-bit)."
      ],
      "metadata": {
        "id": "DmnXc2G1geNP"
      }
    },
    {
      "cell_type": "code",
      "source": [
        "# Create a tensor from NumPy and from an array\n",
        "numpy_J = tf.constant(np.array([3., 7., 10.])) # will be float64 (due to NumPy)\n",
        "tensor_J = tf.constant([3., 7., 10.]) # will be float32 (due to being TensorFlow default)\n",
        "numpy_J.dtype, tensor_J.dtype"
      ],
      "metadata": {
        "id": "8_8X7eSfge92",
        "colab": {
          "base_uri": "https://localhost:8080/"
        },
        "outputId": "8588d358-5a1a-4dae-9e46-0bce9d123dc6"
      },
      "execution_count": null,
      "outputs": [
        {
          "output_type": "execute_result",
          "data": {
            "text/plain": [
              "(tf.float64, tf.float32)"
            ]
          },
          "metadata": {},
          "execution_count": 112
        }
      ]
    },
    {
      "cell_type": "markdown",
      "source": [
        "#Using @tf.function\n",
        "In your TensorFlow adventures, you might come across Python functions which have the decorator @tf.function.\n",
        "\n",
        "If you aren't sure what Python decorators do, read RealPython's guide on them.\n",
        "\n",
        "But in short, decorators modify a function in one way or another.\n",
        "\n",
        "In the @tf.function decorator case, it turns a Python function into a callable TensorFlow graph. Which is a fancy way of saying, if you've written your own Python function, and you decorate it with @tf.function, when you export your code (to potentially run on another device), TensorFlow will attempt to convert it into a fast(er) version of itself (by making it part of a computation graph).\n"
      ],
      "metadata": {
        "id": "PW3zX0a9gsn0"
      }
    },
    {
      "cell_type": "code",
      "source": [
        "# Create a simple function\n",
        "def function(x, y):\n",
        "  return x ** 2 + y\n",
        "\n",
        "x = tf.constant(np.arange(0, 10))\n",
        "y = tf.constant(np.arange(10, 20))\n",
        "function(x, y)"
      ],
      "metadata": {
        "id": "sre9DcLVgYTL",
        "colab": {
          "base_uri": "https://localhost:8080/"
        },
        "outputId": "3217e11c-7f5d-4888-8420-ce42bcf16e71"
      },
      "execution_count": null,
      "outputs": [
        {
          "output_type": "execute_result",
          "data": {
            "text/plain": [
              "<tf.Tensor: shape=(10,), dtype=int64, numpy=array([ 10,  12,  16,  22,  30,  40,  52,  66,  82, 100])>"
            ]
          },
          "metadata": {},
          "execution_count": 113
        }
      ]
    },
    {
      "cell_type": "code",
      "source": [
        "# Create the same function and decorate it with tf.function\n",
        "@tf.function\n",
        "def tf_function(x, y):\n",
        "  return x ** 2 + y\n",
        "\n",
        "tf_function(x, y)\n"
      ],
      "metadata": {
        "id": "bJ_Hw0Tqfh59",
        "colab": {
          "base_uri": "https://localhost:8080/"
        },
        "outputId": "56c601b0-a011-4cec-a15e-d27d09f6e516"
      },
      "execution_count": null,
      "outputs": [
        {
          "output_type": "execute_result",
          "data": {
            "text/plain": [
              "<tf.Tensor: shape=(10,), dtype=int64, numpy=array([ 10,  12,  16,  22,  30,  40,  52,  66,  82, 100])>"
            ]
          },
          "metadata": {},
          "execution_count": 114
        }
      ]
    },
    {
      "cell_type": "markdown",
      "source": [
        "If you noticed no difference between the above two functions (the decorated one and the non-decorated one) you'd be right.\n",
        "\n",
        "Much of the difference happens behind the scenes. One of the main ones being potential code speed-ups where possible."
      ],
      "metadata": {
        "id": "Qwe-x622hFVd"
      }
    },
    {
      "cell_type": "markdown",
      "source": [
        "#Finding access to GPUs\n",
        "\n",
        "We've mentioned GPUs plenty of times throughout this notebook.\n",
        "\n",
        "So how do you check if you've got one available?\n",
        "\n",
        "You can check if you've got access to a GPU using tf.config.list_physical_devices()."
      ],
      "metadata": {
        "id": "le4IYH8khKG9"
      }
    },
    {
      "cell_type": "code",
      "source": [
        "print(tf.config.list_physical_devices('GPU'))"
      ],
      "metadata": {
        "id": "37bGgTyfhV9N",
        "colab": {
          "base_uri": "https://localhost:8080/"
        },
        "outputId": "063d6c47-8e65-4e31-9662-3f901acc9b5d"
      },
      "execution_count": null,
      "outputs": [
        {
          "output_type": "stream",
          "name": "stdout",
          "text": [
            "[PhysicalDevice(name='/physical_device:GPU:0', device_type='GPU')]\n"
          ]
        }
      ]
    },
    {
      "cell_type": "markdown",
      "source": [
        "from the above outputs an empty array (or nothing), it means you don't have access to a GPU (or at least TensorFlow can't find it).\n",
        "\n",
        "If you're running in Google Colab, you can access a GPU by going to Runtime -> Change Runtime Type -> Select GPU (note: after doing this your notebook will restart and any variables you've saved will be lost).\n",
        "\n",
        "Once you've changed your runtime type, run the cell below"
      ],
      "metadata": {
        "id": "iaDDTOr-hWPa"
      }
    },
    {
      "cell_type": "code",
      "source": [
        "import tensorflow as tf\n",
        "print(tf.config.list_physical_devices('GPU'))"
      ],
      "metadata": {
        "id": "xvYlQvFPhXFQ",
        "colab": {
          "base_uri": "https://localhost:8080/"
        },
        "outputId": "140835cf-714a-440f-885f-01aec1cd9550"
      },
      "execution_count": null,
      "outputs": [
        {
          "output_type": "stream",
          "name": "stdout",
          "text": [
            "[PhysicalDevice(name='/physical_device:GPU:0', device_type='GPU')]\n"
          ]
        }
      ]
    },
    {
      "cell_type": "markdown",
      "source": [
        "If you've got access to a GPU, the cell above should output something like:\n",
        "\n",
        "[PhysicalDevice(name='/physical_device:GPU:0', device_type='GPU')]\n",
        "\n",
        "You can also find information about your GPU using !nvidia-smi."
      ],
      "metadata": {
        "id": "Jf8wNvwqhYDO"
      }
    },
    {
      "cell_type": "code",
      "source": [
        "!nvidia-smi"
      ],
      "metadata": {
        "id": "HTHWtYO9hY_t",
        "colab": {
          "base_uri": "https://localhost:8080/"
        },
        "outputId": "83548529-f0aa-4aef-a532-12f86b4daece"
      },
      "execution_count": null,
      "outputs": [
        {
          "output_type": "stream",
          "name": "stdout",
          "text": [
            "Mon Sep 18 06:00:48 2023       \n",
            "+-----------------------------------------------------------------------------+\n",
            "| NVIDIA-SMI 525.105.17   Driver Version: 525.105.17   CUDA Version: 12.0     |\n",
            "|-------------------------------+----------------------+----------------------+\n",
            "| GPU  Name        Persistence-M| Bus-Id        Disp.A | Volatile Uncorr. ECC |\n",
            "| Fan  Temp  Perf  Pwr:Usage/Cap|         Memory-Usage | GPU-Util  Compute M. |\n",
            "|                               |                      |               MIG M. |\n",
            "|===============================+======================+======================|\n",
            "|   0  Tesla T4            Off  | 00000000:00:04.0 Off |                    0 |\n",
            "| N/A   48C    P0    29W /  70W |    361MiB / 15360MiB |      0%      Default |\n",
            "|                               |                      |                  N/A |\n",
            "+-------------------------------+----------------------+----------------------+\n",
            "                                                                               \n",
            "+-----------------------------------------------------------------------------+\n",
            "| Processes:                                                                  |\n",
            "|  GPU   GI   CI        PID   Type   Process name                  GPU Memory |\n",
            "|        ID   ID                                                   Usage      |\n",
            "|=============================================================================|\n",
            "+-----------------------------------------------------------------------------+\n"
          ]
        }
      ]
    },
    {
      "cell_type": "code",
      "source": [],
      "metadata": {
        "id": "EM-yjvMcjAMn"
      },
      "execution_count": null,
      "outputs": []
    },
    {
      "cell_type": "markdown",
      "source": [
        "🔑 Note: If you have access to a GPU, TensorFlow will automatically use it whenever possible."
      ],
      "metadata": {
        "id": "JVgPwnbdh-R7"
      }
    },
    {
      "cell_type": "markdown",
      "source": [
        "# Excercise\n",
        "\n",
        "1.Create a vector, scalar, matrix and tensor with values of your choosing using tf.constant().\n",
        "\n",
        "2.Find the shape, rank and size of the tensors you created in 1.\n",
        "\n",
        "3.Create two tensors containing random values between 0 and 1 with shape [5, 300].\n",
        "\n",
        "4.Multiply the two tensors you created in 3 using matrix multiplication.\n",
        "\n",
        "5.Multiply the two tensors you created in 3 using dot product.\n",
        "\n",
        "6.Create a tensor with random values between 0 and 1 with shape [224, 224, 3].\n",
        "\n",
        "7.Find the min and max values of the tensor you created in 6.\n",
        "\n",
        "8.Created a tensor with random values of shape [1, 224, 224, 3] then squeeze it to change the shape to [224, 224, 3].\n",
        "\n",
        "9.Create a tensor with shape [10] using your own choice of values, then find the index which has the maximum value.\n",
        "\n",
        "10.One-hot encode the tensor you created in 9."
      ],
      "metadata": {
        "id": "WxLZSsjCiHvH"
      }
    },
    {
      "cell_type": "code",
      "source": [
        "#1.Create a vector, scalar, matrix and tensor with values of your choosing using tf.constant().\n",
        "\n",
        "scalar=tf.constant(2.0)    #----------------------0d\n",
        "\n",
        "vector=tf.constant([1,2,3],dtype=tf.float32) #-----1d\n",
        "\n",
        "matrix=tf.constant([[1,2,3],\n",
        "                     [4,5,6]],dtype=tf.float32)   #--------2d\n",
        "\n",
        "tensor=tf.constant([[[1,2,3],\n",
        "                     [4,5,6]],\n",
        "\n",
        "                    [[7,8,9],\n",
        "                     [10,11,12]]],dtype=tf.float32)   #-----3d\n",
        "\n",
        "scalar,vector,matrix,tensor"
      ],
      "metadata": {
        "id": "_fFLscQViDWd",
        "colab": {
          "base_uri": "https://localhost:8080/"
        },
        "outputId": "346fa1b6-a3e2-4dfd-a34c-119fa540e3b8"
      },
      "execution_count": null,
      "outputs": [
        {
          "output_type": "execute_result",
          "data": {
            "text/plain": [
              "(<tf.Tensor: shape=(), dtype=float32, numpy=2.0>,\n",
              " <tf.Tensor: shape=(3,), dtype=float32, numpy=array([1., 2., 3.], dtype=float32)>,\n",
              " <tf.Tensor: shape=(2, 3), dtype=float32, numpy=\n",
              " array([[1., 2., 3.],\n",
              "        [4., 5., 6.]], dtype=float32)>,\n",
              " <tf.Tensor: shape=(2, 2, 3), dtype=float32, numpy=\n",
              " array([[[ 1.,  2.,  3.],\n",
              "         [ 4.,  5.,  6.]],\n",
              " \n",
              "        [[ 7.,  8.,  9.],\n",
              "         [10., 11., 12.]]], dtype=float32)>)"
            ]
          },
          "metadata": {},
          "execution_count": 118
        }
      ]
    },
    {
      "cell_type": "code",
      "source": [
        "#2.Find the shape, rank and size of the tensors you created in 1.\n",
        "zero_dimension=scalar.shape, scalar.ndim, tf.size(scalar)\n",
        "\n",
        "one_dimension=vector.shape,vector.ndim, tf.size(vector)\n",
        "\n",
        "two_dimension=matrix.shape, matrix.ndim, tf.size(matrix)\n",
        "\n",
        "three_dimension= tensor.shape, tensor.ndim, tf.size(tensor)\n",
        "\n",
        "zero_dimension, one_dimension, two_dimension, three_dimension"
      ],
      "metadata": {
        "id": "FBx4_Yog9xJS",
        "colab": {
          "base_uri": "https://localhost:8080/"
        },
        "outputId": "da8524e1-e869-40cc-dedc-5120fa62f1de"
      },
      "execution_count": null,
      "outputs": [
        {
          "output_type": "execute_result",
          "data": {
            "text/plain": [
              "((TensorShape([]), 0, <tf.Tensor: shape=(), dtype=int32, numpy=1>),\n",
              " (TensorShape([3]), 1, <tf.Tensor: shape=(), dtype=int32, numpy=3>),\n",
              " (TensorShape([2, 3]), 2, <tf.Tensor: shape=(), dtype=int32, numpy=6>),\n",
              " (TensorShape([2, 2, 3]), 3, <tf.Tensor: shape=(), dtype=int32, numpy=12>))"
            ]
          },
          "metadata": {},
          "execution_count": 119
        }
      ]
    },
    {
      "cell_type": "code",
      "source": [
        "#3.Create two tensors containing random values between 0 and 1 with shape [5, 300].\n",
        "\n",
        "random_num_one= tf.random.Generator.from_seed(11)\n",
        "random_num_one= random_num_one.normal(shape=(5,300))\n",
        "random_num_one"
      ],
      "metadata": {
        "colab": {
          "base_uri": "https://localhost:8080/"
        },
        "id": "-SPJ0TGp3efK",
        "outputId": "34306a40-6019-41de-cd07-192ffa6fe866"
      },
      "execution_count": null,
      "outputs": [
        {
          "output_type": "execute_result",
          "data": {
            "text/plain": [
              "<tf.Tensor: shape=(5, 300), dtype=float32, numpy=\n",
              "array([[ 0.2730574 , -0.29925638, -0.3652325 , ..., -0.85103077,\n",
              "         0.8119971 ,  2.0856276 ],\n",
              "       [ 0.45117483, -0.90232193, -1.5350152 , ..., -0.27568147,\n",
              "         0.24829084, -0.90035295],\n",
              "       [-2.2462473 , -0.4587842 , -1.9838426 , ...,  1.3616577 ,\n",
              "        -0.8285553 , -0.38055852],\n",
              "       [ 0.43401343, -2.8677838 ,  0.8929652 , ..., -1.273435  ,\n",
              "        -3.5026186 , -0.79623157],\n",
              "       [-0.29896575,  1.3008425 ,  0.0544327 , ...,  0.61491543,\n",
              "        -1.1504325 , -1.4290743 ]], dtype=float32)>"
            ]
          },
          "metadata": {},
          "execution_count": 120
        }
      ]
    },
    {
      "cell_type": "code",
      "source": [
        "random_num_two= tf.random.Generator.from_seed(13)\n",
        "random_num_two= random_num_two.normal(shape=(5,300))\n",
        "random_num_two"
      ],
      "metadata": {
        "colab": {
          "base_uri": "https://localhost:8080/"
        },
        "id": "aMsWS_nD_nen",
        "outputId": "564d0b0d-4cf8-4dbc-ded3-7635898e59be"
      },
      "execution_count": null,
      "outputs": [
        {
          "output_type": "execute_result",
          "data": {
            "text/plain": [
              "<tf.Tensor: shape=(5, 300), dtype=float32, numpy=\n",
              "array([[ 0.37944326, -0.6664026 ,  0.6054596 , ...,  1.071573  ,\n",
              "         0.32903498, -0.12147247],\n",
              "       [-0.81168556,  1.0684562 ,  0.03192343, ...,  0.08420128,\n",
              "        -0.35761362,  0.529446  ],\n",
              "       [ 1.0076104 , -1.5559709 , -0.07964771, ..., -1.5163175 ,\n",
              "        -1.3340821 , -0.34527028],\n",
              "       [ 1.4093482 ,  0.09789068,  2.083792  , ...,  1.590681  ,\n",
              "         0.7343326 , -0.7077091 ],\n",
              "       [-0.8969618 , -1.7225893 ,  1.3476163 , ..., -0.63512534,\n",
              "        -2.165135  ,  0.54229033]], dtype=float32)>"
            ]
          },
          "metadata": {},
          "execution_count": 121
        }
      ]
    },
    {
      "cell_type": "code",
      "source": [
        "#4.Multiply the two tensors you created in 3 using matrix multiplication.\n",
        "\n",
        "'''The shape was 5*300 and 5*300 it will create error\n",
        "so we want to reshape this by making one as 300*5\n",
        "then it will be 5*300 and 300*5 '''\n",
        "\n",
        "reshaping = tf.reshape(random_num_two,shape=(300,5))\n",
        "\n",
        "multiply = tf.matmul(random_num_one, reshaping)\n",
        "multiply\n"
      ],
      "metadata": {
        "colab": {
          "base_uri": "https://localhost:8080/"
        },
        "id": "zrCsW_t_3LUb",
        "outputId": "d69821a9-3ffc-45f3-c65a-079d4724e4a8"
      },
      "execution_count": null,
      "outputs": [
        {
          "output_type": "execute_result",
          "data": {
            "text/plain": [
              "<tf.Tensor: shape=(5, 5), dtype=float32, numpy=\n",
              "array([[ 30.366016  ,  -2.5914252 , -37.015476  ,   3.184197  ,\n",
              "         -5.734166  ],\n",
              "       [  0.06643558,   1.2047734 , -10.946961  ,  28.278706  ,\n",
              "         18.7377    ],\n",
              "       [-16.67557   , -22.900484  , -53.140705  ,  -7.3362727 ,\n",
              "        -29.866795  ],\n",
              "       [-22.415352  , -27.029959  ,  12.919829  ,  14.587365  ,\n",
              "         -3.685363  ],\n",
              "       [ 36.41489   ,  14.289251  ,  -8.141048  ,  -0.42489052,\n",
              "         31.994646  ]], dtype=float32)>"
            ]
          },
          "metadata": {},
          "execution_count": 122
        }
      ]
    },
    {
      "cell_type": "code",
      "source": [
        "#5.Multiply the two tensors you created in 3 using dot product.\n",
        "dot_product = tf.tensordot(random_num_one, tf.reshape(random_num_two,shape=(300,5)),axes=1)\n",
        "dot_product\n"
      ],
      "metadata": {
        "colab": {
          "base_uri": "https://localhost:8080/"
        },
        "id": "h1KM7Xrw3fRb",
        "outputId": "2d813ba9-7b77-43bf-f22c-2bfbb6dad857"
      },
      "execution_count": null,
      "outputs": [
        {
          "output_type": "execute_result",
          "data": {
            "text/plain": [
              "<tf.Tensor: shape=(5, 5), dtype=float32, numpy=\n",
              "array([[ 30.366016  ,  -2.5914252 , -37.015476  ,   3.184197  ,\n",
              "         -5.734166  ],\n",
              "       [  0.06643558,   1.2047734 , -10.946961  ,  28.278706  ,\n",
              "         18.7377    ],\n",
              "       [-16.67557   , -22.900484  , -53.140705  ,  -7.3362727 ,\n",
              "        -29.866795  ],\n",
              "       [-22.415352  , -27.029959  ,  12.919829  ,  14.587365  ,\n",
              "         -3.685363  ],\n",
              "       [ 36.41489   ,  14.289251  ,  -8.141048  ,  -0.42489052,\n",
              "         31.994646  ]], dtype=float32)>"
            ]
          },
          "metadata": {},
          "execution_count": 123
        }
      ]
    },
    {
      "cell_type": "code",
      "source": [
        "#6.Create a tensor with random values between 0 and 1 with shape [224, 224, 3].\n",
        "random_tensor = tf.random.normal(shape=(224, 224, 3))\n",
        "random_tensor"
      ],
      "metadata": {
        "colab": {
          "base_uri": "https://localhost:8080/"
        },
        "id": "xFJyQ36F52Fr",
        "outputId": "80bdada2-c70d-44d4-b522-0bd8a021a584"
      },
      "execution_count": null,
      "outputs": [
        {
          "output_type": "execute_result",
          "data": {
            "text/plain": [
              "<tf.Tensor: shape=(224, 224, 3), dtype=float32, numpy=\n",
              "array([[[ 0.3274685 , -0.8426258 ,  0.3194337 ],\n",
              "        [-1.4075519 , -2.3880599 , -1.0392479 ],\n",
              "        [-0.5573232 ,  0.539707  ,  1.6994323 ],\n",
              "        ...,\n",
              "        [-2.1195276 ,  1.8320249 ,  1.1457133 ],\n",
              "        [ 0.54631245,  1.8743154 ,  0.11950399],\n",
              "        [-0.29805267, -0.29960835,  1.5552508 ]],\n",
              "\n",
              "       [[-0.3161619 , -0.72182304, -0.989772  ],\n",
              "        [ 1.1060055 , -0.21110982, -0.47060865],\n",
              "        [ 0.07136566, -0.48230812, -1.2975956 ],\n",
              "        ...,\n",
              "        [ 0.10062912,  0.38567653, -0.1904147 ],\n",
              "        [-1.1275961 ,  0.64350545,  1.1970826 ],\n",
              "        [-0.37379304,  0.23610258, -0.13297646]],\n",
              "\n",
              "       [[ 1.3060379 ,  0.26648018, -0.07864442],\n",
              "        [-1.114526  , -0.595572  ,  0.7152307 ],\n",
              "        [ 1.2495805 ,  0.38960335, -0.5431543 ],\n",
              "        ...,\n",
              "        [ 1.6160519 ,  0.8865264 ,  1.0241655 ],\n",
              "        [ 0.26582795,  0.82782304, -0.27606866],\n",
              "        [ 1.8379737 , -0.24267256,  0.6261893 ]],\n",
              "\n",
              "       ...,\n",
              "\n",
              "       [[ 0.4506953 , -0.05725637,  0.5820091 ],\n",
              "        [-0.29173976, -0.32760754,  0.8377753 ],\n",
              "        [-0.5357338 ,  0.6159803 , -0.25877133],\n",
              "        ...,\n",
              "        [ 0.389247  , -1.2693255 , -0.51027304],\n",
              "        [ 0.4260769 , -1.866533  , -0.94303876],\n",
              "        [ 0.7995494 ,  1.4200557 , -0.880711  ]],\n",
              "\n",
              "       [[ 0.67737573,  1.0134571 ,  0.6682801 ],\n",
              "        [ 1.9559201 ,  0.961533  ,  0.99990463],\n",
              "        [ 0.5038398 , -1.5241219 , -0.30257928],\n",
              "        ...,\n",
              "        [-2.00214   , -1.112017  ,  0.5767907 ],\n",
              "        [ 0.99242806, -0.16847898, -1.5709649 ],\n",
              "        [ 0.4859198 , -0.772115  ,  0.05160246]],\n",
              "\n",
              "       [[ 0.2572501 , -1.1918361 , -1.0553528 ],\n",
              "        [ 1.6717206 , -1.1608789 ,  0.65559936],\n",
              "        [ 0.45002276, -0.49963382,  0.47906557],\n",
              "        ...,\n",
              "        [ 0.6730972 ,  0.04240005,  1.8595746 ],\n",
              "        [-0.01381576,  0.9825745 , -0.5292996 ],\n",
              "        [-0.29809475,  0.29459676, -0.8145992 ]]], dtype=float32)>"
            ]
          },
          "metadata": {},
          "execution_count": 124
        }
      ]
    },
    {
      "cell_type": "code",
      "source": [
        "#7.Find the min and max values of the tensor you created in 6.\n",
        "min=tf.reduce_min(random_tensor)\n",
        "max=tf.reduce_max(random_tensor)\n",
        "\n",
        "min,max"
      ],
      "metadata": {
        "colab": {
          "base_uri": "https://localhost:8080/"
        },
        "id": "1zKBh59mEKzZ",
        "outputId": "8a37b32f-41c8-4637-dfb4-728f47ed2cbb"
      },
      "execution_count": null,
      "outputs": [
        {
          "output_type": "execute_result",
          "data": {
            "text/plain": [
              "(<tf.Tensor: shape=(), dtype=float32, numpy=-5.4462285>,\n",
              " <tf.Tensor: shape=(), dtype=float32, numpy=4.486006>)"
            ]
          },
          "metadata": {},
          "execution_count": 125
        }
      ]
    },
    {
      "cell_type": "code",
      "source": [
        "1*224*224*3"
      ],
      "metadata": {
        "colab": {
          "base_uri": "https://localhost:8080/"
        },
        "id": "SM8RxYX-G_fk",
        "outputId": "0cbae37b-2f75-41c3-cb96-4838090c96e6"
      },
      "execution_count": null,
      "outputs": [
        {
          "output_type": "execute_result",
          "data": {
            "text/plain": [
              "150528"
            ]
          },
          "metadata": {},
          "execution_count": 126
        }
      ]
    },
    {
      "cell_type": "code",
      "source": [
        "#8.Created a tensor with random values of shape [1, 224, 224, 3] then squeeze it to change the shape to [224, 224, 3].\n",
        "tf.random.set_seed(32)\n",
        "z= tf.constant(np.random.randint(1,50), shape=(1,224,224,3))\n",
        "z\n",
        "\n"
      ],
      "metadata": {
        "colab": {
          "base_uri": "https://localhost:8080/"
        },
        "id": "NiJVaQ0FEK4y",
        "outputId": "554d99b6-5e8e-4973-e885-b325558e9d4e"
      },
      "execution_count": null,
      "outputs": [
        {
          "output_type": "execute_result",
          "data": {
            "text/plain": [
              "<tf.Tensor: shape=(1, 224, 224, 3), dtype=int32, numpy=\n",
              "array([[[[3, 3, 3],\n",
              "         [3, 3, 3],\n",
              "         [3, 3, 3],\n",
              "         ...,\n",
              "         [3, 3, 3],\n",
              "         [3, 3, 3],\n",
              "         [3, 3, 3]],\n",
              "\n",
              "        [[3, 3, 3],\n",
              "         [3, 3, 3],\n",
              "         [3, 3, 3],\n",
              "         ...,\n",
              "         [3, 3, 3],\n",
              "         [3, 3, 3],\n",
              "         [3, 3, 3]],\n",
              "\n",
              "        [[3, 3, 3],\n",
              "         [3, 3, 3],\n",
              "         [3, 3, 3],\n",
              "         ...,\n",
              "         [3, 3, 3],\n",
              "         [3, 3, 3],\n",
              "         [3, 3, 3]],\n",
              "\n",
              "        ...,\n",
              "\n",
              "        [[3, 3, 3],\n",
              "         [3, 3, 3],\n",
              "         [3, 3, 3],\n",
              "         ...,\n",
              "         [3, 3, 3],\n",
              "         [3, 3, 3],\n",
              "         [3, 3, 3]],\n",
              "\n",
              "        [[3, 3, 3],\n",
              "         [3, 3, 3],\n",
              "         [3, 3, 3],\n",
              "         ...,\n",
              "         [3, 3, 3],\n",
              "         [3, 3, 3],\n",
              "         [3, 3, 3]],\n",
              "\n",
              "        [[3, 3, 3],\n",
              "         [3, 3, 3],\n",
              "         [3, 3, 3],\n",
              "         ...,\n",
              "         [3, 3, 3],\n",
              "         [3, 3, 3],\n",
              "         [3, 3, 3]]]], dtype=int32)>"
            ]
          },
          "metadata": {},
          "execution_count": 127
        }
      ]
    },
    {
      "cell_type": "code",
      "source": [
        "z_squeezed = tf.squeeze(z)\n",
        "z_squeezed.shape, z_squeezed.ndim,z_squeezed\n"
      ],
      "metadata": {
        "colab": {
          "base_uri": "https://localhost:8080/"
        },
        "id": "KILQ9Z7pEWZc",
        "outputId": "0fdc6871-1277-43fe-8c3b-54f6b327588c"
      },
      "execution_count": null,
      "outputs": [
        {
          "output_type": "execute_result",
          "data": {
            "text/plain": [
              "(TensorShape([224, 224, 3]),\n",
              " 3,\n",
              " <tf.Tensor: shape=(224, 224, 3), dtype=int32, numpy=\n",
              " array([[[3, 3, 3],\n",
              "         [3, 3, 3],\n",
              "         [3, 3, 3],\n",
              "         ...,\n",
              "         [3, 3, 3],\n",
              "         [3, 3, 3],\n",
              "         [3, 3, 3]],\n",
              " \n",
              "        [[3, 3, 3],\n",
              "         [3, 3, 3],\n",
              "         [3, 3, 3],\n",
              "         ...,\n",
              "         [3, 3, 3],\n",
              "         [3, 3, 3],\n",
              "         [3, 3, 3]],\n",
              " \n",
              "        [[3, 3, 3],\n",
              "         [3, 3, 3],\n",
              "         [3, 3, 3],\n",
              "         ...,\n",
              "         [3, 3, 3],\n",
              "         [3, 3, 3],\n",
              "         [3, 3, 3]],\n",
              " \n",
              "        ...,\n",
              " \n",
              "        [[3, 3, 3],\n",
              "         [3, 3, 3],\n",
              "         [3, 3, 3],\n",
              "         ...,\n",
              "         [3, 3, 3],\n",
              "         [3, 3, 3],\n",
              "         [3, 3, 3]],\n",
              " \n",
              "        [[3, 3, 3],\n",
              "         [3, 3, 3],\n",
              "         [3, 3, 3],\n",
              "         ...,\n",
              "         [3, 3, 3],\n",
              "         [3, 3, 3],\n",
              "         [3, 3, 3]],\n",
              " \n",
              "        [[3, 3, 3],\n",
              "         [3, 3, 3],\n",
              "         [3, 3, 3],\n",
              "         ...,\n",
              "         [3, 3, 3],\n",
              "         [3, 3, 3],\n",
              "         [3, 3, 3]]], dtype=int32)>)"
            ]
          },
          "metadata": {},
          "execution_count": 128
        }
      ]
    },
    {
      "cell_type": "code",
      "source": [
        "#9.Create a tensor with shape [10] using your own choice of values, then find the index which has the maximum value.\n",
        "index_value=tf.constant([1,2,3,4,5,6,7,8,9,10],dtype=tf.float32)\n",
        "index_value\n",
        "tf.argmax(index_value)"
      ],
      "metadata": {
        "colab": {
          "base_uri": "https://localhost:8080/"
        },
        "id": "9e_dwIj53MJ7",
        "outputId": "533526d0-828d-4d8e-99e4-da05ccf23bd5"
      },
      "execution_count": null,
      "outputs": [
        {
          "output_type": "execute_result",
          "data": {
            "text/plain": [
              "<tf.Tensor: shape=(), dtype=int64, numpy=9>"
            ]
          },
          "metadata": {},
          "execution_count": 132
        }
      ]
    },
    {
      "cell_type": "code",
      "source": [
        "#10.One-hot encode the tensor you created in 9.\n",
        "tf.one_hot(z_squeezed,depth=3)\n"
      ],
      "metadata": {
        "colab": {
          "base_uri": "https://localhost:8080/"
        },
        "id": "Pwuw2C0YEXi0",
        "outputId": "31f3936c-f415-4589-dd96-2de22c4673d6"
      },
      "execution_count": null,
      "outputs": [
        {
          "output_type": "execute_result",
          "data": {
            "text/plain": [
              "<tf.Tensor: shape=(224, 224, 3, 3), dtype=float32, numpy=\n",
              "array([[[[0., 0., 0.],\n",
              "         [0., 0., 0.],\n",
              "         [0., 0., 0.]],\n",
              "\n",
              "        [[0., 0., 0.],\n",
              "         [0., 0., 0.],\n",
              "         [0., 0., 0.]],\n",
              "\n",
              "        [[0., 0., 0.],\n",
              "         [0., 0., 0.],\n",
              "         [0., 0., 0.]],\n",
              "\n",
              "        ...,\n",
              "\n",
              "        [[0., 0., 0.],\n",
              "         [0., 0., 0.],\n",
              "         [0., 0., 0.]],\n",
              "\n",
              "        [[0., 0., 0.],\n",
              "         [0., 0., 0.],\n",
              "         [0., 0., 0.]],\n",
              "\n",
              "        [[0., 0., 0.],\n",
              "         [0., 0., 0.],\n",
              "         [0., 0., 0.]]],\n",
              "\n",
              "\n",
              "       [[[0., 0., 0.],\n",
              "         [0., 0., 0.],\n",
              "         [0., 0., 0.]],\n",
              "\n",
              "        [[0., 0., 0.],\n",
              "         [0., 0., 0.],\n",
              "         [0., 0., 0.]],\n",
              "\n",
              "        [[0., 0., 0.],\n",
              "         [0., 0., 0.],\n",
              "         [0., 0., 0.]],\n",
              "\n",
              "        ...,\n",
              "\n",
              "        [[0., 0., 0.],\n",
              "         [0., 0., 0.],\n",
              "         [0., 0., 0.]],\n",
              "\n",
              "        [[0., 0., 0.],\n",
              "         [0., 0., 0.],\n",
              "         [0., 0., 0.]],\n",
              "\n",
              "        [[0., 0., 0.],\n",
              "         [0., 0., 0.],\n",
              "         [0., 0., 0.]]],\n",
              "\n",
              "\n",
              "       [[[0., 0., 0.],\n",
              "         [0., 0., 0.],\n",
              "         [0., 0., 0.]],\n",
              "\n",
              "        [[0., 0., 0.],\n",
              "         [0., 0., 0.],\n",
              "         [0., 0., 0.]],\n",
              "\n",
              "        [[0., 0., 0.],\n",
              "         [0., 0., 0.],\n",
              "         [0., 0., 0.]],\n",
              "\n",
              "        ...,\n",
              "\n",
              "        [[0., 0., 0.],\n",
              "         [0., 0., 0.],\n",
              "         [0., 0., 0.]],\n",
              "\n",
              "        [[0., 0., 0.],\n",
              "         [0., 0., 0.],\n",
              "         [0., 0., 0.]],\n",
              "\n",
              "        [[0., 0., 0.],\n",
              "         [0., 0., 0.],\n",
              "         [0., 0., 0.]]],\n",
              "\n",
              "\n",
              "       ...,\n",
              "\n",
              "\n",
              "       [[[0., 0., 0.],\n",
              "         [0., 0., 0.],\n",
              "         [0., 0., 0.]],\n",
              "\n",
              "        [[0., 0., 0.],\n",
              "         [0., 0., 0.],\n",
              "         [0., 0., 0.]],\n",
              "\n",
              "        [[0., 0., 0.],\n",
              "         [0., 0., 0.],\n",
              "         [0., 0., 0.]],\n",
              "\n",
              "        ...,\n",
              "\n",
              "        [[0., 0., 0.],\n",
              "         [0., 0., 0.],\n",
              "         [0., 0., 0.]],\n",
              "\n",
              "        [[0., 0., 0.],\n",
              "         [0., 0., 0.],\n",
              "         [0., 0., 0.]],\n",
              "\n",
              "        [[0., 0., 0.],\n",
              "         [0., 0., 0.],\n",
              "         [0., 0., 0.]]],\n",
              "\n",
              "\n",
              "       [[[0., 0., 0.],\n",
              "         [0., 0., 0.],\n",
              "         [0., 0., 0.]],\n",
              "\n",
              "        [[0., 0., 0.],\n",
              "         [0., 0., 0.],\n",
              "         [0., 0., 0.]],\n",
              "\n",
              "        [[0., 0., 0.],\n",
              "         [0., 0., 0.],\n",
              "         [0., 0., 0.]],\n",
              "\n",
              "        ...,\n",
              "\n",
              "        [[0., 0., 0.],\n",
              "         [0., 0., 0.],\n",
              "         [0., 0., 0.]],\n",
              "\n",
              "        [[0., 0., 0.],\n",
              "         [0., 0., 0.],\n",
              "         [0., 0., 0.]],\n",
              "\n",
              "        [[0., 0., 0.],\n",
              "         [0., 0., 0.],\n",
              "         [0., 0., 0.]]],\n",
              "\n",
              "\n",
              "       [[[0., 0., 0.],\n",
              "         [0., 0., 0.],\n",
              "         [0., 0., 0.]],\n",
              "\n",
              "        [[0., 0., 0.],\n",
              "         [0., 0., 0.],\n",
              "         [0., 0., 0.]],\n",
              "\n",
              "        [[0., 0., 0.],\n",
              "         [0., 0., 0.],\n",
              "         [0., 0., 0.]],\n",
              "\n",
              "        ...,\n",
              "\n",
              "        [[0., 0., 0.],\n",
              "         [0., 0., 0.],\n",
              "         [0., 0., 0.]],\n",
              "\n",
              "        [[0., 0., 0.],\n",
              "         [0., 0., 0.],\n",
              "         [0., 0., 0.]],\n",
              "\n",
              "        [[0., 0., 0.],\n",
              "         [0., 0., 0.],\n",
              "         [0., 0., 0.]]]], dtype=float32)>"
            ]
          },
          "metadata": {},
          "execution_count": 130
        }
      ]
    },
    {
      "cell_type": "code",
      "source": [],
      "metadata": {
        "id": "wrKniVFLI3fz"
      },
      "execution_count": null,
      "outputs": []
    }
  ]
}